{
 "cells": [
  {
   "cell_type": "code",
   "execution_count": 67,
   "metadata": {},
   "outputs": [],
   "source": [
    "import numpy as np\n",
    "import pandas as pd\n",
    "import matplotlib.pyplot as plt\n",
    "import seaborn as sns\n",
    "from sklearn.linear_model import LinearRegression\n",
    "from sklearn.ensemble import RandomForestRegressor\n",
    "from sklearn.model_selection import train_test_split, cross_val_score\n",
    "from sklearn.metrics import r2_score, mean_squared_error\n",
    "from sklearn.preprocessing import StandardScaler\n",
    "from keras.models import Sequential\n",
    "from keras.layers import Dense, Dropout\n",
    "from keras.utils import np_utils\n",
    "from keras.optimizers import Adam"
   ]
  },
  {
   "cell_type": "code",
   "execution_count": 68,
   "metadata": {},
   "outputs": [],
   "source": [
    "avg_players = pd.read_csv('../data/avg_modeling_data.csv').drop(columns='Unnamed: 0')\n",
    "final_year_players = pd.read_csv('../data/final_year_modeling_data.csv').drop(columns='Unnamed: 0')"
   ]
  },
  {
   "cell_type": "markdown",
   "metadata": {},
   "source": [
    "### Preprocessing"
   ]
  },
  {
   "cell_type": "code",
   "execution_count": 69,
   "metadata": {},
   "outputs": [
    {
     "data": {
      "text/html": [
       "<div>\n",
       "<style scoped>\n",
       "    .dataframe tbody tr th:only-of-type {\n",
       "        vertical-align: middle;\n",
       "    }\n",
       "\n",
       "    .dataframe tbody tr th {\n",
       "        vertical-align: top;\n",
       "    }\n",
       "\n",
       "    .dataframe thead th {\n",
       "        text-align: right;\n",
       "    }\n",
       "</style>\n",
       "<table border=\"1\" class=\"dataframe\">\n",
       "  <thead>\n",
       "    <tr style=\"text-align: right;\">\n",
       "      <th></th>\n",
       "      <th>draft_overall</th>\n",
       "      <th>draft_round</th>\n",
       "      <th>draft_year</th>\n",
       "      <th>player</th>\n",
       "      <th>position</th>\n",
       "      <th>school</th>\n",
       "      <th>conference</th>\n",
       "      <th>wins</th>\n",
       "      <th>losses</th>\n",
       "      <th>rank</th>\n",
       "      <th>...</th>\n",
       "      <th>fumbles_forced</th>\n",
       "      <th>punt_ret</th>\n",
       "      <th>punt_ret_yds</th>\n",
       "      <th>punt_ret_yds_per_ret</th>\n",
       "      <th>punt_ret_td</th>\n",
       "      <th>kick_ret</th>\n",
       "      <th>kick_ret_yds</th>\n",
       "      <th>kick_ret_yds_per_ret</th>\n",
       "      <th>kick_ret_td</th>\n",
       "      <th>avg_grade</th>\n",
       "    </tr>\n",
       "  </thead>\n",
       "  <tbody>\n",
       "    <tr>\n",
       "      <th>0</th>\n",
       "      <td>1</td>\n",
       "      <td>1</td>\n",
       "      <td>2006</td>\n",
       "      <td>Mario Williams</td>\n",
       "      <td>DE</td>\n",
       "      <td>North Carolina St.</td>\n",
       "      <td>ACC</td>\n",
       "      <td>7.000000</td>\n",
       "      <td>5.000000</td>\n",
       "      <td>37.000000</td>\n",
       "      <td>...</td>\n",
       "      <td>0.0</td>\n",
       "      <td>1.000000</td>\n",
       "      <td>7.000000</td>\n",
       "      <td>7.0</td>\n",
       "      <td>0.0</td>\n",
       "      <td>0.000000</td>\n",
       "      <td>0.000000</td>\n",
       "      <td>0.000000</td>\n",
       "      <td>0.000000</td>\n",
       "      <td>66.800</td>\n",
       "    </tr>\n",
       "    <tr>\n",
       "      <th>1</th>\n",
       "      <td>2</td>\n",
       "      <td>1</td>\n",
       "      <td>2006</td>\n",
       "      <td>Reggie Bush</td>\n",
       "      <td>RB</td>\n",
       "      <td>USC</td>\n",
       "      <td>Pac-10</td>\n",
       "      <td>12.333333</td>\n",
       "      <td>0.666667</td>\n",
       "      <td>2.333333</td>\n",
       "      <td>...</td>\n",
       "      <td>0.0</td>\n",
       "      <td>14.666667</td>\n",
       "      <td>186.333333</td>\n",
       "      <td>9.2</td>\n",
       "      <td>1.0</td>\n",
       "      <td>22.333333</td>\n",
       "      <td>507.333333</td>\n",
       "      <td>23.500000</td>\n",
       "      <td>0.333333</td>\n",
       "      <td>61.325</td>\n",
       "    </tr>\n",
       "    <tr>\n",
       "      <th>2</th>\n",
       "      <td>3</td>\n",
       "      <td>1</td>\n",
       "      <td>2006</td>\n",
       "      <td>Vince Young</td>\n",
       "      <td>QB</td>\n",
       "      <td>Texas</td>\n",
       "      <td>Big 12</td>\n",
       "      <td>11.333333</td>\n",
       "      <td>1.333333</td>\n",
       "      <td>6.333333</td>\n",
       "      <td>...</td>\n",
       "      <td>0.0</td>\n",
       "      <td>0.000000</td>\n",
       "      <td>0.000000</td>\n",
       "      <td>0.0</td>\n",
       "      <td>0.0</td>\n",
       "      <td>0.000000</td>\n",
       "      <td>0.000000</td>\n",
       "      <td>0.000000</td>\n",
       "      <td>0.000000</td>\n",
       "      <td>59.200</td>\n",
       "    </tr>\n",
       "    <tr>\n",
       "      <th>3</th>\n",
       "      <td>5</td>\n",
       "      <td>1</td>\n",
       "      <td>2006</td>\n",
       "      <td>A.J. Hawk</td>\n",
       "      <td>LB</td>\n",
       "      <td>Ohio St.</td>\n",
       "      <td>Big Ten</td>\n",
       "      <td>10.750000</td>\n",
       "      <td>2.000000</td>\n",
       "      <td>10.250000</td>\n",
       "      <td>...</td>\n",
       "      <td>0.0</td>\n",
       "      <td>0.000000</td>\n",
       "      <td>0.000000</td>\n",
       "      <td>0.0</td>\n",
       "      <td>0.0</td>\n",
       "      <td>0.000000</td>\n",
       "      <td>0.000000</td>\n",
       "      <td>0.000000</td>\n",
       "      <td>0.000000</td>\n",
       "      <td>63.275</td>\n",
       "    </tr>\n",
       "    <tr>\n",
       "      <th>4</th>\n",
       "      <td>6</td>\n",
       "      <td>1</td>\n",
       "      <td>2006</td>\n",
       "      <td>Vernon Davis</td>\n",
       "      <td>TE</td>\n",
       "      <td>Maryland</td>\n",
       "      <td>ACC</td>\n",
       "      <td>6.666667</td>\n",
       "      <td>5.000000</td>\n",
       "      <td>47.000000</td>\n",
       "      <td>...</td>\n",
       "      <td>0.0</td>\n",
       "      <td>0.000000</td>\n",
       "      <td>0.000000</td>\n",
       "      <td>0.0</td>\n",
       "      <td>0.0</td>\n",
       "      <td>1.000000</td>\n",
       "      <td>22.666667</td>\n",
       "      <td>7.566667</td>\n",
       "      <td>0.000000</td>\n",
       "      <td>67.450</td>\n",
       "    </tr>\n",
       "  </tbody>\n",
       "</table>\n",
       "<p>5 rows × 65 columns</p>\n",
       "</div>"
      ],
      "text/plain": [
       "   draft_overall  draft_round  draft_year          player position  \\\n",
       "0              1            1        2006  Mario Williams       DE   \n",
       "1              2            1        2006     Reggie Bush       RB   \n",
       "2              3            1        2006     Vince Young       QB   \n",
       "3              5            1        2006       A.J. Hawk       LB   \n",
       "4              6            1        2006    Vernon Davis       TE   \n",
       "\n",
       "               school conference       wins    losses       rank    ...      \\\n",
       "0  North Carolina St.        ACC   7.000000  5.000000  37.000000    ...       \n",
       "1                 USC     Pac-10  12.333333  0.666667   2.333333    ...       \n",
       "2               Texas     Big 12  11.333333  1.333333   6.333333    ...       \n",
       "3            Ohio St.    Big Ten  10.750000  2.000000  10.250000    ...       \n",
       "4            Maryland        ACC   6.666667  5.000000  47.000000    ...       \n",
       "\n",
       "  fumbles_forced   punt_ret  punt_ret_yds  punt_ret_yds_per_ret  punt_ret_td  \\\n",
       "0            0.0   1.000000      7.000000                   7.0          0.0   \n",
       "1            0.0  14.666667    186.333333                   9.2          1.0   \n",
       "2            0.0   0.000000      0.000000                   0.0          0.0   \n",
       "3            0.0   0.000000      0.000000                   0.0          0.0   \n",
       "4            0.0   0.000000      0.000000                   0.0          0.0   \n",
       "\n",
       "    kick_ret  kick_ret_yds  kick_ret_yds_per_ret  kick_ret_td  avg_grade  \n",
       "0   0.000000      0.000000              0.000000     0.000000     66.800  \n",
       "1  22.333333    507.333333             23.500000     0.333333     61.325  \n",
       "2   0.000000      0.000000              0.000000     0.000000     59.200  \n",
       "3   0.000000      0.000000              0.000000     0.000000     63.275  \n",
       "4   1.000000     22.666667              7.566667     0.000000     67.450  \n",
       "\n",
       "[5 rows x 65 columns]"
      ]
     },
     "execution_count": 69,
     "metadata": {},
     "output_type": "execute_result"
    }
   ],
   "source": [
    "avg_players.head()"
   ]
  },
  {
   "cell_type": "code",
   "execution_count": 70,
   "metadata": {},
   "outputs": [
    {
     "data": {
      "text/plain": [
       "Index(['draft_overall', 'draft_round', 'draft_year', 'player', 'position',\n",
       "       'school', 'conference', 'wins', 'losses', 'rank', 'nfl_team',\n",
       "       'nfl_team_win_perc', 'bench_reps', 'broad_jump', 'cone', 'forty_yd',\n",
       "       'height', 'shuttle', 'vertical', 'weight', 'games', 'pass_cmp',\n",
       "       'pass_att', 'pass_cmp_pct', 'pass_yds', 'pass_yds_per_att',\n",
       "       'adj_pass_yds_per_att', 'pass_td', 'pass_int', 'pass_rating',\n",
       "       'rush_att', 'rush_yds', 'rush_yds_per_att', 'rush_td', 'rec', 'rec_yds',\n",
       "       'rec_yds_per_rec', 'rec_td', 'scrim_att', 'scrim_yds',\n",
       "       'scrim_yds_per_att', 'scrim_td', 'tackles_solo', 'tackles_assists',\n",
       "       'tackles_total', 'tackles_loss', 'sacks', 'def_int', 'def_int_yds',\n",
       "       'def_int_yds_per_int', 'def_int_td', 'pass_defended', 'fumbles_rec',\n",
       "       'fumbles_rec_yds', 'fumbles_rec_td', 'fumbles_forced', 'punt_ret',\n",
       "       'punt_ret_yds', 'punt_ret_yds_per_ret', 'punt_ret_td', 'kick_ret',\n",
       "       'kick_ret_yds', 'kick_ret_yds_per_ret', 'kick_ret_td', 'avg_grade'],\n",
       "      dtype='object')"
      ]
     },
     "execution_count": 70,
     "metadata": {},
     "output_type": "execute_result"
    }
   ],
   "source": [
    "avg_players.columns"
   ]
  },
  {
   "cell_type": "code",
   "execution_count": 71,
   "metadata": {},
   "outputs": [],
   "source": [
    "avg_players = pd.get_dummies(avg_players, columns=['conference', 'nfl_team'])"
   ]
  },
  {
   "cell_type": "code",
   "execution_count": 72,
   "metadata": {},
   "outputs": [
    {
     "data": {
      "text/plain": [
       "2325"
      ]
     },
     "execution_count": 72,
     "metadata": {},
     "output_type": "execute_result"
    }
   ],
   "source": [
    "len(avg_players['player'].unique())"
   ]
  },
  {
   "cell_type": "code",
   "execution_count": 73,
   "metadata": {},
   "outputs": [
    {
     "data": {
      "text/plain": [
       "2370"
      ]
     },
     "execution_count": 73,
     "metadata": {},
     "output_type": "execute_result"
    }
   ],
   "source": [
    "len(avg_players)"
   ]
  },
  {
   "cell_type": "code",
   "execution_count": 74,
   "metadata": {
    "scrolled": true
   },
   "outputs": [
    {
     "data": {
      "text/plain": [
       "Brandon Williams        9\n",
       "D.J. Moore              4\n",
       "Marcus Smith            4\n",
       "C.J. Wilson             4\n",
       "Aaron Brown             4\n",
       "Mike Thomas             4\n",
       "Will Davis              4\n",
       "Marcus Thomas           4\n",
       "Mike Williams           4\n",
       "Josh Robinson           4\n",
       "Michael Johnson         4\n",
       "Kyle Williams           4\n",
       "Chris Jones             4\n",
       "Corey Wootton           2\n",
       "Jared Abbrederis        1\n",
       "Laquon Treadwell        1\n",
       "Phillip Merling         1\n",
       "Dalton Schultz          1\n",
       "Derek Fine              1\n",
       "Ben Heeney              1\n",
       "C.J. Uzomah             1\n",
       "Korey Hall              1\n",
       "Carlos Henderson        1\n",
       "Mike Daniels            1\n",
       "Christian Kirk          1\n",
       "Howard Wilson           1\n",
       "Oscar Lua               1\n",
       "Olivier Vernon          1\n",
       "Arthur Lynch            1\n",
       "Marcus Davenport        1\n",
       "                       ..\n",
       "Will Clarke             1\n",
       "Michael Egnew           1\n",
       "Will Dissly             1\n",
       "Tom Savage              1\n",
       "Carl Bradford           1\n",
       "Dominique Barber        1\n",
       "Adrian Arrington        1\n",
       "Mike Gesicki            1\n",
       "Jerome Baker            1\n",
       "Reuben Foster           1\n",
       "Drew Stanton            1\n",
       "Devin Thomas            1\n",
       "DaQuan Jones            1\n",
       "Ben Gardner             1\n",
       "Reggie Corner           1\n",
       "Santonio Holmes         1\n",
       "Phillip Thomas          1\n",
       "Chris Rainey            1\n",
       "Chauncey Washington     1\n",
       "Larry Asante            1\n",
       "Christian Hackenberg    1\n",
       "Cameron Jordan          1\n",
       "Jamar Wall              1\n",
       "Josh Forrest            1\n",
       "Fabian Moreau           1\n",
       "Andy Janovich           1\n",
       "Dee Milliner            1\n",
       "Jonathan Massaquoi      1\n",
       "Jalyn Holmes            1\n",
       "Wendell Smallwood       1\n",
       "Name: player, Length: 2325, dtype: int64"
      ]
     },
     "execution_count": 74,
     "metadata": {},
     "output_type": "execute_result"
    }
   ],
   "source": [
    "avg_players['player'].value_counts()"
   ]
  },
  {
   "cell_type": "code",
   "execution_count": 75,
   "metadata": {},
   "outputs": [
    {
     "data": {
      "text/html": [
       "<div>\n",
       "<style scoped>\n",
       "    .dataframe tbody tr th:only-of-type {\n",
       "        vertical-align: middle;\n",
       "    }\n",
       "\n",
       "    .dataframe tbody tr th {\n",
       "        vertical-align: top;\n",
       "    }\n",
       "\n",
       "    .dataframe thead th {\n",
       "        text-align: right;\n",
       "    }\n",
       "</style>\n",
       "<table border=\"1\" class=\"dataframe\">\n",
       "  <thead>\n",
       "    <tr style=\"text-align: right;\">\n",
       "      <th></th>\n",
       "      <th>draft_overall</th>\n",
       "      <th>draft_round</th>\n",
       "      <th>draft_year</th>\n",
       "      <th>player</th>\n",
       "      <th>position</th>\n",
       "      <th>school</th>\n",
       "      <th>wins</th>\n",
       "      <th>losses</th>\n",
       "      <th>rank</th>\n",
       "      <th>nfl_team_win_perc</th>\n",
       "      <th>...</th>\n",
       "      <th>nfl_team_Raiders</th>\n",
       "      <th>nfl_team_Rams</th>\n",
       "      <th>nfl_team_Ravens</th>\n",
       "      <th>nfl_team_Redskins</th>\n",
       "      <th>nfl_team_Saints</th>\n",
       "      <th>nfl_team_Seahawks</th>\n",
       "      <th>nfl_team_Steelers</th>\n",
       "      <th>nfl_team_Texans</th>\n",
       "      <th>nfl_team_Titans</th>\n",
       "      <th>nfl_team_Vikings</th>\n",
       "    </tr>\n",
       "  </thead>\n",
       "  <tbody>\n",
       "    <tr>\n",
       "      <th>63</th>\n",
       "      <td>84</td>\n",
       "      <td>3</td>\n",
       "      <td>2006</td>\n",
       "      <td>Brandon Williams</td>\n",
       "      <td>WR</td>\n",
       "      <td>Wisconsin</td>\n",
       "      <td>8.818182</td>\n",
       "      <td>4.181818</td>\n",
       "      <td>29.636364</td>\n",
       "      <td>0.250</td>\n",
       "      <td>...</td>\n",
       "      <td>0</td>\n",
       "      <td>0</td>\n",
       "      <td>0</td>\n",
       "      <td>0</td>\n",
       "      <td>0</td>\n",
       "      <td>0</td>\n",
       "      <td>0</td>\n",
       "      <td>0</td>\n",
       "      <td>0</td>\n",
       "      <td>0</td>\n",
       "    </tr>\n",
       "    <tr>\n",
       "      <th>64</th>\n",
       "      <td>84</td>\n",
       "      <td>3</td>\n",
       "      <td>2006</td>\n",
       "      <td>Brandon Williams</td>\n",
       "      <td>WR</td>\n",
       "      <td>Wisconsin</td>\n",
       "      <td>8.818182</td>\n",
       "      <td>4.181818</td>\n",
       "      <td>29.636364</td>\n",
       "      <td>0.250</td>\n",
       "      <td>...</td>\n",
       "      <td>0</td>\n",
       "      <td>0</td>\n",
       "      <td>0</td>\n",
       "      <td>0</td>\n",
       "      <td>0</td>\n",
       "      <td>0</td>\n",
       "      <td>0</td>\n",
       "      <td>0</td>\n",
       "      <td>0</td>\n",
       "      <td>0</td>\n",
       "    </tr>\n",
       "    <tr>\n",
       "      <th>65</th>\n",
       "      <td>84</td>\n",
       "      <td>3</td>\n",
       "      <td>2006</td>\n",
       "      <td>Brandon Williams</td>\n",
       "      <td>WR</td>\n",
       "      <td>Wisconsin</td>\n",
       "      <td>8.818182</td>\n",
       "      <td>4.181818</td>\n",
       "      <td>29.636364</td>\n",
       "      <td>0.250</td>\n",
       "      <td>...</td>\n",
       "      <td>0</td>\n",
       "      <td>0</td>\n",
       "      <td>0</td>\n",
       "      <td>0</td>\n",
       "      <td>0</td>\n",
       "      <td>0</td>\n",
       "      <td>0</td>\n",
       "      <td>0</td>\n",
       "      <td>0</td>\n",
       "      <td>0</td>\n",
       "    </tr>\n",
       "    <tr>\n",
       "      <th>642</th>\n",
       "      <td>120</td>\n",
       "      <td>4</td>\n",
       "      <td>2009</td>\n",
       "      <td>Brandon Williams</td>\n",
       "      <td>DE</td>\n",
       "      <td>Texas Tech</td>\n",
       "      <td>8.818182</td>\n",
       "      <td>4.181818</td>\n",
       "      <td>29.636364</td>\n",
       "      <td>0.563</td>\n",
       "      <td>...</td>\n",
       "      <td>0</td>\n",
       "      <td>0</td>\n",
       "      <td>0</td>\n",
       "      <td>0</td>\n",
       "      <td>0</td>\n",
       "      <td>0</td>\n",
       "      <td>0</td>\n",
       "      <td>0</td>\n",
       "      <td>0</td>\n",
       "      <td>0</td>\n",
       "    </tr>\n",
       "    <tr>\n",
       "      <th>643</th>\n",
       "      <td>120</td>\n",
       "      <td>4</td>\n",
       "      <td>2009</td>\n",
       "      <td>Brandon Williams</td>\n",
       "      <td>DE</td>\n",
       "      <td>Texas Tech</td>\n",
       "      <td>8.818182</td>\n",
       "      <td>4.181818</td>\n",
       "      <td>29.636364</td>\n",
       "      <td>0.563</td>\n",
       "      <td>...</td>\n",
       "      <td>0</td>\n",
       "      <td>0</td>\n",
       "      <td>0</td>\n",
       "      <td>0</td>\n",
       "      <td>0</td>\n",
       "      <td>0</td>\n",
       "      <td>0</td>\n",
       "      <td>0</td>\n",
       "      <td>0</td>\n",
       "      <td>0</td>\n",
       "    </tr>\n",
       "    <tr>\n",
       "      <th>644</th>\n",
       "      <td>120</td>\n",
       "      <td>4</td>\n",
       "      <td>2009</td>\n",
       "      <td>Brandon Williams</td>\n",
       "      <td>DE</td>\n",
       "      <td>Texas Tech</td>\n",
       "      <td>8.818182</td>\n",
       "      <td>4.181818</td>\n",
       "      <td>29.636364</td>\n",
       "      <td>0.563</td>\n",
       "      <td>...</td>\n",
       "      <td>0</td>\n",
       "      <td>0</td>\n",
       "      <td>0</td>\n",
       "      <td>0</td>\n",
       "      <td>0</td>\n",
       "      <td>0</td>\n",
       "      <td>0</td>\n",
       "      <td>0</td>\n",
       "      <td>0</td>\n",
       "      <td>0</td>\n",
       "    </tr>\n",
       "    <tr>\n",
       "      <th>1866</th>\n",
       "      <td>92</td>\n",
       "      <td>3</td>\n",
       "      <td>2016</td>\n",
       "      <td>Brandon Williams</td>\n",
       "      <td>CB</td>\n",
       "      <td>Texas A&amp;M</td>\n",
       "      <td>8.818182</td>\n",
       "      <td>4.181818</td>\n",
       "      <td>29.636364</td>\n",
       "      <td>0.813</td>\n",
       "      <td>...</td>\n",
       "      <td>0</td>\n",
       "      <td>0</td>\n",
       "      <td>0</td>\n",
       "      <td>0</td>\n",
       "      <td>0</td>\n",
       "      <td>0</td>\n",
       "      <td>0</td>\n",
       "      <td>0</td>\n",
       "      <td>0</td>\n",
       "      <td>0</td>\n",
       "    </tr>\n",
       "    <tr>\n",
       "      <th>1867</th>\n",
       "      <td>92</td>\n",
       "      <td>3</td>\n",
       "      <td>2016</td>\n",
       "      <td>Brandon Williams</td>\n",
       "      <td>CB</td>\n",
       "      <td>Texas A&amp;M</td>\n",
       "      <td>8.818182</td>\n",
       "      <td>4.181818</td>\n",
       "      <td>29.636364</td>\n",
       "      <td>0.813</td>\n",
       "      <td>...</td>\n",
       "      <td>0</td>\n",
       "      <td>0</td>\n",
       "      <td>0</td>\n",
       "      <td>0</td>\n",
       "      <td>0</td>\n",
       "      <td>0</td>\n",
       "      <td>0</td>\n",
       "      <td>0</td>\n",
       "      <td>0</td>\n",
       "      <td>0</td>\n",
       "    </tr>\n",
       "    <tr>\n",
       "      <th>1868</th>\n",
       "      <td>92</td>\n",
       "      <td>3</td>\n",
       "      <td>2016</td>\n",
       "      <td>Brandon Williams</td>\n",
       "      <td>CB</td>\n",
       "      <td>Texas A&amp;M</td>\n",
       "      <td>8.818182</td>\n",
       "      <td>4.181818</td>\n",
       "      <td>29.636364</td>\n",
       "      <td>0.813</td>\n",
       "      <td>...</td>\n",
       "      <td>0</td>\n",
       "      <td>0</td>\n",
       "      <td>0</td>\n",
       "      <td>0</td>\n",
       "      <td>0</td>\n",
       "      <td>0</td>\n",
       "      <td>0</td>\n",
       "      <td>0</td>\n",
       "      <td>0</td>\n",
       "      <td>0</td>\n",
       "    </tr>\n",
       "  </tbody>\n",
       "</table>\n",
       "<p>9 rows × 110 columns</p>\n",
       "</div>"
      ],
      "text/plain": [
       "      draft_overall  draft_round  draft_year            player position  \\\n",
       "63               84            3        2006  Brandon Williams       WR   \n",
       "64               84            3        2006  Brandon Williams       WR   \n",
       "65               84            3        2006  Brandon Williams       WR   \n",
       "642             120            4        2009  Brandon Williams       DE   \n",
       "643             120            4        2009  Brandon Williams       DE   \n",
       "644             120            4        2009  Brandon Williams       DE   \n",
       "1866             92            3        2016  Brandon Williams       CB   \n",
       "1867             92            3        2016  Brandon Williams       CB   \n",
       "1868             92            3        2016  Brandon Williams       CB   \n",
       "\n",
       "          school      wins    losses       rank  nfl_team_win_perc  \\\n",
       "63     Wisconsin  8.818182  4.181818  29.636364              0.250   \n",
       "64     Wisconsin  8.818182  4.181818  29.636364              0.250   \n",
       "65     Wisconsin  8.818182  4.181818  29.636364              0.250   \n",
       "642   Texas Tech  8.818182  4.181818  29.636364              0.563   \n",
       "643   Texas Tech  8.818182  4.181818  29.636364              0.563   \n",
       "644   Texas Tech  8.818182  4.181818  29.636364              0.563   \n",
       "1866   Texas A&M  8.818182  4.181818  29.636364              0.813   \n",
       "1867   Texas A&M  8.818182  4.181818  29.636364              0.813   \n",
       "1868   Texas A&M  8.818182  4.181818  29.636364              0.813   \n",
       "\n",
       "            ...         nfl_team_Raiders  nfl_team_Rams  nfl_team_Ravens  \\\n",
       "63          ...                        0              0                0   \n",
       "64          ...                        0              0                0   \n",
       "65          ...                        0              0                0   \n",
       "642         ...                        0              0                0   \n",
       "643         ...                        0              0                0   \n",
       "644         ...                        0              0                0   \n",
       "1866        ...                        0              0                0   \n",
       "1867        ...                        0              0                0   \n",
       "1868        ...                        0              0                0   \n",
       "\n",
       "      nfl_team_Redskins  nfl_team_Saints  nfl_team_Seahawks  \\\n",
       "63                    0                0                  0   \n",
       "64                    0                0                  0   \n",
       "65                    0                0                  0   \n",
       "642                   0                0                  0   \n",
       "643                   0                0                  0   \n",
       "644                   0                0                  0   \n",
       "1866                  0                0                  0   \n",
       "1867                  0                0                  0   \n",
       "1868                  0                0                  0   \n",
       "\n",
       "      nfl_team_Steelers  nfl_team_Texans  nfl_team_Titans  nfl_team_Vikings  \n",
       "63                    0                0                0                 0  \n",
       "64                    0                0                0                 0  \n",
       "65                    0                0                0                 0  \n",
       "642                   0                0                0                 0  \n",
       "643                   0                0                0                 0  \n",
       "644                   0                0                0                 0  \n",
       "1866                  0                0                0                 0  \n",
       "1867                  0                0                0                 0  \n",
       "1868                  0                0                0                 0  \n",
       "\n",
       "[9 rows x 110 columns]"
      ]
     },
     "execution_count": 75,
     "metadata": {},
     "output_type": "execute_result"
    }
   ],
   "source": [
    "avg_players[avg_players['player']=='Brandon Williams']"
   ]
  },
  {
   "cell_type": "code",
   "execution_count": 76,
   "metadata": {},
   "outputs": [],
   "source": [
    "avg_players.drop_duplicates(subset='player', inplace=True)"
   ]
  },
  {
   "cell_type": "code",
   "execution_count": 77,
   "metadata": {},
   "outputs": [
    {
     "data": {
      "text/html": [
       "<div>\n",
       "<style scoped>\n",
       "    .dataframe tbody tr th:only-of-type {\n",
       "        vertical-align: middle;\n",
       "    }\n",
       "\n",
       "    .dataframe tbody tr th {\n",
       "        vertical-align: top;\n",
       "    }\n",
       "\n",
       "    .dataframe thead th {\n",
       "        text-align: right;\n",
       "    }\n",
       "</style>\n",
       "<table border=\"1\" class=\"dataframe\">\n",
       "  <thead>\n",
       "    <tr style=\"text-align: right;\">\n",
       "      <th></th>\n",
       "      <th>draft_overall</th>\n",
       "      <th>draft_round</th>\n",
       "      <th>draft_year</th>\n",
       "      <th>player</th>\n",
       "      <th>position</th>\n",
       "      <th>school</th>\n",
       "      <th>conference</th>\n",
       "      <th>wins</th>\n",
       "      <th>losses</th>\n",
       "      <th>rank</th>\n",
       "      <th>...</th>\n",
       "      <th>fumbles_forced</th>\n",
       "      <th>punt_ret</th>\n",
       "      <th>punt_ret_yds</th>\n",
       "      <th>punt_ret_yds_per_ret</th>\n",
       "      <th>punt_ret_td</th>\n",
       "      <th>kick_ret</th>\n",
       "      <th>kick_ret_yds</th>\n",
       "      <th>kick_ret_yds_per_ret</th>\n",
       "      <th>kick_ret_td</th>\n",
       "      <th>avg_grade</th>\n",
       "    </tr>\n",
       "  </thead>\n",
       "  <tbody>\n",
       "    <tr>\n",
       "      <th>0</th>\n",
       "      <td>1</td>\n",
       "      <td>1</td>\n",
       "      <td>2006</td>\n",
       "      <td>Mario Williams</td>\n",
       "      <td>DE</td>\n",
       "      <td>North Carolina St.</td>\n",
       "      <td>ACC</td>\n",
       "      <td>7.0</td>\n",
       "      <td>5.0</td>\n",
       "      <td>37.0</td>\n",
       "      <td>...</td>\n",
       "      <td>0.0</td>\n",
       "      <td>1.0</td>\n",
       "      <td>7.0</td>\n",
       "      <td>7.0</td>\n",
       "      <td>0.0</td>\n",
       "      <td>0.0</td>\n",
       "      <td>0.0</td>\n",
       "      <td>0.0</td>\n",
       "      <td>0.0</td>\n",
       "      <td>66.800</td>\n",
       "    </tr>\n",
       "    <tr>\n",
       "      <th>1</th>\n",
       "      <td>2</td>\n",
       "      <td>1</td>\n",
       "      <td>2006</td>\n",
       "      <td>Reggie Bush</td>\n",
       "      <td>RB</td>\n",
       "      <td>USC</td>\n",
       "      <td>Pac-10</td>\n",
       "      <td>12.0</td>\n",
       "      <td>1.0</td>\n",
       "      <td>2.0</td>\n",
       "      <td>...</td>\n",
       "      <td>0.0</td>\n",
       "      <td>18.0</td>\n",
       "      <td>179.0</td>\n",
       "      <td>9.9</td>\n",
       "      <td>1.0</td>\n",
       "      <td>28.0</td>\n",
       "      <td>493.0</td>\n",
       "      <td>17.6</td>\n",
       "      <td>0.0</td>\n",
       "      <td>61.325</td>\n",
       "    </tr>\n",
       "    <tr>\n",
       "      <th>2</th>\n",
       "      <td>3</td>\n",
       "      <td>1</td>\n",
       "      <td>2006</td>\n",
       "      <td>Vince Young</td>\n",
       "      <td>QB</td>\n",
       "      <td>Texas</td>\n",
       "      <td>Big 12</td>\n",
       "      <td>13.0</td>\n",
       "      <td>0.0</td>\n",
       "      <td>1.0</td>\n",
       "      <td>...</td>\n",
       "      <td>0.0</td>\n",
       "      <td>0.0</td>\n",
       "      <td>0.0</td>\n",
       "      <td>0.0</td>\n",
       "      <td>0.0</td>\n",
       "      <td>0.0</td>\n",
       "      <td>0.0</td>\n",
       "      <td>0.0</td>\n",
       "      <td>0.0</td>\n",
       "      <td>59.200</td>\n",
       "    </tr>\n",
       "    <tr>\n",
       "      <th>3</th>\n",
       "      <td>5</td>\n",
       "      <td>1</td>\n",
       "      <td>2006</td>\n",
       "      <td>A.J. Hawk</td>\n",
       "      <td>LB</td>\n",
       "      <td>Ohio St.</td>\n",
       "      <td>Big Ten</td>\n",
       "      <td>10.0</td>\n",
       "      <td>2.0</td>\n",
       "      <td>8.0</td>\n",
       "      <td>...</td>\n",
       "      <td>0.0</td>\n",
       "      <td>0.0</td>\n",
       "      <td>0.0</td>\n",
       "      <td>0.0</td>\n",
       "      <td>0.0</td>\n",
       "      <td>0.0</td>\n",
       "      <td>0.0</td>\n",
       "      <td>0.0</td>\n",
       "      <td>0.0</td>\n",
       "      <td>63.275</td>\n",
       "    </tr>\n",
       "    <tr>\n",
       "      <th>4</th>\n",
       "      <td>6</td>\n",
       "      <td>1</td>\n",
       "      <td>2006</td>\n",
       "      <td>Vernon Davis</td>\n",
       "      <td>TE</td>\n",
       "      <td>Maryland</td>\n",
       "      <td>ACC</td>\n",
       "      <td>5.0</td>\n",
       "      <td>6.0</td>\n",
       "      <td>65.0</td>\n",
       "      <td>...</td>\n",
       "      <td>0.0</td>\n",
       "      <td>0.0</td>\n",
       "      <td>0.0</td>\n",
       "      <td>0.0</td>\n",
       "      <td>0.0</td>\n",
       "      <td>3.0</td>\n",
       "      <td>68.0</td>\n",
       "      <td>22.7</td>\n",
       "      <td>0.0</td>\n",
       "      <td>67.450</td>\n",
       "    </tr>\n",
       "  </tbody>\n",
       "</table>\n",
       "<p>5 rows × 65 columns</p>\n",
       "</div>"
      ],
      "text/plain": [
       "   draft_overall  draft_round  draft_year          player position  \\\n",
       "0              1            1        2006  Mario Williams       DE   \n",
       "1              2            1        2006     Reggie Bush       RB   \n",
       "2              3            1        2006     Vince Young       QB   \n",
       "3              5            1        2006       A.J. Hawk       LB   \n",
       "4              6            1        2006    Vernon Davis       TE   \n",
       "\n",
       "               school conference  wins  losses  rank    ...      \\\n",
       "0  North Carolina St.        ACC   7.0     5.0  37.0    ...       \n",
       "1                 USC     Pac-10  12.0     1.0   2.0    ...       \n",
       "2               Texas     Big 12  13.0     0.0   1.0    ...       \n",
       "3            Ohio St.    Big Ten  10.0     2.0   8.0    ...       \n",
       "4            Maryland        ACC   5.0     6.0  65.0    ...       \n",
       "\n",
       "  fumbles_forced  punt_ret  punt_ret_yds  punt_ret_yds_per_ret  punt_ret_td  \\\n",
       "0            0.0       1.0           7.0                   7.0          0.0   \n",
       "1            0.0      18.0         179.0                   9.9          1.0   \n",
       "2            0.0       0.0           0.0                   0.0          0.0   \n",
       "3            0.0       0.0           0.0                   0.0          0.0   \n",
       "4            0.0       0.0           0.0                   0.0          0.0   \n",
       "\n",
       "   kick_ret  kick_ret_yds  kick_ret_yds_per_ret  kick_ret_td  avg_grade  \n",
       "0       0.0           0.0                   0.0          0.0     66.800  \n",
       "1      28.0         493.0                  17.6          0.0     61.325  \n",
       "2       0.0           0.0                   0.0          0.0     59.200  \n",
       "3       0.0           0.0                   0.0          0.0     63.275  \n",
       "4       3.0          68.0                  22.7          0.0     67.450  \n",
       "\n",
       "[5 rows x 65 columns]"
      ]
     },
     "execution_count": 77,
     "metadata": {},
     "output_type": "execute_result"
    }
   ],
   "source": [
    "final_year_players.head()"
   ]
  },
  {
   "cell_type": "code",
   "execution_count": 78,
   "metadata": {},
   "outputs": [
    {
     "data": {
      "text/plain": [
       "2340"
      ]
     },
     "execution_count": 78,
     "metadata": {},
     "output_type": "execute_result"
    }
   ],
   "source": [
    "len(final_year_players)"
   ]
  },
  {
   "cell_type": "code",
   "execution_count": 79,
   "metadata": {},
   "outputs": [
    {
     "data": {
      "text/plain": [
       "2325"
      ]
     },
     "execution_count": 79,
     "metadata": {},
     "output_type": "execute_result"
    }
   ],
   "source": [
    "len(final_year_players['player'].unique())"
   ]
  },
  {
   "cell_type": "code",
   "execution_count": 80,
   "metadata": {
    "scrolled": true
   },
   "outputs": [
    {
     "data": {
      "text/plain": [
       "Brandon Williams        3\n",
       "D.J. Moore              2\n",
       "Marcus Smith            2\n",
       "C.J. Wilson             2\n",
       "Aaron Brown             2\n",
       "Corey Wootton           2\n",
       "Mike Thomas             2\n",
       "Will Davis              2\n",
       "Marcus Thomas           2\n",
       "Mike Williams           2\n",
       "Josh Robinson           2\n",
       "Michael Johnson         2\n",
       "Chris Jones             2\n",
       "Kyle Williams           2\n",
       "Arthur Lynch            1\n",
       "Laquon Treadwell        1\n",
       "Phillip Merling         1\n",
       "Dalton Schultz          1\n",
       "Derek Fine              1\n",
       "Ben Heeney              1\n",
       "C.J. Uzomah             1\n",
       "Korey Hall              1\n",
       "Carlos Henderson        1\n",
       "Mike Daniels            1\n",
       "Christian Kirk          1\n",
       "Howard Wilson           1\n",
       "Oscar Lua               1\n",
       "Marcus Davenport        1\n",
       "Ernie Sims              1\n",
       "Olivier Vernon          1\n",
       "                       ..\n",
       "Will Clarke             1\n",
       "Michael Egnew           1\n",
       "Will Dissly             1\n",
       "Tom Savage              1\n",
       "Carl Bradford           1\n",
       "Dominique Barber        1\n",
       "Adrian Arrington        1\n",
       "Mike Gesicki            1\n",
       "Jerome Baker            1\n",
       "Reuben Foster           1\n",
       "Drew Stanton            1\n",
       "Devin Thomas            1\n",
       "DaQuan Jones            1\n",
       "Ben Gardner             1\n",
       "Reggie Corner           1\n",
       "Santonio Holmes         1\n",
       "Phillip Thomas          1\n",
       "Chris Rainey            1\n",
       "Chauncey Washington     1\n",
       "Larry Asante            1\n",
       "Christian Hackenberg    1\n",
       "Cameron Jordan          1\n",
       "Jamar Wall              1\n",
       "Josh Forrest            1\n",
       "Fabian Moreau           1\n",
       "Andy Janovich           1\n",
       "Dee Milliner            1\n",
       "Jonathan Massaquoi      1\n",
       "Jalyn Holmes            1\n",
       "Wendell Smallwood       1\n",
       "Name: player, Length: 2325, dtype: int64"
      ]
     },
     "execution_count": 80,
     "metadata": {},
     "output_type": "execute_result"
    }
   ],
   "source": [
    "final_year_players['player'].value_counts()"
   ]
  },
  {
   "cell_type": "code",
   "execution_count": 81,
   "metadata": {},
   "outputs": [],
   "source": [
    "final_year_players.drop_duplicates(subset='player', inplace=True)"
   ]
  },
  {
   "cell_type": "code",
   "execution_count": 82,
   "metadata": {},
   "outputs": [],
   "source": [
    "final_year_players = pd.get_dummies(final_year_players, columns=['conference', 'nfl_team'])"
   ]
  },
  {
   "cell_type": "markdown",
   "metadata": {},
   "source": [
    "# QuarterBacks"
   ]
  },
  {
   "cell_type": "code",
   "execution_count": 600,
   "metadata": {},
   "outputs": [],
   "source": [
    "avg_qbs = avg_players[avg_players['position']=='QB']\n",
    "final_year_qbs = final_year_players[final_year_players['position']=='QB']"
   ]
  },
  {
   "cell_type": "markdown",
   "metadata": {},
   "source": [
    "## Average Stats"
   ]
  },
  {
   "cell_type": "code",
   "execution_count": 601,
   "metadata": {},
   "outputs": [
    {
     "data": {
      "text/plain": [
       "134"
      ]
     },
     "execution_count": 601,
     "metadata": {},
     "output_type": "execute_result"
    }
   ],
   "source": [
    "len(avg_qbs)"
   ]
  },
  {
   "cell_type": "code",
   "execution_count": 602,
   "metadata": {
    "scrolled": true
   },
   "outputs": [
    {
     "data": {
      "text/plain": [
       "draft_overall            0\n",
       "draft_round              0\n",
       "draft_year               0\n",
       "player                   0\n",
       "position                 0\n",
       "school                   0\n",
       "wins                     4\n",
       "losses                   4\n",
       "rank                     4\n",
       "nfl_team_win_perc        0\n",
       "bench_reps              28\n",
       "broad_jump              14\n",
       "cone                    16\n",
       "forty_yd                15\n",
       "height                  11\n",
       "shuttle                 16\n",
       "vertical                13\n",
       "weight                  11\n",
       "games                    3\n",
       "pass_cmp                 3\n",
       "pass_att                 3\n",
       "pass_cmp_pct             3\n",
       "pass_yds                 3\n",
       "pass_yds_per_att         3\n",
       "adj_pass_yds_per_att     3\n",
       "pass_td                  3\n",
       "pass_int                 3\n",
       "pass_rating              3\n",
       "rush_att                 3\n",
       "rush_yds                 3\n",
       "                        ..\n",
       "nfl_team_Bills           0\n",
       "nfl_team_Broncos         0\n",
       "nfl_team_Browns          0\n",
       "nfl_team_Buccaneers      0\n",
       "nfl_team_Cardinals       0\n",
       "nfl_team_Chargers        0\n",
       "nfl_team_Chiefs          0\n",
       "nfl_team_Colts           0\n",
       "nfl_team_Cowboys         0\n",
       "nfl_team_Dolphins        0\n",
       "nfl_team_Eagles          0\n",
       "nfl_team_Falcons         0\n",
       "nfl_team_Giants          0\n",
       "nfl_team_Jaguars         0\n",
       "nfl_team_Jets            0\n",
       "nfl_team_Lions           0\n",
       "nfl_team_Packers         0\n",
       "nfl_team_Panthers        0\n",
       "nfl_team_Patriots        0\n",
       "nfl_team_Raiders         0\n",
       "nfl_team_Rams            0\n",
       "nfl_team_Ravens          0\n",
       "nfl_team_Redskins        0\n",
       "nfl_team_Saints          0\n",
       "nfl_team_Seahawks        0\n",
       "nfl_team_Steelers        0\n",
       "nfl_team_Texans          0\n",
       "nfl_team_Titans          0\n",
       "nfl_team_Vikings         0\n",
       "defense                  0\n",
       "Length: 111, dtype: int64"
      ]
     },
     "execution_count": 602,
     "metadata": {},
     "output_type": "execute_result"
    }
   ],
   "source": [
    "avg_qbs.isnull().sum()"
   ]
  },
  {
   "cell_type": "code",
   "execution_count": 603,
   "metadata": {},
   "outputs": [
    {
     "name": "stderr",
     "output_type": "stream",
     "text": [
      "C:\\Users\\aidan\\Anaconda3\\envs\\DSI-6\\lib\\site-packages\\ipykernel_launcher.py:1: SettingWithCopyWarning: \n",
      "A value is trying to be set on a copy of a slice from a DataFrame\n",
      "\n",
      "See the caveats in the documentation: http://pandas.pydata.org/pandas-docs/stable/indexing.html#indexing-view-versus-copy\n",
      "  \"\"\"Entry point for launching an IPython kernel.\n"
     ]
    }
   ],
   "source": [
    "avg_qbs.dropna(subset=['games'], inplace=True)"
   ]
  },
  {
   "cell_type": "code",
   "execution_count": 604,
   "metadata": {
    "scrolled": true
   },
   "outputs": [
    {
     "data": {
      "text/plain": [
       "draft_overall            0\n",
       "draft_round              0\n",
       "draft_year               0\n",
       "player                   0\n",
       "position                 0\n",
       "school                   0\n",
       "wins                     1\n",
       "losses                   1\n",
       "rank                     1\n",
       "nfl_team_win_perc        0\n",
       "bench_reps              27\n",
       "broad_jump              14\n",
       "cone                    16\n",
       "forty_yd                15\n",
       "height                  11\n",
       "shuttle                 16\n",
       "vertical                13\n",
       "weight                  11\n",
       "games                    0\n",
       "pass_cmp                 0\n",
       "pass_att                 0\n",
       "pass_cmp_pct             0\n",
       "pass_yds                 0\n",
       "pass_yds_per_att         0\n",
       "adj_pass_yds_per_att     0\n",
       "pass_td                  0\n",
       "pass_int                 0\n",
       "pass_rating              0\n",
       "rush_att                 0\n",
       "rush_yds                 0\n",
       "rush_yds_per_att         0\n",
       "rush_td                  0\n",
       "rec                      0\n",
       "rec_yds                  0\n",
       "rec_yds_per_rec          0\n",
       "rec_td                   0\n",
       "scrim_att                0\n",
       "scrim_yds                0\n",
       "scrim_yds_per_att        0\n",
       "scrim_td                 0\n",
       "tackles_solo             0\n",
       "tackles_assists          0\n",
       "tackles_total            0\n",
       "tackles_loss             0\n",
       "sacks                    0\n",
       "def_int                  0\n",
       "def_int_yds              0\n",
       "def_int_yds_per_int      0\n",
       "def_int_td               0\n",
       "pass_defended            0\n",
       "dtype: int64"
      ]
     },
     "execution_count": 604,
     "metadata": {},
     "output_type": "execute_result"
    }
   ],
   "source": [
    "avg_qbs.isnull().sum()[:50]"
   ]
  },
  {
   "cell_type": "code",
   "execution_count": 605,
   "metadata": {},
   "outputs": [
    {
     "data": {
      "text/html": [
       "<div>\n",
       "<style scoped>\n",
       "    .dataframe tbody tr th:only-of-type {\n",
       "        vertical-align: middle;\n",
       "    }\n",
       "\n",
       "    .dataframe tbody tr th {\n",
       "        vertical-align: top;\n",
       "    }\n",
       "\n",
       "    .dataframe thead th {\n",
       "        text-align: right;\n",
       "    }\n",
       "</style>\n",
       "<table border=\"1\" class=\"dataframe\">\n",
       "  <thead>\n",
       "    <tr style=\"text-align: right;\">\n",
       "      <th></th>\n",
       "      <th>draft_overall</th>\n",
       "      <th>draft_round</th>\n",
       "      <th>draft_year</th>\n",
       "      <th>player</th>\n",
       "      <th>position</th>\n",
       "      <th>school</th>\n",
       "      <th>wins</th>\n",
       "      <th>losses</th>\n",
       "      <th>rank</th>\n",
       "      <th>nfl_team_win_perc</th>\n",
       "      <th>...</th>\n",
       "      <th>nfl_team_Rams</th>\n",
       "      <th>nfl_team_Ravens</th>\n",
       "      <th>nfl_team_Redskins</th>\n",
       "      <th>nfl_team_Saints</th>\n",
       "      <th>nfl_team_Seahawks</th>\n",
       "      <th>nfl_team_Steelers</th>\n",
       "      <th>nfl_team_Texans</th>\n",
       "      <th>nfl_team_Titans</th>\n",
       "      <th>nfl_team_Vikings</th>\n",
       "      <th>defense</th>\n",
       "    </tr>\n",
       "  </thead>\n",
       "  <tbody>\n",
       "    <tr>\n",
       "      <th>1792</th>\n",
       "      <td>2</td>\n",
       "      <td>1</td>\n",
       "      <td>2016</td>\n",
       "      <td>Carson Wentz</td>\n",
       "      <td>QB</td>\n",
       "      <td>North Dakota St.</td>\n",
       "      <td>NaN</td>\n",
       "      <td>NaN</td>\n",
       "      <td>NaN</td>\n",
       "      <td>0.438</td>\n",
       "      <td>...</td>\n",
       "      <td>0</td>\n",
       "      <td>0</td>\n",
       "      <td>0</td>\n",
       "      <td>0</td>\n",
       "      <td>0</td>\n",
       "      <td>0</td>\n",
       "      <td>0</td>\n",
       "      <td>0</td>\n",
       "      <td>0</td>\n",
       "      <td>0</td>\n",
       "    </tr>\n",
       "  </tbody>\n",
       "</table>\n",
       "<p>1 rows × 111 columns</p>\n",
       "</div>"
      ],
      "text/plain": [
       "      draft_overall  draft_round  draft_year        player position  \\\n",
       "1792              2            1        2016  Carson Wentz       QB   \n",
       "\n",
       "                school  wins  losses  rank  nfl_team_win_perc   ...     \\\n",
       "1792  North Dakota St.   NaN     NaN   NaN              0.438   ...      \n",
       "\n",
       "      nfl_team_Rams  nfl_team_Ravens  nfl_team_Redskins  nfl_team_Saints  \\\n",
       "1792              0                0                  0                0   \n",
       "\n",
       "      nfl_team_Seahawks  nfl_team_Steelers  nfl_team_Texans  nfl_team_Titans  \\\n",
       "1792                  0                  0                0                0   \n",
       "\n",
       "      nfl_team_Vikings  defense  \n",
       "1792                 0        0  \n",
       "\n",
       "[1 rows x 111 columns]"
      ]
     },
     "execution_count": 605,
     "metadata": {},
     "output_type": "execute_result"
    }
   ],
   "source": [
    "avg_qbs[avg_qbs['wins'].isnull()==True]"
   ]
  },
  {
   "cell_type": "code",
   "execution_count": 606,
   "metadata": {},
   "outputs": [
    {
     "name": "stderr",
     "output_type": "stream",
     "text": [
      "C:\\Users\\aidan\\Anaconda3\\envs\\DSI-6\\lib\\site-packages\\ipykernel_launcher.py:1: SettingWithCopyWarning: \n",
      "A value is trying to be set on a copy of a slice from a DataFrame\n",
      "\n",
      "See the caveats in the documentation: http://pandas.pydata.org/pandas-docs/stable/indexing.html#indexing-view-versus-copy\n",
      "  \"\"\"Entry point for launching an IPython kernel.\n"
     ]
    }
   ],
   "source": [
    "avg_qbs.dropna(subset=['wins'], inplace=True)"
   ]
  },
  {
   "cell_type": "code",
   "execution_count": 607,
   "metadata": {},
   "outputs": [
    {
     "data": {
      "text/plain": [
       "130"
      ]
     },
     "execution_count": 607,
     "metadata": {},
     "output_type": "execute_result"
    }
   ],
   "source": [
    "len(avg_qbs)"
   ]
  },
  {
   "cell_type": "code",
   "execution_count": 608,
   "metadata": {},
   "outputs": [
    {
     "name": "stderr",
     "output_type": "stream",
     "text": [
      "C:\\Users\\aidan\\Anaconda3\\envs\\DSI-6\\lib\\site-packages\\pandas\\core\\frame.py:3697: SettingWithCopyWarning: \n",
      "A value is trying to be set on a copy of a slice from a DataFrame\n",
      "\n",
      "See the caveats in the documentation: http://pandas.pydata.org/pandas-docs/stable/indexing.html#indexing-view-versus-copy\n",
      "  errors=errors)\n"
     ]
    }
   ],
   "source": [
    "avg_qbs.drop(columns='bench_reps', inplace=True)"
   ]
  },
  {
   "cell_type": "code",
   "execution_count": 609,
   "metadata": {
    "scrolled": true
   },
   "outputs": [
    {
     "data": {
      "text/html": [
       "<div>\n",
       "<style scoped>\n",
       "    .dataframe tbody tr th:only-of-type {\n",
       "        vertical-align: middle;\n",
       "    }\n",
       "\n",
       "    .dataframe tbody tr th {\n",
       "        vertical-align: top;\n",
       "    }\n",
       "\n",
       "    .dataframe thead th {\n",
       "        text-align: right;\n",
       "    }\n",
       "</style>\n",
       "<table border=\"1\" class=\"dataframe\">\n",
       "  <thead>\n",
       "    <tr style=\"text-align: right;\">\n",
       "      <th></th>\n",
       "      <th>player</th>\n",
       "      <th>draft_year</th>\n",
       "      <th>broad_jump</th>\n",
       "      <th>cone</th>\n",
       "      <th>forty_yd</th>\n",
       "      <th>height</th>\n",
       "      <th>shuttle</th>\n",
       "      <th>vertical</th>\n",
       "      <th>weight</th>\n",
       "    </tr>\n",
       "  </thead>\n",
       "  <tbody>\n",
       "    <tr>\n",
       "      <th>2</th>\n",
       "      <td>Vince Young</td>\n",
       "      <td>2006</td>\n",
       "      <td>0.0</td>\n",
       "      <td>0.00</td>\n",
       "      <td>4.48</td>\n",
       "      <td>77.0</td>\n",
       "      <td>0.00</td>\n",
       "      <td>0.0</td>\n",
       "      <td>229.0</td>\n",
       "    </tr>\n",
       "    <tr>\n",
       "      <th>8</th>\n",
       "      <td>Matt Leinart</td>\n",
       "      <td>2006</td>\n",
       "      <td>0.0</td>\n",
       "      <td>0.00</td>\n",
       "      <td>4.90</td>\n",
       "      <td>77.0</td>\n",
       "      <td>0.00</td>\n",
       "      <td>0.0</td>\n",
       "      <td>223.0</td>\n",
       "    </tr>\n",
       "    <tr>\n",
       "      <th>9</th>\n",
       "      <td>Jay Cutler</td>\n",
       "      <td>2006</td>\n",
       "      <td>0.0</td>\n",
       "      <td>7.10</td>\n",
       "      <td>4.77</td>\n",
       "      <td>75.0</td>\n",
       "      <td>4.26</td>\n",
       "      <td>0.0</td>\n",
       "      <td>226.0</td>\n",
       "    </tr>\n",
       "    <tr>\n",
       "      <th>38</th>\n",
       "      <td>Kellen Clemens</td>\n",
       "      <td>2006</td>\n",
       "      <td>0.0</td>\n",
       "      <td>0.00</td>\n",
       "      <td>4.89</td>\n",
       "      <td>74.0</td>\n",
       "      <td>0.00</td>\n",
       "      <td>0.0</td>\n",
       "      <td>224.0</td>\n",
       "    </tr>\n",
       "    <tr>\n",
       "      <th>48</th>\n",
       "      <td>Tarvaris Jackson</td>\n",
       "      <td>2006</td>\n",
       "      <td>107.0</td>\n",
       "      <td>7.40</td>\n",
       "      <td>4.69</td>\n",
       "      <td>74.0</td>\n",
       "      <td>4.38</td>\n",
       "      <td>31.5</td>\n",
       "      <td>226.0</td>\n",
       "    </tr>\n",
       "    <tr>\n",
       "      <th>60</th>\n",
       "      <td>Charlie Whitehurst</td>\n",
       "      <td>2006</td>\n",
       "      <td>112.0</td>\n",
       "      <td>7.00</td>\n",
       "      <td>4.75</td>\n",
       "      <td>77.0</td>\n",
       "      <td>4.11</td>\n",
       "      <td>33.0</td>\n",
       "      <td>223.0</td>\n",
       "    </tr>\n",
       "    <tr>\n",
       "      <th>66</th>\n",
       "      <td>Brodie Croyle</td>\n",
       "      <td>2006</td>\n",
       "      <td>104.0</td>\n",
       "      <td>7.34</td>\n",
       "      <td>4.88</td>\n",
       "      <td>74.0</td>\n",
       "      <td>4.25</td>\n",
       "      <td>30.5</td>\n",
       "      <td>205.0</td>\n",
       "    </tr>\n",
       "    <tr>\n",
       "      <th>79</th>\n",
       "      <td>Brad Smith</td>\n",
       "      <td>2006</td>\n",
       "      <td>128.0</td>\n",
       "      <td>7.00</td>\n",
       "      <td>4.46</td>\n",
       "      <td>74.0</td>\n",
       "      <td>4.33</td>\n",
       "      <td>39.5</td>\n",
       "      <td>213.0</td>\n",
       "    </tr>\n",
       "    <tr>\n",
       "      <th>124</th>\n",
       "      <td>Omar Jacobs</td>\n",
       "      <td>2006</td>\n",
       "      <td>NaN</td>\n",
       "      <td>NaN</td>\n",
       "      <td>NaN</td>\n",
       "      <td>NaN</td>\n",
       "      <td>NaN</td>\n",
       "      <td>NaN</td>\n",
       "      <td>NaN</td>\n",
       "    </tr>\n",
       "    <tr>\n",
       "      <th>143</th>\n",
       "      <td>Reggie McNeal</td>\n",
       "      <td>2006</td>\n",
       "      <td>121.0</td>\n",
       "      <td>6.96</td>\n",
       "      <td>4.40</td>\n",
       "      <td>74.0</td>\n",
       "      <td>4.25</td>\n",
       "      <td>32.0</td>\n",
       "      <td>198.0</td>\n",
       "    </tr>\n",
       "    <tr>\n",
       "      <th>144</th>\n",
       "      <td>Bruce Gradkowski</td>\n",
       "      <td>2006</td>\n",
       "      <td>107.0</td>\n",
       "      <td>7.12</td>\n",
       "      <td>4.59</td>\n",
       "      <td>73.0</td>\n",
       "      <td>4.16</td>\n",
       "      <td>34.0</td>\n",
       "      <td>217.0</td>\n",
       "    </tr>\n",
       "    <tr>\n",
       "      <th>158</th>\n",
       "      <td>D.J. Shockley</td>\n",
       "      <td>2006</td>\n",
       "      <td>NaN</td>\n",
       "      <td>NaN</td>\n",
       "      <td>NaN</td>\n",
       "      <td>NaN</td>\n",
       "      <td>NaN</td>\n",
       "      <td>NaN</td>\n",
       "      <td>NaN</td>\n",
       "    </tr>\n",
       "    <tr>\n",
       "      <th>179</th>\n",
       "      <td>JaMarcus Russell</td>\n",
       "      <td>2007</td>\n",
       "      <td>0.0</td>\n",
       "      <td>0.00</td>\n",
       "      <td>4.83</td>\n",
       "      <td>77.0</td>\n",
       "      <td>0.00</td>\n",
       "      <td>0.0</td>\n",
       "      <td>265.0</td>\n",
       "    </tr>\n",
       "    <tr>\n",
       "      <th>198</th>\n",
       "      <td>Brady Quinn</td>\n",
       "      <td>2007</td>\n",
       "      <td>0.0</td>\n",
       "      <td>0.00</td>\n",
       "      <td>4.73</td>\n",
       "      <td>76.0</td>\n",
       "      <td>0.00</td>\n",
       "      <td>0.0</td>\n",
       "      <td>232.0</td>\n",
       "    </tr>\n",
       "    <tr>\n",
       "      <th>209</th>\n",
       "      <td>Kevin Kolb</td>\n",
       "      <td>2007</td>\n",
       "      <td>112.0</td>\n",
       "      <td>6.94</td>\n",
       "      <td>4.85</td>\n",
       "      <td>75.0</td>\n",
       "      <td>4.44</td>\n",
       "      <td>32.5</td>\n",
       "      <td>218.0</td>\n",
       "    </tr>\n",
       "    <tr>\n",
       "      <th>212</th>\n",
       "      <td>John Beck</td>\n",
       "      <td>2007</td>\n",
       "      <td>111.0</td>\n",
       "      <td>6.81</td>\n",
       "      <td>4.75</td>\n",
       "      <td>74.0</td>\n",
       "      <td>4.17</td>\n",
       "      <td>29.5</td>\n",
       "      <td>215.0</td>\n",
       "    </tr>\n",
       "    <tr>\n",
       "      <th>214</th>\n",
       "      <td>Drew Stanton</td>\n",
       "      <td>2007</td>\n",
       "      <td>108.0</td>\n",
       "      <td>6.77</td>\n",
       "      <td>4.75</td>\n",
       "      <td>75.0</td>\n",
       "      <td>4.41</td>\n",
       "      <td>30.5</td>\n",
       "      <td>226.0</td>\n",
       "    </tr>\n",
       "    <tr>\n",
       "      <th>252</th>\n",
       "      <td>Trent Edwards</td>\n",
       "      <td>2007</td>\n",
       "      <td>0.0</td>\n",
       "      <td>7.14</td>\n",
       "      <td>4.76</td>\n",
       "      <td>76.0</td>\n",
       "      <td>4.46</td>\n",
       "      <td>0.0</td>\n",
       "      <td>231.0</td>\n",
       "    </tr>\n",
       "    <tr>\n",
       "      <th>260</th>\n",
       "      <td>Isaiah Stanback</td>\n",
       "      <td>2007</td>\n",
       "      <td>0.0</td>\n",
       "      <td>0.00</td>\n",
       "      <td>4.60</td>\n",
       "      <td>74.0</td>\n",
       "      <td>0.00</td>\n",
       "      <td>0.0</td>\n",
       "      <td>216.0</td>\n",
       "    </tr>\n",
       "    <tr>\n",
       "      <th>310</th>\n",
       "      <td>Troy Smith</td>\n",
       "      <td>2007</td>\n",
       "      <td>0.0</td>\n",
       "      <td>0.00</td>\n",
       "      <td>4.72</td>\n",
       "      <td>72.0</td>\n",
       "      <td>0.00</td>\n",
       "      <td>0.0</td>\n",
       "      <td>225.0</td>\n",
       "    </tr>\n",
       "    <tr>\n",
       "      <th>326</th>\n",
       "      <td>Jordan Palmer</td>\n",
       "      <td>2007</td>\n",
       "      <td>104.0</td>\n",
       "      <td>7.32</td>\n",
       "      <td>4.98</td>\n",
       "      <td>78.0</td>\n",
       "      <td>4.58</td>\n",
       "      <td>30.5</td>\n",
       "      <td>231.0</td>\n",
       "    </tr>\n",
       "    <tr>\n",
       "      <th>365</th>\n",
       "      <td>Matt Ryan</td>\n",
       "      <td>2008</td>\n",
       "      <td>0.0</td>\n",
       "      <td>7.40</td>\n",
       "      <td>4.89</td>\n",
       "      <td>77.0</td>\n",
       "      <td>4.51</td>\n",
       "      <td>0.0</td>\n",
       "      <td>228.0</td>\n",
       "    </tr>\n",
       "    <tr>\n",
       "      <th>375</th>\n",
       "      <td>Joe Flacco</td>\n",
       "      <td>2008</td>\n",
       "      <td>110.0</td>\n",
       "      <td>6.82</td>\n",
       "      <td>4.84</td>\n",
       "      <td>78.0</td>\n",
       "      <td>4.27</td>\n",
       "      <td>28.5</td>\n",
       "      <td>236.0</td>\n",
       "    </tr>\n",
       "    <tr>\n",
       "      <th>408</th>\n",
       "      <td>Brian Brohm</td>\n",
       "      <td>2008</td>\n",
       "      <td>115.0</td>\n",
       "      <td>7.13</td>\n",
       "      <td>4.81</td>\n",
       "      <td>75.0</td>\n",
       "      <td>4.55</td>\n",
       "      <td>30.0</td>\n",
       "      <td>230.0</td>\n",
       "    </tr>\n",
       "    <tr>\n",
       "      <th>409</th>\n",
       "      <td>Chad Henne</td>\n",
       "      <td>2008</td>\n",
       "      <td>106.0</td>\n",
       "      <td>7.17</td>\n",
       "      <td>4.92</td>\n",
       "      <td>75.0</td>\n",
       "      <td>4.40</td>\n",
       "      <td>25.5</td>\n",
       "      <td>230.0</td>\n",
       "    </tr>\n",
       "    <tr>\n",
       "      <th>439</th>\n",
       "      <td>Kevin O'Connell</td>\n",
       "      <td>2008</td>\n",
       "      <td>113.0</td>\n",
       "      <td>7.01</td>\n",
       "      <td>4.61</td>\n",
       "      <td>77.0</td>\n",
       "      <td>4.38</td>\n",
       "      <td>31.0</td>\n",
       "      <td>225.0</td>\n",
       "    </tr>\n",
       "    <tr>\n",
       "      <th>484</th>\n",
       "      <td>Dennis Dixon</td>\n",
       "      <td>2008</td>\n",
       "      <td>0.0</td>\n",
       "      <td>0.00</td>\n",
       "      <td>4.58</td>\n",
       "      <td>75.0</td>\n",
       "      <td>0.00</td>\n",
       "      <td>0.0</td>\n",
       "      <td>195.0</td>\n",
       "    </tr>\n",
       "    <tr>\n",
       "      <th>488</th>\n",
       "      <td>Erik Ainge</td>\n",
       "      <td>2008</td>\n",
       "      <td>108.0</td>\n",
       "      <td>7.51</td>\n",
       "      <td>4.98</td>\n",
       "      <td>77.0</td>\n",
       "      <td>4.60</td>\n",
       "      <td>21.5</td>\n",
       "      <td>225.0</td>\n",
       "    </tr>\n",
       "    <tr>\n",
       "      <th>504</th>\n",
       "      <td>Colt Brennan</td>\n",
       "      <td>2008</td>\n",
       "      <td>0.0</td>\n",
       "      <td>0.00</td>\n",
       "      <td>4.79</td>\n",
       "      <td>74.0</td>\n",
       "      <td>0.00</td>\n",
       "      <td>0.0</td>\n",
       "      <td>207.0</td>\n",
       "    </tr>\n",
       "    <tr>\n",
       "      <th>513</th>\n",
       "      <td>Andre Woodson</td>\n",
       "      <td>2008</td>\n",
       "      <td>0.0</td>\n",
       "      <td>0.00</td>\n",
       "      <td>4.85</td>\n",
       "      <td>76.0</td>\n",
       "      <td>0.00</td>\n",
       "      <td>0.0</td>\n",
       "      <td>229.0</td>\n",
       "    </tr>\n",
       "    <tr>\n",
       "      <th>...</th>\n",
       "      <td>...</td>\n",
       "      <td>...</td>\n",
       "      <td>...</td>\n",
       "      <td>...</td>\n",
       "      <td>...</td>\n",
       "      <td>...</td>\n",
       "      <td>...</td>\n",
       "      <td>...</td>\n",
       "      <td>...</td>\n",
       "    </tr>\n",
       "    <tr>\n",
       "      <th>1874</th>\n",
       "      <td>Connor Cook</td>\n",
       "      <td>2016</td>\n",
       "      <td>113.0</td>\n",
       "      <td>7.21</td>\n",
       "      <td>4.79</td>\n",
       "      <td>76.0</td>\n",
       "      <td>4.28</td>\n",
       "      <td>33.0</td>\n",
       "      <td>217.0</td>\n",
       "    </tr>\n",
       "    <tr>\n",
       "      <th>1900</th>\n",
       "      <td>Dak Prescott</td>\n",
       "      <td>2016</td>\n",
       "      <td>116.0</td>\n",
       "      <td>7.11</td>\n",
       "      <td>4.79</td>\n",
       "      <td>74.0</td>\n",
       "      <td>4.32</td>\n",
       "      <td>32.5</td>\n",
       "      <td>226.0</td>\n",
       "    </tr>\n",
       "    <tr>\n",
       "      <th>1903</th>\n",
       "      <td>Cardale Jones</td>\n",
       "      <td>2016</td>\n",
       "      <td>0.0</td>\n",
       "      <td>0.00</td>\n",
       "      <td>4.81</td>\n",
       "      <td>77.0</td>\n",
       "      <td>0.00</td>\n",
       "      <td>36.0</td>\n",
       "      <td>253.0</td>\n",
       "    </tr>\n",
       "    <tr>\n",
       "      <th>1917</th>\n",
       "      <td>Kevin Hogan</td>\n",
       "      <td>2016</td>\n",
       "      <td>113.0</td>\n",
       "      <td>6.90</td>\n",
       "      <td>4.78</td>\n",
       "      <td>75.0</td>\n",
       "      <td>4.31</td>\n",
       "      <td>32.5</td>\n",
       "      <td>218.0</td>\n",
       "    </tr>\n",
       "    <tr>\n",
       "      <th>1931</th>\n",
       "      <td>Nate Sudfeld</td>\n",
       "      <td>2016</td>\n",
       "      <td>105.0</td>\n",
       "      <td>0.00</td>\n",
       "      <td>5.02</td>\n",
       "      <td>78.0</td>\n",
       "      <td>0.00</td>\n",
       "      <td>29.0</td>\n",
       "      <td>234.0</td>\n",
       "    </tr>\n",
       "    <tr>\n",
       "      <th>1935</th>\n",
       "      <td>Jake Rudock</td>\n",
       "      <td>2016</td>\n",
       "      <td>NaN</td>\n",
       "      <td>NaN</td>\n",
       "      <td>NaN</td>\n",
       "      <td>NaN</td>\n",
       "      <td>NaN</td>\n",
       "      <td>NaN</td>\n",
       "      <td>NaN</td>\n",
       "    </tr>\n",
       "    <tr>\n",
       "      <th>1942</th>\n",
       "      <td>Brandon Allen</td>\n",
       "      <td>2016</td>\n",
       "      <td>110.0</td>\n",
       "      <td>7.06</td>\n",
       "      <td>4.84</td>\n",
       "      <td>73.0</td>\n",
       "      <td>4.33</td>\n",
       "      <td>28.0</td>\n",
       "      <td>217.0</td>\n",
       "    </tr>\n",
       "    <tr>\n",
       "      <th>1948</th>\n",
       "      <td>Jeff Driskel</td>\n",
       "      <td>2016</td>\n",
       "      <td>122.0</td>\n",
       "      <td>7.19</td>\n",
       "      <td>4.56</td>\n",
       "      <td>76.0</td>\n",
       "      <td>4.25</td>\n",
       "      <td>32.0</td>\n",
       "      <td>234.0</td>\n",
       "    </tr>\n",
       "    <tr>\n",
       "      <th>1957</th>\n",
       "      <td>Brandon Doughty</td>\n",
       "      <td>2016</td>\n",
       "      <td>103.0</td>\n",
       "      <td>7.49</td>\n",
       "      <td>5.22</td>\n",
       "      <td>75.0</td>\n",
       "      <td>4.52</td>\n",
       "      <td>27.0</td>\n",
       "      <td>213.0</td>\n",
       "    </tr>\n",
       "    <tr>\n",
       "      <th>1990</th>\n",
       "      <td>Patrick Mahomes</td>\n",
       "      <td>2017</td>\n",
       "      <td>114.0</td>\n",
       "      <td>6.88</td>\n",
       "      <td>4.80</td>\n",
       "      <td>74.0</td>\n",
       "      <td>4.08</td>\n",
       "      <td>30.0</td>\n",
       "      <td>225.0</td>\n",
       "    </tr>\n",
       "    <tr>\n",
       "      <th>1992</th>\n",
       "      <td>Deshaun Watson</td>\n",
       "      <td>2017</td>\n",
       "      <td>119.0</td>\n",
       "      <td>6.95</td>\n",
       "      <td>4.66</td>\n",
       "      <td>74.0</td>\n",
       "      <td>4.31</td>\n",
       "      <td>32.5</td>\n",
       "      <td>221.0</td>\n",
       "    </tr>\n",
       "    <tr>\n",
       "      <th>2026</th>\n",
       "      <td>DeShone Kizer</td>\n",
       "      <td>2017</td>\n",
       "      <td>107.0</td>\n",
       "      <td>7.40</td>\n",
       "      <td>4.83</td>\n",
       "      <td>76.0</td>\n",
       "      <td>4.53</td>\n",
       "      <td>30.5</td>\n",
       "      <td>233.0</td>\n",
       "    </tr>\n",
       "    <tr>\n",
       "      <th>2052</th>\n",
       "      <td>Davis Webb</td>\n",
       "      <td>2017</td>\n",
       "      <td>118.0</td>\n",
       "      <td>6.92</td>\n",
       "      <td>4.79</td>\n",
       "      <td>77.0</td>\n",
       "      <td>4.21</td>\n",
       "      <td>33.0</td>\n",
       "      <td>229.0</td>\n",
       "    </tr>\n",
       "    <tr>\n",
       "      <th>2066</th>\n",
       "      <td>C.J. Beathard</td>\n",
       "      <td>2017</td>\n",
       "      <td>113.0</td>\n",
       "      <td>NaN</td>\n",
       "      <td>NaN</td>\n",
       "      <td>74.0</td>\n",
       "      <td>NaN</td>\n",
       "      <td>31.0</td>\n",
       "      <td>219.0</td>\n",
       "    </tr>\n",
       "    <tr>\n",
       "      <th>2091</th>\n",
       "      <td>Joshua Dobbs</td>\n",
       "      <td>2017</td>\n",
       "      <td>122.0</td>\n",
       "      <td>6.75</td>\n",
       "      <td>4.64</td>\n",
       "      <td>75.0</td>\n",
       "      <td>4.31</td>\n",
       "      <td>33.0</td>\n",
       "      <td>216.0</td>\n",
       "    </tr>\n",
       "    <tr>\n",
       "      <th>2116</th>\n",
       "      <td>Nathan Peterman</td>\n",
       "      <td>2017</td>\n",
       "      <td>110.0</td>\n",
       "      <td>7.14</td>\n",
       "      <td>4.82</td>\n",
       "      <td>74.0</td>\n",
       "      <td>4.31</td>\n",
       "      <td>31.0</td>\n",
       "      <td>226.0</td>\n",
       "    </tr>\n",
       "    <tr>\n",
       "      <th>2146</th>\n",
       "      <td>Brad Kaaya</td>\n",
       "      <td>2017</td>\n",
       "      <td>NaN</td>\n",
       "      <td>NaN</td>\n",
       "      <td>NaN</td>\n",
       "      <td>76.0</td>\n",
       "      <td>NaN</td>\n",
       "      <td>NaN</td>\n",
       "      <td>214.0</td>\n",
       "    </tr>\n",
       "    <tr>\n",
       "      <th>2176</th>\n",
       "      <td>Chad Kelly</td>\n",
       "      <td>2017</td>\n",
       "      <td>NaN</td>\n",
       "      <td>NaN</td>\n",
       "      <td>NaN</td>\n",
       "      <td>NaN</td>\n",
       "      <td>NaN</td>\n",
       "      <td>NaN</td>\n",
       "      <td>NaN</td>\n",
       "    </tr>\n",
       "    <tr>\n",
       "      <th>2177</th>\n",
       "      <td>Baker Mayfield</td>\n",
       "      <td>2018</td>\n",
       "      <td>111.0</td>\n",
       "      <td>7.00</td>\n",
       "      <td>4.84</td>\n",
       "      <td>73.0</td>\n",
       "      <td>4.28</td>\n",
       "      <td>29.0</td>\n",
       "      <td>215.0</td>\n",
       "    </tr>\n",
       "    <tr>\n",
       "      <th>2179</th>\n",
       "      <td>Sam Darnold</td>\n",
       "      <td>2018</td>\n",
       "      <td>105.0</td>\n",
       "      <td>6.96</td>\n",
       "      <td>4.85</td>\n",
       "      <td>75.0</td>\n",
       "      <td>4.40</td>\n",
       "      <td>26.5</td>\n",
       "      <td>221.0</td>\n",
       "    </tr>\n",
       "    <tr>\n",
       "      <th>2182</th>\n",
       "      <td>Josh Allen</td>\n",
       "      <td>2018</td>\n",
       "      <td>119.0</td>\n",
       "      <td>6.90</td>\n",
       "      <td>4.75</td>\n",
       "      <td>77.0</td>\n",
       "      <td>4.40</td>\n",
       "      <td>33.5</td>\n",
       "      <td>237.0</td>\n",
       "    </tr>\n",
       "    <tr>\n",
       "      <th>2184</th>\n",
       "      <td>Josh Rosen</td>\n",
       "      <td>2018</td>\n",
       "      <td>111.0</td>\n",
       "      <td>7.09</td>\n",
       "      <td>4.92</td>\n",
       "      <td>76.0</td>\n",
       "      <td>4.28</td>\n",
       "      <td>31.0</td>\n",
       "      <td>226.0</td>\n",
       "    </tr>\n",
       "    <tr>\n",
       "      <th>2203</th>\n",
       "      <td>Lamar Jackson</td>\n",
       "      <td>2018</td>\n",
       "      <td>NaN</td>\n",
       "      <td>NaN</td>\n",
       "      <td>NaN</td>\n",
       "      <td>74.0</td>\n",
       "      <td>NaN</td>\n",
       "      <td>NaN</td>\n",
       "      <td>216.0</td>\n",
       "    </tr>\n",
       "    <tr>\n",
       "      <th>2235</th>\n",
       "      <td>Mason Rudolph</td>\n",
       "      <td>2018</td>\n",
       "      <td>NaN</td>\n",
       "      <td>NaN</td>\n",
       "      <td>4.90</td>\n",
       "      <td>77.0</td>\n",
       "      <td>NaN</td>\n",
       "      <td>26.0</td>\n",
       "      <td>235.0</td>\n",
       "    </tr>\n",
       "    <tr>\n",
       "      <th>2305</th>\n",
       "      <td>Mike White</td>\n",
       "      <td>2018</td>\n",
       "      <td>NaN</td>\n",
       "      <td>NaN</td>\n",
       "      <td>NaN</td>\n",
       "      <td>NaN</td>\n",
       "      <td>NaN</td>\n",
       "      <td>NaN</td>\n",
       "      <td>NaN</td>\n",
       "    </tr>\n",
       "    <tr>\n",
       "      <th>2328</th>\n",
       "      <td>Luke Falk</td>\n",
       "      <td>2018</td>\n",
       "      <td>103.0</td>\n",
       "      <td>NaN</td>\n",
       "      <td>NaN</td>\n",
       "      <td>76.0</td>\n",
       "      <td>NaN</td>\n",
       "      <td>26.5</td>\n",
       "      <td>215.0</td>\n",
       "    </tr>\n",
       "    <tr>\n",
       "      <th>2331</th>\n",
       "      <td>Tanner Lee</td>\n",
       "      <td>2018</td>\n",
       "      <td>NaN</td>\n",
       "      <td>NaN</td>\n",
       "      <td>NaN</td>\n",
       "      <td>NaN</td>\n",
       "      <td>NaN</td>\n",
       "      <td>NaN</td>\n",
       "      <td>NaN</td>\n",
       "    </tr>\n",
       "    <tr>\n",
       "      <th>2342</th>\n",
       "      <td>Danny Etling</td>\n",
       "      <td>2018</td>\n",
       "      <td>NaN</td>\n",
       "      <td>NaN</td>\n",
       "      <td>NaN</td>\n",
       "      <td>NaN</td>\n",
       "      <td>NaN</td>\n",
       "      <td>NaN</td>\n",
       "      <td>NaN</td>\n",
       "    </tr>\n",
       "    <tr>\n",
       "      <th>2343</th>\n",
       "      <td>Alex McGough</td>\n",
       "      <td>2018</td>\n",
       "      <td>NaN</td>\n",
       "      <td>NaN</td>\n",
       "      <td>NaN</td>\n",
       "      <td>NaN</td>\n",
       "      <td>NaN</td>\n",
       "      <td>NaN</td>\n",
       "      <td>NaN</td>\n",
       "    </tr>\n",
       "    <tr>\n",
       "      <th>2364</th>\n",
       "      <td>Logan Woodside</td>\n",
       "      <td>2018</td>\n",
       "      <td>103.0</td>\n",
       "      <td>6.94</td>\n",
       "      <td>4.79</td>\n",
       "      <td>73.0</td>\n",
       "      <td>4.15</td>\n",
       "      <td>31.5</td>\n",
       "      <td>213.0</td>\n",
       "    </tr>\n",
       "  </tbody>\n",
       "</table>\n",
       "<p>130 rows × 9 columns</p>\n",
       "</div>"
      ],
      "text/plain": [
       "                  player  draft_year  broad_jump  cone  forty_yd  height  \\\n",
       "2            Vince Young        2006         0.0  0.00      4.48    77.0   \n",
       "8           Matt Leinart        2006         0.0  0.00      4.90    77.0   \n",
       "9             Jay Cutler        2006         0.0  7.10      4.77    75.0   \n",
       "38        Kellen Clemens        2006         0.0  0.00      4.89    74.0   \n",
       "48      Tarvaris Jackson        2006       107.0  7.40      4.69    74.0   \n",
       "60    Charlie Whitehurst        2006       112.0  7.00      4.75    77.0   \n",
       "66         Brodie Croyle        2006       104.0  7.34      4.88    74.0   \n",
       "79            Brad Smith        2006       128.0  7.00      4.46    74.0   \n",
       "124          Omar Jacobs        2006         NaN   NaN       NaN     NaN   \n",
       "143        Reggie McNeal        2006       121.0  6.96      4.40    74.0   \n",
       "144     Bruce Gradkowski        2006       107.0  7.12      4.59    73.0   \n",
       "158        D.J. Shockley        2006         NaN   NaN       NaN     NaN   \n",
       "179     JaMarcus Russell        2007         0.0  0.00      4.83    77.0   \n",
       "198          Brady Quinn        2007         0.0  0.00      4.73    76.0   \n",
       "209           Kevin Kolb        2007       112.0  6.94      4.85    75.0   \n",
       "212            John Beck        2007       111.0  6.81      4.75    74.0   \n",
       "214         Drew Stanton        2007       108.0  6.77      4.75    75.0   \n",
       "252        Trent Edwards        2007         0.0  7.14      4.76    76.0   \n",
       "260      Isaiah Stanback        2007         0.0  0.00      4.60    74.0   \n",
       "310           Troy Smith        2007         0.0  0.00      4.72    72.0   \n",
       "326        Jordan Palmer        2007       104.0  7.32      4.98    78.0   \n",
       "365            Matt Ryan        2008         0.0  7.40      4.89    77.0   \n",
       "375           Joe Flacco        2008       110.0  6.82      4.84    78.0   \n",
       "408          Brian Brohm        2008       115.0  7.13      4.81    75.0   \n",
       "409           Chad Henne        2008       106.0  7.17      4.92    75.0   \n",
       "439      Kevin O'Connell        2008       113.0  7.01      4.61    77.0   \n",
       "484         Dennis Dixon        2008         0.0  0.00      4.58    75.0   \n",
       "488           Erik Ainge        2008       108.0  7.51      4.98    77.0   \n",
       "504         Colt Brennan        2008         0.0  0.00      4.79    74.0   \n",
       "513        Andre Woodson        2008         0.0  0.00      4.85    76.0   \n",
       "...                  ...         ...         ...   ...       ...     ...   \n",
       "1874         Connor Cook        2016       113.0  7.21      4.79    76.0   \n",
       "1900        Dak Prescott        2016       116.0  7.11      4.79    74.0   \n",
       "1903       Cardale Jones        2016         0.0  0.00      4.81    77.0   \n",
       "1917         Kevin Hogan        2016       113.0  6.90      4.78    75.0   \n",
       "1931        Nate Sudfeld        2016       105.0  0.00      5.02    78.0   \n",
       "1935         Jake Rudock        2016         NaN   NaN       NaN     NaN   \n",
       "1942       Brandon Allen        2016       110.0  7.06      4.84    73.0   \n",
       "1948        Jeff Driskel        2016       122.0  7.19      4.56    76.0   \n",
       "1957     Brandon Doughty        2016       103.0  7.49      5.22    75.0   \n",
       "1990     Patrick Mahomes        2017       114.0  6.88      4.80    74.0   \n",
       "1992      Deshaun Watson        2017       119.0  6.95      4.66    74.0   \n",
       "2026       DeShone Kizer        2017       107.0  7.40      4.83    76.0   \n",
       "2052          Davis Webb        2017       118.0  6.92      4.79    77.0   \n",
       "2066       C.J. Beathard        2017       113.0   NaN       NaN    74.0   \n",
       "2091        Joshua Dobbs        2017       122.0  6.75      4.64    75.0   \n",
       "2116     Nathan Peterman        2017       110.0  7.14      4.82    74.0   \n",
       "2146          Brad Kaaya        2017         NaN   NaN       NaN    76.0   \n",
       "2176          Chad Kelly        2017         NaN   NaN       NaN     NaN   \n",
       "2177      Baker Mayfield        2018       111.0  7.00      4.84    73.0   \n",
       "2179         Sam Darnold        2018       105.0  6.96      4.85    75.0   \n",
       "2182          Josh Allen        2018       119.0  6.90      4.75    77.0   \n",
       "2184          Josh Rosen        2018       111.0  7.09      4.92    76.0   \n",
       "2203       Lamar Jackson        2018         NaN   NaN       NaN    74.0   \n",
       "2235       Mason Rudolph        2018         NaN   NaN      4.90    77.0   \n",
       "2305          Mike White        2018         NaN   NaN       NaN     NaN   \n",
       "2328           Luke Falk        2018       103.0   NaN       NaN    76.0   \n",
       "2331          Tanner Lee        2018         NaN   NaN       NaN     NaN   \n",
       "2342        Danny Etling        2018         NaN   NaN       NaN     NaN   \n",
       "2343        Alex McGough        2018         NaN   NaN       NaN     NaN   \n",
       "2364      Logan Woodside        2018       103.0  6.94      4.79    73.0   \n",
       "\n",
       "      shuttle  vertical  weight  \n",
       "2        0.00       0.0   229.0  \n",
       "8        0.00       0.0   223.0  \n",
       "9        4.26       0.0   226.0  \n",
       "38       0.00       0.0   224.0  \n",
       "48       4.38      31.5   226.0  \n",
       "60       4.11      33.0   223.0  \n",
       "66       4.25      30.5   205.0  \n",
       "79       4.33      39.5   213.0  \n",
       "124       NaN       NaN     NaN  \n",
       "143      4.25      32.0   198.0  \n",
       "144      4.16      34.0   217.0  \n",
       "158       NaN       NaN     NaN  \n",
       "179      0.00       0.0   265.0  \n",
       "198      0.00       0.0   232.0  \n",
       "209      4.44      32.5   218.0  \n",
       "212      4.17      29.5   215.0  \n",
       "214      4.41      30.5   226.0  \n",
       "252      4.46       0.0   231.0  \n",
       "260      0.00       0.0   216.0  \n",
       "310      0.00       0.0   225.0  \n",
       "326      4.58      30.5   231.0  \n",
       "365      4.51       0.0   228.0  \n",
       "375      4.27      28.5   236.0  \n",
       "408      4.55      30.0   230.0  \n",
       "409      4.40      25.5   230.0  \n",
       "439      4.38      31.0   225.0  \n",
       "484      0.00       0.0   195.0  \n",
       "488      4.60      21.5   225.0  \n",
       "504      0.00       0.0   207.0  \n",
       "513      0.00       0.0   229.0  \n",
       "...       ...       ...     ...  \n",
       "1874     4.28      33.0   217.0  \n",
       "1900     4.32      32.5   226.0  \n",
       "1903     0.00      36.0   253.0  \n",
       "1917     4.31      32.5   218.0  \n",
       "1931     0.00      29.0   234.0  \n",
       "1935      NaN       NaN     NaN  \n",
       "1942     4.33      28.0   217.0  \n",
       "1948     4.25      32.0   234.0  \n",
       "1957     4.52      27.0   213.0  \n",
       "1990     4.08      30.0   225.0  \n",
       "1992     4.31      32.5   221.0  \n",
       "2026     4.53      30.5   233.0  \n",
       "2052     4.21      33.0   229.0  \n",
       "2066      NaN      31.0   219.0  \n",
       "2091     4.31      33.0   216.0  \n",
       "2116     4.31      31.0   226.0  \n",
       "2146      NaN       NaN   214.0  \n",
       "2176      NaN       NaN     NaN  \n",
       "2177     4.28      29.0   215.0  \n",
       "2179     4.40      26.5   221.0  \n",
       "2182     4.40      33.5   237.0  \n",
       "2184     4.28      31.0   226.0  \n",
       "2203      NaN       NaN   216.0  \n",
       "2235      NaN      26.0   235.0  \n",
       "2305      NaN       NaN     NaN  \n",
       "2328      NaN      26.5   215.0  \n",
       "2331      NaN       NaN     NaN  \n",
       "2342      NaN       NaN     NaN  \n",
       "2343      NaN       NaN     NaN  \n",
       "2364     4.15      31.5   213.0  \n",
       "\n",
       "[130 rows x 9 columns]"
      ]
     },
     "execution_count": 609,
     "metadata": {},
     "output_type": "execute_result"
    }
   ],
   "source": [
    "avg_qbs[['player', 'draft_year', 'broad_jump', 'cone', 'forty_yd', 'height', 'shuttle', 'vertical', 'weight']]"
   ]
  },
  {
   "cell_type": "code",
   "execution_count": 610,
   "metadata": {
    "scrolled": true
   },
   "outputs": [
    {
     "data": {
      "text/plain": [
       "draft_overall           0\n",
       "draft_round             0\n",
       "draft_year              0\n",
       "player                  0\n",
       "position                0\n",
       "school                  0\n",
       "wins                    0\n",
       "losses                  0\n",
       "rank                    0\n",
       "nfl_team_win_perc       0\n",
       "broad_jump              3\n",
       "cone                    5\n",
       "forty_yd                4\n",
       "height                  0\n",
       "shuttle                 5\n",
       "vertical                2\n",
       "weight                  0\n",
       "games                   0\n",
       "pass_cmp                0\n",
       "pass_att                0\n",
       "pass_cmp_pct            0\n",
       "pass_yds                0\n",
       "pass_yds_per_att        0\n",
       "adj_pass_yds_per_att    0\n",
       "pass_td                 0\n",
       "pass_int                0\n",
       "pass_rating             0\n",
       "rush_att                0\n",
       "rush_yds                0\n",
       "rush_yds_per_att        0\n",
       "                       ..\n",
       "nfl_team_Bills          0\n",
       "nfl_team_Broncos        0\n",
       "nfl_team_Browns         0\n",
       "nfl_team_Buccaneers     0\n",
       "nfl_team_Cardinals      0\n",
       "nfl_team_Chargers       0\n",
       "nfl_team_Chiefs         0\n",
       "nfl_team_Colts          0\n",
       "nfl_team_Cowboys        0\n",
       "nfl_team_Dolphins       0\n",
       "nfl_team_Eagles         0\n",
       "nfl_team_Falcons        0\n",
       "nfl_team_Giants         0\n",
       "nfl_team_Jaguars        0\n",
       "nfl_team_Jets           0\n",
       "nfl_team_Lions          0\n",
       "nfl_team_Packers        0\n",
       "nfl_team_Panthers       0\n",
       "nfl_team_Patriots       0\n",
       "nfl_team_Raiders        0\n",
       "nfl_team_Rams           0\n",
       "nfl_team_Ravens         0\n",
       "nfl_team_Redskins       0\n",
       "nfl_team_Saints         0\n",
       "nfl_team_Seahawks       0\n",
       "nfl_team_Steelers       0\n",
       "nfl_team_Texans         0\n",
       "nfl_team_Titans         0\n",
       "nfl_team_Vikings        0\n",
       "defense                 0\n",
       "Length: 110, dtype: int64"
      ]
     },
     "execution_count": 610,
     "metadata": {},
     "output_type": "execute_result"
    }
   ],
   "source": [
    "avg_qbs.dropna(subset= ['broad_jump', 'cone', 'forty_yd', 'height', 'shuttle', 'vertical', 'weight'], how='all').isnull().sum()"
   ]
  },
  {
   "cell_type": "code",
   "execution_count": 611,
   "metadata": {},
   "outputs": [
    {
     "name": "stderr",
     "output_type": "stream",
     "text": [
      "C:\\Users\\aidan\\Anaconda3\\envs\\DSI-6\\lib\\site-packages\\ipykernel_launcher.py:1: SettingWithCopyWarning: \n",
      "A value is trying to be set on a copy of a slice from a DataFrame\n",
      "\n",
      "See the caveats in the documentation: http://pandas.pydata.org/pandas-docs/stable/indexing.html#indexing-view-versus-copy\n",
      "  \"\"\"Entry point for launching an IPython kernel.\n"
     ]
    }
   ],
   "source": [
    "avg_qbs.dropna(subset= ['broad_jump', 'cone', 'forty_yd', 'height', 'shuttle', 'vertical', 'weight'], how='all', inplace=True)"
   ]
  },
  {
   "cell_type": "code",
   "execution_count": 612,
   "metadata": {},
   "outputs": [
    {
     "name": "stderr",
     "output_type": "stream",
     "text": [
      "C:\\Users\\aidan\\Anaconda3\\envs\\DSI-6\\lib\\site-packages\\ipykernel_launcher.py:1: SettingWithCopyWarning: \n",
      "A value is trying to be set on a copy of a slice from a DataFrame\n",
      "\n",
      "See the caveats in the documentation: http://pandas.pydata.org/pandas-docs/stable/indexing.html#indexing-view-versus-copy\n",
      "  \"\"\"Entry point for launching an IPython kernel.\n"
     ]
    }
   ],
   "source": [
    "avg_qbs.dropna(inplace=True)"
   ]
  },
  {
   "cell_type": "code",
   "execution_count": 613,
   "metadata": {
    "scrolled": true
   },
   "outputs": [
    {
     "data": {
      "text/plain": [
       "0"
      ]
     },
     "execution_count": 613,
     "metadata": {},
     "output_type": "execute_result"
    }
   ],
   "source": [
    "avg_qbs.isnull().sum().sum()"
   ]
  },
  {
   "cell_type": "code",
   "execution_count": 614,
   "metadata": {},
   "outputs": [
    {
     "data": {
      "text/plain": [
       "Index(['fumbles_rec_yds', 'fumbles_rec_td', 'fumbles_forced', 'punt_ret',\n",
       "       'punt_ret_yds', 'punt_ret_yds_per_ret', 'punt_ret_td', 'kick_ret',\n",
       "       'kick_ret_yds', 'kick_ret_yds_per_ret', 'kick_ret_td', 'avg_grade',\n",
       "       'conference_ACC', 'conference_American', 'conference_Big 12',\n",
       "       'conference_Big East', 'conference_Big Ten', 'conference_CUSA',\n",
       "       'conference_Ind', 'conference_MAC', 'conference_MVC', 'conference_MWC',\n",
       "       'conference_Pac-10', 'conference_Pac-12', 'conference_SEC',\n",
       "       'conference_Sun Belt', 'conference_WAC', 'nfl_team_49ers',\n",
       "       'nfl_team_Bears', 'nfl_team_Bengals', 'nfl_team_Bills',\n",
       "       'nfl_team_Broncos', 'nfl_team_Browns', 'nfl_team_Buccaneers',\n",
       "       'nfl_team_Cardinals', 'nfl_team_Chargers', 'nfl_team_Chiefs',\n",
       "       'nfl_team_Colts', 'nfl_team_Cowboys', 'nfl_team_Dolphins',\n",
       "       'nfl_team_Eagles', 'nfl_team_Falcons', 'nfl_team_Giants',\n",
       "       'nfl_team_Jaguars', 'nfl_team_Jets', 'nfl_team_Lions',\n",
       "       'nfl_team_Packers', 'nfl_team_Panthers', 'nfl_team_Patriots',\n",
       "       'nfl_team_Raiders', 'nfl_team_Rams', 'nfl_team_Ravens',\n",
       "       'nfl_team_Redskins', 'nfl_team_Saints', 'nfl_team_Seahawks',\n",
       "       'nfl_team_Steelers', 'nfl_team_Texans', 'nfl_team_Titans',\n",
       "       'nfl_team_Vikings', 'defense'],\n",
       "      dtype='object')"
      ]
     },
     "execution_count": 614,
     "metadata": {},
     "output_type": "execute_result"
    }
   ],
   "source": [
    "avg_qbs.columns[50:]"
   ]
  },
  {
   "cell_type": "code",
   "execution_count": 615,
   "metadata": {},
   "outputs": [],
   "source": [
    "X_train_avg_qbs = avg_qbs[avg_qbs['draft_year']<2015]\n",
    "y_train_avg_qbs = avg_qbs[avg_qbs['draft_year']<2015]['avg_grade']\n",
    "\n",
    "X_test_avg_qbs = avg_qbs[avg_qbs['draft_year']>=2015]\n",
    "y_test_avg_qbs = avg_qbs[avg_qbs['draft_year']>=2015]['avg_grade']"
   ]
  },
  {
   "cell_type": "code",
   "execution_count": 623,
   "metadata": {},
   "outputs": [],
   "source": [
    "features = [\n",
    "#     'draft_overall', 'draft_round', 'draft_year', \n",
    "            'wins', 'losses', \n",
    "            'rank', 'nfl_team_win_perc', 'broad_jump',\n",
    "           'cone', 'forty_yd', 'height', 'shuttle', 'vertical', 'weight', 'games',\n",
    "       'pass_cmp', 'pass_att', 'pass_cmp_pct', 'pass_yds', 'pass_yds_per_att',\n",
    "       'adj_pass_yds_per_att', 'pass_td', 'pass_int', 'pass_rating',\n",
    "       'rush_att', 'rush_yds', 'rush_yds_per_att', 'rush_td',\n",
    "           'conference_ACC', 'conference_American', 'conference_Big 12',\n",
    "       'conference_Big East', 'conference_Big Ten', 'conference_CUSA',\n",
    "       'conference_Ind', 'conference_MAC', 'conference_MVC', 'conference_MWC',\n",
    "       'conference_Pac-10', 'conference_Pac-12', 'conference_SEC',\n",
    "       'conference_Sun Belt', 'conference_WAC', 'nfl_team_49ers',\n",
    "       'nfl_team_Bears', 'nfl_team_Bengals', 'nfl_team_Bills',\n",
    "       'nfl_team_Broncos', 'nfl_team_Browns', 'nfl_team_Buccaneers',\n",
    "       'nfl_team_Cardinals', 'nfl_team_Chargers', 'nfl_team_Chiefs',\n",
    "       'nfl_team_Colts', 'nfl_team_Cowboys', 'nfl_team_Dolphins',\n",
    "       'nfl_team_Eagles', 'nfl_team_Falcons', 'nfl_team_Giants',\n",
    "       'nfl_team_Jaguars', 'nfl_team_Jets', 'nfl_team_Lions',\n",
    "       'nfl_team_Packers', 'nfl_team_Panthers', 'nfl_team_Patriots',\n",
    "       'nfl_team_Raiders', 'nfl_team_Rams', 'nfl_team_Ravens',\n",
    "       'nfl_team_Redskins', 'nfl_team_Saints', 'nfl_team_Seahawks',\n",
    "       'nfl_team_Steelers', 'nfl_team_Texans', 'nfl_team_Titans',\n",
    "       'nfl_team_Vikings']"
   ]
  },
  {
   "cell_type": "markdown",
   "metadata": {},
   "source": [
    "#### Linear Regression"
   ]
  },
  {
   "cell_type": "code",
   "execution_count": 624,
   "metadata": {},
   "outputs": [
    {
     "data": {
      "text/plain": [
       "-3.15197084660329"
      ]
     },
     "execution_count": 624,
     "metadata": {},
     "output_type": "execute_result"
    }
   ],
   "source": [
    "lr = LinearRegression()\n",
    "lr.fit(X_train_avg_qbs[features], y_train_avg_qbs)\n",
    "lr_avg_qbs_preds = lr.predict(X_test_avg_qbs[features])\n",
    "r2_score(y_test_avg_qbs, lr_avg_qbs_preds)"
   ]
  },
  {
   "cell_type": "code",
   "execution_count": 625,
   "metadata": {},
   "outputs": [
    {
     "data": {
      "text/plain": [
       "4896.953557864026"
      ]
     },
     "execution_count": 625,
     "metadata": {},
     "output_type": "execute_result"
    }
   ],
   "source": [
    "mean_squared_error(y_test_avg_qbs, lr_avg_qbs_preds)"
   ]
  },
  {
   "cell_type": "markdown",
   "metadata": {},
   "source": [
    "#### Random Forest"
   ]
  },
  {
   "cell_type": "code",
   "execution_count": 626,
   "metadata": {},
   "outputs": [
    {
     "data": {
      "text/plain": [
       "-0.1847084918181141"
      ]
     },
     "execution_count": 626,
     "metadata": {},
     "output_type": "execute_result"
    }
   ],
   "source": [
    "rf = RandomForestRegressor()\n",
    "rf.fit(X_train_avg_qbs[features], y_train_avg_qbs)\n",
    "rf_avg_qbs_preds = rf.predict(X_test_avg_qbs[features])\n",
    "r2_score(y_test_avg_qbs, rf_avg_qbs_preds)"
   ]
  },
  {
   "cell_type": "code",
   "execution_count": 627,
   "metadata": {},
   "outputs": [
    {
     "data": {
      "text/plain": [
       "1397.2791906249995"
      ]
     },
     "execution_count": 627,
     "metadata": {},
     "output_type": "execute_result"
    }
   ],
   "source": [
    "mean_squared_error(y_test_avg_qbs, rf_avg_qbs_preds)"
   ]
  },
  {
   "cell_type": "markdown",
   "metadata": {},
   "source": [
    "#### Neural Net"
   ]
  },
  {
   "cell_type": "code",
   "execution_count": 664,
   "metadata": {},
   "outputs": [],
   "source": [
    "np.random.seed(42)\n",
    "qb_model = Sequential()\n",
    "qb_model.add(Dense(X_train_avg_qbs[features].shape[1], input_shape=(X_train_avg_qbs[features].shape[1],), activation='relu'))\n",
    "qb_model.add(Dropout(0.5))\n",
    "qb_model.add(Dense(12, activation='relu'))\n",
    "qb_model.add(Dense(8, activation='relu'))\n",
    "qb_model.add(Dense(1))\n",
    "\n",
    "adam = Adam(lr=0.01)\n",
    "qb_model.compile(loss='mean_squared_error', optimizer=adam)"
   ]
  },
  {
   "cell_type": "code",
   "execution_count": 665,
   "metadata": {},
   "outputs": [
    {
     "name": "stdout",
     "output_type": "stream",
     "text": [
      "Train on 84 samples, validate on 30 samples\n",
      "Epoch 1/60\n",
      "84/84 [==============================] - 2s 30ms/step - loss: 49463.3770 - val_loss: 3136.4324\n",
      "Epoch 2/60\n",
      "84/84 [==============================] - 0s 131us/step - loss: 4733.8004 - val_loss: 1120.9967\n",
      "Epoch 3/60\n",
      "84/84 [==============================] - 0s 131us/step - loss: 2471.6035 - val_loss: 1353.2888\n",
      "Epoch 4/60\n",
      "84/84 [==============================] - 0s 119us/step - loss: 2497.4221 - val_loss: 1138.7325\n",
      "Epoch 5/60\n",
      "84/84 [==============================] - 0s 131us/step - loss: 1800.3974 - val_loss: 1472.5432\n",
      "Epoch 6/60\n",
      "84/84 [==============================] - 0s 119us/step - loss: 1326.9816 - val_loss: 1634.0587\n",
      "Epoch 7/60\n",
      "84/84 [==============================] - 0s 130us/step - loss: 1346.7818 - val_loss: 1322.6510\n",
      "Epoch 8/60\n",
      "84/84 [==============================] - 0s 143us/step - loss: 1251.8147 - val_loss: 1053.0698\n",
      "Epoch 9/60\n",
      "84/84 [==============================] - 0s 95us/step - loss: 1117.4235 - val_loss: 995.9941\n",
      "Epoch 10/60\n",
      "84/84 [==============================] - 0s 130us/step - loss: 1448.7845 - val_loss: 1064.9991\n",
      "Epoch 11/60\n",
      "84/84 [==============================] - 0s 119us/step - loss: 1154.8925 - val_loss: 1147.6111\n",
      "Epoch 12/60\n",
      "84/84 [==============================] - 0s 107us/step - loss: 1264.9518 - val_loss: 1204.1733\n",
      "Epoch 13/60\n",
      "84/84 [==============================] - 0s 143us/step - loss: 1308.6398 - val_loss: 1134.2723\n",
      "Epoch 14/60\n",
      "84/84 [==============================] - 0s 142us/step - loss: 1142.8004 - val_loss: 1051.7638\n",
      "Epoch 15/60\n",
      "84/84 [==============================] - 0s 119us/step - loss: 1284.7389 - val_loss: 1083.0977\n",
      "Epoch 16/60\n",
      "84/84 [==============================] - 0s 131us/step - loss: 1235.0087 - val_loss: 1070.7015\n",
      "Epoch 17/60\n",
      "84/84 [==============================] - 0s 130us/step - loss: 1180.3780 - val_loss: 1078.2711\n",
      "Epoch 18/60\n",
      "84/84 [==============================] - 0s 131us/step - loss: 1205.6436 - val_loss: 1018.0140\n",
      "Epoch 19/60\n",
      "84/84 [==============================] - 0s 107us/step - loss: 1096.2312 - val_loss: 1002.5345\n",
      "Epoch 20/60\n",
      "84/84 [==============================] - 0s 119us/step - loss: 1080.5167 - val_loss: 1036.9912\n",
      "Epoch 21/60\n",
      "84/84 [==============================] - 0s 155us/step - loss: 1179.8475 - val_loss: 1108.3236\n",
      "Epoch 22/60\n",
      "84/84 [==============================] - 0s 130us/step - loss: 1114.6482 - val_loss: 1185.7147\n",
      "Epoch 23/60\n",
      "84/84 [==============================] - 0s 131us/step - loss: 1240.0006 - val_loss: 1183.8959\n",
      "Epoch 24/60\n",
      "84/84 [==============================] - 0s 107us/step - loss: 1094.0991 - val_loss: 1037.3645\n",
      "Epoch 25/60\n",
      "84/84 [==============================] - 0s 107us/step - loss: 1163.1960 - val_loss: 973.4168\n",
      "Epoch 26/60\n",
      "84/84 [==============================] - 0s 131us/step - loss: 1230.6058 - val_loss: 1005.7167\n",
      "Epoch 27/60\n",
      "84/84 [==============================] - 0s 107us/step - loss: 1160.3278 - val_loss: 1221.9490\n",
      "Epoch 28/60\n",
      "84/84 [==============================] - 0s 131us/step - loss: 1241.7239 - val_loss: 1254.2351\n",
      "Epoch 29/60\n",
      "84/84 [==============================] - 0s 119us/step - loss: 1167.5233 - val_loss: 1029.2004\n",
      "Epoch 30/60\n",
      "84/84 [==============================] - 0s 107us/step - loss: 1130.2321 - val_loss: 992.9211\n",
      "Epoch 31/60\n",
      "84/84 [==============================] - 0s 119us/step - loss: 1207.2408 - val_loss: 1115.0396\n",
      "Epoch 32/60\n",
      "84/84 [==============================] - 0s 119us/step - loss: 1114.8354 - val_loss: 1086.0515\n",
      "Epoch 33/60\n",
      "84/84 [==============================] - 0s 107us/step - loss: 1075.5967 - val_loss: 1018.7279\n",
      "Epoch 34/60\n",
      "84/84 [==============================] - 0s 130us/step - loss: 1108.6694 - val_loss: 1070.3802\n",
      "Epoch 35/60\n",
      "84/84 [==============================] - 0s 107us/step - loss: 1120.7857 - val_loss: 1054.7173\n",
      "Epoch 36/60\n",
      "84/84 [==============================] - 0s 119us/step - loss: 1193.3555 - val_loss: 1062.4584\n",
      "Epoch 37/60\n",
      "84/84 [==============================] - 0s 155us/step - loss: 1092.6213 - val_loss: 1104.1373\n",
      "Epoch 38/60\n",
      "84/84 [==============================] - 0s 142us/step - loss: 1136.0921 - val_loss: 1052.6694\n",
      "Epoch 39/60\n",
      "84/84 [==============================] - 0s 143us/step - loss: 1183.7709 - val_loss: 1071.6050\n",
      "Epoch 40/60\n",
      "84/84 [==============================] - 0s 119us/step - loss: 1018.0204 - val_loss: 1009.5596\n",
      "Epoch 41/60\n",
      "84/84 [==============================] - 0s 118us/step - loss: 1095.9536 - val_loss: 1025.8134\n",
      "Epoch 42/60\n",
      "84/84 [==============================] - 0s 119us/step - loss: 999.3401 - val_loss: 996.8823\n",
      "Epoch 43/60\n",
      "84/84 [==============================] - 0s 119us/step - loss: 1103.8324 - val_loss: 991.9305\n",
      "Epoch 44/60\n",
      "84/84 [==============================] - 0s 118us/step - loss: 1103.7881 - val_loss: 1046.5704\n",
      "Epoch 45/60\n",
      "84/84 [==============================] - 0s 131us/step - loss: 1075.5514 - val_loss: 1097.4684\n",
      "Epoch 46/60\n",
      "84/84 [==============================] - 0s 119us/step - loss: 1134.9714 - val_loss: 1072.5272\n",
      "Epoch 47/60\n",
      "84/84 [==============================] - 0s 119us/step - loss: 1138.0767 - val_loss: 1023.8150\n",
      "Epoch 48/60\n",
      "84/84 [==============================] - 0s 154us/step - loss: 1221.6439 - val_loss: 1022.0349\n",
      "Epoch 49/60\n",
      "84/84 [==============================] - 0s 118us/step - loss: 1160.6585 - val_loss: 1046.8044\n",
      "Epoch 50/60\n",
      "84/84 [==============================] - 0s 107us/step - loss: 1180.4368 - val_loss: 1040.0039\n",
      "Epoch 51/60\n",
      "84/84 [==============================] - 0s 119us/step - loss: 1193.6512 - val_loss: 1021.6700\n",
      "Epoch 52/60\n",
      "84/84 [==============================] - 0s 130us/step - loss: 1190.7309 - val_loss: 1002.5570\n",
      "Epoch 53/60\n",
      "84/84 [==============================] - 0s 107us/step - loss: 1162.2055 - val_loss: 1053.7692\n",
      "Epoch 54/60\n",
      "84/84 [==============================] - 0s 119us/step - loss: 1169.7769 - val_loss: 1074.0358\n",
      "Epoch 55/60\n",
      "84/84 [==============================] - 0s 106us/step - loss: 1077.2079 - val_loss: 997.9821\n",
      "Epoch 56/60\n",
      "84/84 [==============================] - 0s 119us/step - loss: 1087.7436 - val_loss: 988.9307\n",
      "Epoch 57/60\n",
      "84/84 [==============================] - 0s 131us/step - loss: 1227.7550 - val_loss: 1051.2169\n",
      "Epoch 58/60\n",
      "84/84 [==============================] - 0s 130us/step - loss: 1005.5983 - val_loss: 1057.3372\n",
      "Epoch 59/60\n",
      "84/84 [==============================] - 0s 119us/step - loss: 1161.7155 - val_loss: 1019.8156\n",
      "Epoch 60/60\n",
      "84/84 [==============================] - 0s 131us/step - loss: 1244.1462 - val_loss: 1052.1144\n"
     ]
    },
    {
     "data": {
      "text/plain": [
       "<keras.callbacks.History at 0x1ef33f9d470>"
      ]
     },
     "execution_count": 665,
     "metadata": {},
     "output_type": "execute_result"
    }
   ],
   "source": [
    "qb_model.fit(X_train_avg_qbs[features], y_train_avg_qbs, validation_data=(X_test_avg_qbs[features], y_test_avg_qbs), epochs=60, batch_size=32)"
   ]
  },
  {
   "cell_type": "markdown",
   "metadata": {},
   "source": [
    "## Final Year Stats"
   ]
  },
  {
   "cell_type": "code",
   "execution_count": 666,
   "metadata": {
    "scrolled": true
   },
   "outputs": [
    {
     "data": {
      "text/plain": [
       "draft_overall            0\n",
       "draft_round              0\n",
       "draft_year               0\n",
       "player                   0\n",
       "position                 0\n",
       "school                   0\n",
       "wins                     4\n",
       "losses                   4\n",
       "rank                     4\n",
       "nfl_team_win_perc        0\n",
       "bench_reps              28\n",
       "broad_jump              14\n",
       "cone                    16\n",
       "forty_yd                15\n",
       "height                  11\n",
       "shuttle                 16\n",
       "vertical                13\n",
       "weight                  11\n",
       "games                    4\n",
       "pass_cmp                 3\n",
       "pass_att                 3\n",
       "pass_cmp_pct             3\n",
       "pass_yds                 3\n",
       "pass_yds_per_att         3\n",
       "adj_pass_yds_per_att     3\n",
       "pass_td                  3\n",
       "pass_int                 3\n",
       "pass_rating              3\n",
       "rush_att                 3\n",
       "rush_yds                 3\n",
       "                        ..\n",
       "nfl_team_Bills           0\n",
       "nfl_team_Broncos         0\n",
       "nfl_team_Browns          0\n",
       "nfl_team_Buccaneers      0\n",
       "nfl_team_Cardinals       0\n",
       "nfl_team_Chargers        0\n",
       "nfl_team_Chiefs          0\n",
       "nfl_team_Colts           0\n",
       "nfl_team_Cowboys         0\n",
       "nfl_team_Dolphins        0\n",
       "nfl_team_Eagles          0\n",
       "nfl_team_Falcons         0\n",
       "nfl_team_Giants          0\n",
       "nfl_team_Jaguars         0\n",
       "nfl_team_Jets            0\n",
       "nfl_team_Lions           0\n",
       "nfl_team_Packers         0\n",
       "nfl_team_Panthers        0\n",
       "nfl_team_Patriots        0\n",
       "nfl_team_Raiders         0\n",
       "nfl_team_Rams            0\n",
       "nfl_team_Ravens          0\n",
       "nfl_team_Redskins        0\n",
       "nfl_team_Saints          0\n",
       "nfl_team_Seahawks        0\n",
       "nfl_team_Steelers        0\n",
       "nfl_team_Texans          0\n",
       "nfl_team_Titans          0\n",
       "nfl_team_Vikings         0\n",
       "defense                  0\n",
       "Length: 111, dtype: int64"
      ]
     },
     "execution_count": 666,
     "metadata": {},
     "output_type": "execute_result"
    }
   ],
   "source": [
    "final_year_qbs.isnull().sum()"
   ]
  },
  {
   "cell_type": "code",
   "execution_count": 667,
   "metadata": {
    "scrolled": false
   },
   "outputs": [
    {
     "name": "stderr",
     "output_type": "stream",
     "text": [
      "C:\\Users\\aidan\\Anaconda3\\envs\\DSI-6\\lib\\site-packages\\ipykernel_launcher.py:1: SettingWithCopyWarning: \n",
      "A value is trying to be set on a copy of a slice from a DataFrame\n",
      "\n",
      "See the caveats in the documentation: http://pandas.pydata.org/pandas-docs/stable/indexing.html#indexing-view-versus-copy\n",
      "  \"\"\"Entry point for launching an IPython kernel.\n",
      "C:\\Users\\aidan\\Anaconda3\\envs\\DSI-6\\lib\\site-packages\\ipykernel_launcher.py:2: SettingWithCopyWarning: \n",
      "A value is trying to be set on a copy of a slice from a DataFrame\n",
      "\n",
      "See the caveats in the documentation: http://pandas.pydata.org/pandas-docs/stable/indexing.html#indexing-view-versus-copy\n",
      "  \n",
      "C:\\Users\\aidan\\Anaconda3\\envs\\DSI-6\\lib\\site-packages\\pandas\\core\\frame.py:3697: SettingWithCopyWarning: \n",
      "A value is trying to be set on a copy of a slice from a DataFrame\n",
      "\n",
      "See the caveats in the documentation: http://pandas.pydata.org/pandas-docs/stable/indexing.html#indexing-view-versus-copy\n",
      "  errors=errors)\n",
      "C:\\Users\\aidan\\Anaconda3\\envs\\DSI-6\\lib\\site-packages\\ipykernel_launcher.py:4: SettingWithCopyWarning: \n",
      "A value is trying to be set on a copy of a slice from a DataFrame\n",
      "\n",
      "See the caveats in the documentation: http://pandas.pydata.org/pandas-docs/stable/indexing.html#indexing-view-versus-copy\n",
      "  after removing the cwd from sys.path.\n",
      "C:\\Users\\aidan\\Anaconda3\\envs\\DSI-6\\lib\\site-packages\\ipykernel_launcher.py:5: SettingWithCopyWarning: \n",
      "A value is trying to be set on a copy of a slice from a DataFrame\n",
      "\n",
      "See the caveats in the documentation: http://pandas.pydata.org/pandas-docs/stable/indexing.html#indexing-view-versus-copy\n",
      "  \"\"\"\n"
     ]
    },
    {
     "data": {
      "text/plain": [
       "0"
      ]
     },
     "execution_count": 667,
     "metadata": {},
     "output_type": "execute_result"
    }
   ],
   "source": [
    "final_year_qbs.dropna(subset=['games'], inplace=True)\n",
    "final_year_qbs.dropna(subset=['wins'], inplace=True)\n",
    "final_year_qbs.drop(columns='bench_reps', inplace=True)\n",
    "final_year_qbs.dropna(subset= ['broad_jump', 'cone', 'forty_yd', 'height', 'shuttle', 'vertical', 'weight'], how='all', inplace=True)\n",
    "final_year_qbs.dropna(inplace=True)\n",
    "final_year_qbs.isnull().sum().sum()"
   ]
  },
  {
   "cell_type": "code",
   "execution_count": 668,
   "metadata": {},
   "outputs": [],
   "source": [
    "X_train_final_year_qbs = final_year_qbs[final_year_qbs['draft_year']<2015]\n",
    "y_train_final_year_qbs = final_year_qbs[final_year_qbs['draft_year']<2015]['avg_grade']\n",
    "\n",
    "X_test_final_year_qbs = final_year_qbs[final_year_qbs['draft_year']>=2015]\n",
    "y_test_final_year_qbs = final_year_qbs[final_year_qbs['draft_year']>=2015]['avg_grade']"
   ]
  },
  {
   "cell_type": "markdown",
   "metadata": {},
   "source": [
    "#### Linear Regression"
   ]
  },
  {
   "cell_type": "code",
   "execution_count": 669,
   "metadata": {},
   "outputs": [
    {
     "data": {
      "text/plain": [
       "-0.6537896554744433"
      ]
     },
     "execution_count": 669,
     "metadata": {},
     "output_type": "execute_result"
    }
   ],
   "source": [
    "lr = LinearRegression()\n",
    "lr.fit(X_train_final_year_qbs[features], y_train_final_year_qbs)\n",
    "lr_final_year_qbs_preds = lr.predict(X_test_final_year_qbs[features])\n",
    "r2_score(y_test_final_year_qbs, lr_final_year_qbs_preds)"
   ]
  },
  {
   "cell_type": "code",
   "execution_count": 670,
   "metadata": {},
   "outputs": [
    {
     "data": {
      "text/plain": [
       "1821.135413967135"
      ]
     },
     "execution_count": 670,
     "metadata": {},
     "output_type": "execute_result"
    }
   ],
   "source": [
    "mean_squared_error(y_test_final_year_qbs, lr_final_year_qbs_preds)"
   ]
  },
  {
   "cell_type": "markdown",
   "metadata": {},
   "source": [
    "#### Random Forest"
   ]
  },
  {
   "cell_type": "code",
   "execution_count": 679,
   "metadata": {},
   "outputs": [
    {
     "data": {
      "text/plain": [
       "0.018063295850573757"
      ]
     },
     "execution_count": 679,
     "metadata": {},
     "output_type": "execute_result"
    }
   ],
   "source": [
    "rf_reg = RandomForestRegressor()\n",
    "rf_reg.fit(X_train_final_year_qbs[features], y_train_final_year_qbs)\n",
    "rf_final_year_qbs_preds = rf_reg.predict(X_test_final_year_qbs[features])\n",
    "\n",
    "r2_score(y_test_final_year_qbs, rf_final_year_qbs_preds)"
   ]
  },
  {
   "cell_type": "code",
   "execution_count": 681,
   "metadata": {},
   "outputs": [
    {
     "data": {
      "text/plain": [
       "1081.298156800766"
      ]
     },
     "execution_count": 681,
     "metadata": {},
     "output_type": "execute_result"
    }
   ],
   "source": [
    "mean_squared_error(y_test_final_year_qbs, rf_final_year_qbs_preds)"
   ]
  },
  {
   "cell_type": "markdown",
   "metadata": {},
   "source": [
    "#### Neural Net"
   ]
  },
  {
   "cell_type": "code",
   "execution_count": 688,
   "metadata": {},
   "outputs": [],
   "source": [
    "np.random.seed(42)\n",
    "qb_model = Sequential()\n",
    "qb_model.add(Dense(X_train_final_year_qbs[features].shape[1], input_shape=(X_train_final_year_qbs[features].shape[1],), activation='relu'))\n",
    "qb_model.add(Dropout(0.5))\n",
    "qb_model.add(Dense(12, activation='relu'))\n",
    "qb_model.add(Dense(6, activation='relu'))\n",
    "qb_model.add(Dense(1))\n",
    "\n",
    "adam = Adam(lr=0.01)\n",
    "qb_model.compile(loss='mean_squared_error', optimizer=adam)"
   ]
  },
  {
   "cell_type": "code",
   "execution_count": 689,
   "metadata": {},
   "outputs": [
    {
     "name": "stdout",
     "output_type": "stream",
     "text": [
      "Train on 84 samples, validate on 29 samples\n",
      "Epoch 1/100\n",
      "84/84 [==============================] - 3s 31ms/step - loss: 41038.8946 - val_loss: 1951.4757\n",
      "Epoch 2/100\n",
      "84/84 [==============================] - 0s 131us/step - loss: 2594.1667 - val_loss: 1180.8160\n",
      "Epoch 3/100\n",
      "84/84 [==============================] - 0s 142us/step - loss: 2302.7878 - val_loss: 3462.5652\n",
      "Epoch 4/100\n",
      "84/84 [==============================] - 0s 118us/step - loss: 2699.9092 - val_loss: 2655.6018\n",
      "Epoch 5/100\n",
      "84/84 [==============================] - 0s 131us/step - loss: 2317.6335 - val_loss: 2216.9170\n",
      "Epoch 6/100\n",
      "84/84 [==============================] - 0s 143us/step - loss: 1934.3087 - val_loss: 2215.9697\n",
      "Epoch 7/100\n",
      "84/84 [==============================] - 0s 119us/step - loss: 1901.5477 - val_loss: 1981.2794\n",
      "Epoch 8/100\n",
      "84/84 [==============================] - 0s 131us/step - loss: 2531.4881 - val_loss: 2022.6970\n",
      "Epoch 9/100\n",
      "84/84 [==============================] - 0s 143us/step - loss: 1667.0651 - val_loss: 2213.6599\n",
      "Epoch 10/100\n",
      "84/84 [==============================] - 0s 118us/step - loss: 2208.9133 - val_loss: 2212.9734\n",
      "Epoch 11/100\n",
      "84/84 [==============================] - 0s 167us/step - loss: 1935.7692 - val_loss: 2212.0981\n",
      "Epoch 12/100\n",
      "84/84 [==============================] - 0s 142us/step - loss: 1877.3530 - val_loss: 2211.1072\n",
      "Epoch 13/100\n",
      "84/84 [==============================] - 0s 143us/step - loss: 1956.0964 - val_loss: 2210.0266\n",
      "Epoch 14/100\n",
      "84/84 [==============================] - 0s 118us/step - loss: 1884.7180 - val_loss: 2208.8696\n",
      "Epoch 15/100\n",
      "84/84 [==============================] - 0s 131us/step - loss: 1873.4652 - val_loss: 2208.1047\n",
      "Epoch 16/100\n",
      "84/84 [==============================] - 0s 154us/step - loss: 1755.5162 - val_loss: 1978.7505\n",
      "Epoch 17/100\n",
      "84/84 [==============================] - 0s 131us/step - loss: 1581.0553 - val_loss: 1335.8102\n",
      "Epoch 18/100\n",
      "84/84 [==============================] - 0s 131us/step - loss: 1622.9085 - val_loss: 1120.9686\n",
      "Epoch 19/100\n",
      "84/84 [==============================] - 0s 166us/step - loss: 1558.8471 - val_loss: 1136.9449\n",
      "Epoch 20/100\n",
      "84/84 [==============================] - 0s 143us/step - loss: 1227.3183 - val_loss: 1172.4103\n",
      "Epoch 21/100\n",
      "84/84 [==============================] - 0s 131us/step - loss: 1201.1241 - val_loss: 1016.1243\n",
      "Epoch 22/100\n",
      "84/84 [==============================] - 0s 142us/step - loss: 1351.0717 - val_loss: 976.1183\n",
      "Epoch 23/100\n",
      "84/84 [==============================] - 0s 131us/step - loss: 1099.2370 - val_loss: 995.1752\n",
      "Epoch 24/100\n",
      "84/84 [==============================] - 0s 130us/step - loss: 1089.5244 - val_loss: 1001.6760\n",
      "Epoch 25/100\n",
      "84/84 [==============================] - 0s 166us/step - loss: 1031.2990 - val_loss: 998.2767\n",
      "Epoch 26/100\n",
      "84/84 [==============================] - 0s 142us/step - loss: 1088.0740 - val_loss: 1033.2830\n",
      "Epoch 27/100\n",
      "84/84 [==============================] - 0s 131us/step - loss: 1041.4609 - val_loss: 1022.8549\n",
      "Epoch 28/100\n",
      "84/84 [==============================] - 0s 130us/step - loss: 989.4022 - val_loss: 997.9302\n",
      "Epoch 29/100\n",
      "84/84 [==============================] - 0s 154us/step - loss: 1066.6227 - val_loss: 997.2647\n",
      "Epoch 30/100\n",
      "84/84 [==============================] - 0s 154us/step - loss: 1173.5062 - val_loss: 1026.7837\n",
      "Epoch 31/100\n",
      "84/84 [==============================] - 0s 143us/step - loss: 1025.7606 - val_loss: 1024.7860\n",
      "Epoch 32/100\n",
      "84/84 [==============================] - 0s 143us/step - loss: 1069.3030 - val_loss: 996.2031\n",
      "Epoch 33/100\n",
      "84/84 [==============================] - 0s 119us/step - loss: 1048.9006 - val_loss: 1013.6570\n",
      "Epoch 34/100\n",
      "84/84 [==============================] - 0s 130us/step - loss: 1080.6581 - val_loss: 1023.1948\n",
      "Epoch 35/100\n",
      "84/84 [==============================] - 0s 119us/step - loss: 1179.1182 - val_loss: 1120.8500\n",
      "Epoch 36/100\n",
      "84/84 [==============================] - 0s 119us/step - loss: 1082.4563 - val_loss: 1047.3993\n",
      "Epoch 37/100\n",
      "84/84 [==============================] - 0s 119us/step - loss: 974.3898 - val_loss: 992.6708\n",
      "Epoch 38/100\n",
      "84/84 [==============================] - 0s 118us/step - loss: 1156.7335 - val_loss: 992.7839\n",
      "Epoch 39/100\n",
      "84/84 [==============================] - 0s 107us/step - loss: 1085.7013 - val_loss: 1039.8684\n",
      "Epoch 40/100\n",
      "84/84 [==============================] - 0s 119us/step - loss: 1064.4655 - val_loss: 1066.7289\n",
      "Epoch 41/100\n",
      "84/84 [==============================] - 0s 131us/step - loss: 1078.8160 - val_loss: 1050.8999\n",
      "Epoch 42/100\n",
      "84/84 [==============================] - 0s 118us/step - loss: 1038.2545 - val_loss: 1005.6790\n",
      "Epoch 43/100\n",
      "84/84 [==============================] - 0s 131us/step - loss: 1015.2616 - val_loss: 996.7555\n",
      "Epoch 44/100\n",
      "84/84 [==============================] - 0s 131us/step - loss: 1000.0172 - val_loss: 1004.5482\n",
      "Epoch 45/100\n",
      "84/84 [==============================] - 0s 131us/step - loss: 1091.4637 - val_loss: 1059.7169\n",
      "Epoch 46/100\n",
      "84/84 [==============================] - 0s 118us/step - loss: 1058.2598 - val_loss: 1045.9325\n",
      "Epoch 47/100\n",
      "84/84 [==============================] - 0s 119us/step - loss: 1071.0167 - val_loss: 1022.6635\n",
      "Epoch 48/100\n",
      "84/84 [==============================] - 0s 131us/step - loss: 1144.9577 - val_loss: 1017.2397\n",
      "Epoch 49/100\n",
      "84/84 [==============================] - 0s 131us/step - loss: 1138.4152 - val_loss: 1029.9567\n",
      "Epoch 50/100\n",
      "84/84 [==============================] - 0s 118us/step - loss: 1075.1365 - val_loss: 1062.6467\n",
      "Epoch 51/100\n",
      "84/84 [==============================] - 0s 131us/step - loss: 1137.8245 - val_loss: 1043.6820\n",
      "Epoch 52/100\n",
      "84/84 [==============================] - 0s 131us/step - loss: 1048.2557 - val_loss: 994.5623\n",
      "Epoch 53/100\n",
      "84/84 [==============================] - 0s 130us/step - loss: 1063.9194 - val_loss: 992.7902\n",
      "Epoch 54/100\n",
      "84/84 [==============================] - 0s 131us/step - loss: 1114.3025 - val_loss: 1006.5927\n",
      "Epoch 55/100\n",
      "84/84 [==============================] - 0s 107us/step - loss: 1029.8521 - val_loss: 1028.7300\n",
      "Epoch 56/100\n",
      "84/84 [==============================] - 0s 142us/step - loss: 967.2115 - val_loss: 1015.5048\n",
      "Epoch 57/100\n",
      "84/84 [==============================] - 0s 131us/step - loss: 1015.3404 - val_loss: 996.9201\n",
      "Epoch 58/100\n",
      "84/84 [==============================] - 0s 119us/step - loss: 1032.5603 - val_loss: 993.9998\n",
      "Epoch 59/100\n",
      "84/84 [==============================] - 0s 131us/step - loss: 1109.9268 - val_loss: 997.2469\n",
      "Epoch 60/100\n",
      "84/84 [==============================] - 0s 119us/step - loss: 1025.4218 - val_loss: 1023.8452\n",
      "Epoch 61/100\n",
      "84/84 [==============================] - 0s 143us/step - loss: 1049.6949 - val_loss: 1041.0588\n",
      "Epoch 62/100\n",
      "84/84 [==============================] - 0s 130us/step - loss: 1037.7627 - val_loss: 1032.9305\n",
      "Epoch 63/100\n",
      "84/84 [==============================] - 0s 131us/step - loss: 983.6176 - val_loss: 998.2599\n",
      "Epoch 64/100\n",
      "84/84 [==============================] - 0s 119us/step - loss: 955.2937 - val_loss: 988.1586\n",
      "Epoch 65/100\n",
      "84/84 [==============================] - 0s 119us/step - loss: 1032.4418 - val_loss: 996.1682\n",
      "Epoch 66/100\n",
      "84/84 [==============================] - 0s 118us/step - loss: 1063.0338 - val_loss: 1016.2123\n",
      "Epoch 67/100\n",
      "84/84 [==============================] - 0s 131us/step - loss: 961.8536 - val_loss: 1027.1666\n",
      "Epoch 68/100\n",
      "84/84 [==============================] - 0s 107us/step - loss: 946.6076 - val_loss: 1031.3317\n",
      "Epoch 69/100\n",
      "84/84 [==============================] - 0s 119us/step - loss: 1107.0190 - val_loss: 1035.7321\n",
      "Epoch 70/100\n",
      "84/84 [==============================] - 0s 118us/step - loss: 1037.6035 - val_loss: 1024.0513\n",
      "Epoch 71/100\n",
      "84/84 [==============================] - 0s 131us/step - loss: 1061.3426 - val_loss: 994.2941\n",
      "Epoch 72/100\n",
      "84/84 [==============================] - 0s 118us/step - loss: 954.5463 - val_loss: 999.2861\n",
      "Epoch 73/100\n",
      "84/84 [==============================] - 0s 131us/step - loss: 1049.1111 - val_loss: 1008.5311\n",
      "Epoch 74/100\n",
      "84/84 [==============================] - 0s 131us/step - loss: 980.5138 - val_loss: 1024.7426\n",
      "Epoch 75/100\n",
      "84/84 [==============================] - 0s 119us/step - loss: 863.7590 - val_loss: 992.4412\n",
      "Epoch 76/100\n",
      "84/84 [==============================] - 0s 130us/step - loss: 1070.2623 - val_loss: 983.2996\n"
     ]
    },
    {
     "name": "stdout",
     "output_type": "stream",
     "text": [
      "Epoch 77/100\n",
      "84/84 [==============================] - 0s 130us/step - loss: 1038.4174 - val_loss: 991.3259\n",
      "Epoch 78/100\n",
      "84/84 [==============================] - 0s 119us/step - loss: 1013.4093 - val_loss: 1007.8854\n",
      "Epoch 79/100\n",
      "84/84 [==============================] - 0s 142us/step - loss: 1042.2616 - val_loss: 1033.7516\n",
      "Epoch 80/100\n",
      "84/84 [==============================] - 0s 142us/step - loss: 1010.4170 - val_loss: 1014.8856\n",
      "Epoch 81/100\n",
      "84/84 [==============================] - 0s 131us/step - loss: 1012.1784 - val_loss: 994.5240\n",
      "Epoch 82/100\n",
      "84/84 [==============================] - 0s 143us/step - loss: 1033.0648 - val_loss: 1003.5200\n",
      "Epoch 83/100\n",
      "84/84 [==============================] - 0s 131us/step - loss: 1038.9033 - val_loss: 996.7943\n",
      "Epoch 84/100\n",
      "84/84 [==============================] - 0s 142us/step - loss: 963.6143 - val_loss: 987.0342\n",
      "Epoch 85/100\n",
      "84/84 [==============================] - 0s 119us/step - loss: 965.5621 - val_loss: 988.0347\n",
      "Epoch 86/100\n",
      "84/84 [==============================] - 0s 130us/step - loss: 1015.6759 - val_loss: 1004.2092\n",
      "Epoch 87/100\n",
      "84/84 [==============================] - 0s 119us/step - loss: 958.3295 - val_loss: 1067.2656\n",
      "Epoch 88/100\n",
      "84/84 [==============================] - 0s 114us/step - loss: 975.9594 - val_loss: 1053.7102\n",
      "Epoch 89/100\n",
      "84/84 [==============================] - 0s 142us/step - loss: 1060.7933 - val_loss: 1003.0669\n",
      "Epoch 90/100\n",
      "84/84 [==============================] - 0s 131us/step - loss: 984.4455 - val_loss: 996.0688\n",
      "Epoch 91/100\n",
      "84/84 [==============================] - 0s 120us/step - loss: 989.5986 - val_loss: 1008.9982\n",
      "Epoch 92/100\n",
      "84/84 [==============================] - 0s 142us/step - loss: 871.5635 - val_loss: 1008.2068\n",
      "Epoch 93/100\n",
      "84/84 [==============================] - 0s 131us/step - loss: 959.7387 - val_loss: 1004.8900\n",
      "Epoch 94/100\n",
      "84/84 [==============================] - 0s 119us/step - loss: 1009.3860 - val_loss: 1017.7110\n",
      "Epoch 95/100\n",
      "84/84 [==============================] - 0s 142us/step - loss: 961.5522 - val_loss: 1021.1992\n",
      "Epoch 96/100\n",
      "84/84 [==============================] - 0s 131us/step - loss: 966.0561 - val_loss: 998.3285\n",
      "Epoch 97/100\n",
      "84/84 [==============================] - 0s 120us/step - loss: 996.6042 - val_loss: 1003.1057\n",
      "Epoch 98/100\n",
      "84/84 [==============================] - 0s 132us/step - loss: 1083.1535 - val_loss: 1017.8737\n",
      "Epoch 99/100\n",
      "84/84 [==============================] - 0s 131us/step - loss: 1002.1818 - val_loss: 1019.5709\n",
      "Epoch 100/100\n",
      "84/84 [==============================] - 0s 122us/step - loss: 998.2655 - val_loss: 1004.0246\n"
     ]
    },
    {
     "data": {
      "text/plain": [
       "<keras.callbacks.History at 0x1ef37289c88>"
      ]
     },
     "execution_count": 689,
     "metadata": {},
     "output_type": "execute_result"
    }
   ],
   "source": [
    "qb_model.fit(X_train_final_year_qbs[features], y_train_final_year_qbs, validation_data=(X_test_final_year_qbs[features], y_test_final_year_qbs), epochs=100, batch_size=32)"
   ]
  },
  {
   "cell_type": "code",
   "execution_count": 698,
   "metadata": {},
   "outputs": [
    {
     "data": {
      "text/plain": [
       "array([[34.112915]], dtype=float32)"
      ]
     },
     "execution_count": 698,
     "metadata": {},
     "output_type": "execute_result"
    }
   ],
   "source": [
    "qb_model.predict(final_year_qbs[final_year_qbs['player']=='Dak Prescott'][features])"
   ]
  },
  {
   "cell_type": "code",
   "execution_count": 699,
   "metadata": {},
   "outputs": [
    {
     "data": {
      "text/plain": [
       "1873    75.725\n",
       "Name: avg_grade, dtype: float64"
      ]
     },
     "execution_count": 699,
     "metadata": {},
     "output_type": "execute_result"
    }
   ],
   "source": [
    "final_year_qbs[final_year_qbs['player']=='Dak Prescott']['avg_grade']"
   ]
  },
  {
   "cell_type": "code",
   "execution_count": 694,
   "metadata": {},
   "outputs": [
    {
     "data": {
      "text/plain": [
       "2                Vince Young\n",
       "8               Matt Leinart\n",
       "9                 Jay Cutler\n",
       "38            Kellen Clemens\n",
       "48          Tarvaris Jackson\n",
       "60        Charlie Whitehurst\n",
       "64             Brodie Croyle\n",
       "77                Brad Smith\n",
       "140            Reggie McNeal\n",
       "141         Bruce Gradkowski\n",
       "176         JaMarcus Russell\n",
       "195              Brady Quinn\n",
       "206               Kevin Kolb\n",
       "209                John Beck\n",
       "211             Drew Stanton\n",
       "249            Trent Edwards\n",
       "257          Isaiah Stanback\n",
       "306               Troy Smith\n",
       "322            Jordan Palmer\n",
       "359                Matt Ryan\n",
       "369               Joe Flacco\n",
       "402              Brian Brohm\n",
       "403               Chad Henne\n",
       "433          Kevin O'Connell\n",
       "477             Dennis Dixon\n",
       "481               Erik Ainge\n",
       "496             Colt Brennan\n",
       "505            Andre Woodson\n",
       "510               Matt Flynn\n",
       "520               Alex Brink\n",
       "                ...         \n",
       "1575               Tajh Boyd\n",
       "1598          Jameis Winston\n",
       "1599          Marcus Mariota\n",
       "1652         Garrett Grayson\n",
       "1664            Sean Mannion\n",
       "1675             Bryce Petty\n",
       "1704           Brett Hundley\n",
       "1767              Jared Goff\n",
       "1787            Paxton Lynch\n",
       "1808    Christian Hackenberg\n",
       "1840         Jacoby Brissett\n",
       "1842            Cody Kessler\n",
       "1847             Connor Cook\n",
       "1873            Dak Prescott\n",
       "1876           Cardale Jones\n",
       "1890             Kevin Hogan\n",
       "1904            Nate Sudfeld\n",
       "1915           Brandon Allen\n",
       "1920            Jeff Driskel\n",
       "1929         Brandon Doughty\n",
       "1963          Deshaun Watson\n",
       "1997           DeShone Kizer\n",
       "2023              Davis Webb\n",
       "2062            Joshua Dobbs\n",
       "2087         Nathan Peterman\n",
       "2148          Baker Mayfield\n",
       "2150             Sam Darnold\n",
       "2153              Josh Allen\n",
       "2155              Josh Rosen\n",
       "2334          Logan Woodside\n",
       "Name: player, Length: 113, dtype: object"
      ]
     },
     "execution_count": 694,
     "metadata": {},
     "output_type": "execute_result"
    }
   ],
   "source": [
    "final_year_qbs['player']"
   ]
  },
  {
   "cell_type": "markdown",
   "metadata": {},
   "source": [
    "# Running Back"
   ]
  },
  {
   "cell_type": "code",
   "execution_count": 337,
   "metadata": {},
   "outputs": [],
   "source": [
    "avg_rbs = avg_players[(avg_players['position']=='RB') | (avg_players['position']=='FB')]\n",
    "fy_rbs = final_year_players[(final_year_players['position']=='RB') | (final_year_players['position']=='FB')]"
   ]
  },
  {
   "cell_type": "markdown",
   "metadata": {},
   "source": [
    "## Average Statistics"
   ]
  },
  {
   "cell_type": "code",
   "execution_count": 338,
   "metadata": {},
   "outputs": [
    {
     "data": {
      "text/plain": [
       "269"
      ]
     },
     "execution_count": 338,
     "metadata": {},
     "output_type": "execute_result"
    }
   ],
   "source": [
    "len(avg_rbs)"
   ]
  },
  {
   "cell_type": "code",
   "execution_count": 339,
   "metadata": {
    "scrolled": true
   },
   "outputs": [
    {
     "data": {
      "text/plain": [
       "draft_overall            0\n",
       "draft_round              0\n",
       "draft_year               0\n",
       "player                   0\n",
       "position                 0\n",
       "school                   0\n",
       "wins                     9\n",
       "losses                   9\n",
       "rank                     9\n",
       "nfl_team_win_perc        0\n",
       "bench_reps              38\n",
       "broad_jump              40\n",
       "cone                    50\n",
       "forty_yd                39\n",
       "height                  34\n",
       "shuttle                 48\n",
       "vertical                37\n",
       "weight                  34\n",
       "games                    9\n",
       "pass_cmp                 9\n",
       "pass_att                 9\n",
       "pass_cmp_pct             9\n",
       "pass_yds                 9\n",
       "pass_yds_per_att         9\n",
       "adj_pass_yds_per_att     9\n",
       "pass_td                  9\n",
       "pass_int                 9\n",
       "pass_rating              9\n",
       "rush_att                 9\n",
       "rush_yds                 9\n",
       "rush_yds_per_att         9\n",
       "rush_td                  9\n",
       "rec                      9\n",
       "rec_yds                  9\n",
       "rec_yds_per_rec          9\n",
       "rec_td                   9\n",
       "scrim_att                9\n",
       "scrim_yds                9\n",
       "scrim_yds_per_att        9\n",
       "scrim_td                 9\n",
       "tackles_solo             9\n",
       "tackles_assists          9\n",
       "tackles_total            9\n",
       "tackles_loss             9\n",
       "sacks                    9\n",
       "def_int                  9\n",
       "def_int_yds              9\n",
       "def_int_yds_per_int      9\n",
       "def_int_td               9\n",
       "pass_defended            9\n",
       "dtype: int64"
      ]
     },
     "execution_count": 339,
     "metadata": {},
     "output_type": "execute_result"
    }
   ],
   "source": [
    "avg_rbs.isnull().sum()[:50]"
   ]
  },
  {
   "cell_type": "code",
   "execution_count": 340,
   "metadata": {
    "scrolled": true
   },
   "outputs": [
    {
     "data": {
      "text/plain": [
       "fumbles_rec             9\n",
       "fumbles_rec_yds         9\n",
       "fumbles_rec_td          9\n",
       "fumbles_forced          9\n",
       "punt_ret                9\n",
       "punt_ret_yds            9\n",
       "punt_ret_yds_per_ret    9\n",
       "punt_ret_td             9\n",
       "kick_ret                9\n",
       "kick_ret_yds            9\n",
       "kick_ret_yds_per_ret    9\n",
       "kick_ret_td             9\n",
       "avg_grade               0\n",
       "conference_ACC          0\n",
       "conference_American     0\n",
       "conference_Big 12       0\n",
       "conference_Big East     0\n",
       "conference_Big Ten      0\n",
       "conference_CUSA         0\n",
       "conference_Ind          0\n",
       "conference_MAC          0\n",
       "conference_MVC          0\n",
       "conference_MWC          0\n",
       "conference_Pac-10       0\n",
       "conference_Pac-12       0\n",
       "conference_SEC          0\n",
       "conference_Sun Belt     0\n",
       "conference_WAC          0\n",
       "nfl_team_49ers          0\n",
       "nfl_team_Bears          0\n",
       "nfl_team_Bengals        0\n",
       "nfl_team_Bills          0\n",
       "nfl_team_Broncos        0\n",
       "nfl_team_Browns         0\n",
       "nfl_team_Buccaneers     0\n",
       "nfl_team_Cardinals      0\n",
       "nfl_team_Chargers       0\n",
       "nfl_team_Chiefs         0\n",
       "nfl_team_Colts          0\n",
       "nfl_team_Cowboys        0\n",
       "nfl_team_Dolphins       0\n",
       "nfl_team_Eagles         0\n",
       "nfl_team_Falcons        0\n",
       "nfl_team_Giants         0\n",
       "nfl_team_Jaguars        0\n",
       "nfl_team_Jets           0\n",
       "nfl_team_Lions          0\n",
       "nfl_team_Packers        0\n",
       "nfl_team_Panthers       0\n",
       "nfl_team_Patriots       0\n",
       "nfl_team_Raiders        0\n",
       "nfl_team_Rams           0\n",
       "nfl_team_Ravens         0\n",
       "nfl_team_Redskins       0\n",
       "nfl_team_Saints         0\n",
       "nfl_team_Seahawks       0\n",
       "nfl_team_Steelers       0\n",
       "nfl_team_Texans         0\n",
       "nfl_team_Titans         0\n",
       "nfl_team_Vikings        0\n",
       "dtype: int64"
      ]
     },
     "execution_count": 340,
     "metadata": {},
     "output_type": "execute_result"
    }
   ],
   "source": [
    "avg_rbs.isnull().sum()[50:]"
   ]
  },
  {
   "cell_type": "code",
   "execution_count": 341,
   "metadata": {},
   "outputs": [
    {
     "data": {
      "text/plain": [
       "Index(['draft_overall', 'draft_round', 'draft_year', 'player', 'position',\n",
       "       'school', 'wins', 'losses', 'rank', 'nfl_team_win_perc', 'bench_reps',\n",
       "       'broad_jump', 'cone', 'forty_yd', 'height', 'shuttle', 'vertical',\n",
       "       'weight', 'games', 'pass_cmp', 'pass_att', 'pass_cmp_pct', 'pass_yds',\n",
       "       'pass_yds_per_att', 'adj_pass_yds_per_att', 'pass_td', 'pass_int',\n",
       "       'pass_rating', 'rush_att', 'rush_yds', 'rush_yds_per_att', 'rush_td',\n",
       "       'rec', 'rec_yds', 'rec_yds_per_rec', 'rec_td', 'scrim_att', 'scrim_yds',\n",
       "       'scrim_yds_per_att', 'scrim_td', 'tackles_solo', 'tackles_assists',\n",
       "       'tackles_total', 'tackles_loss', 'sacks', 'def_int', 'def_int_yds',\n",
       "       'def_int_yds_per_int', 'def_int_td', 'pass_defended'],\n",
       "      dtype='object')"
      ]
     },
     "execution_count": 341,
     "metadata": {},
     "output_type": "execute_result"
    }
   ],
   "source": [
    "avg_rbs.columns[:50]"
   ]
  },
  {
   "cell_type": "code",
   "execution_count": 342,
   "metadata": {},
   "outputs": [
    {
     "data": {
      "text/plain": [
       "Index(['fumbles_rec', 'fumbles_rec_yds', 'fumbles_rec_td', 'fumbles_forced',\n",
       "       'punt_ret', 'punt_ret_yds', 'punt_ret_yds_per_ret', 'punt_ret_td',\n",
       "       'kick_ret', 'kick_ret_yds', 'kick_ret_yds_per_ret', 'kick_ret_td',\n",
       "       'avg_grade', 'conference_ACC', 'conference_American',\n",
       "       'conference_Big 12', 'conference_Big East', 'conference_Big Ten',\n",
       "       'conference_CUSA', 'conference_Ind', 'conference_MAC', 'conference_MVC',\n",
       "       'conference_MWC', 'conference_Pac-10', 'conference_Pac-12',\n",
       "       'conference_SEC', 'conference_Sun Belt', 'conference_WAC',\n",
       "       'nfl_team_49ers', 'nfl_team_Bears', 'nfl_team_Bengals',\n",
       "       'nfl_team_Bills', 'nfl_team_Broncos', 'nfl_team_Browns',\n",
       "       'nfl_team_Buccaneers', 'nfl_team_Cardinals', 'nfl_team_Chargers',\n",
       "       'nfl_team_Chiefs', 'nfl_team_Colts', 'nfl_team_Cowboys',\n",
       "       'nfl_team_Dolphins', 'nfl_team_Eagles', 'nfl_team_Falcons',\n",
       "       'nfl_team_Giants', 'nfl_team_Jaguars', 'nfl_team_Jets',\n",
       "       'nfl_team_Lions', 'nfl_team_Packers', 'nfl_team_Panthers',\n",
       "       'nfl_team_Patriots', 'nfl_team_Raiders', 'nfl_team_Rams',\n",
       "       'nfl_team_Ravens', 'nfl_team_Redskins', 'nfl_team_Saints',\n",
       "       'nfl_team_Seahawks', 'nfl_team_Steelers', 'nfl_team_Texans',\n",
       "       'nfl_team_Titans', 'nfl_team_Vikings'],\n",
       "      dtype='object')"
      ]
     },
     "execution_count": 342,
     "metadata": {},
     "output_type": "execute_result"
    }
   ],
   "source": [
    "avg_rbs.columns[50:]"
   ]
  },
  {
   "cell_type": "code",
   "execution_count": 343,
   "metadata": {},
   "outputs": [
    {
     "name": "stderr",
     "output_type": "stream",
     "text": [
      "C:\\Users\\aidan\\Anaconda3\\envs\\DSI-6\\lib\\site-packages\\ipykernel_launcher.py:10: SettingWithCopyWarning: \n",
      "A value is trying to be set on a copy of a slice from a DataFrame\n",
      "\n",
      "See the caveats in the documentation: http://pandas.pydata.org/pandas-docs/stable/indexing.html#indexing-view-versus-copy\n",
      "  # Remove the CWD from sys.path while we load stuff.\n",
      "C:\\Users\\aidan\\Anaconda3\\envs\\DSI-6\\lib\\site-packages\\ipykernel_launcher.py:13: SettingWithCopyWarning: \n",
      "A value is trying to be set on a copy of a slice from a DataFrame\n",
      "\n",
      "See the caveats in the documentation: http://pandas.pydata.org/pandas-docs/stable/indexing.html#indexing-view-versus-copy\n",
      "  del sys.path[0]\n",
      "C:\\Users\\aidan\\Anaconda3\\envs\\DSI-6\\lib\\site-packages\\ipykernel_launcher.py:15: SettingWithCopyWarning: \n",
      "A value is trying to be set on a copy of a slice from a DataFrame\n",
      "\n",
      "See the caveats in the documentation: http://pandas.pydata.org/pandas-docs/stable/indexing.html#indexing-view-versus-copy\n",
      "  from ipykernel import kernelapp as app\n"
     ]
    }
   ],
   "source": [
    "avg_rbs.dropna(subset=['wins', 'losses', 'rank','pass_cmp', 'pass_att', 'pass_cmp_pct', 'pass_yds',\n",
    "       'pass_yds_per_att', 'adj_pass_yds_per_att', 'pass_td', 'pass_int',\n",
    "       'pass_rating', 'rush_att', 'rush_yds', 'rush_yds_per_att', 'rush_td',\n",
    "       'rec', 'rec_yds', 'rec_yds_per_rec', 'rec_td', 'scrim_att', 'scrim_yds',\n",
    "       'scrim_yds_per_att', 'scrim_td', 'tackles_solo', 'tackles_assists',\n",
    "       'tackles_total', 'tackles_loss', 'sacks', 'def_int', 'def_int_yds',\n",
    "       'def_int_yds_per_int', 'def_int_td', 'pass_defended',\n",
    "        'fumbles_rec', 'fumbles_rec_yds', 'fumbles_rec_td', 'fumbles_forced',\n",
    "       'punt_ret', 'punt_ret_yds', 'punt_ret_yds_per_ret', 'punt_ret_td',\n",
    "       'kick_ret', 'kick_ret_yds', 'kick_ret_yds_per_ret', 'kick_ret_td'], how='all', inplace=True)\n",
    "\n",
    "avg_rbs.dropna(subset=['bench_reps', 'broad_jump', 'cone', 'forty_yd',\n",
    "                       'height', 'shuttle', 'vertical','weight'], how='all', inplace=True)\n",
    "\n",
    "avg_rbs.dropna(inplace=True)"
   ]
  },
  {
   "cell_type": "code",
   "execution_count": 344,
   "metadata": {},
   "outputs": [
    {
     "data": {
      "text/plain": [
       "205"
      ]
     },
     "execution_count": 344,
     "metadata": {},
     "output_type": "execute_result"
    }
   ],
   "source": [
    "len(avg_rbs)"
   ]
  },
  {
   "cell_type": "code",
   "execution_count": 371,
   "metadata": {},
   "outputs": [],
   "source": [
    "features = [\n",
    "#     'draft_overall', 'draft_round', 'draft_year', \n",
    "            'wins', 'losses', 'rank', 'nfl_team_win_perc', \n",
    "    'broad_jump', 'cone', 'forty_yd', 'height', 'shuttle', 'vertical', 'weight', 'games',\n",
    "       'rush_att', 'rush_yds', 'rush_yds_per_att', 'rush_td',\n",
    "       'rec', 'rec_yds', 'rec_yds_per_rec', 'rec_td', \n",
    "#     'scrim_att', 'scrim_yds', 'scrim_yds_per_att', 'scrim_td',\n",
    "    'punt_ret', 'punt_ret_yds', 'punt_ret_yds_per_ret', 'punt_ret_td',\n",
    "       'kick_ret', 'kick_ret_yds', 'kick_ret_yds_per_ret', 'kick_ret_td',\n",
    "           'conference_ACC', 'conference_American', 'conference_Big 12',\n",
    "       'conference_Big East', 'conference_Big Ten', 'conference_CUSA',\n",
    "       'conference_Ind', 'conference_MAC', 'conference_MVC', 'conference_MWC',\n",
    "       'conference_Pac-10', 'conference_Pac-12', 'conference_SEC',\n",
    "       'conference_Sun Belt', 'conference_WAC', 'nfl_team_49ers',\n",
    "       'nfl_team_Bears', 'nfl_team_Bengals', 'nfl_team_Bills',\n",
    "       'nfl_team_Broncos', 'nfl_team_Browns', 'nfl_team_Buccaneers',\n",
    "       'nfl_team_Cardinals', 'nfl_team_Chargers', 'nfl_team_Chiefs',\n",
    "       'nfl_team_Colts', 'nfl_team_Cowboys', 'nfl_team_Dolphins',\n",
    "       'nfl_team_Eagles', 'nfl_team_Falcons', 'nfl_team_Giants',\n",
    "       'nfl_team_Jaguars', 'nfl_team_Jets', 'nfl_team_Lions',\n",
    "       'nfl_team_Packers', 'nfl_team_Panthers', 'nfl_team_Patriots',\n",
    "       'nfl_team_Raiders', 'nfl_team_Rams', 'nfl_team_Ravens',\n",
    "       'nfl_team_Redskins', 'nfl_team_Saints', 'nfl_team_Seahawks',\n",
    "       'nfl_team_Steelers', 'nfl_team_Texans', 'nfl_team_Titans',\n",
    "       'nfl_team_Vikings']"
   ]
  },
  {
   "cell_type": "code",
   "execution_count": 354,
   "metadata": {},
   "outputs": [],
   "source": [
    "X_train_avg_rbs = avg_rbs[avg_rbs['draft_year']<2015]\n",
    "y_train_avg_rbs = avg_rbs[avg_rbs['draft_year']<2015]['avg_grade']\n",
    "X_test_avg_rbs = avg_rbs[avg_rbs['draft_year']>=2015]\n",
    "y_test_avg_rbs = avg_rbs[avg_rbs['draft_year']>=2015]['avg_grade']"
   ]
  },
  {
   "cell_type": "markdown",
   "metadata": {},
   "source": [
    "#### Linear Regression"
   ]
  },
  {
   "cell_type": "code",
   "execution_count": 355,
   "metadata": {},
   "outputs": [
    {
     "data": {
      "text/plain": [
       "0.006493266700320133"
      ]
     },
     "execution_count": 355,
     "metadata": {},
     "output_type": "execute_result"
    }
   ],
   "source": [
    "lr = LinearRegression()\n",
    "lr.fit(X_train_avg_rbs[features], y_train_avg_rbs)\n",
    "lr_avg_rbs_preds = lr.predict(X_test_avg_rbs[features])\n",
    "\n",
    "r2_score(y_test_avg_rbs, lr_avg_rbs_preds)"
   ]
  },
  {
   "cell_type": "code",
   "execution_count": 356,
   "metadata": {},
   "outputs": [
    {
     "data": {
      "text/plain": [
       "717.2949569511742"
      ]
     },
     "execution_count": 356,
     "metadata": {},
     "output_type": "execute_result"
    }
   ],
   "source": [
    "mean_squared_error(y_test_avg_rbs, lr_avg_rbs_preds)"
   ]
  },
  {
   "cell_type": "markdown",
   "metadata": {},
   "source": [
    "#### Random Forest"
   ]
  },
  {
   "cell_type": "code",
   "execution_count": 360,
   "metadata": {},
   "outputs": [
    {
     "data": {
      "text/plain": [
       "0.10731353539001831"
      ]
     },
     "execution_count": 360,
     "metadata": {},
     "output_type": "execute_result"
    }
   ],
   "source": [
    "rf_reg = RandomForestRegressor()\n",
    "rf_reg.fit(X_train_avg_rbs[features], y_train_avg_rbs)\n",
    "rf_avg_rbs_preds = rf_reg.predict(X_test_avg_rbs[features])\n",
    "\n",
    "r2_score(y_test_avg_rbs, rf_avg_rbs_preds)"
   ]
  },
  {
   "cell_type": "code",
   "execution_count": 361,
   "metadata": {},
   "outputs": [
    {
     "data": {
      "text/plain": [
       "644.5044384114584"
      ]
     },
     "execution_count": 361,
     "metadata": {},
     "output_type": "execute_result"
    }
   ],
   "source": [
    "mean_squared_error(y_test_avg_rbs, rf_avg_rbs_preds)"
   ]
  },
  {
   "cell_type": "markdown",
   "metadata": {},
   "source": [
    "#### Neural Net"
   ]
  },
  {
   "cell_type": "code",
   "execution_count": 362,
   "metadata": {},
   "outputs": [],
   "source": [
    "np.random.seed(42)\n",
    "rb_model = Sequential()\n",
    "rb_model.add(Dense(X_train_avg_rbs[features].shape[1], input_shape=(X_train_avg_rbs[features].shape[1],), activation='relu'))\n",
    "rb_model.add(Dropout(0.5))\n",
    "rb_model.add(Dense(12, activation='relu'))\n",
    "# rb_model.add(Dense(10, activation='relu'))\n",
    "rb_model.add(Dense(1))\n",
    "\n",
    "adam = Adam(lr=0.01)\n",
    "rb_model.compile(loss='mean_squared_error', optimizer=adam)"
   ]
  },
  {
   "cell_type": "code",
   "execution_count": 363,
   "metadata": {},
   "outputs": [
    {
     "name": "stdout",
     "output_type": "stream",
     "text": [
      "Train on 157 samples, validate on 48 samples\n",
      "Epoch 1/100\n",
      "157/157 [==============================] - 1s 5ms/step - loss: 16011.4489 - val_loss: 4095.8991\n",
      "Epoch 2/100\n",
      "157/157 [==============================] - 0s 38us/step - loss: 3672.3206 - val_loss: 787.8358\n",
      "Epoch 3/100\n",
      "157/157 [==============================] - 0s 64us/step - loss: 1909.8208 - val_loss: 1061.7534\n",
      "Epoch 4/100\n",
      "157/157 [==============================] - 0s 57us/step - loss: 1704.2329 - val_loss: 830.9873\n",
      "Epoch 5/100\n",
      "157/157 [==============================] - 0s 51us/step - loss: 1422.2928 - val_loss: 712.4989\n",
      "Epoch 6/100\n",
      "157/157 [==============================] - 0s 44us/step - loss: 919.5933 - val_loss: 769.1163\n",
      "Epoch 7/100\n",
      "157/157 [==============================] - 0s 57us/step - loss: 914.3882 - val_loss: 750.3049\n",
      "Epoch 8/100\n",
      "157/157 [==============================] - 0s 57us/step - loss: 729.6514 - val_loss: 701.2908\n",
      "Epoch 9/100\n",
      "157/157 [==============================] - 0s 51us/step - loss: 741.2101 - val_loss: 744.3345\n",
      "Epoch 10/100\n",
      "157/157 [==============================] - 0s 51us/step - loss: 898.6989 - val_loss: 750.3922\n",
      "Epoch 11/100\n",
      "157/157 [==============================] - 0s 44us/step - loss: 857.8032 - val_loss: 689.4612\n",
      "Epoch 12/100\n",
      "157/157 [==============================] - 0s 51us/step - loss: 648.8457 - val_loss: 711.0346\n",
      "Epoch 13/100\n",
      "157/157 [==============================] - 0s 51us/step - loss: 708.3376 - val_loss: 695.2584\n",
      "Epoch 14/100\n",
      "157/157 [==============================] - 0s 57us/step - loss: 640.9140 - val_loss: 669.8948\n",
      "Epoch 15/100\n",
      "157/157 [==============================] - 0s 45us/step - loss: 718.0024 - val_loss: 660.4073\n",
      "Epoch 16/100\n",
      "157/157 [==============================] - 0s 57us/step - loss: 725.9769 - val_loss: 686.7203\n",
      "Epoch 17/100\n",
      "157/157 [==============================] - 0s 57us/step - loss: 769.3786 - val_loss: 718.9504\n",
      "Epoch 18/100\n",
      "157/157 [==============================] - 0s 45us/step - loss: 642.3881 - val_loss: 684.0540\n",
      "Epoch 19/100\n",
      "157/157 [==============================] - 0s 57us/step - loss: 568.6813 - val_loss: 671.8516\n",
      "Epoch 20/100\n",
      "157/157 [==============================] - 0s 44us/step - loss: 685.5897 - val_loss: 691.7941\n",
      "Epoch 21/100\n",
      "157/157 [==============================] - 0s 51us/step - loss: 646.2032 - val_loss: 692.9406\n",
      "Epoch 22/100\n",
      "157/157 [==============================] - 0s 44us/step - loss: 583.4366 - val_loss: 667.0426\n",
      "Epoch 23/100\n",
      "157/157 [==============================] - 0s 51us/step - loss: 703.3229 - val_loss: 712.3609\n",
      "Epoch 24/100\n",
      "157/157 [==============================] - 0s 44us/step - loss: 576.2116 - val_loss: 664.5488\n",
      "Epoch 25/100\n",
      "157/157 [==============================] - 0s 57us/step - loss: 557.8840 - val_loss: 632.5364\n",
      "Epoch 26/100\n",
      "157/157 [==============================] - 0s 42us/step - loss: 766.0198 - val_loss: 722.9296\n",
      "Epoch 27/100\n",
      "157/157 [==============================] - 0s 58us/step - loss: 670.9067 - val_loss: 677.4916\n",
      "Epoch 28/100\n",
      "157/157 [==============================] - 0s 50us/step - loss: 624.3443 - val_loss: 651.6177\n",
      "Epoch 29/100\n",
      "157/157 [==============================] - 0s 57us/step - loss: 574.8518 - val_loss: 650.2843\n",
      "Epoch 30/100\n",
      "157/157 [==============================] - 0s 57us/step - loss: 635.0498 - val_loss: 692.3490\n",
      "Epoch 31/100\n",
      "157/157 [==============================] - 0s 51us/step - loss: 557.9035 - val_loss: 647.3697\n",
      "Epoch 32/100\n",
      "157/157 [==============================] - 0s 44us/step - loss: 543.9851 - val_loss: 628.7329\n",
      "Epoch 33/100\n",
      "157/157 [==============================] - 0s 51us/step - loss: 646.0252 - val_loss: 678.8023\n",
      "Epoch 34/100\n",
      "157/157 [==============================] - 0s 51us/step - loss: 535.2718 - val_loss: 679.3089\n",
      "Epoch 35/100\n",
      "157/157 [==============================] - 0s 44us/step - loss: 598.0961 - val_loss: 647.1168\n",
      "Epoch 36/100\n",
      "157/157 [==============================] - 0s 51us/step - loss: 520.4800 - val_loss: 641.6438\n",
      "Epoch 37/100\n",
      "157/157 [==============================] - 0s 44us/step - loss: 634.1303 - val_loss: 649.8072\n",
      "Epoch 38/100\n",
      "157/157 [==============================] - 0s 44us/step - loss: 579.6505 - val_loss: 669.0251\n",
      "Epoch 39/100\n",
      "157/157 [==============================] - 0s 57us/step - loss: 605.0417 - val_loss: 645.1819\n",
      "Epoch 40/100\n",
      "157/157 [==============================] - 0s 44us/step - loss: 683.1085 - val_loss: 703.7729\n",
      "Epoch 41/100\n",
      "157/157 [==============================] - 0s 64us/step - loss: 647.8987 - val_loss: 692.8411\n",
      "Epoch 42/100\n",
      "157/157 [==============================] - 0s 51us/step - loss: 574.2667 - val_loss: 722.3290\n",
      "Epoch 43/100\n",
      "157/157 [==============================] - 0s 57us/step - loss: 581.9980 - val_loss: 733.6772\n",
      "Epoch 44/100\n",
      "157/157 [==============================] - 0s 44us/step - loss: 569.5413 - val_loss: 707.8347\n",
      "Epoch 45/100\n",
      "157/157 [==============================] - 0s 51us/step - loss: 643.7534 - val_loss: 685.2369\n",
      "Epoch 46/100\n",
      "157/157 [==============================] - 0s 51us/step - loss: 552.6549 - val_loss: 688.0839\n",
      "Epoch 47/100\n",
      "157/157 [==============================] - 0s 45us/step - loss: 513.6208 - val_loss: 734.2211\n",
      "Epoch 48/100\n",
      "157/157 [==============================] - 0s 51us/step - loss: 639.3582 - val_loss: 641.5636\n",
      "Epoch 49/100\n",
      "157/157 [==============================] - 0s 44us/step - loss: 605.5103 - val_loss: 686.6546\n",
      "Epoch 50/100\n",
      "157/157 [==============================] - 0s 51us/step - loss: 537.9097 - val_loss: 681.9688\n",
      "Epoch 51/100\n",
      "157/157 [==============================] - 0s 51us/step - loss: 622.3907 - val_loss: 660.3700\n",
      "Epoch 52/100\n",
      "157/157 [==============================] - 0s 45us/step - loss: 509.4047 - val_loss: 661.0621\n",
      "Epoch 53/100\n",
      "157/157 [==============================] - 0s 44us/step - loss: 751.0525 - val_loss: 706.8403\n",
      "Epoch 54/100\n",
      "157/157 [==============================] - 0s 51us/step - loss: 658.2278 - val_loss: 653.9517\n",
      "Epoch 55/100\n",
      "157/157 [==============================] - 0s 45us/step - loss: 511.2605 - val_loss: 687.4764\n",
      "Epoch 56/100\n",
      "157/157 [==============================] - 0s 51us/step - loss: 627.0391 - val_loss: 654.5242\n",
      "Epoch 57/100\n",
      "157/157 [==============================] - 0s 63us/step - loss: 604.5301 - val_loss: 675.6586\n",
      "Epoch 58/100\n",
      "157/157 [==============================] - 0s 64us/step - loss: 608.6434 - val_loss: 650.6152\n",
      "Epoch 59/100\n",
      "157/157 [==============================] - 0s 95us/step - loss: 557.2726 - val_loss: 687.7276\n",
      "Epoch 60/100\n",
      "157/157 [==============================] - 0s 51us/step - loss: 580.9663 - val_loss: 648.2640\n",
      "Epoch 61/100\n",
      "157/157 [==============================] - 0s 44us/step - loss: 554.3836 - val_loss: 641.5880\n",
      "Epoch 62/100\n",
      "157/157 [==============================] - 0s 63us/step - loss: 586.2714 - val_loss: 648.4227\n",
      "Epoch 63/100\n",
      "157/157 [==============================] - 0s 51us/step - loss: 526.2989 - val_loss: 654.7596\n",
      "Epoch 64/100\n",
      "157/157 [==============================] - 0s 64us/step - loss: 561.8732 - val_loss: 636.2044\n",
      "Epoch 65/100\n",
      "157/157 [==============================] - 0s 44us/step - loss: 637.5250 - val_loss: 665.3717\n",
      "Epoch 66/100\n",
      "157/157 [==============================] - 0s 44us/step - loss: 538.9884 - val_loss: 681.9694\n",
      "Epoch 67/100\n",
      "157/157 [==============================] - 0s 44us/step - loss: 518.9632 - val_loss: 665.6300\n",
      "Epoch 68/100\n",
      "157/157 [==============================] - 0s 57us/step - loss: 528.3546 - val_loss: 627.4544\n",
      "Epoch 69/100\n",
      "157/157 [==============================] - 0s 51us/step - loss: 512.6768 - val_loss: 671.9337\n",
      "Epoch 70/100\n",
      "157/157 [==============================] - 0s 51us/step - loss: 542.2105 - val_loss: 696.2236\n",
      "Epoch 71/100\n",
      "157/157 [==============================] - 0s 44us/step - loss: 534.3920 - val_loss: 624.3286\n",
      "Epoch 72/100\n",
      "157/157 [==============================] - 0s 51us/step - loss: 559.2611 - val_loss: 625.9594\n",
      "Epoch 73/100\n",
      "157/157 [==============================] - 0s 44us/step - loss: 513.6082 - val_loss: 683.5828\n",
      "Epoch 74/100\n",
      "157/157 [==============================] - 0s 44us/step - loss: 562.8205 - val_loss: 654.2133\n",
      "Epoch 75/100\n",
      "157/157 [==============================] - 0s 44us/step - loss: 562.7978 - val_loss: 619.4137\n",
      "Epoch 76/100\n",
      "157/157 [==============================] - 0s 57us/step - loss: 670.6294 - val_loss: 706.5174\n",
      "Epoch 77/100\n"
     ]
    },
    {
     "name": "stdout",
     "output_type": "stream",
     "text": [
      "157/157 [==============================] - 0s 51us/step - loss: 583.3609 - val_loss: 647.6458\n",
      "Epoch 78/100\n",
      "157/157 [==============================] - 0s 51us/step - loss: 559.8940 - val_loss: 656.5573\n",
      "Epoch 79/100\n",
      "157/157 [==============================] - 0s 64us/step - loss: 533.2481 - val_loss: 645.9071\n",
      "Epoch 80/100\n",
      "157/157 [==============================] - 0s 51us/step - loss: 587.7562 - val_loss: 635.1583\n",
      "Epoch 81/100\n",
      "157/157 [==============================] - 0s 64us/step - loss: 515.9614 - val_loss: 634.9445\n",
      "Epoch 82/100\n",
      "157/157 [==============================] - 0s 57us/step - loss: 492.1532 - val_loss: 641.0809\n",
      "Epoch 83/100\n",
      "157/157 [==============================] - 0s 64us/step - loss: 547.0560 - val_loss: 651.1927\n",
      "Epoch 84/100\n",
      "157/157 [==============================] - 0s 64us/step - loss: 463.4247 - val_loss: 625.5169\n",
      "Epoch 85/100\n",
      "157/157 [==============================] - 0s 44us/step - loss: 519.4486 - val_loss: 643.8974\n",
      "Epoch 86/100\n",
      "157/157 [==============================] - 0s 51us/step - loss: 496.8814 - val_loss: 728.7008\n",
      "Epoch 87/100\n",
      "157/157 [==============================] - 0s 57us/step - loss: 601.2920 - val_loss: 675.7593\n",
      "Epoch 88/100\n",
      "157/157 [==============================] - 0s 51us/step - loss: 600.0905 - val_loss: 662.0197\n",
      "Epoch 89/100\n",
      "157/157 [==============================] - 0s 51us/step - loss: 553.1668 - val_loss: 704.5506\n",
      "Epoch 90/100\n",
      "157/157 [==============================] - 0s 51us/step - loss: 523.7136 - val_loss: 634.7669\n",
      "Epoch 91/100\n",
      "157/157 [==============================] - 0s 51us/step - loss: 526.5287 - val_loss: 679.9793\n",
      "Epoch 92/100\n",
      "157/157 [==============================] - 0s 57us/step - loss: 495.3167 - val_loss: 627.4524\n",
      "Epoch 93/100\n",
      "157/157 [==============================] - 0s 51us/step - loss: 587.7114 - val_loss: 709.2238\n",
      "Epoch 94/100\n",
      "157/157 [==============================] - 0s 57us/step - loss: 534.8813 - val_loss: 719.0708\n",
      "Epoch 95/100\n",
      "157/157 [==============================] - 0s 60us/step - loss: 550.3930 - val_loss: 647.4629\n",
      "Epoch 96/100\n",
      "157/157 [==============================] - 0s 51us/step - loss: 501.5680 - val_loss: 677.5147\n",
      "Epoch 97/100\n",
      "157/157 [==============================] - 0s 51us/step - loss: 559.7584 - val_loss: 731.9808\n",
      "Epoch 98/100\n",
      "157/157 [==============================] - 0s 51us/step - loss: 573.5357 - val_loss: 645.0299\n",
      "Epoch 99/100\n",
      "157/157 [==============================] - 0s 51us/step - loss: 502.4156 - val_loss: 665.6278\n",
      "Epoch 100/100\n",
      "157/157 [==============================] - 0s 51us/step - loss: 603.0820 - val_loss: 741.2927\n"
     ]
    },
    {
     "data": {
      "text/plain": [
       "<keras.callbacks.History at 0x1ef7de4d7f0>"
      ]
     },
     "execution_count": 363,
     "metadata": {},
     "output_type": "execute_result"
    }
   ],
   "source": [
    "rb_model.fit(X_train_avg_rbs[features], y_train_avg_rbs, validation_data=(X_test_avg_rbs[features], y_test_avg_rbs), epochs=100, batch_size=32)"
   ]
  },
  {
   "cell_type": "markdown",
   "metadata": {},
   "source": [
    "## Final Year Stats"
   ]
  },
  {
   "cell_type": "code",
   "execution_count": 365,
   "metadata": {
    "scrolled": true
   },
   "outputs": [
    {
     "data": {
      "text/plain": [
       "draft_overall            0\n",
       "draft_round              0\n",
       "draft_year               0\n",
       "player                   0\n",
       "position                 0\n",
       "school                   0\n",
       "wins                     9\n",
       "losses                   9\n",
       "rank                     9\n",
       "nfl_team_win_perc        0\n",
       "bench_reps              38\n",
       "broad_jump              40\n",
       "cone                    50\n",
       "forty_yd                39\n",
       "height                  34\n",
       "shuttle                 48\n",
       "vertical                37\n",
       "weight                  34\n",
       "games                   11\n",
       "pass_cmp                 9\n",
       "pass_att                 9\n",
       "pass_cmp_pct             9\n",
       "pass_yds                 9\n",
       "pass_yds_per_att         9\n",
       "adj_pass_yds_per_att     9\n",
       "pass_td                  9\n",
       "pass_int                 9\n",
       "pass_rating              9\n",
       "rush_att                 9\n",
       "rush_yds                 9\n",
       "                        ..\n",
       "nfl_team_Bengals         0\n",
       "nfl_team_Bills           0\n",
       "nfl_team_Broncos         0\n",
       "nfl_team_Browns          0\n",
       "nfl_team_Buccaneers      0\n",
       "nfl_team_Cardinals       0\n",
       "nfl_team_Chargers        0\n",
       "nfl_team_Chiefs          0\n",
       "nfl_team_Colts           0\n",
       "nfl_team_Cowboys         0\n",
       "nfl_team_Dolphins        0\n",
       "nfl_team_Eagles          0\n",
       "nfl_team_Falcons         0\n",
       "nfl_team_Giants          0\n",
       "nfl_team_Jaguars         0\n",
       "nfl_team_Jets            0\n",
       "nfl_team_Lions           0\n",
       "nfl_team_Packers         0\n",
       "nfl_team_Panthers        0\n",
       "nfl_team_Patriots        0\n",
       "nfl_team_Raiders         0\n",
       "nfl_team_Rams            0\n",
       "nfl_team_Ravens          0\n",
       "nfl_team_Redskins        0\n",
       "nfl_team_Saints          0\n",
       "nfl_team_Seahawks        0\n",
       "nfl_team_Steelers        0\n",
       "nfl_team_Texans          0\n",
       "nfl_team_Titans          0\n",
       "nfl_team_Vikings         0\n",
       "Length: 110, dtype: int64"
      ]
     },
     "execution_count": 365,
     "metadata": {},
     "output_type": "execute_result"
    }
   ],
   "source": [
    "fy_rbs.isnull().sum()"
   ]
  },
  {
   "cell_type": "code",
   "execution_count": 366,
   "metadata": {},
   "outputs": [
    {
     "name": "stderr",
     "output_type": "stream",
     "text": [
      "C:\\Users\\aidan\\Anaconda3\\envs\\DSI-6\\lib\\site-packages\\ipykernel_launcher.py:10: SettingWithCopyWarning: \n",
      "A value is trying to be set on a copy of a slice from a DataFrame\n",
      "\n",
      "See the caveats in the documentation: http://pandas.pydata.org/pandas-docs/stable/indexing.html#indexing-view-versus-copy\n",
      "  # Remove the CWD from sys.path while we load stuff.\n",
      "C:\\Users\\aidan\\Anaconda3\\envs\\DSI-6\\lib\\site-packages\\ipykernel_launcher.py:13: SettingWithCopyWarning: \n",
      "A value is trying to be set on a copy of a slice from a DataFrame\n",
      "\n",
      "See the caveats in the documentation: http://pandas.pydata.org/pandas-docs/stable/indexing.html#indexing-view-versus-copy\n",
      "  del sys.path[0]\n",
      "C:\\Users\\aidan\\Anaconda3\\envs\\DSI-6\\lib\\site-packages\\ipykernel_launcher.py:15: SettingWithCopyWarning: \n",
      "A value is trying to be set on a copy of a slice from a DataFrame\n",
      "\n",
      "See the caveats in the documentation: http://pandas.pydata.org/pandas-docs/stable/indexing.html#indexing-view-versus-copy\n",
      "  from ipykernel import kernelapp as app\n"
     ]
    }
   ],
   "source": [
    "fy_rbs.dropna(subset=['wins', 'losses', 'rank','pass_cmp', 'pass_att', 'pass_cmp_pct', 'pass_yds',\n",
    "       'pass_yds_per_att', 'adj_pass_yds_per_att', 'pass_td', 'pass_int',\n",
    "       'pass_rating', 'rush_att', 'rush_yds', 'rush_yds_per_att', 'rush_td',\n",
    "       'rec', 'rec_yds', 'rec_yds_per_rec', 'rec_td', 'scrim_att', 'scrim_yds',\n",
    "       'scrim_yds_per_att', 'scrim_td', 'tackles_solo', 'tackles_assists',\n",
    "       'tackles_total', 'tackles_loss', 'sacks', 'def_int', 'def_int_yds',\n",
    "       'def_int_yds_per_int', 'def_int_td', 'pass_defended',\n",
    "        'fumbles_rec', 'fumbles_rec_yds', 'fumbles_rec_td', 'fumbles_forced',\n",
    "       'punt_ret', 'punt_ret_yds', 'punt_ret_yds_per_ret', 'punt_ret_td',\n",
    "       'kick_ret', 'kick_ret_yds', 'kick_ret_yds_per_ret', 'kick_ret_td'], how='all', inplace=True)\n",
    "\n",
    "fy_rbs.dropna(subset=['bench_reps', 'broad_jump', 'cone', 'forty_yd',\n",
    "                       'height', 'shuttle', 'vertical','weight'], how='all', inplace=True)\n",
    "\n",
    "fy_rbs.dropna(inplace=True)"
   ]
  },
  {
   "cell_type": "code",
   "execution_count": 367,
   "metadata": {},
   "outputs": [
    {
     "data": {
      "text/plain": [
       "0"
      ]
     },
     "execution_count": 367,
     "metadata": {},
     "output_type": "execute_result"
    }
   ],
   "source": [
    "fy_rbs.isnull().sum().sum()"
   ]
  },
  {
   "cell_type": "code",
   "execution_count": 372,
   "metadata": {},
   "outputs": [],
   "source": [
    "X_train_fy_rbs = fy_rbs[fy_rbs['draft_year']<2015]\n",
    "y_train_fy_rbs = fy_rbs[fy_rbs['draft_year']<2015]['avg_grade']\n",
    "X_test_fy_rbs = fy_rbs[fy_rbs['draft_year']>=2015]\n",
    "y_test_fy_rbs = fy_rbs[fy_rbs['draft_year']>=2015]['avg_grade']"
   ]
  },
  {
   "cell_type": "markdown",
   "metadata": {},
   "source": [
    "#### Linear Regression"
   ]
  },
  {
   "cell_type": "code",
   "execution_count": 373,
   "metadata": {},
   "outputs": [
    {
     "data": {
      "text/plain": [
       "-0.47333388764098006"
      ]
     },
     "execution_count": 373,
     "metadata": {},
     "output_type": "execute_result"
    }
   ],
   "source": [
    "lr = LinearRegression()\n",
    "lr.fit(X_train_fy_rbs[features], y_train_fy_rbs)\n",
    "lr_fy_rbs_preds = lr.predict(X_test_fy_rbs[features])\n",
    "\n",
    "r2_score(y_test_fy_rbs, lr_fy_rbs_preds)"
   ]
  },
  {
   "cell_type": "code",
   "execution_count": 374,
   "metadata": {},
   "outputs": [
    {
     "data": {
      "text/plain": [
       "1085.3671247246527"
      ]
     },
     "execution_count": 374,
     "metadata": {},
     "output_type": "execute_result"
    }
   ],
   "source": [
    "mean_squared_error(y_test_fy_rbs, lr_fy_rbs_preds)"
   ]
  },
  {
   "cell_type": "markdown",
   "metadata": {},
   "source": [
    "#### Random Forest"
   ]
  },
  {
   "cell_type": "code",
   "execution_count": 380,
   "metadata": {},
   "outputs": [
    {
     "data": {
      "text/plain": [
       "0.05639500191769775"
      ]
     },
     "execution_count": 380,
     "metadata": {},
     "output_type": "execute_result"
    }
   ],
   "source": [
    "rf_reg = RandomForestRegressor()\n",
    "rf_reg.fit(X_train_fy_rbs[features], y_train_fy_rbs)\n",
    "rf_fy_rbs_preds = rf_reg.predict(X_test_fy_rbs[features])\n",
    "\n",
    "r2_score(y_test_fy_rbs, rf_fy_rbs_preds)"
   ]
  },
  {
   "cell_type": "code",
   "execution_count": 382,
   "metadata": {},
   "outputs": [
    {
     "data": {
      "text/plain": [
       "695.1294966032609"
      ]
     },
     "execution_count": 382,
     "metadata": {},
     "output_type": "execute_result"
    }
   ],
   "source": [
    "mean_squared_error(y_test_fy_rbs, rf_fy_rbs_preds)"
   ]
  },
  {
   "cell_type": "markdown",
   "metadata": {},
   "source": [
    "#### Neural Net"
   ]
  },
  {
   "cell_type": "code",
   "execution_count": 397,
   "metadata": {},
   "outputs": [],
   "source": [
    "np.random.seed(42)\n",
    "rb_model = Sequential()\n",
    "rb_model.add(Dense(X_train_fy_rbs[features].shape[1], input_shape=(X_train_fy_rbs[features].shape[1],), activation='relu'))\n",
    "rb_model.add(Dropout(0.5))\n",
    "rb_model.add(Dense(12, activation='relu'))\n",
    "rb_model.add(Dense(6, activation='relu'))\n",
    "rb_model.add(Dense(1))\n",
    "\n",
    "adam = Adam(lr=0.01)\n",
    "rb_model.compile(loss='mean_squared_error', optimizer=adam)"
   ]
  },
  {
   "cell_type": "code",
   "execution_count": 398,
   "metadata": {},
   "outputs": [
    {
     "name": "stdout",
     "output_type": "stream",
     "text": [
      "Train on 157 samples, validate on 46 samples\n",
      "Epoch 1/75\n",
      "157/157 [==============================] - 1s 6ms/step - loss: 10736.1467 - val_loss: 1054.9596\n",
      "Epoch 2/75\n",
      "157/157 [==============================] - 0s 57us/step - loss: 1886.3853 - val_loss: 1867.4782\n",
      "Epoch 3/75\n",
      "157/157 [==============================] - 0s 64us/step - loss: 1664.5153 - val_loss: 815.0806\n",
      "Epoch 4/75\n",
      "157/157 [==============================] - 0s 57us/step - loss: 1302.3646 - val_loss: 1002.8230\n",
      "Epoch 5/75\n",
      "157/157 [==============================] - 0s 51us/step - loss: 897.3091 - val_loss: 1150.6629\n",
      "Epoch 6/75\n",
      "157/157 [==============================] - 0s 64us/step - loss: 722.8514 - val_loss: 845.6656\n",
      "Epoch 7/75\n",
      "157/157 [==============================] - 0s 51us/step - loss: 666.4802 - val_loss: 901.3691\n",
      "Epoch 8/75\n",
      "157/157 [==============================] - 0s 64us/step - loss: 729.4041 - val_loss: 965.5199\n",
      "Epoch 9/75\n",
      "157/157 [==============================] - 0s 65us/step - loss: 677.0235 - val_loss: 707.1479\n",
      "Epoch 10/75\n",
      "157/157 [==============================] - 0s 51us/step - loss: 696.6418 - val_loss: 854.8013\n",
      "Epoch 11/75\n",
      "157/157 [==============================] - 0s 57us/step - loss: 674.8550 - val_loss: 869.2204\n",
      "Epoch 12/75\n",
      "157/157 [==============================] - 0s 58us/step - loss: 717.0191 - val_loss: 790.3654\n",
      "Epoch 13/75\n",
      "157/157 [==============================] - 0s 70us/step - loss: 637.2252 - val_loss: 828.5809\n",
      "Epoch 14/75\n",
      "157/157 [==============================] - 0s 57us/step - loss: 610.0239 - val_loss: 793.6166\n",
      "Epoch 15/75\n",
      "157/157 [==============================] - 0s 57us/step - loss: 597.8376 - val_loss: 788.2160\n",
      "Epoch 16/75\n",
      "157/157 [==============================] - 0s 70us/step - loss: 568.8673 - val_loss: 763.6980\n",
      "Epoch 17/75\n",
      "157/157 [==============================] - 0s 57us/step - loss: 573.7201 - val_loss: 779.4984\n",
      "Epoch 18/75\n",
      "157/157 [==============================] - 0s 64us/step - loss: 596.8183 - val_loss: 753.7026\n",
      "Epoch 19/75\n",
      "157/157 [==============================] - 0s 64us/step - loss: 571.9692 - val_loss: 780.1300\n",
      "Epoch 20/75\n",
      "157/157 [==============================] - 0s 57us/step - loss: 655.8655 - val_loss: 864.1557\n",
      "Epoch 21/75\n",
      "157/157 [==============================] - 0s 64us/step - loss: 586.9250 - val_loss: 726.8413\n",
      "Epoch 22/75\n",
      "157/157 [==============================] - 0s 57us/step - loss: 593.3607 - val_loss: 883.5828\n",
      "Epoch 23/75\n",
      "157/157 [==============================] - 0s 57us/step - loss: 587.0844 - val_loss: 735.9565\n",
      "Epoch 24/75\n",
      "157/157 [==============================] - 0s 70us/step - loss: 643.2573 - val_loss: 749.8066\n",
      "Epoch 25/75\n",
      "157/157 [==============================] - 0s 57us/step - loss: 551.8968 - val_loss: 828.2243\n",
      "Epoch 26/75\n",
      "157/157 [==============================] - 0s 57us/step - loss: 529.0651 - val_loss: 740.5867\n",
      "Epoch 27/75\n",
      "157/157 [==============================] - 0s 64us/step - loss: 572.4116 - val_loss: 766.4105\n",
      "Epoch 28/75\n",
      "157/157 [==============================] - 0s 57us/step - loss: 577.1485 - val_loss: 759.0320\n",
      "Epoch 29/75\n",
      "157/157 [==============================] - 0s 76us/step - loss: 550.4548 - val_loss: 730.0988\n",
      "Epoch 30/75\n",
      "157/157 [==============================] - 0s 57us/step - loss: 579.0550 - val_loss: 822.9251\n",
      "Epoch 31/75\n",
      "157/157 [==============================] - 0s 57us/step - loss: 566.9626 - val_loss: 720.1808\n",
      "Epoch 32/75\n",
      "157/157 [==============================] - 0s 64us/step - loss: 598.9474 - val_loss: 803.3863\n",
      "Epoch 33/75\n",
      "157/157 [==============================] - 0s 64us/step - loss: 522.4575 - val_loss: 717.0149\n",
      "Epoch 34/75\n",
      "157/157 [==============================] - 0s 51us/step - loss: 593.1675 - val_loss: 782.0698\n",
      "Epoch 35/75\n",
      "157/157 [==============================] - 0s 64us/step - loss: 488.8658 - val_loss: 833.7706\n",
      "Epoch 36/75\n",
      "157/157 [==============================] - 0s 51us/step - loss: 519.4443 - val_loss: 707.4818\n",
      "Epoch 37/75\n",
      "157/157 [==============================] - 0s 57us/step - loss: 542.2062 - val_loss: 784.0073\n",
      "Epoch 38/75\n",
      "157/157 [==============================] - 0s 64us/step - loss: 516.4225 - val_loss: 759.7230\n",
      "Epoch 39/75\n",
      "157/157 [==============================] - 0s 63us/step - loss: 538.4495 - val_loss: 714.4017\n",
      "Epoch 40/75\n",
      "157/157 [==============================] - 0s 57us/step - loss: 502.6238 - val_loss: 791.1186\n",
      "Epoch 41/75\n",
      "157/157 [==============================] - 0s 70us/step - loss: 515.7907 - val_loss: 765.0583\n",
      "Epoch 42/75\n",
      "157/157 [==============================] - 0s 70us/step - loss: 499.8453 - val_loss: 763.4388\n",
      "Epoch 43/75\n",
      "157/157 [==============================] - 0s 64us/step - loss: 544.0216 - val_loss: 849.6191\n",
      "Epoch 44/75\n",
      "157/157 [==============================] - 0s 51us/step - loss: 531.2957 - val_loss: 737.8584\n",
      "Epoch 45/75\n",
      "157/157 [==============================] - 0s 64us/step - loss: 505.1168 - val_loss: 772.2979\n",
      "Epoch 46/75\n",
      "157/157 [==============================] - 0s 70us/step - loss: 463.6996 - val_loss: 749.0827\n",
      "Epoch 47/75\n",
      "157/157 [==============================] - 0s 64us/step - loss: 545.5334 - val_loss: 779.6593\n",
      "Epoch 48/75\n",
      "157/157 [==============================] - 0s 76us/step - loss: 533.2773 - val_loss: 716.7126\n",
      "Epoch 49/75\n",
      "157/157 [==============================] - 0s 70us/step - loss: 493.2624 - val_loss: 785.2257\n",
      "Epoch 50/75\n",
      "157/157 [==============================] - 0s 57us/step - loss: 525.5852 - val_loss: 736.7404\n",
      "Epoch 51/75\n",
      "157/157 [==============================] - 0s 57us/step - loss: 477.2867 - val_loss: 767.7411\n",
      "Epoch 52/75\n",
      "157/157 [==============================] - 0s 64us/step - loss: 460.9869 - val_loss: 724.3871\n",
      "Epoch 53/75\n",
      "157/157 [==============================] - 0s 57us/step - loss: 552.4693 - val_loss: 788.8638\n",
      "Epoch 54/75\n",
      "157/157 [==============================] - 0s 70us/step - loss: 516.7503 - val_loss: 761.3819\n",
      "Epoch 55/75\n",
      "157/157 [==============================] - 0s 51us/step - loss: 592.7863 - val_loss: 716.4391\n",
      "Epoch 56/75\n",
      "157/157 [==============================] - 0s 64us/step - loss: 516.9123 - val_loss: 749.8052\n",
      "Epoch 57/75\n",
      "157/157 [==============================] - 0s 57us/step - loss: 595.9512 - val_loss: 879.5927\n",
      "Epoch 58/75\n",
      "157/157 [==============================] - 0s 51us/step - loss: 533.1081 - val_loss: 734.1888\n",
      "Epoch 59/75\n",
      "157/157 [==============================] - 0s 64us/step - loss: 595.8134 - val_loss: 810.7907\n",
      "Epoch 60/75\n",
      "157/157 [==============================] - 0s 63us/step - loss: 572.3430 - val_loss: 910.8429\n",
      "Epoch 61/75\n",
      "157/157 [==============================] - 0s 51us/step - loss: 536.3567 - val_loss: 778.0628\n",
      "Epoch 62/75\n",
      "157/157 [==============================] - 0s 64us/step - loss: 561.5008 - val_loss: 751.8377\n",
      "Epoch 63/75\n",
      "157/157 [==============================] - 0s 57us/step - loss: 540.1982 - val_loss: 823.2261\n",
      "Epoch 64/75\n",
      "157/157 [==============================] - 0s 57us/step - loss: 505.5372 - val_loss: 706.1725\n",
      "Epoch 65/75\n",
      "157/157 [==============================] - 0s 57us/step - loss: 551.2315 - val_loss: 729.2557\n",
      "Epoch 66/75\n",
      "157/157 [==============================] - 0s 57us/step - loss: 520.0376 - val_loss: 760.3480\n",
      "Epoch 67/75\n",
      "157/157 [==============================] - 0s 64us/step - loss: 560.3317 - val_loss: 716.0127\n",
      "Epoch 68/75\n",
      "157/157 [==============================] - 0s 63us/step - loss: 507.2318 - val_loss: 833.4677\n",
      "Epoch 69/75\n",
      "157/157 [==============================] - 0s 64us/step - loss: 520.6456 - val_loss: 723.2214\n",
      "Epoch 70/75\n",
      "157/157 [==============================] - 0s 70us/step - loss: 547.7300 - val_loss: 795.1811\n",
      "Epoch 71/75\n",
      "157/157 [==============================] - 0s 57us/step - loss: 506.2392 - val_loss: 717.5512\n",
      "Epoch 72/75\n",
      "157/157 [==============================] - 0s 63us/step - loss: 504.2685 - val_loss: 722.7426\n",
      "Epoch 73/75\n",
      "157/157 [==============================] - 0s 51us/step - loss: 503.4117 - val_loss: 781.3081\n",
      "Epoch 74/75\n",
      "157/157 [==============================] - 0s 64us/step - loss: 432.8718 - val_loss: 705.4593\n",
      "Epoch 75/75\n",
      "157/157 [==============================] - 0s 51us/step - loss: 519.5883 - val_loss: 723.3833\n"
     ]
    },
    {
     "data": {
      "text/plain": [
       "<keras.callbacks.History at 0x1ef04338198>"
      ]
     },
     "execution_count": 398,
     "metadata": {},
     "output_type": "execute_result"
    }
   ],
   "source": [
    "rb_model.fit(X_train_fy_rbs[features], y_train_fy_rbs, validation_data=(X_test_fy_rbs[features], y_test_fy_rbs), epochs=75, batch_size=32)"
   ]
  },
  {
   "cell_type": "markdown",
   "metadata": {},
   "source": [
    "# Receiver"
   ]
  },
  {
   "cell_type": "code",
   "execution_count": 316,
   "metadata": {},
   "outputs": [],
   "source": [
    "avg_recs = avg_players[(avg_players['position']=='WR') | (avg_players['position']=='TE')]\n",
    "fy_recs = final_year_players[(final_year_players['position']=='WR') | (final_year_players['position']=='TE')]"
   ]
  },
  {
   "cell_type": "markdown",
   "metadata": {},
   "source": [
    "## Average Statistics"
   ]
  },
  {
   "cell_type": "code",
   "execution_count": 321,
   "metadata": {
    "scrolled": true
   },
   "outputs": [
    {
     "data": {
      "text/plain": [
       "draft_overall            0\n",
       "draft_round              0\n",
       "draft_year               0\n",
       "player                   0\n",
       "position                 0\n",
       "school                   0\n",
       "wins                    22\n",
       "losses                  22\n",
       "rank                    22\n",
       "nfl_team_win_perc        0\n",
       "bench_reps              92\n",
       "broad_jump              86\n",
       "cone                    97\n",
       "forty_yd                86\n",
       "height                  75\n",
       "shuttle                 95\n",
       "vertical                86\n",
       "weight                  75\n",
       "games                   22\n",
       "pass_cmp                22\n",
       "pass_att                22\n",
       "pass_cmp_pct            22\n",
       "pass_yds                22\n",
       "pass_yds_per_att        22\n",
       "adj_pass_yds_per_att    22\n",
       "pass_td                 22\n",
       "pass_int                22\n",
       "pass_rating             22\n",
       "rush_att                22\n",
       "rush_yds                22\n",
       "rush_yds_per_att        22\n",
       "rush_td                 22\n",
       "rec                     22\n",
       "rec_yds                 22\n",
       "rec_yds_per_rec         22\n",
       "rec_td                  22\n",
       "scrim_att               22\n",
       "scrim_yds               22\n",
       "scrim_yds_per_att       22\n",
       "scrim_td                22\n",
       "tackles_solo            22\n",
       "tackles_assists         22\n",
       "tackles_total           22\n",
       "tackles_loss            22\n",
       "sacks                   22\n",
       "def_int                 22\n",
       "def_int_yds             22\n",
       "def_int_yds_per_int     22\n",
       "def_int_td              22\n",
       "pass_defended           22\n",
       "dtype: int64"
      ]
     },
     "execution_count": 321,
     "metadata": {},
     "output_type": "execute_result"
    }
   ],
   "source": [
    "avg_recs.isnull().sum()[:50]"
   ]
  },
  {
   "cell_type": "code",
   "execution_count": 322,
   "metadata": {
    "scrolled": true
   },
   "outputs": [
    {
     "data": {
      "text/plain": [
       "fumbles_rec             22\n",
       "fumbles_rec_yds         22\n",
       "fumbles_rec_td          22\n",
       "fumbles_forced          22\n",
       "punt_ret                22\n",
       "punt_ret_yds            22\n",
       "punt_ret_yds_per_ret    22\n",
       "punt_ret_td             22\n",
       "kick_ret                22\n",
       "kick_ret_yds            22\n",
       "kick_ret_yds_per_ret    22\n",
       "kick_ret_td             22\n",
       "avg_grade                0\n",
       "conference_ACC           0\n",
       "conference_American      0\n",
       "conference_Big 12        0\n",
       "conference_Big East      0\n",
       "conference_Big Ten       0\n",
       "conference_CUSA          0\n",
       "conference_Ind           0\n",
       "conference_MAC           0\n",
       "conference_MVC           0\n",
       "conference_MWC           0\n",
       "conference_Pac-10        0\n",
       "conference_Pac-12        0\n",
       "conference_SEC           0\n",
       "conference_Sun Belt      0\n",
       "conference_WAC           0\n",
       "nfl_team_49ers           0\n",
       "nfl_team_Bears           0\n",
       "nfl_team_Bengals         0\n",
       "nfl_team_Bills           0\n",
       "nfl_team_Broncos         0\n",
       "nfl_team_Browns          0\n",
       "nfl_team_Buccaneers      0\n",
       "nfl_team_Cardinals       0\n",
       "nfl_team_Chargers        0\n",
       "nfl_team_Chiefs          0\n",
       "nfl_team_Colts           0\n",
       "nfl_team_Cowboys         0\n",
       "nfl_team_Dolphins        0\n",
       "nfl_team_Eagles          0\n",
       "nfl_team_Falcons         0\n",
       "nfl_team_Giants          0\n",
       "nfl_team_Jaguars         0\n",
       "nfl_team_Jets            0\n",
       "nfl_team_Lions           0\n",
       "nfl_team_Packers         0\n",
       "nfl_team_Panthers        0\n",
       "nfl_team_Patriots        0\n",
       "nfl_team_Raiders         0\n",
       "nfl_team_Rams            0\n",
       "nfl_team_Ravens          0\n",
       "nfl_team_Redskins        0\n",
       "nfl_team_Saints          0\n",
       "nfl_team_Seahawks        0\n",
       "nfl_team_Steelers        0\n",
       "nfl_team_Texans          0\n",
       "nfl_team_Titans          0\n",
       "nfl_team_Vikings         0\n",
       "dtype: int64"
      ]
     },
     "execution_count": 322,
     "metadata": {},
     "output_type": "execute_result"
    }
   ],
   "source": [
    "avg_recs.isnull().sum()[50:]"
   ]
  },
  {
   "cell_type": "code",
   "execution_count": 318,
   "metadata": {},
   "outputs": [
    {
     "data": {
      "text/plain": [
       "530"
      ]
     },
     "execution_count": 318,
     "metadata": {},
     "output_type": "execute_result"
    }
   ],
   "source": [
    "len(avg_recs)"
   ]
  },
  {
   "cell_type": "code",
   "execution_count": 319,
   "metadata": {},
   "outputs": [
    {
     "data": {
      "text/plain": [
       "Index(['draft_overall', 'draft_round', 'draft_year', 'player', 'position',\n",
       "       'school', 'wins', 'losses', 'rank', 'nfl_team_win_perc', 'bench_reps',\n",
       "       'broad_jump', 'cone', 'forty_yd', 'height', 'shuttle', 'vertical',\n",
       "       'weight', 'games', 'pass_cmp', 'pass_att', 'pass_cmp_pct', 'pass_yds',\n",
       "       'pass_yds_per_att', 'adj_pass_yds_per_att', 'pass_td', 'pass_int',\n",
       "       'pass_rating', 'rush_att', 'rush_yds', 'rush_yds_per_att', 'rush_td',\n",
       "       'rec', 'rec_yds', 'rec_yds_per_rec', 'rec_td', 'scrim_att', 'scrim_yds',\n",
       "       'scrim_yds_per_att', 'scrim_td', 'tackles_solo', 'tackles_assists',\n",
       "       'tackles_total', 'tackles_loss', 'sacks', 'def_int', 'def_int_yds',\n",
       "       'def_int_yds_per_int', 'def_int_td', 'pass_defended'],\n",
       "      dtype='object')"
      ]
     },
     "execution_count": 319,
     "metadata": {},
     "output_type": "execute_result"
    }
   ],
   "source": [
    "avg_recs.columns[:50]"
   ]
  },
  {
   "cell_type": "code",
   "execution_count": 320,
   "metadata": {},
   "outputs": [
    {
     "data": {
      "text/plain": [
       "Index(['fumbles_rec', 'fumbles_rec_yds', 'fumbles_rec_td', 'fumbles_forced',\n",
       "       'punt_ret', 'punt_ret_yds', 'punt_ret_yds_per_ret', 'punt_ret_td',\n",
       "       'kick_ret', 'kick_ret_yds', 'kick_ret_yds_per_ret', 'kick_ret_td',\n",
       "       'avg_grade', 'conference_ACC', 'conference_American',\n",
       "       'conference_Big 12', 'conference_Big East', 'conference_Big Ten',\n",
       "       'conference_CUSA', 'conference_Ind', 'conference_MAC', 'conference_MVC',\n",
       "       'conference_MWC', 'conference_Pac-10', 'conference_Pac-12',\n",
       "       'conference_SEC', 'conference_Sun Belt', 'conference_WAC',\n",
       "       'nfl_team_49ers', 'nfl_team_Bears', 'nfl_team_Bengals',\n",
       "       'nfl_team_Bills', 'nfl_team_Broncos', 'nfl_team_Browns',\n",
       "       'nfl_team_Buccaneers', 'nfl_team_Cardinals', 'nfl_team_Chargers',\n",
       "       'nfl_team_Chiefs', 'nfl_team_Colts', 'nfl_team_Cowboys',\n",
       "       'nfl_team_Dolphins', 'nfl_team_Eagles', 'nfl_team_Falcons',\n",
       "       'nfl_team_Giants', 'nfl_team_Jaguars', 'nfl_team_Jets',\n",
       "       'nfl_team_Lions', 'nfl_team_Packers', 'nfl_team_Panthers',\n",
       "       'nfl_team_Patriots', 'nfl_team_Raiders', 'nfl_team_Rams',\n",
       "       'nfl_team_Ravens', 'nfl_team_Redskins', 'nfl_team_Saints',\n",
       "       'nfl_team_Seahawks', 'nfl_team_Steelers', 'nfl_team_Texans',\n",
       "       'nfl_team_Titans', 'nfl_team_Vikings'],\n",
       "      dtype='object')"
      ]
     },
     "execution_count": 320,
     "metadata": {},
     "output_type": "execute_result"
    }
   ],
   "source": [
    "avg_recs.columns[50:]"
   ]
  },
  {
   "cell_type": "code",
   "execution_count": 325,
   "metadata": {},
   "outputs": [
    {
     "name": "stderr",
     "output_type": "stream",
     "text": [
      "C:\\Users\\aidan\\Anaconda3\\envs\\DSI-6\\lib\\site-packages\\ipykernel_launcher.py:6: SettingWithCopyWarning: \n",
      "A value is trying to be set on a copy of a slice from a DataFrame\n",
      "\n",
      "See the caveats in the documentation: http://pandas.pydata.org/pandas-docs/stable/indexing.html#indexing-view-versus-copy\n",
      "  \n"
     ]
    }
   ],
   "source": [
    "avg_recs.dropna(subset=['wins', 'losses', 'rank', 'games', 'pass_cmp', 'pass_att', 'pass_cmp_pct', 'pass_yds',\n",
    "       'pass_yds_per_att', 'adj_pass_yds_per_att', 'pass_td', 'pass_int',\n",
    "       'pass_rating', 'rush_att', 'rush_yds', 'rush_yds_per_att', 'rush_td',\n",
    "       'rec', 'rec_yds', 'rec_yds_per_rec', 'rec_td', 'scrim_att', 'scrim_yds',\n",
    "       'scrim_yds_per_att', 'scrim_td', 'punt_ret', 'punt_ret_yds', 'punt_ret_yds_per_ret', 'punt_ret_td',\n",
    "       'kick_ret', 'kick_ret_yds', 'kick_ret_yds_per_ret', 'kick_ret_td'], how='all', inplace=True)\n",
    "\n",
    "avg_recs.dropna(subset=['bench_reps',\n",
    "       'broad_jump', 'cone', 'forty_yd', 'height', 'shuttle', 'vertical',\n",
    "       'weight'], how='all', inplace=True)\n",
    "\n",
    "avg_recs.dropna(inplace=True)"
   ]
  },
  {
   "cell_type": "code",
   "execution_count": 330,
   "metadata": {},
   "outputs": [
    {
     "data": {
      "text/plain": [
       "0"
      ]
     },
     "execution_count": 330,
     "metadata": {},
     "output_type": "execute_result"
    }
   ],
   "source": [
    "avg_recs.isnull().sum().sum()"
   ]
  },
  {
   "cell_type": "code",
   "execution_count": 480,
   "metadata": {},
   "outputs": [],
   "source": [
    "features = [\n",
    "#     'draft_overall', 'draft_round', 'draft_year', \n",
    "            'wins', 'losses', 'rank', 'nfl_team_win_perc', \n",
    "    'broad_jump', 'cone', 'forty_yd', 'height', 'shuttle', 'vertical', 'weight', 'games',\n",
    "       'rush_att', 'rush_yds', 'rush_yds_per_att', 'rush_td',\n",
    "       'rec', 'rec_yds', 'rec_yds_per_rec', 'rec_td', \n",
    "#     'scrim_att', 'scrim_yds', 'scrim_yds_per_att', 'scrim_td',\n",
    "    'punt_ret', 'punt_ret_yds', 'punt_ret_yds_per_ret', 'punt_ret_td',\n",
    "       'kick_ret', 'kick_ret_yds', 'kick_ret_yds_per_ret', 'kick_ret_td',\n",
    "           'conference_ACC', 'conference_American', 'conference_Big 12',\n",
    "       'conference_Big East', 'conference_Big Ten', 'conference_CUSA',\n",
    "       'conference_Ind', 'conference_MAC', 'conference_MVC', 'conference_MWC',\n",
    "       'conference_Pac-10', 'conference_Pac-12', 'conference_SEC',\n",
    "       'conference_Sun Belt', 'conference_WAC', 'nfl_team_49ers',\n",
    "       'nfl_team_Bears', 'nfl_team_Bengals', 'nfl_team_Bills',\n",
    "       'nfl_team_Broncos', 'nfl_team_Browns', 'nfl_team_Buccaneers',\n",
    "       'nfl_team_Cardinals', 'nfl_team_Chargers', 'nfl_team_Chiefs',\n",
    "       'nfl_team_Colts', 'nfl_team_Cowboys', 'nfl_team_Dolphins',\n",
    "       'nfl_team_Eagles', 'nfl_team_Falcons', 'nfl_team_Giants',\n",
    "       'nfl_team_Jaguars', 'nfl_team_Jets', 'nfl_team_Lions',\n",
    "       'nfl_team_Packers', 'nfl_team_Panthers', 'nfl_team_Patriots',\n",
    "       'nfl_team_Raiders', 'nfl_team_Rams', 'nfl_team_Ravens',\n",
    "       'nfl_team_Redskins', 'nfl_team_Saints', 'nfl_team_Seahawks',\n",
    "       'nfl_team_Steelers', 'nfl_team_Texans', 'nfl_team_Titans',\n",
    "       'nfl_team_Vikings']"
   ]
  },
  {
   "cell_type": "code",
   "execution_count": 481,
   "metadata": {},
   "outputs": [],
   "source": [
    "X_train_avg_recs = avg_recs[avg_recs['draft_year']<2015]\n",
    "y_train_avg_recs = avg_recs[avg_recs['draft_year']<2015]['avg_grade']\n",
    "X_test_avg_recs = avg_recs[avg_recs['draft_year']>=2015]\n",
    "y_test_avg_recs = avg_recs[avg_recs['draft_year']>=2015]['avg_grade']"
   ]
  },
  {
   "cell_type": "markdown",
   "metadata": {},
   "source": [
    "#### Linear Regression"
   ]
  },
  {
   "cell_type": "code",
   "execution_count": 482,
   "metadata": {},
   "outputs": [
    {
     "data": {
      "text/plain": [
       "-0.4734360540290099"
      ]
     },
     "execution_count": 482,
     "metadata": {},
     "output_type": "execute_result"
    }
   ],
   "source": [
    "lr = LinearRegression()\n",
    "lr.fit(X_train_avg_recs[features], y_train_avg_recs)\n",
    "lr_avg_recs_preds = lr.predict(X_test_avg_recs[features])\n",
    "\n",
    "r2_score(y_test_avg_recs, lr_avg_recs_preds)"
   ]
  },
  {
   "cell_type": "code",
   "execution_count": 489,
   "metadata": {},
   "outputs": [
    {
     "data": {
      "text/plain": [
       "1039.1182544364533"
      ]
     },
     "execution_count": 489,
     "metadata": {},
     "output_type": "execute_result"
    }
   ],
   "source": [
    "mean_squared_error(y_test_avg_recs, lr_avg_recs_preds)"
   ]
  },
  {
   "cell_type": "markdown",
   "metadata": {},
   "source": [
    "#### Random Forest"
   ]
  },
  {
   "cell_type": "code",
   "execution_count": 493,
   "metadata": {},
   "outputs": [
    {
     "data": {
      "text/plain": [
       "-0.07230940968804167"
      ]
     },
     "execution_count": 493,
     "metadata": {},
     "output_type": "execute_result"
    }
   ],
   "source": [
    "rf = RandomForestRegressor()\n",
    "rf.fit(X_train_avg_recs[features], y_train_avg_recs)\n",
    "rf_avg_recs_preds = rf.predict(X_test_avg_recs[features])\n",
    "\n",
    "r2_score(y_test_avg_recs, rf_avg_recs_preds)"
   ]
  },
  {
   "cell_type": "code",
   "execution_count": 494,
   "metadata": {},
   "outputs": [
    {
     "data": {
      "text/plain": [
       "756.2298200617284"
      ]
     },
     "execution_count": 494,
     "metadata": {},
     "output_type": "execute_result"
    }
   ],
   "source": [
    "mean_squared_error(y_test_avg_recs, rf_avg_recs_preds)"
   ]
  },
  {
   "cell_type": "markdown",
   "metadata": {},
   "source": [
    "#### Neural Net"
   ]
  },
  {
   "cell_type": "code",
   "execution_count": 495,
   "metadata": {},
   "outputs": [],
   "source": [
    "np.random.seed(42)\n",
    "rec_model = Sequential()\n",
    "rec_model.add(Dense(X_train_avg_recs[features].shape[1], input_shape=(X_train_avg_recs[features].shape[1],), activation='relu'))\n",
    "rec_model.add(Dropout(0.5))\n",
    "rec_model.add(Dense(12, activation='relu'))\n",
    "rec_model.add(Dense(6, activation='relu'))\n",
    "rec_model.add(Dense(1))\n",
    "\n",
    "adam = Adam(lr=0.01)\n",
    "rec_model.compile(loss='mean_squared_error', optimizer=adam)"
   ]
  },
  {
   "cell_type": "code",
   "execution_count": 496,
   "metadata": {
    "scrolled": true
   },
   "outputs": [
    {
     "name": "stdout",
     "output_type": "stream",
     "text": [
      "Train on 309 samples, validate on 99 samples\n",
      "Epoch 1/50\n",
      "309/309 [==============================] - 1s 5ms/step - loss: 4843.8335 - val_loss: 1245.3732\n",
      "Epoch 2/50\n",
      "309/309 [==============================] - 0s 68us/step - loss: 1210.5286 - val_loss: 875.8365\n",
      "Epoch 3/50\n",
      "309/309 [==============================] - 0s 68us/step - loss: 1021.2216 - val_loss: 734.4079\n",
      "Epoch 4/50\n",
      "309/309 [==============================] - 0s 74us/step - loss: 806.7014 - val_loss: 733.4049\n",
      "Epoch 5/50\n",
      "309/309 [==============================] - 0s 72us/step - loss: 798.9174 - val_loss: 785.6653\n",
      "Epoch 6/50\n",
      "309/309 [==============================] - 0s 90us/step - loss: 807.7293 - val_loss: 688.6020\n",
      "Epoch 7/50\n",
      "309/309 [==============================] - 0s 81us/step - loss: 830.0079 - val_loss: 701.8574\n",
      "Epoch 8/50\n",
      "309/309 [==============================] - 0s 71us/step - loss: 754.4168 - val_loss: 686.7095\n",
      "Epoch 9/50\n",
      "309/309 [==============================] - 0s 81us/step - loss: 776.1543 - val_loss: 689.0346\n",
      "Epoch 10/50\n",
      "309/309 [==============================] - 0s 71us/step - loss: 770.1486 - val_loss: 802.2367\n",
      "Epoch 11/50\n",
      "309/309 [==============================] - 0s 87us/step - loss: 726.4652 - val_loss: 702.6997\n",
      "Epoch 12/50\n",
      "309/309 [==============================] - 0s 71us/step - loss: 710.2234 - val_loss: 679.0114\n",
      "Epoch 13/50\n",
      "309/309 [==============================] - 0s 87us/step - loss: 789.5603 - val_loss: 723.0620\n",
      "Epoch 14/50\n",
      "309/309 [==============================] - 0s 84us/step - loss: 742.2228 - val_loss: 704.6605\n",
      "Epoch 15/50\n",
      "309/309 [==============================] - 0s 58us/step - loss: 729.2863 - val_loss: 700.9535\n",
      "Epoch 16/50\n",
      "309/309 [==============================] - 0s 74us/step - loss: 745.9099 - val_loss: 699.0460\n",
      "Epoch 17/50\n",
      "309/309 [==============================] - 0s 71us/step - loss: 718.3549 - val_loss: 692.6948\n",
      "Epoch 18/50\n",
      "309/309 [==============================] - 0s 71us/step - loss: 759.7752 - val_loss: 735.4074\n",
      "Epoch 19/50\n",
      "309/309 [==============================] - 0s 71us/step - loss: 686.6250 - val_loss: 682.9961\n",
      "Epoch 20/50\n",
      "309/309 [==============================] - 0s 71us/step - loss: 664.2665 - val_loss: 688.4350\n",
      "Epoch 21/50\n",
      "309/309 [==============================] - 0s 65us/step - loss: 639.2845 - val_loss: 715.8659\n",
      "Epoch 22/50\n",
      "309/309 [==============================] - 0s 71us/step - loss: 691.6862 - val_loss: 698.7841\n",
      "Epoch 23/50\n",
      "309/309 [==============================] - 0s 72us/step - loss: 788.6789 - val_loss: 699.5138\n",
      "Epoch 24/50\n",
      "309/309 [==============================] - 0s 76us/step - loss: 697.1290 - val_loss: 719.9256\n",
      "Epoch 25/50\n",
      "309/309 [==============================] - 0s 81us/step - loss: 711.8441 - val_loss: 681.1849\n",
      "Epoch 26/50\n",
      "309/309 [==============================] - 0s 74us/step - loss: 695.0496 - val_loss: 699.7884\n",
      "Epoch 27/50\n",
      "309/309 [==============================] - 0s 75us/step - loss: 709.4551 - val_loss: 680.7697\n",
      "Epoch 28/50\n",
      "309/309 [==============================] - 0s 79us/step - loss: 703.3286 - val_loss: 677.5469\n",
      "Epoch 29/50\n",
      "309/309 [==============================] - 0s 68us/step - loss: 688.6211 - val_loss: 703.0719\n",
      "Epoch 30/50\n",
      "309/309 [==============================] - 0s 74us/step - loss: 680.7422 - val_loss: 675.1418\n",
      "Epoch 31/50\n",
      "309/309 [==============================] - 0s 81us/step - loss: 687.1671 - val_loss: 664.7110\n",
      "Epoch 32/50\n",
      "309/309 [==============================] - 0s 74us/step - loss: 666.9681 - val_loss: 677.4789\n",
      "Epoch 33/50\n",
      "309/309 [==============================] - 0s 81us/step - loss: 703.4085 - val_loss: 665.7940\n",
      "Epoch 34/50\n",
      "309/309 [==============================] - 0s 81us/step - loss: 720.5722 - val_loss: 693.5130\n",
      "Epoch 35/50\n",
      "309/309 [==============================] - 0s 77us/step - loss: 689.4802 - val_loss: 673.1762\n",
      "Epoch 36/50\n",
      "309/309 [==============================] - 0s 77us/step - loss: 642.5020 - val_loss: 679.6540\n",
      "Epoch 37/50\n",
      "309/309 [==============================] - 0s 71us/step - loss: 644.1824 - val_loss: 674.2359\n",
      "Epoch 38/50\n",
      "309/309 [==============================] - 0s 71us/step - loss: 696.8745 - val_loss: 685.1331\n",
      "Epoch 39/50\n",
      "309/309 [==============================] - 0s 68us/step - loss: 694.8461 - val_loss: 681.8270\n",
      "Epoch 40/50\n",
      "309/309 [==============================] - 0s 81us/step - loss: 715.4296 - val_loss: 708.6819\n",
      "Epoch 41/50\n",
      "309/309 [==============================] - 0s 74us/step - loss: 701.1087 - val_loss: 703.4663\n",
      "Epoch 42/50\n",
      "309/309 [==============================] - 0s 84us/step - loss: 658.4548 - val_loss: 700.4485\n",
      "Epoch 43/50\n",
      "309/309 [==============================] - 0s 74us/step - loss: 659.9028 - val_loss: 665.4807\n",
      "Epoch 44/50\n",
      "309/309 [==============================] - 0s 74us/step - loss: 651.9743 - val_loss: 670.7165\n",
      "Epoch 45/50\n",
      "309/309 [==============================] - 0s 74us/step - loss: 654.2066 - val_loss: 669.1750\n",
      "Epoch 46/50\n",
      "309/309 [==============================] - 0s 68us/step - loss: 669.1602 - val_loss: 692.0311\n",
      "Epoch 47/50\n",
      "309/309 [==============================] - 0s 61us/step - loss: 676.5103 - val_loss: 748.4419\n",
      "Epoch 48/50\n",
      "309/309 [==============================] - 0s 74us/step - loss: 669.5610 - val_loss: 677.2999\n",
      "Epoch 49/50\n",
      "309/309 [==============================] - 0s 87us/step - loss: 676.9612 - val_loss: 839.3215\n",
      "Epoch 50/50\n",
      "309/309 [==============================] - 0s 68us/step - loss: 681.4366 - val_loss: 685.1534\n"
     ]
    },
    {
     "data": {
      "text/plain": [
       "<keras.callbacks.History at 0x1ef14ed4358>"
      ]
     },
     "execution_count": 496,
     "metadata": {},
     "output_type": "execute_result"
    }
   ],
   "source": [
    "rec_model.fit(X_train_avg_recs[features], y_train_avg_recs, validation_data=(X_test_avg_recs[features], y_test_avg_recs), epochs=50, batch_size=32)"
   ]
  },
  {
   "cell_type": "markdown",
   "metadata": {},
   "source": [
    "## Final Year Stats"
   ]
  },
  {
   "cell_type": "code",
   "execution_count": 497,
   "metadata": {
    "scrolled": true
   },
   "outputs": [
    {
     "data": {
      "text/plain": [
       "draft_overall            0\n",
       "draft_round              0\n",
       "draft_year               0\n",
       "player                   0\n",
       "position                 0\n",
       "school                   0\n",
       "wins                    23\n",
       "losses                  23\n",
       "rank                    23\n",
       "nfl_team_win_perc        0\n",
       "bench_reps              92\n",
       "broad_jump              86\n",
       "cone                    97\n",
       "forty_yd                86\n",
       "height                  75\n",
       "shuttle                 95\n",
       "vertical                86\n",
       "weight                  75\n",
       "games                   25\n",
       "pass_cmp                22\n",
       "pass_att                22\n",
       "pass_cmp_pct            22\n",
       "pass_yds                22\n",
       "pass_yds_per_att        22\n",
       "adj_pass_yds_per_att    22\n",
       "pass_td                 22\n",
       "pass_int                22\n",
       "pass_rating             22\n",
       "rush_att                22\n",
       "rush_yds                22\n",
       "                        ..\n",
       "nfl_team_Bengals         0\n",
       "nfl_team_Bills           0\n",
       "nfl_team_Broncos         0\n",
       "nfl_team_Browns          0\n",
       "nfl_team_Buccaneers      0\n",
       "nfl_team_Cardinals       0\n",
       "nfl_team_Chargers        0\n",
       "nfl_team_Chiefs          0\n",
       "nfl_team_Colts           0\n",
       "nfl_team_Cowboys         0\n",
       "nfl_team_Dolphins        0\n",
       "nfl_team_Eagles          0\n",
       "nfl_team_Falcons         0\n",
       "nfl_team_Giants          0\n",
       "nfl_team_Jaguars         0\n",
       "nfl_team_Jets            0\n",
       "nfl_team_Lions           0\n",
       "nfl_team_Packers         0\n",
       "nfl_team_Panthers        0\n",
       "nfl_team_Patriots        0\n",
       "nfl_team_Raiders         0\n",
       "nfl_team_Rams            0\n",
       "nfl_team_Ravens          0\n",
       "nfl_team_Redskins        0\n",
       "nfl_team_Saints          0\n",
       "nfl_team_Seahawks        0\n",
       "nfl_team_Steelers        0\n",
       "nfl_team_Texans          0\n",
       "nfl_team_Titans          0\n",
       "nfl_team_Vikings         0\n",
       "Length: 110, dtype: int64"
      ]
     },
     "execution_count": 497,
     "metadata": {},
     "output_type": "execute_result"
    }
   ],
   "source": [
    "fy_recs.isnull().sum()"
   ]
  },
  {
   "cell_type": "code",
   "execution_count": 498,
   "metadata": {},
   "outputs": [
    {
     "name": "stderr",
     "output_type": "stream",
     "text": [
      "C:\\Users\\aidan\\Anaconda3\\envs\\DSI-6\\lib\\site-packages\\ipykernel_launcher.py:6: SettingWithCopyWarning: \n",
      "A value is trying to be set on a copy of a slice from a DataFrame\n",
      "\n",
      "See the caveats in the documentation: http://pandas.pydata.org/pandas-docs/stable/indexing.html#indexing-view-versus-copy\n",
      "  \n",
      "C:\\Users\\aidan\\Anaconda3\\envs\\DSI-6\\lib\\site-packages\\ipykernel_launcher.py:10: SettingWithCopyWarning: \n",
      "A value is trying to be set on a copy of a slice from a DataFrame\n",
      "\n",
      "See the caveats in the documentation: http://pandas.pydata.org/pandas-docs/stable/indexing.html#indexing-view-versus-copy\n",
      "  # Remove the CWD from sys.path while we load stuff.\n",
      "C:\\Users\\aidan\\Anaconda3\\envs\\DSI-6\\lib\\site-packages\\ipykernel_launcher.py:12: SettingWithCopyWarning: \n",
      "A value is trying to be set on a copy of a slice from a DataFrame\n",
      "\n",
      "See the caveats in the documentation: http://pandas.pydata.org/pandas-docs/stable/indexing.html#indexing-view-versus-copy\n",
      "  if sys.path[0] == '':\n"
     ]
    }
   ],
   "source": [
    "fy_recs.dropna(subset=['wins', 'losses', 'rank', 'games', 'pass_cmp', 'pass_att', 'pass_cmp_pct', 'pass_yds',\n",
    "       'pass_yds_per_att', 'adj_pass_yds_per_att', 'pass_td', 'pass_int',\n",
    "       'pass_rating', 'rush_att', 'rush_yds', 'rush_yds_per_att', 'rush_td',\n",
    "       'rec', 'rec_yds', 'rec_yds_per_rec', 'rec_td', 'scrim_att', 'scrim_yds',\n",
    "       'scrim_yds_per_att', 'scrim_td', 'punt_ret', 'punt_ret_yds', 'punt_ret_yds_per_ret', 'punt_ret_td',\n",
    "       'kick_ret', 'kick_ret_yds', 'kick_ret_yds_per_ret', 'kick_ret_td'], how='all', inplace=True)\n",
    "\n",
    "fy_recs.dropna(subset=['bench_reps',\n",
    "       'broad_jump', 'cone', 'forty_yd', 'height', 'shuttle', 'vertical',\n",
    "       'weight'], how='all', inplace=True)\n",
    "\n",
    "fy_recs.dropna(inplace=True)"
   ]
  },
  {
   "cell_type": "code",
   "execution_count": 500,
   "metadata": {},
   "outputs": [
    {
     "data": {
      "text/plain": [
       "0"
      ]
     },
     "execution_count": 500,
     "metadata": {},
     "output_type": "execute_result"
    }
   ],
   "source": [
    "fy_recs.isnull().sum().sum()"
   ]
  },
  {
   "cell_type": "code",
   "execution_count": 501,
   "metadata": {},
   "outputs": [],
   "source": [
    "X_train_fy_recs = fy_recs[fy_recs['draft_year']<2015]\n",
    "y_train_fy_recs = fy_recs[fy_recs['draft_year']<2015]['avg_grade']\n",
    "X_test_fy_recs = fy_recs[fy_recs['draft_year']>=2015]\n",
    "y_test_fy_recs = fy_recs[fy_recs['draft_year']>=2015]['avg_grade']"
   ]
  },
  {
   "cell_type": "markdown",
   "metadata": {},
   "source": [
    "#### Linear Regression"
   ]
  },
  {
   "cell_type": "code",
   "execution_count": 502,
   "metadata": {},
   "outputs": [
    {
     "data": {
      "text/plain": [
       "-0.7245357211595806"
      ]
     },
     "execution_count": 502,
     "metadata": {},
     "output_type": "execute_result"
    }
   ],
   "source": [
    "lr = LinearRegression()\n",
    "lr.fit(X_train_fy_recs[features], y_train_fy_recs)\n",
    "lr_fy_recs_preds = lr.predict(X_test_fy_recs[features])\n",
    "\n",
    "r2_score(y_test_fy_recs, lr_fy_recs_preds)"
   ]
  },
  {
   "cell_type": "code",
   "execution_count": 503,
   "metadata": {},
   "outputs": [
    {
     "data": {
      "text/plain": [
       "1199.9069294024655"
      ]
     },
     "execution_count": 503,
     "metadata": {},
     "output_type": "execute_result"
    }
   ],
   "source": [
    "mean_squared_error(y_test_fy_recs, lr_fy_recs_preds)"
   ]
  },
  {
   "cell_type": "markdown",
   "metadata": {},
   "source": [
    "#### Random Forest"
   ]
  },
  {
   "cell_type": "code",
   "execution_count": 505,
   "metadata": {},
   "outputs": [
    {
     "data": {
      "text/plain": [
       "-0.1740290583130415"
      ]
     },
     "execution_count": 505,
     "metadata": {},
     "output_type": "execute_result"
    }
   ],
   "source": [
    "rf = RandomForestRegressor()\n",
    "rf.fit(X_train_fy_recs[features], y_train_fy_recs)\n",
    "rf_fy_recs_preds = rf.predict(X_test_fy_recs[features])\n",
    "\n",
    "r2_score(y_test_fy_recs, rf_fy_recs_preds)"
   ]
  },
  {
   "cell_type": "code",
   "execution_count": 506,
   "metadata": {},
   "outputs": [
    {
     "data": {
      "text/plain": [
       "816.8723820011337"
      ]
     },
     "execution_count": 506,
     "metadata": {},
     "output_type": "execute_result"
    }
   ],
   "source": [
    "mean_squared_error(y_test_fy_recs, rf_fy_recs_preds)"
   ]
  },
  {
   "cell_type": "code",
   "execution_count": 509,
   "metadata": {},
   "outputs": [],
   "source": [
    "np.random.seed(42)\n",
    "rec_model = Sequential()\n",
    "rec_model.add(Dense(X_train_fy_recs[features].shape[1], input_shape=(X_train_fy_recs[features].shape[1],), activation='relu'))\n",
    "rec_model.add(Dropout(0.5))\n",
    "rec_model.add(Dense(12, activation='relu'))\n",
    "rec_model.add(Dense(6, activation='relu'))\n",
    "rec_model.add(Dense(1))\n",
    "\n",
    "adam = Adam(lr=0.01)\n",
    "rec_model.compile(loss='mean_squared_error', optimizer=adam)"
   ]
  },
  {
   "cell_type": "code",
   "execution_count": 511,
   "metadata": {
    "scrolled": true
   },
   "outputs": [
    {
     "name": "stdout",
     "output_type": "stream",
     "text": [
      "Train on 309 samples, validate on 98 samples\n",
      "Epoch 1/50\n",
      "309/309 [==============================] - 1s 5ms/step - loss: 6606.8802 - val_loss: 986.8778\n",
      "Epoch 2/50\n",
      "309/309 [==============================] - 0s 74us/step - loss: 1357.6241 - val_loss: 919.0400\n",
      "Epoch 3/50\n",
      "309/309 [==============================] - 0s 87us/step - loss: 1114.2138 - val_loss: 826.3195\n",
      "Epoch 4/50\n",
      "309/309 [==============================] - 0s 68us/step - loss: 870.3818 - val_loss: 744.9652\n",
      "Epoch 5/50\n",
      "309/309 [==============================] - 0s 74us/step - loss: 905.3053 - val_loss: 814.7913\n",
      "Epoch 6/50\n",
      "309/309 [==============================] - 0s 65us/step - loss: 820.1396 - val_loss: 717.6346\n",
      "Epoch 7/50\n",
      "309/309 [==============================] - 0s 71us/step - loss: 882.6113 - val_loss: 720.3613\n",
      "Epoch 8/50\n",
      "309/309 [==============================] - 0s 74us/step - loss: 763.3658 - val_loss: 712.9243\n",
      "Epoch 9/50\n",
      "309/309 [==============================] - 0s 71us/step - loss: 779.2318 - val_loss: 726.9275\n",
      "Epoch 10/50\n",
      "309/309 [==============================] - 0s 74us/step - loss: 764.2612 - val_loss: 905.3282\n",
      "Epoch 11/50\n",
      "309/309 [==============================] - 0s 68us/step - loss: 775.9940 - val_loss: 716.9136\n",
      "Epoch 12/50\n",
      "309/309 [==============================] - 0s 65us/step - loss: 710.8548 - val_loss: 711.5670\n",
      "Epoch 13/50\n",
      "309/309 [==============================] - 0s 68us/step - loss: 758.8011 - val_loss: 771.3181\n",
      "Epoch 14/50\n",
      "309/309 [==============================] - 0s 84us/step - loss: 718.5222 - val_loss: 707.0346\n",
      "Epoch 15/50\n",
      "309/309 [==============================] - 0s 71us/step - loss: 730.8157 - val_loss: 707.7162\n",
      "Epoch 16/50\n",
      "309/309 [==============================] - 0s 78us/step - loss: 719.6998 - val_loss: 699.8806\n",
      "Epoch 17/50\n",
      "309/309 [==============================] - 0s 74us/step - loss: 720.9400 - val_loss: 705.8792\n",
      "Epoch 18/50\n",
      "309/309 [==============================] - 0s 68us/step - loss: 746.9698 - val_loss: 704.7452\n",
      "Epoch 19/50\n",
      "309/309 [==============================] - 0s 81us/step - loss: 656.0662 - val_loss: 706.4616\n",
      "Epoch 20/50\n",
      "309/309 [==============================] - 0s 93us/step - loss: 686.8620 - val_loss: 704.2761\n",
      "Epoch 21/50\n",
      "309/309 [==============================] - 0s 71us/step - loss: 671.9728 - val_loss: 722.2615\n",
      "Epoch 22/50\n",
      "309/309 [==============================] - 0s 94us/step - loss: 695.4631 - val_loss: 709.7853\n",
      "Epoch 23/50\n",
      "309/309 [==============================] - 0s 90us/step - loss: 722.7400 - val_loss: 780.1956\n",
      "Epoch 24/50\n",
      "309/309 [==============================] - 0s 78us/step - loss: 674.8978 - val_loss: 696.3364\n",
      "Epoch 25/50\n",
      "309/309 [==============================] - 0s 74us/step - loss: 661.0251 - val_loss: 691.4634\n",
      "Epoch 26/50\n",
      "309/309 [==============================] - 0s 71us/step - loss: 682.8241 - val_loss: 689.5037\n",
      "Epoch 27/50\n",
      "309/309 [==============================] - 0s 74us/step - loss: 684.6429 - val_loss: 691.0435\n",
      "Epoch 28/50\n",
      "309/309 [==============================] - 0s 92us/step - loss: 705.3058 - val_loss: 697.4296\n",
      "Epoch 29/50\n",
      "309/309 [==============================] - 0s 73us/step - loss: 664.5321 - val_loss: 758.1362\n",
      "Epoch 30/50\n",
      "309/309 [==============================] - 0s 71us/step - loss: 711.2913 - val_loss: 693.7175\n",
      "Epoch 31/50\n",
      "309/309 [==============================] - 0s 77us/step - loss: 717.8588 - val_loss: 680.3080\n",
      "Epoch 32/50\n",
      "309/309 [==============================] - 0s 68us/step - loss: 655.3933 - val_loss: 690.9778\n",
      "Epoch 33/50\n",
      "309/309 [==============================] - 0s 71us/step - loss: 681.7174 - val_loss: 705.6685\n",
      "Epoch 34/50\n",
      "309/309 [==============================] - 0s 68us/step - loss: 693.4192 - val_loss: 739.1076\n",
      "Epoch 35/50\n",
      "309/309 [==============================] - 0s 87us/step - loss: 659.6976 - val_loss: 700.5240\n",
      "Epoch 36/50\n",
      "309/309 [==============================] - 0s 71us/step - loss: 670.0306 - val_loss: 703.2635\n",
      "Epoch 37/50\n",
      "309/309 [==============================] - 0s 74us/step - loss: 654.8023 - val_loss: 699.1880\n",
      "Epoch 38/50\n",
      "309/309 [==============================] - 0s 71us/step - loss: 678.2294 - val_loss: 707.4501\n",
      "Epoch 39/50\n",
      "309/309 [==============================] - 0s 71us/step - loss: 683.3519 - val_loss: 701.2388\n",
      "Epoch 40/50\n",
      "309/309 [==============================] - 0s 71us/step - loss: 686.9968 - val_loss: 726.4491\n",
      "Epoch 41/50\n",
      "309/309 [==============================] - 0s 68us/step - loss: 686.7513 - val_loss: 710.4640\n",
      "Epoch 42/50\n",
      "309/309 [==============================] - 0s 68us/step - loss: 660.6874 - val_loss: 722.5575\n",
      "Epoch 43/50\n",
      "309/309 [==============================] - 0s 74us/step - loss: 661.0767 - val_loss: 697.4104\n",
      "Epoch 44/50\n",
      "309/309 [==============================] - 0s 74us/step - loss: 658.5215 - val_loss: 681.2775\n",
      "Epoch 45/50\n",
      "309/309 [==============================] - 0s 71us/step - loss: 641.6206 - val_loss: 686.0378\n",
      "Epoch 46/50\n",
      "309/309 [==============================] - 0s 71us/step - loss: 653.6816 - val_loss: 703.4732\n",
      "Epoch 47/50\n",
      "309/309 [==============================] - 0s 74us/step - loss: 657.7760 - val_loss: 723.6195\n",
      "Epoch 48/50\n",
      "309/309 [==============================] - 0s 71us/step - loss: 657.6407 - val_loss: 708.5764\n",
      "Epoch 49/50\n",
      "309/309 [==============================] - 0s 74us/step - loss: 659.1626 - val_loss: 835.7421\n",
      "Epoch 50/50\n",
      "309/309 [==============================] - 0s 68us/step - loss: 686.4352 - val_loss: 706.9421\n"
     ]
    },
    {
     "data": {
      "text/plain": [
       "<keras.callbacks.History at 0x1ef05c08c50>"
      ]
     },
     "execution_count": 511,
     "metadata": {},
     "output_type": "execute_result"
    }
   ],
   "source": [
    "rec_model.fit(X_train_fy_recs[features], y_train_fy_recs, validation_data=(X_test_fy_recs[features], y_test_fy_recs), epochs=50, batch_size=32)"
   ]
  },
  {
   "cell_type": "markdown",
   "metadata": {},
   "source": [
    "# Defense"
   ]
  },
  {
   "cell_type": "markdown",
   "metadata": {},
   "source": [
    "## Average Stats"
   ]
  },
  {
   "cell_type": "code",
   "execution_count": 543,
   "metadata": {},
   "outputs": [],
   "source": [
    "def_pos = ['CB', 'DE', 'ILB', 'S', 'DT', 'OLB', 'LB', 'DB', 'DL', 'NT']\n",
    "avg_players['defense'] = avg_players['position'].map(lambda x: 1 if x in def_pos else 0)\n",
    "final_year_players['defense'] = final_year_players['position'].map(lambda x: 1 if x in def_pos else 0)"
   ]
  },
  {
   "cell_type": "code",
   "execution_count": 544,
   "metadata": {},
   "outputs": [],
   "source": [
    "avg_defs = avg_players[avg_players['defense']==1]\n",
    "fy_defs = final_year_players[final_year_players['defense']==1]"
   ]
  },
  {
   "cell_type": "code",
   "execution_count": 545,
   "metadata": {},
   "outputs": [
    {
     "data": {
      "text/plain": [
       "1392"
      ]
     },
     "execution_count": 545,
     "metadata": {},
     "output_type": "execute_result"
    }
   ],
   "source": [
    "len(avg_defs)"
   ]
  },
  {
   "cell_type": "code",
   "execution_count": 546,
   "metadata": {},
   "outputs": [
    {
     "data": {
      "text/plain": [
       "Index(['draft_overall', 'draft_round', 'draft_year', 'player', 'position',\n",
       "       'school', 'wins', 'losses', 'rank', 'nfl_team_win_perc', 'bench_reps',\n",
       "       'broad_jump', 'cone', 'forty_yd', 'height', 'shuttle', 'vertical',\n",
       "       'weight', 'games', 'pass_cmp', 'pass_att', 'pass_cmp_pct', 'pass_yds',\n",
       "       'pass_yds_per_att', 'adj_pass_yds_per_att', 'pass_td', 'pass_int',\n",
       "       'pass_rating', 'rush_att', 'rush_yds', 'rush_yds_per_att', 'rush_td',\n",
       "       'rec', 'rec_yds', 'rec_yds_per_rec', 'rec_td', 'scrim_att', 'scrim_yds',\n",
       "       'scrim_yds_per_att', 'scrim_td', 'tackles_solo', 'tackles_assists',\n",
       "       'tackles_total', 'tackles_loss', 'sacks', 'def_int', 'def_int_yds',\n",
       "       'def_int_yds_per_int', 'def_int_td', 'pass_defended'],\n",
       "      dtype='object')"
      ]
     },
     "execution_count": 546,
     "metadata": {},
     "output_type": "execute_result"
    }
   ],
   "source": [
    "avg_defs.columns[:50]"
   ]
  },
  {
   "cell_type": "code",
   "execution_count": 547,
   "metadata": {},
   "outputs": [
    {
     "data": {
      "text/plain": [
       "Index(['fumbles_rec', 'fumbles_rec_yds', 'fumbles_rec_td', 'fumbles_forced',\n",
       "       'punt_ret', 'punt_ret_yds', 'punt_ret_yds_per_ret', 'punt_ret_td',\n",
       "       'kick_ret', 'kick_ret_yds', 'kick_ret_yds_per_ret', 'kick_ret_td',\n",
       "       'avg_grade', 'conference_ACC', 'conference_American',\n",
       "       'conference_Big 12', 'conference_Big East', 'conference_Big Ten',\n",
       "       'conference_CUSA', 'conference_Ind', 'conference_MAC', 'conference_MVC',\n",
       "       'conference_MWC', 'conference_Pac-10', 'conference_Pac-12',\n",
       "       'conference_SEC', 'conference_Sun Belt', 'conference_WAC',\n",
       "       'nfl_team_49ers', 'nfl_team_Bears', 'nfl_team_Bengals',\n",
       "       'nfl_team_Bills', 'nfl_team_Broncos', 'nfl_team_Browns',\n",
       "       'nfl_team_Buccaneers', 'nfl_team_Cardinals', 'nfl_team_Chargers',\n",
       "       'nfl_team_Chiefs', 'nfl_team_Colts', 'nfl_team_Cowboys',\n",
       "       'nfl_team_Dolphins', 'nfl_team_Eagles', 'nfl_team_Falcons',\n",
       "       'nfl_team_Giants', 'nfl_team_Jaguars', 'nfl_team_Jets',\n",
       "       'nfl_team_Lions', 'nfl_team_Packers', 'nfl_team_Panthers',\n",
       "       'nfl_team_Patriots', 'nfl_team_Raiders', 'nfl_team_Rams',\n",
       "       'nfl_team_Ravens', 'nfl_team_Redskins', 'nfl_team_Saints',\n",
       "       'nfl_team_Seahawks', 'nfl_team_Steelers', 'nfl_team_Texans',\n",
       "       'nfl_team_Titans', 'nfl_team_Vikings', 'defense'],\n",
       "      dtype='object')"
      ]
     },
     "execution_count": 547,
     "metadata": {},
     "output_type": "execute_result"
    }
   ],
   "source": [
    "avg_defs.columns[50:]"
   ]
  },
  {
   "cell_type": "code",
   "execution_count": 548,
   "metadata": {
    "scrolled": true
   },
   "outputs": [
    {
     "data": {
      "text/plain": [
       "fumbles_rec             67\n",
       "fumbles_rec_yds         67\n",
       "fumbles_rec_td          67\n",
       "fumbles_forced          67\n",
       "punt_ret                67\n",
       "punt_ret_yds            67\n",
       "punt_ret_yds_per_ret    67\n",
       "punt_ret_td             67\n",
       "kick_ret                67\n",
       "kick_ret_yds            67\n",
       "kick_ret_yds_per_ret    67\n",
       "kick_ret_td             67\n",
       "avg_grade                0\n",
       "conference_ACC           0\n",
       "conference_American      0\n",
       "conference_Big 12        0\n",
       "conference_Big East      0\n",
       "conference_Big Ten       0\n",
       "conference_CUSA          0\n",
       "conference_Ind           0\n",
       "conference_MAC           0\n",
       "conference_MVC           0\n",
       "conference_MWC           0\n",
       "conference_Pac-10        0\n",
       "conference_Pac-12        0\n",
       "conference_SEC           0\n",
       "conference_Sun Belt      0\n",
       "conference_WAC           0\n",
       "nfl_team_49ers           0\n",
       "nfl_team_Bears           0\n",
       "                        ..\n",
       "nfl_team_Bills           0\n",
       "nfl_team_Broncos         0\n",
       "nfl_team_Browns          0\n",
       "nfl_team_Buccaneers      0\n",
       "nfl_team_Cardinals       0\n",
       "nfl_team_Chargers        0\n",
       "nfl_team_Chiefs          0\n",
       "nfl_team_Colts           0\n",
       "nfl_team_Cowboys         0\n",
       "nfl_team_Dolphins        0\n",
       "nfl_team_Eagles          0\n",
       "nfl_team_Falcons         0\n",
       "nfl_team_Giants          0\n",
       "nfl_team_Jaguars         0\n",
       "nfl_team_Jets            0\n",
       "nfl_team_Lions           0\n",
       "nfl_team_Packers         0\n",
       "nfl_team_Panthers        0\n",
       "nfl_team_Patriots        0\n",
       "nfl_team_Raiders         0\n",
       "nfl_team_Rams            0\n",
       "nfl_team_Ravens          0\n",
       "nfl_team_Redskins        0\n",
       "nfl_team_Saints          0\n",
       "nfl_team_Seahawks        0\n",
       "nfl_team_Steelers        0\n",
       "nfl_team_Texans          0\n",
       "nfl_team_Titans          0\n",
       "nfl_team_Vikings         0\n",
       "defense                  0\n",
       "Length: 61, dtype: int64"
      ]
     },
     "execution_count": 548,
     "metadata": {},
     "output_type": "execute_result"
    }
   ],
   "source": [
    "avg_defs.isnull().sum()[50:]"
   ]
  },
  {
   "cell_type": "code",
   "execution_count": 549,
   "metadata": {},
   "outputs": [
    {
     "name": "stderr",
     "output_type": "stream",
     "text": [
      "C:\\Users\\aidan\\Anaconda3\\envs\\DSI-6\\lib\\site-packages\\ipykernel_launcher.py:10: SettingWithCopyWarning: \n",
      "A value is trying to be set on a copy of a slice from a DataFrame\n",
      "\n",
      "See the caveats in the documentation: http://pandas.pydata.org/pandas-docs/stable/indexing.html#indexing-view-versus-copy\n",
      "  # Remove the CWD from sys.path while we load stuff.\n",
      "C:\\Users\\aidan\\Anaconda3\\envs\\DSI-6\\lib\\site-packages\\ipykernel_launcher.py:14: SettingWithCopyWarning: \n",
      "A value is trying to be set on a copy of a slice from a DataFrame\n",
      "\n",
      "See the caveats in the documentation: http://pandas.pydata.org/pandas-docs/stable/indexing.html#indexing-view-versus-copy\n",
      "  \n",
      "C:\\Users\\aidan\\Anaconda3\\envs\\DSI-6\\lib\\site-packages\\ipykernel_launcher.py:15: SettingWithCopyWarning: \n",
      "A value is trying to be set on a copy of a slice from a DataFrame\n",
      "\n",
      "See the caveats in the documentation: http://pandas.pydata.org/pandas-docs/stable/indexing.html#indexing-view-versus-copy\n",
      "  from ipykernel import kernelapp as app\n"
     ]
    }
   ],
   "source": [
    "avg_defs.dropna(subset=['wins', 'losses', 'rank', 'games', 'pass_cmp', 'pass_att', 'pass_cmp_pct', 'pass_yds',\n",
    "       'pass_yds_per_att', 'adj_pass_yds_per_att', 'pass_td', 'pass_int',\n",
    "       'pass_rating', 'rush_att', 'rush_yds', 'rush_yds_per_att', 'rush_td',\n",
    "       'rec', 'rec_yds', 'rec_yds_per_rec', 'rec_td', 'scrim_att', 'scrim_yds',\n",
    "       'scrim_yds_per_att', 'scrim_td', 'tackles_solo', 'tackles_assists',\n",
    "       'tackles_total', 'tackles_loss', 'sacks', 'def_int', 'def_int_yds',\n",
    "       'def_int_yds_per_int', 'def_int_td', 'pass_defended', 'fumbles_rec', \n",
    "        'fumbles_rec_yds', 'fumbles_rec_td', 'fumbles_forced',\n",
    "       'punt_ret', 'punt_ret_yds', 'punt_ret_yds_per_ret', 'punt_ret_td',\n",
    "       'kick_ret', 'kick_ret_yds', 'kick_ret_yds_per_ret', 'kick_ret_td'], how='all', inplace=True)\n",
    "\n",
    "avg_defs.dropna(subset=['bench_reps',\n",
    "       'broad_jump', 'cone', 'forty_yd', 'height', 'shuttle', 'vertical',\n",
    "       'weight'], how='all', inplace=True)\n",
    "avg_defs.dropna(inplace=True)"
   ]
  },
  {
   "cell_type": "code",
   "execution_count": 550,
   "metadata": {},
   "outputs": [
    {
     "data": {
      "text/plain": [
       "0"
      ]
     },
     "execution_count": 550,
     "metadata": {},
     "output_type": "execute_result"
    }
   ],
   "source": [
    "avg_defs.isnull().sum().sum()"
   ]
  },
  {
   "cell_type": "code",
   "execution_count": 551,
   "metadata": {},
   "outputs": [],
   "source": [
    "features = [#     'draft_overall', 'draft_round', 'draft_year', \n",
    "            'wins', 'losses', 'rank', 'nfl_team_win_perc', \n",
    "        'broad_jump', 'cone', 'forty_yd', 'height', 'shuttle', 'vertical', 'weight', 'games',\n",
    "       'tackles_solo', 'tackles_assists', 'tackles_total', 'tackles_loss', \n",
    "        'sacks', 'def_int', 'def_int_yds', 'fumbles_rec', 'fumbles_rec_yds', 'fumbles_rec_td', 'fumbles_forced',\n",
    "       'def_int_yds_per_int', 'def_int_td', 'pass_defended',\n",
    "           'conference_ACC', 'conference_American', 'conference_Big 12',\n",
    "       'conference_Big East', 'conference_Big Ten', 'conference_CUSA',\n",
    "       'conference_Ind', 'conference_MAC', 'conference_MVC', 'conference_MWC',\n",
    "       'conference_Pac-10', 'conference_Pac-12', 'conference_SEC',\n",
    "       'conference_Sun Belt', 'conference_WAC', 'nfl_team_49ers',\n",
    "       'nfl_team_Bears', 'nfl_team_Bengals', 'nfl_team_Bills',\n",
    "       'nfl_team_Broncos', 'nfl_team_Browns', 'nfl_team_Buccaneers',\n",
    "       'nfl_team_Cardinals', 'nfl_team_Chargers', 'nfl_team_Chiefs',\n",
    "       'nfl_team_Colts', 'nfl_team_Cowboys', 'nfl_team_Dolphins',\n",
    "       'nfl_team_Eagles', 'nfl_team_Falcons', 'nfl_team_Giants',\n",
    "       'nfl_team_Jaguars', 'nfl_team_Jets', 'nfl_team_Lions',\n",
    "       'nfl_team_Packers', 'nfl_team_Panthers', 'nfl_team_Patriots',\n",
    "       'nfl_team_Raiders', 'nfl_team_Rams', 'nfl_team_Ravens',\n",
    "       'nfl_team_Redskins', 'nfl_team_Saints', 'nfl_team_Seahawks',\n",
    "       'nfl_team_Steelers', 'nfl_team_Texans', 'nfl_team_Titans',\n",
    "       'nfl_team_Vikings']"
   ]
  },
  {
   "cell_type": "code",
   "execution_count": 552,
   "metadata": {},
   "outputs": [],
   "source": [
    "X_train_avg_defs = avg_defs[avg_defs['draft_year']<2015]\n",
    "y_train_avg_defs = avg_defs[avg_defs['draft_year']<2015]['avg_grade']\n",
    "X_test_avg_defs = avg_defs[avg_defs['draft_year']>=2015]\n",
    "y_test_avg_defs = avg_defs[avg_defs['draft_year']>=2015]['avg_grade']"
   ]
  },
  {
   "cell_type": "markdown",
   "metadata": {},
   "source": [
    "#### Linear Regression"
   ]
  },
  {
   "cell_type": "code",
   "execution_count": 553,
   "metadata": {},
   "outputs": [
    {
     "data": {
      "text/plain": [
       "-0.015830513602204555"
      ]
     },
     "execution_count": 553,
     "metadata": {},
     "output_type": "execute_result"
    }
   ],
   "source": [
    "lr = LinearRegression()\n",
    "lr.fit(X_train_avg_defs[features], y_train_avg_defs)\n",
    "lr_avg_defs_preds = lr.predict(X_test_avg_defs[features])\n",
    "\n",
    "r2_score(y_test_avg_defs, lr_avg_defs_preds)"
   ]
  },
  {
   "cell_type": "code",
   "execution_count": 556,
   "metadata": {},
   "outputs": [
    {
     "data": {
      "text/plain": [
       "624.8085228025868"
      ]
     },
     "execution_count": 556,
     "metadata": {},
     "output_type": "execute_result"
    }
   ],
   "source": [
    "mean_squared_error(y_test_avg_defs, lr_avg_defs_preds)"
   ]
  },
  {
   "cell_type": "markdown",
   "metadata": {},
   "source": [
    "#### Random Forest"
   ]
  },
  {
   "cell_type": "code",
   "execution_count": 555,
   "metadata": {},
   "outputs": [
    {
     "data": {
      "text/plain": [
       "-0.07769684901674023"
      ]
     },
     "execution_count": 555,
     "metadata": {},
     "output_type": "execute_result"
    }
   ],
   "source": [
    "rf = RandomForestRegressor()\n",
    "rf.fit(X_train_avg_defs[features], y_train_avg_defs)\n",
    "rf_avg_defs_preds = rf.predict(X_test_avg_defs[features])\n",
    "\n",
    "r2_score(y_test_avg_defs, rf_avg_defs_preds)"
   ]
  },
  {
   "cell_type": "code",
   "execution_count": 557,
   "metadata": {},
   "outputs": [
    {
     "data": {
      "text/plain": [
       "662.8607501416667"
      ]
     },
     "execution_count": 557,
     "metadata": {},
     "output_type": "execute_result"
    }
   ],
   "source": [
    "mean_squared_error(y_test_avg_defs, rf_avg_defs_preds)"
   ]
  },
  {
   "cell_type": "markdown",
   "metadata": {},
   "source": [
    "#### Neural Net"
   ]
  },
  {
   "cell_type": "code",
   "execution_count": 580,
   "metadata": {},
   "outputs": [],
   "source": [
    "np.random.seed(42)\n",
    "def_model = Sequential()\n",
    "def_model.add(Dense(X_train_avg_defs[features].shape[1], input_shape=(X_train_avg_defs[features].shape[1],), activation='relu'))\n",
    "def_model.add(Dropout(0.5))\n",
    "def_model.add(Dense(8, activation='relu'))\n",
    "def_model.add(Dense(4, activation='relu'))\n",
    "def_model.add(Dense(1))\n",
    "\n",
    "adam = Adam(lr=0.01)\n",
    "def_model.compile(loss='mean_squared_error', optimizer=adam)"
   ]
  },
  {
   "cell_type": "code",
   "execution_count": 581,
   "metadata": {
    "scrolled": true
   },
   "outputs": [
    {
     "name": "stdout",
     "output_type": "stream",
     "text": [
      "Train on 780 samples, validate on 250 samples\n",
      "Epoch 1/25\n",
      "780/780 [==============================] - 2s 2ms/step - loss: 1951.5256 - val_loss: 938.9566\n",
      "Epoch 2/25\n",
      "780/780 [==============================] - 0s 69us/step - loss: 826.8690 - val_loss: 631.9296\n",
      "Epoch 3/25\n",
      "780/780 [==============================] - 0s 68us/step - loss: 747.3235 - val_loss: 645.0861\n",
      "Epoch 4/25\n",
      "780/780 [==============================] - 0s 69us/step - loss: 708.0511 - val_loss: 666.8975\n",
      "Epoch 5/25\n",
      "780/780 [==============================] - 0s 72us/step - loss: 752.5438 - val_loss: 630.2917\n",
      "Epoch 6/25\n",
      "780/780 [==============================] - 0s 78us/step - loss: 702.9125 - val_loss: 670.9869\n",
      "Epoch 7/25\n",
      "780/780 [==============================] - 0s 73us/step - loss: 737.4591 - val_loss: 730.0583\n",
      "Epoch 8/25\n",
      "780/780 [==============================] - 0s 61us/step - loss: 747.1131 - val_loss: 662.3016\n",
      "Epoch 9/25\n",
      "780/780 [==============================] - 0s 68us/step - loss: 688.6097 - val_loss: 665.1786\n",
      "Epoch 10/25\n",
      "780/780 [==============================] - 0s 73us/step - loss: 673.8233 - val_loss: 645.4213\n",
      "Epoch 11/25\n",
      "780/780 [==============================] - 0s 68us/step - loss: 653.5426 - val_loss: 658.3599\n",
      "Epoch 12/25\n",
      "780/780 [==============================] - 0s 65us/step - loss: 684.8363 - val_loss: 674.1767\n",
      "Epoch 13/25\n",
      "780/780 [==============================] - 0s 69us/step - loss: 692.0481 - val_loss: 654.1893\n",
      "Epoch 14/25\n",
      "780/780 [==============================] - 0s 68us/step - loss: 675.9075 - val_loss: 649.8447\n",
      "Epoch 15/25\n",
      "780/780 [==============================] - 0s 73us/step - loss: 732.2547 - val_loss: 731.0040\n",
      "Epoch 16/25\n",
      "780/780 [==============================] - 0s 68us/step - loss: 700.5684 - val_loss: 777.1343\n",
      "Epoch 17/25\n",
      "780/780 [==============================] - 0s 61us/step - loss: 713.9025 - val_loss: 622.0517\n",
      "Epoch 18/25\n",
      "780/780 [==============================] - 0s 60us/step - loss: 669.1249 - val_loss: 690.4129\n",
      "Epoch 19/25\n",
      "780/780 [==============================] - 0s 66us/step - loss: 672.7434 - val_loss: 622.8775\n",
      "Epoch 20/25\n",
      "780/780 [==============================] - 0s 70us/step - loss: 677.6650 - val_loss: 691.3760\n",
      "Epoch 21/25\n",
      "780/780 [==============================] - 0s 74us/step - loss: 706.6380 - val_loss: 638.8950\n",
      "Epoch 22/25\n",
      "780/780 [==============================] - 0s 69us/step - loss: 730.0424 - val_loss: 645.4018\n",
      "Epoch 23/25\n",
      "780/780 [==============================] - 0s 68us/step - loss: 697.2838 - val_loss: 628.6733\n",
      "Epoch 24/25\n",
      "780/780 [==============================] - 0s 69us/step - loss: 655.6682 - val_loss: 683.3759\n",
      "Epoch 25/25\n",
      "780/780 [==============================] - 0s 73us/step - loss: 638.7821 - val_loss: 635.1339\n"
     ]
    },
    {
     "data": {
      "text/plain": [
       "<keras.callbacks.History at 0x1ef1cf65dd8>"
      ]
     },
     "execution_count": 581,
     "metadata": {},
     "output_type": "execute_result"
    }
   ],
   "source": [
    "def_model.fit(X_train_avg_defs[features], y_train_avg_defs, validation_data=(X_test_avg_defs[features], y_test_avg_defs), epochs=25, batch_size=32)"
   ]
  },
  {
   "cell_type": "markdown",
   "metadata": {},
   "source": [
    "## Final Year Stats"
   ]
  },
  {
   "cell_type": "code",
   "execution_count": 558,
   "metadata": {
    "scrolled": true
   },
   "outputs": [
    {
     "data": {
      "text/plain": [
       "draft_overall             0\n",
       "draft_round               0\n",
       "draft_year                0\n",
       "player                    0\n",
       "position                  0\n",
       "school                    0\n",
       "wins                     67\n",
       "losses                   67\n",
       "rank                     67\n",
       "nfl_team_win_perc         0\n",
       "bench_reps              257\n",
       "broad_jump              247\n",
       "cone                    292\n",
       "forty_yd                241\n",
       "height                  215\n",
       "shuttle                 291\n",
       "vertical                250\n",
       "weight                  215\n",
       "games                   107\n",
       "pass_cmp                 67\n",
       "pass_att                 67\n",
       "pass_cmp_pct             67\n",
       "pass_yds                 67\n",
       "pass_yds_per_att         67\n",
       "adj_pass_yds_per_att     67\n",
       "pass_td                  67\n",
       "pass_int                 67\n",
       "pass_rating              67\n",
       "rush_att                 67\n",
       "rush_yds                 67\n",
       "                       ... \n",
       "nfl_team_Bills            0\n",
       "nfl_team_Broncos          0\n",
       "nfl_team_Browns           0\n",
       "nfl_team_Buccaneers       0\n",
       "nfl_team_Cardinals        0\n",
       "nfl_team_Chargers         0\n",
       "nfl_team_Chiefs           0\n",
       "nfl_team_Colts            0\n",
       "nfl_team_Cowboys          0\n",
       "nfl_team_Dolphins         0\n",
       "nfl_team_Eagles           0\n",
       "nfl_team_Falcons          0\n",
       "nfl_team_Giants           0\n",
       "nfl_team_Jaguars          0\n",
       "nfl_team_Jets             0\n",
       "nfl_team_Lions            0\n",
       "nfl_team_Packers          0\n",
       "nfl_team_Panthers         0\n",
       "nfl_team_Patriots         0\n",
       "nfl_team_Raiders          0\n",
       "nfl_team_Rams             0\n",
       "nfl_team_Ravens           0\n",
       "nfl_team_Redskins         0\n",
       "nfl_team_Saints           0\n",
       "nfl_team_Seahawks         0\n",
       "nfl_team_Steelers         0\n",
       "nfl_team_Texans           0\n",
       "nfl_team_Titans           0\n",
       "nfl_team_Vikings          0\n",
       "defense                   0\n",
       "Length: 111, dtype: int64"
      ]
     },
     "execution_count": 558,
     "metadata": {},
     "output_type": "execute_result"
    }
   ],
   "source": [
    "fy_defs.isnull().sum()"
   ]
  },
  {
   "cell_type": "code",
   "execution_count": 559,
   "metadata": {},
   "outputs": [
    {
     "name": "stderr",
     "output_type": "stream",
     "text": [
      "C:\\Users\\aidan\\Anaconda3\\envs\\DSI-6\\lib\\site-packages\\ipykernel_launcher.py:10: SettingWithCopyWarning: \n",
      "A value is trying to be set on a copy of a slice from a DataFrame\n",
      "\n",
      "See the caveats in the documentation: http://pandas.pydata.org/pandas-docs/stable/indexing.html#indexing-view-versus-copy\n",
      "  # Remove the CWD from sys.path while we load stuff.\n",
      "C:\\Users\\aidan\\Anaconda3\\envs\\DSI-6\\lib\\site-packages\\ipykernel_launcher.py:14: SettingWithCopyWarning: \n",
      "A value is trying to be set on a copy of a slice from a DataFrame\n",
      "\n",
      "See the caveats in the documentation: http://pandas.pydata.org/pandas-docs/stable/indexing.html#indexing-view-versus-copy\n",
      "  \n",
      "C:\\Users\\aidan\\Anaconda3\\envs\\DSI-6\\lib\\site-packages\\ipykernel_launcher.py:16: SettingWithCopyWarning: \n",
      "A value is trying to be set on a copy of a slice from a DataFrame\n",
      "\n",
      "See the caveats in the documentation: http://pandas.pydata.org/pandas-docs/stable/indexing.html#indexing-view-versus-copy\n",
      "  app.launch_new_instance()\n"
     ]
    }
   ],
   "source": [
    "fy_defs.dropna(subset=['wins', 'losses', 'rank', 'games', 'pass_cmp', 'pass_att', 'pass_cmp_pct', 'pass_yds',\n",
    "       'pass_yds_per_att', 'adj_pass_yds_per_att', 'pass_td', 'pass_int',\n",
    "       'pass_rating', 'rush_att', 'rush_yds', 'rush_yds_per_att', 'rush_td',\n",
    "       'rec', 'rec_yds', 'rec_yds_per_rec', 'rec_td', 'scrim_att', 'scrim_yds',\n",
    "       'scrim_yds_per_att', 'scrim_td', 'tackles_solo', 'tackles_assists',\n",
    "       'tackles_total', 'tackles_loss', 'sacks', 'def_int', 'def_int_yds',\n",
    "       'def_int_yds_per_int', 'def_int_td', 'pass_defended', 'fumbles_rec', \n",
    "        'fumbles_rec_yds', 'fumbles_rec_td', 'fumbles_forced',\n",
    "       'punt_ret', 'punt_ret_yds', 'punt_ret_yds_per_ret', 'punt_ret_td',\n",
    "       'kick_ret', 'kick_ret_yds', 'kick_ret_yds_per_ret', 'kick_ret_td'], how='all', inplace=True)\n",
    "\n",
    "fy_defs.dropna(subset=['bench_reps',\n",
    "       'broad_jump', 'cone', 'forty_yd', 'height', 'shuttle', 'vertical',\n",
    "       'weight'], how='all', inplace=True)\n",
    "\n",
    "fy_defs.dropna(inplace=True)"
   ]
  },
  {
   "cell_type": "code",
   "execution_count": 561,
   "metadata": {},
   "outputs": [
    {
     "data": {
      "text/plain": [
       "0"
      ]
     },
     "execution_count": 561,
     "metadata": {},
     "output_type": "execute_result"
    }
   ],
   "source": [
    "fy_defs.isnull().sum().sum()"
   ]
  },
  {
   "cell_type": "code",
   "execution_count": 562,
   "metadata": {},
   "outputs": [],
   "source": [
    "X_train_fy_defs = fy_defs[fy_defs['draft_year']<2015]\n",
    "y_train_fy_defs = fy_defs[fy_defs['draft_year']<2015]['avg_grade']\n",
    "X_test_fy_defs = fy_defs[fy_defs['draft_year']>=2015]\n",
    "y_test_fy_defs = fy_defs[fy_defs['draft_year']>=2015]['avg_grade']"
   ]
  },
  {
   "cell_type": "markdown",
   "metadata": {},
   "source": [
    "#### Linear Regression"
   ]
  },
  {
   "cell_type": "code",
   "execution_count": 582,
   "metadata": {},
   "outputs": [
    {
     "data": {
      "text/plain": [
       "-0.027808425064910436"
      ]
     },
     "execution_count": 582,
     "metadata": {},
     "output_type": "execute_result"
    }
   ],
   "source": [
    "lr = LinearRegression()\n",
    "lr.fit(X_train_fy_defs[features], y_train_fy_defs)\n",
    "lr_fy_defs_preds = lr.predict(X_test_fy_defs[features])\n",
    "\n",
    "r2_score(y_test_fy_defs, lr_fy_defs_preds)"
   ]
  },
  {
   "cell_type": "code",
   "execution_count": 583,
   "metadata": {},
   "outputs": [
    {
     "data": {
      "text/plain": [
       "632.1757962473813"
      ]
     },
     "execution_count": 583,
     "metadata": {},
     "output_type": "execute_result"
    }
   ],
   "source": [
    "mean_squared_error(y_test_fy_defs, lr_fy_defs_preds)"
   ]
  },
  {
   "cell_type": "markdown",
   "metadata": {},
   "source": [
    "#### Random Forest"
   ]
  },
  {
   "cell_type": "code",
   "execution_count": 584,
   "metadata": {},
   "outputs": [
    {
     "data": {
      "text/plain": [
       "-0.11304343604630485"
      ]
     },
     "execution_count": 584,
     "metadata": {},
     "output_type": "execute_result"
    }
   ],
   "source": [
    "rf = RandomForestRegressor()\n",
    "rf.fit(X_train_fy_defs[features], y_train_fy_defs)\n",
    "rf_fy_defs_preds = rf.predict(X_test_fy_defs[features])\n",
    "\n",
    "r2_score(y_test_fy_defs, rf_fy_defs_preds)"
   ]
  },
  {
   "cell_type": "code",
   "execution_count": 585,
   "metadata": {},
   "outputs": [
    {
     "data": {
      "text/plain": [
       "684.6014327972222"
      ]
     },
     "execution_count": 585,
     "metadata": {},
     "output_type": "execute_result"
    }
   ],
   "source": [
    "mean_squared_error(y_test_fy_defs, rf_fy_defs_preds)"
   ]
  },
  {
   "cell_type": "markdown",
   "metadata": {},
   "source": [
    "#### Neural Net"
   ]
  },
  {
   "cell_type": "code",
   "execution_count": 594,
   "metadata": {},
   "outputs": [],
   "source": [
    "np.random.seed(42)\n",
    "def_model = Sequential()\n",
    "def_model.add(Dense(X_train_fy_defs[features].shape[1], input_shape=(X_train_fy_defs[features].shape[1],), activation='relu'))\n",
    "def_model.add(Dropout(0.5))\n",
    "def_model.add(Dense(8, activation='relu'))\n",
    "def_model.add(Dense(4, activation='relu'))\n",
    "def_model.add(Dense(1))\n",
    "\n",
    "adam = Adam(lr=0.01)\n",
    "def_model.compile(loss='mean_squared_error', optimizer=adam)"
   ]
  },
  {
   "cell_type": "code",
   "execution_count": 595,
   "metadata": {},
   "outputs": [
    {
     "name": "stdout",
     "output_type": "stream",
     "text": [
      "Train on 744 samples, validate on 250 samples\n",
      "Epoch 1/25\n",
      "744/744 [==============================] - 2s 3ms/step - loss: 1974.4404 - val_loss: 925.8574\n",
      "Epoch 2/25\n",
      "744/744 [==============================] - 0s 74us/step - loss: 819.7523 - val_loss: 637.5309\n",
      "Epoch 3/25\n",
      "744/744 [==============================] - 0s 72us/step - loss: 771.9503 - val_loss: 718.0241\n",
      "Epoch 4/25\n",
      "744/744 [==============================] - 0s 76us/step - loss: 716.8700 - val_loss: 653.3228\n",
      "Epoch 5/25\n",
      "744/744 [==============================] - 0s 71us/step - loss: 725.9617 - val_loss: 681.2182\n",
      "Epoch 6/25\n",
      "744/744 [==============================] - 0s 74us/step - loss: 684.9247 - val_loss: 706.3271\n",
      "Epoch 7/25\n",
      "744/744 [==============================] - 0s 78us/step - loss: 718.9330 - val_loss: 634.1923\n",
      "Epoch 8/25\n",
      "744/744 [==============================] - 0s 75us/step - loss: 723.2285 - val_loss: 723.5662\n",
      "Epoch 9/25\n",
      "744/744 [==============================] - 0s 72us/step - loss: 692.5076 - val_loss: 636.2867\n",
      "Epoch 10/25\n",
      "744/744 [==============================] - 0s 78us/step - loss: 675.8554 - val_loss: 647.0964\n",
      "Epoch 11/25\n",
      "744/744 [==============================] - 0s 84us/step - loss: 673.8319 - val_loss: 638.7340\n",
      "Epoch 12/25\n",
      "744/744 [==============================] - 0s 88us/step - loss: 661.1953 - val_loss: 662.9524\n",
      "Epoch 13/25\n",
      "744/744 [==============================] - 0s 106us/step - loss: 729.1913 - val_loss: 658.8573\n",
      "Epoch 14/25\n",
      "744/744 [==============================] - 0s 86us/step - loss: 701.7334 - val_loss: 632.2254\n",
      "Epoch 15/25\n",
      "744/744 [==============================] - 0s 80us/step - loss: 692.3626 - val_loss: 675.0080\n",
      "Epoch 16/25\n",
      "744/744 [==============================] - 0s 72us/step - loss: 702.2467 - val_loss: 687.8109\n",
      "Epoch 17/25\n",
      "744/744 [==============================] - 0s 72us/step - loss: 708.6410 - val_loss: 675.7590\n",
      "Epoch 18/25\n",
      "744/744 [==============================] - 0s 74us/step - loss: 688.2772 - val_loss: 695.3716\n",
      "Epoch 19/25\n",
      "744/744 [==============================] - 0s 76us/step - loss: 700.9666 - val_loss: 629.7561\n",
      "Epoch 20/25\n",
      "744/744 [==============================] - 0s 71us/step - loss: 691.3248 - val_loss: 633.2475\n",
      "Epoch 21/25\n",
      "744/744 [==============================] - 0s 87us/step - loss: 693.0086 - val_loss: 688.9564\n",
      "Epoch 22/25\n",
      "744/744 [==============================] - 0s 82us/step - loss: 703.8043 - val_loss: 744.3492\n",
      "Epoch 23/25\n",
      "744/744 [==============================] - 0s 79us/step - loss: 688.5829 - val_loss: 728.3402\n",
      "Epoch 24/25\n",
      "744/744 [==============================] - 0s 78us/step - loss: 735.0033 - val_loss: 659.9760\n",
      "Epoch 25/25\n",
      "744/744 [==============================] - 0s 72us/step - loss: 691.8160 - val_loss: 629.6005\n"
     ]
    },
    {
     "data": {
      "text/plain": [
       "<keras.callbacks.History at 0x1ef219578d0>"
      ]
     },
     "execution_count": 595,
     "metadata": {},
     "output_type": "execute_result"
    }
   ],
   "source": [
    "def_model.fit(X_train_fy_defs[features], y_train_fy_defs, validation_data=(X_test_fy_defs[features], y_test_fy_defs), epochs=25, batch_size=32)"
   ]
  },
  {
   "cell_type": "code",
   "execution_count": 596,
   "metadata": {},
   "outputs": [
    {
     "data": {
      "text/html": [
       "<div>\n",
       "<style scoped>\n",
       "    .dataframe tbody tr th:only-of-type {\n",
       "        vertical-align: middle;\n",
       "    }\n",
       "\n",
       "    .dataframe tbody tr th {\n",
       "        vertical-align: top;\n",
       "    }\n",
       "\n",
       "    .dataframe thead th {\n",
       "        text-align: right;\n",
       "    }\n",
       "</style>\n",
       "<table border=\"1\" class=\"dataframe\">\n",
       "  <thead>\n",
       "    <tr style=\"text-align: right;\">\n",
       "      <th></th>\n",
       "      <th>draft_overall</th>\n",
       "      <th>draft_round</th>\n",
       "      <th>draft_year</th>\n",
       "      <th>player</th>\n",
       "      <th>position</th>\n",
       "      <th>school</th>\n",
       "      <th>wins</th>\n",
       "      <th>losses</th>\n",
       "      <th>rank</th>\n",
       "      <th>nfl_team_win_perc</th>\n",
       "      <th>...</th>\n",
       "      <th>nfl_team_Rams</th>\n",
       "      <th>nfl_team_Ravens</th>\n",
       "      <th>nfl_team_Redskins</th>\n",
       "      <th>nfl_team_Saints</th>\n",
       "      <th>nfl_team_Seahawks</th>\n",
       "      <th>nfl_team_Steelers</th>\n",
       "      <th>nfl_team_Texans</th>\n",
       "      <th>nfl_team_Titans</th>\n",
       "      <th>nfl_team_Vikings</th>\n",
       "      <th>defense</th>\n",
       "    </tr>\n",
       "  </thead>\n",
       "  <tbody>\n",
       "    <tr>\n",
       "      <th>1990</th>\n",
       "      <td>10</td>\n",
       "      <td>1</td>\n",
       "      <td>2017</td>\n",
       "      <td>Patrick Mahomes</td>\n",
       "      <td>QB</td>\n",
       "      <td>Texas Tech</td>\n",
       "      <td>5.5</td>\n",
       "      <td>7.0</td>\n",
       "      <td>77.5</td>\n",
       "      <td>0.75</td>\n",
       "      <td>...</td>\n",
       "      <td>0</td>\n",
       "      <td>0</td>\n",
       "      <td>0</td>\n",
       "      <td>0</td>\n",
       "      <td>0</td>\n",
       "      <td>0</td>\n",
       "      <td>0</td>\n",
       "      <td>0</td>\n",
       "      <td>0</td>\n",
       "      <td>0</td>\n",
       "    </tr>\n",
       "  </tbody>\n",
       "</table>\n",
       "<p>1 rows × 111 columns</p>\n",
       "</div>"
      ],
      "text/plain": [
       "      draft_overall  draft_round  draft_year           player position  \\\n",
       "1990             10            1        2017  Patrick Mahomes       QB   \n",
       "\n",
       "          school  wins  losses  rank  nfl_team_win_perc   ...     \\\n",
       "1990  Texas Tech   5.5     7.0  77.5               0.75   ...      \n",
       "\n",
       "      nfl_team_Rams  nfl_team_Ravens  nfl_team_Redskins  nfl_team_Saints  \\\n",
       "1990              0                0                  0                0   \n",
       "\n",
       "      nfl_team_Seahawks  nfl_team_Steelers  nfl_team_Texans  nfl_team_Titans  \\\n",
       "1990                  0                  0                0                0   \n",
       "\n",
       "      nfl_team_Vikings  defense  \n",
       "1990                 0        0  \n",
       "\n",
       "[1 rows x 111 columns]"
      ]
     },
     "execution_count": 596,
     "metadata": {},
     "output_type": "execute_result"
    }
   ],
   "source": [
    "avg_players[avg_players['player']=='Patrick Mahomes']"
   ]
  },
  {
   "cell_type": "code",
   "execution_count": null,
   "metadata": {},
   "outputs": [],
   "source": []
  }
 ],
 "metadata": {
  "kernelspec": {
   "display_name": "Python 3",
   "language": "python",
   "name": "python3"
  },
  "language_info": {
   "codemirror_mode": {
    "name": "ipython",
    "version": 3
   },
   "file_extension": ".py",
   "mimetype": "text/x-python",
   "name": "python",
   "nbconvert_exporter": "python",
   "pygments_lexer": "ipython3",
   "version": "3.6.6"
  }
 },
 "nbformat": 4,
 "nbformat_minor": 2
}
