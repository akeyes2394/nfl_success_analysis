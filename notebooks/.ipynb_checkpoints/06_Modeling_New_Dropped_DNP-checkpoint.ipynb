{
 "cells": [
  {
   "cell_type": "code",
   "execution_count": 142,
   "metadata": {},
   "outputs": [],
   "source": [
    "import numpy as np\n",
    "import pandas as pd\n",
    "import matplotlib.pyplot as plt\n",
    "import seaborn as sns\n",
    "from sklearn.linear_model import LinearRegression\n",
    "from sklearn.ensemble import RandomForestRegressor\n",
    "from sklearn.model_selection import train_test_split, cross_val_score\n",
    "from sklearn.metrics import r2_score, mean_squared_error\n",
    "from sklearn.preprocessing import StandardScaler\n",
    "from keras.models import Sequential\n",
    "from keras.layers import Dense, Dropout\n",
    "from keras.utils import np_utils\n",
    "from keras.optimizers import Adam"
   ]
  },
  {
   "cell_type": "code",
   "execution_count": 202,
   "metadata": {},
   "outputs": [],
   "source": [
    "import matplotlib.pyplot as plt\n",
    "import seaborn as sns"
   ]
  },
  {
   "cell_type": "code",
   "execution_count": 143,
   "metadata": {},
   "outputs": [],
   "source": [
    "avg_players = pd.read_csv('../data/avg_modeling_data.csv').drop(columns='Unnamed: 0')\n",
    "final_year_players = pd.read_csv('../data/final_year_modeling_data.csv').drop(columns='Unnamed: 0')"
   ]
  },
  {
   "cell_type": "code",
   "execution_count": 144,
   "metadata": {},
   "outputs": [
    {
     "data": {
      "text/plain": [
       "Int64Index([  57,   60,   63,   64,   65,   67,   71,   77,   79,   80,\n",
       "            ...\n",
       "            2355, 2357, 2358, 2359, 2361, 2363, 2364, 2365, 2368, 2369],\n",
       "           dtype='int64', length=566)"
      ]
     },
     "execution_count": 144,
     "metadata": {},
     "output_type": "execute_result"
    }
   ],
   "source": [
    "avg_players[avg_players['avg_grade']==0].index"
   ]
  },
  {
   "cell_type": "code",
   "execution_count": 145,
   "metadata": {},
   "outputs": [],
   "source": [
    "avg_players = avg_players.drop(labels=avg_players[avg_players['avg_grade']==0].index)"
   ]
  },
  {
   "cell_type": "code",
   "execution_count": 146,
   "metadata": {},
   "outputs": [],
   "source": [
    "final_year_players = final_year_players.drop(labels=final_year_players[final_year_players['avg_grade']==0].index)"
   ]
  },
  {
   "cell_type": "markdown",
   "metadata": {},
   "source": [
    "### Preprocessing"
   ]
  },
  {
   "cell_type": "code",
   "execution_count": 147,
   "metadata": {},
   "outputs": [
    {
     "data": {
      "text/html": [
       "<div>\n",
       "<style scoped>\n",
       "    .dataframe tbody tr th:only-of-type {\n",
       "        vertical-align: middle;\n",
       "    }\n",
       "\n",
       "    .dataframe tbody tr th {\n",
       "        vertical-align: top;\n",
       "    }\n",
       "\n",
       "    .dataframe thead th {\n",
       "        text-align: right;\n",
       "    }\n",
       "</style>\n",
       "<table border=\"1\" class=\"dataframe\">\n",
       "  <thead>\n",
       "    <tr style=\"text-align: right;\">\n",
       "      <th></th>\n",
       "      <th>draft_overall</th>\n",
       "      <th>draft_round</th>\n",
       "      <th>draft_year</th>\n",
       "      <th>player</th>\n",
       "      <th>position</th>\n",
       "      <th>school</th>\n",
       "      <th>conference</th>\n",
       "      <th>wins</th>\n",
       "      <th>losses</th>\n",
       "      <th>rank</th>\n",
       "      <th>...</th>\n",
       "      <th>fumbles_forced</th>\n",
       "      <th>punt_ret</th>\n",
       "      <th>punt_ret_yds</th>\n",
       "      <th>punt_ret_yds_per_ret</th>\n",
       "      <th>punt_ret_td</th>\n",
       "      <th>kick_ret</th>\n",
       "      <th>kick_ret_yds</th>\n",
       "      <th>kick_ret_yds_per_ret</th>\n",
       "      <th>kick_ret_td</th>\n",
       "      <th>avg_grade</th>\n",
       "    </tr>\n",
       "  </thead>\n",
       "  <tbody>\n",
       "    <tr>\n",
       "      <th>0</th>\n",
       "      <td>1</td>\n",
       "      <td>1</td>\n",
       "      <td>2006</td>\n",
       "      <td>Mario Williams</td>\n",
       "      <td>DE</td>\n",
       "      <td>North Carolina St.</td>\n",
       "      <td>ACC</td>\n",
       "      <td>7.000000</td>\n",
       "      <td>5.000000</td>\n",
       "      <td>37.000000</td>\n",
       "      <td>...</td>\n",
       "      <td>0.0</td>\n",
       "      <td>1.000000</td>\n",
       "      <td>7.000000</td>\n",
       "      <td>7.0</td>\n",
       "      <td>0.0</td>\n",
       "      <td>0.000000</td>\n",
       "      <td>0.000000</td>\n",
       "      <td>0.000000</td>\n",
       "      <td>0.000000</td>\n",
       "      <td>66.800</td>\n",
       "    </tr>\n",
       "    <tr>\n",
       "      <th>1</th>\n",
       "      <td>2</td>\n",
       "      <td>1</td>\n",
       "      <td>2006</td>\n",
       "      <td>Reggie Bush</td>\n",
       "      <td>RB</td>\n",
       "      <td>USC</td>\n",
       "      <td>Pac-10</td>\n",
       "      <td>12.333333</td>\n",
       "      <td>0.666667</td>\n",
       "      <td>2.333333</td>\n",
       "      <td>...</td>\n",
       "      <td>0.0</td>\n",
       "      <td>14.666667</td>\n",
       "      <td>186.333333</td>\n",
       "      <td>9.2</td>\n",
       "      <td>1.0</td>\n",
       "      <td>22.333333</td>\n",
       "      <td>507.333333</td>\n",
       "      <td>23.500000</td>\n",
       "      <td>0.333333</td>\n",
       "      <td>61.325</td>\n",
       "    </tr>\n",
       "    <tr>\n",
       "      <th>2</th>\n",
       "      <td>3</td>\n",
       "      <td>1</td>\n",
       "      <td>2006</td>\n",
       "      <td>Vince Young</td>\n",
       "      <td>QB</td>\n",
       "      <td>Texas</td>\n",
       "      <td>Big 12</td>\n",
       "      <td>11.333333</td>\n",
       "      <td>1.333333</td>\n",
       "      <td>6.333333</td>\n",
       "      <td>...</td>\n",
       "      <td>0.0</td>\n",
       "      <td>0.000000</td>\n",
       "      <td>0.000000</td>\n",
       "      <td>0.0</td>\n",
       "      <td>0.0</td>\n",
       "      <td>0.000000</td>\n",
       "      <td>0.000000</td>\n",
       "      <td>0.000000</td>\n",
       "      <td>0.000000</td>\n",
       "      <td>59.200</td>\n",
       "    </tr>\n",
       "    <tr>\n",
       "      <th>3</th>\n",
       "      <td>5</td>\n",
       "      <td>1</td>\n",
       "      <td>2006</td>\n",
       "      <td>A.J. Hawk</td>\n",
       "      <td>LB</td>\n",
       "      <td>Ohio St.</td>\n",
       "      <td>Big Ten</td>\n",
       "      <td>10.750000</td>\n",
       "      <td>2.000000</td>\n",
       "      <td>10.250000</td>\n",
       "      <td>...</td>\n",
       "      <td>0.0</td>\n",
       "      <td>0.000000</td>\n",
       "      <td>0.000000</td>\n",
       "      <td>0.0</td>\n",
       "      <td>0.0</td>\n",
       "      <td>0.000000</td>\n",
       "      <td>0.000000</td>\n",
       "      <td>0.000000</td>\n",
       "      <td>0.000000</td>\n",
       "      <td>63.275</td>\n",
       "    </tr>\n",
       "    <tr>\n",
       "      <th>4</th>\n",
       "      <td>6</td>\n",
       "      <td>1</td>\n",
       "      <td>2006</td>\n",
       "      <td>Vernon Davis</td>\n",
       "      <td>TE</td>\n",
       "      <td>Maryland</td>\n",
       "      <td>ACC</td>\n",
       "      <td>6.666667</td>\n",
       "      <td>5.000000</td>\n",
       "      <td>47.000000</td>\n",
       "      <td>...</td>\n",
       "      <td>0.0</td>\n",
       "      <td>0.000000</td>\n",
       "      <td>0.000000</td>\n",
       "      <td>0.0</td>\n",
       "      <td>0.0</td>\n",
       "      <td>1.000000</td>\n",
       "      <td>22.666667</td>\n",
       "      <td>7.566667</td>\n",
       "      <td>0.000000</td>\n",
       "      <td>67.450</td>\n",
       "    </tr>\n",
       "  </tbody>\n",
       "</table>\n",
       "<p>5 rows × 65 columns</p>\n",
       "</div>"
      ],
      "text/plain": [
       "   draft_overall  draft_round  draft_year          player position  \\\n",
       "0              1            1        2006  Mario Williams       DE   \n",
       "1              2            1        2006     Reggie Bush       RB   \n",
       "2              3            1        2006     Vince Young       QB   \n",
       "3              5            1        2006       A.J. Hawk       LB   \n",
       "4              6            1        2006    Vernon Davis       TE   \n",
       "\n",
       "               school conference       wins    losses       rank    ...      \\\n",
       "0  North Carolina St.        ACC   7.000000  5.000000  37.000000    ...       \n",
       "1                 USC     Pac-10  12.333333  0.666667   2.333333    ...       \n",
       "2               Texas     Big 12  11.333333  1.333333   6.333333    ...       \n",
       "3            Ohio St.    Big Ten  10.750000  2.000000  10.250000    ...       \n",
       "4            Maryland        ACC   6.666667  5.000000  47.000000    ...       \n",
       "\n",
       "  fumbles_forced   punt_ret  punt_ret_yds  punt_ret_yds_per_ret  punt_ret_td  \\\n",
       "0            0.0   1.000000      7.000000                   7.0          0.0   \n",
       "1            0.0  14.666667    186.333333                   9.2          1.0   \n",
       "2            0.0   0.000000      0.000000                   0.0          0.0   \n",
       "3            0.0   0.000000      0.000000                   0.0          0.0   \n",
       "4            0.0   0.000000      0.000000                   0.0          0.0   \n",
       "\n",
       "    kick_ret  kick_ret_yds  kick_ret_yds_per_ret  kick_ret_td  avg_grade  \n",
       "0   0.000000      0.000000              0.000000     0.000000     66.800  \n",
       "1  22.333333    507.333333             23.500000     0.333333     61.325  \n",
       "2   0.000000      0.000000              0.000000     0.000000     59.200  \n",
       "3   0.000000      0.000000              0.000000     0.000000     63.275  \n",
       "4   1.000000     22.666667              7.566667     0.000000     67.450  \n",
       "\n",
       "[5 rows x 65 columns]"
      ]
     },
     "execution_count": 147,
     "metadata": {},
     "output_type": "execute_result"
    }
   ],
   "source": [
    "avg_players.head()"
   ]
  },
  {
   "cell_type": "code",
   "execution_count": 148,
   "metadata": {},
   "outputs": [
    {
     "data": {
      "text/plain": [
       "Index(['draft_overall', 'draft_round', 'draft_year', 'player', 'position',\n",
       "       'school', 'conference', 'wins', 'losses', 'rank', 'nfl_team',\n",
       "       'nfl_team_win_perc', 'bench_reps', 'broad_jump', 'cone', 'forty_yd',\n",
       "       'height', 'shuttle', 'vertical', 'weight', 'games', 'pass_cmp',\n",
       "       'pass_att', 'pass_cmp_pct', 'pass_yds', 'pass_yds_per_att',\n",
       "       'adj_pass_yds_per_att', 'pass_td', 'pass_int', 'pass_rating',\n",
       "       'rush_att', 'rush_yds', 'rush_yds_per_att', 'rush_td', 'rec', 'rec_yds',\n",
       "       'rec_yds_per_rec', 'rec_td', 'scrim_att', 'scrim_yds',\n",
       "       'scrim_yds_per_att', 'scrim_td', 'tackles_solo', 'tackles_assists',\n",
       "       'tackles_total', 'tackles_loss', 'sacks', 'def_int', 'def_int_yds',\n",
       "       'def_int_yds_per_int', 'def_int_td', 'pass_defended', 'fumbles_rec',\n",
       "       'fumbles_rec_yds', 'fumbles_rec_td', 'fumbles_forced', 'punt_ret',\n",
       "       'punt_ret_yds', 'punt_ret_yds_per_ret', 'punt_ret_td', 'kick_ret',\n",
       "       'kick_ret_yds', 'kick_ret_yds_per_ret', 'kick_ret_td', 'avg_grade'],\n",
       "      dtype='object')"
      ]
     },
     "execution_count": 148,
     "metadata": {},
     "output_type": "execute_result"
    }
   ],
   "source": [
    "avg_players.columns"
   ]
  },
  {
   "cell_type": "code",
   "execution_count": 149,
   "metadata": {},
   "outputs": [],
   "source": [
    "avg_players = pd.get_dummies(avg_players, columns=['conference', 'nfl_team'])"
   ]
  },
  {
   "cell_type": "code",
   "execution_count": 150,
   "metadata": {},
   "outputs": [
    {
     "data": {
      "text/plain": [
       "1768"
      ]
     },
     "execution_count": 150,
     "metadata": {},
     "output_type": "execute_result"
    }
   ],
   "source": [
    "len(avg_players['player'].unique())"
   ]
  },
  {
   "cell_type": "code",
   "execution_count": 151,
   "metadata": {},
   "outputs": [
    {
     "data": {
      "text/plain": [
       "1804"
      ]
     },
     "execution_count": 151,
     "metadata": {},
     "output_type": "execute_result"
    }
   ],
   "source": [
    "len(avg_players)"
   ]
  },
  {
   "cell_type": "code",
   "execution_count": 152,
   "metadata": {
    "scrolled": true
   },
   "outputs": [
    {
     "data": {
      "text/plain": [
       "Brandon Williams       6\n",
       "Mike Thomas            4\n",
       "Marcus Smith           4\n",
       "Michael Johnson        4\n",
       "Kyle Williams          4\n",
       "Chris Jones            4\n",
       "Mike Williams          4\n",
       "Josh Robinson          4\n",
       "D.J. Moore             4\n",
       "Will Davis             4\n",
       "C.J. Wilson            2\n",
       "Corey Wootton          2\n",
       "Marcus Thomas          2\n",
       "Aaron Brown            2\n",
       "Al Afalava             1\n",
       "Roquan Smith           1\n",
       "Alfred Blue            1\n",
       "Jordan Willis          1\n",
       "Xavier Rhodes          1\n",
       "Leonard Floyd          1\n",
       "Lavelle Hawkins        1\n",
       "Kelly Jennings         1\n",
       "Blake Countess         1\n",
       "Johnathan Franklin     1\n",
       "Scott Solomon          1\n",
       "Virgil Green           1\n",
       "Nelson Agholor         1\n",
       "NaVorro Bowman         1\n",
       "Jermichael Finley      1\n",
       "Trevard Lindley        1\n",
       "                      ..\n",
       "Blair Brown            1\n",
       "Alex Magee             1\n",
       "Christian Kirksey      1\n",
       "Corvey Irvin           1\n",
       "Roy Miller             1\n",
       "Kealoha Pilares        1\n",
       "Jonathan Dwyer         1\n",
       "Trent Murphy           1\n",
       "Tank Carder            1\n",
       "Joe Flacco             1\n",
       "Ronnie Hillman         1\n",
       "Kamalei Correa         1\n",
       "Kenny Vaccaro          1\n",
       "Quinton Patton         1\n",
       "Cameron Jordan         1\n",
       "Aldon Smith            1\n",
       "Jonathan Newsome       1\n",
       "A'Shawn Robinson       1\n",
       "David Ausberry         1\n",
       "Baraka Atkins          1\n",
       "Keith Ellison          1\n",
       "Parry Nickerson        1\n",
       "Bruce Ellington        1\n",
       "Latavius Murray        1\n",
       "Jason Worilds          1\n",
       "Oren Burks             1\n",
       "Corey Fuller           1\n",
       "Cameron Artis-Payne    1\n",
       "Stanley McClover       1\n",
       "Orien Harris           1\n",
       "Name: player, Length: 1768, dtype: int64"
      ]
     },
     "execution_count": 152,
     "metadata": {},
     "output_type": "execute_result"
    }
   ],
   "source": [
    "avg_players['player'].value_counts()"
   ]
  },
  {
   "cell_type": "code",
   "execution_count": 153,
   "metadata": {},
   "outputs": [
    {
     "data": {
      "text/html": [
       "<div>\n",
       "<style scoped>\n",
       "    .dataframe tbody tr th:only-of-type {\n",
       "        vertical-align: middle;\n",
       "    }\n",
       "\n",
       "    .dataframe tbody tr th {\n",
       "        vertical-align: top;\n",
       "    }\n",
       "\n",
       "    .dataframe thead th {\n",
       "        text-align: right;\n",
       "    }\n",
       "</style>\n",
       "<table border=\"1\" class=\"dataframe\">\n",
       "  <thead>\n",
       "    <tr style=\"text-align: right;\">\n",
       "      <th></th>\n",
       "      <th>draft_overall</th>\n",
       "      <th>draft_round</th>\n",
       "      <th>draft_year</th>\n",
       "      <th>player</th>\n",
       "      <th>position</th>\n",
       "      <th>school</th>\n",
       "      <th>wins</th>\n",
       "      <th>losses</th>\n",
       "      <th>rank</th>\n",
       "      <th>nfl_team_win_perc</th>\n",
       "      <th>...</th>\n",
       "      <th>nfl_team_Raiders</th>\n",
       "      <th>nfl_team_Rams</th>\n",
       "      <th>nfl_team_Ravens</th>\n",
       "      <th>nfl_team_Redskins</th>\n",
       "      <th>nfl_team_Saints</th>\n",
       "      <th>nfl_team_Seahawks</th>\n",
       "      <th>nfl_team_Steelers</th>\n",
       "      <th>nfl_team_Texans</th>\n",
       "      <th>nfl_team_Titans</th>\n",
       "      <th>nfl_team_Vikings</th>\n",
       "    </tr>\n",
       "  </thead>\n",
       "  <tbody>\n",
       "    <tr>\n",
       "      <th>642</th>\n",
       "      <td>120</td>\n",
       "      <td>4</td>\n",
       "      <td>2009</td>\n",
       "      <td>Brandon Williams</td>\n",
       "      <td>DE</td>\n",
       "      <td>Texas Tech</td>\n",
       "      <td>8.818182</td>\n",
       "      <td>4.181818</td>\n",
       "      <td>29.636364</td>\n",
       "      <td>0.563</td>\n",
       "      <td>...</td>\n",
       "      <td>0</td>\n",
       "      <td>0</td>\n",
       "      <td>0</td>\n",
       "      <td>0</td>\n",
       "      <td>0</td>\n",
       "      <td>0</td>\n",
       "      <td>0</td>\n",
       "      <td>0</td>\n",
       "      <td>0</td>\n",
       "      <td>0</td>\n",
       "    </tr>\n",
       "    <tr>\n",
       "      <th>643</th>\n",
       "      <td>120</td>\n",
       "      <td>4</td>\n",
       "      <td>2009</td>\n",
       "      <td>Brandon Williams</td>\n",
       "      <td>DE</td>\n",
       "      <td>Texas Tech</td>\n",
       "      <td>8.818182</td>\n",
       "      <td>4.181818</td>\n",
       "      <td>29.636364</td>\n",
       "      <td>0.563</td>\n",
       "      <td>...</td>\n",
       "      <td>0</td>\n",
       "      <td>0</td>\n",
       "      <td>0</td>\n",
       "      <td>0</td>\n",
       "      <td>0</td>\n",
       "      <td>0</td>\n",
       "      <td>0</td>\n",
       "      <td>0</td>\n",
       "      <td>0</td>\n",
       "      <td>0</td>\n",
       "    </tr>\n",
       "    <tr>\n",
       "      <th>644</th>\n",
       "      <td>120</td>\n",
       "      <td>4</td>\n",
       "      <td>2009</td>\n",
       "      <td>Brandon Williams</td>\n",
       "      <td>DE</td>\n",
       "      <td>Texas Tech</td>\n",
       "      <td>8.818182</td>\n",
       "      <td>4.181818</td>\n",
       "      <td>29.636364</td>\n",
       "      <td>0.563</td>\n",
       "      <td>...</td>\n",
       "      <td>0</td>\n",
       "      <td>0</td>\n",
       "      <td>0</td>\n",
       "      <td>0</td>\n",
       "      <td>0</td>\n",
       "      <td>0</td>\n",
       "      <td>0</td>\n",
       "      <td>0</td>\n",
       "      <td>0</td>\n",
       "      <td>0</td>\n",
       "    </tr>\n",
       "    <tr>\n",
       "      <th>1866</th>\n",
       "      <td>92</td>\n",
       "      <td>3</td>\n",
       "      <td>2016</td>\n",
       "      <td>Brandon Williams</td>\n",
       "      <td>CB</td>\n",
       "      <td>Texas A&amp;M</td>\n",
       "      <td>8.818182</td>\n",
       "      <td>4.181818</td>\n",
       "      <td>29.636364</td>\n",
       "      <td>0.813</td>\n",
       "      <td>...</td>\n",
       "      <td>0</td>\n",
       "      <td>0</td>\n",
       "      <td>0</td>\n",
       "      <td>0</td>\n",
       "      <td>0</td>\n",
       "      <td>0</td>\n",
       "      <td>0</td>\n",
       "      <td>0</td>\n",
       "      <td>0</td>\n",
       "      <td>0</td>\n",
       "    </tr>\n",
       "    <tr>\n",
       "      <th>1867</th>\n",
       "      <td>92</td>\n",
       "      <td>3</td>\n",
       "      <td>2016</td>\n",
       "      <td>Brandon Williams</td>\n",
       "      <td>CB</td>\n",
       "      <td>Texas A&amp;M</td>\n",
       "      <td>8.818182</td>\n",
       "      <td>4.181818</td>\n",
       "      <td>29.636364</td>\n",
       "      <td>0.813</td>\n",
       "      <td>...</td>\n",
       "      <td>0</td>\n",
       "      <td>0</td>\n",
       "      <td>0</td>\n",
       "      <td>0</td>\n",
       "      <td>0</td>\n",
       "      <td>0</td>\n",
       "      <td>0</td>\n",
       "      <td>0</td>\n",
       "      <td>0</td>\n",
       "      <td>0</td>\n",
       "    </tr>\n",
       "    <tr>\n",
       "      <th>1868</th>\n",
       "      <td>92</td>\n",
       "      <td>3</td>\n",
       "      <td>2016</td>\n",
       "      <td>Brandon Williams</td>\n",
       "      <td>CB</td>\n",
       "      <td>Texas A&amp;M</td>\n",
       "      <td>8.818182</td>\n",
       "      <td>4.181818</td>\n",
       "      <td>29.636364</td>\n",
       "      <td>0.813</td>\n",
       "      <td>...</td>\n",
       "      <td>0</td>\n",
       "      <td>0</td>\n",
       "      <td>0</td>\n",
       "      <td>0</td>\n",
       "      <td>0</td>\n",
       "      <td>0</td>\n",
       "      <td>0</td>\n",
       "      <td>0</td>\n",
       "      <td>0</td>\n",
       "      <td>0</td>\n",
       "    </tr>\n",
       "  </tbody>\n",
       "</table>\n",
       "<p>6 rows × 110 columns</p>\n",
       "</div>"
      ],
      "text/plain": [
       "      draft_overall  draft_round  draft_year            player position  \\\n",
       "642             120            4        2009  Brandon Williams       DE   \n",
       "643             120            4        2009  Brandon Williams       DE   \n",
       "644             120            4        2009  Brandon Williams       DE   \n",
       "1866             92            3        2016  Brandon Williams       CB   \n",
       "1867             92            3        2016  Brandon Williams       CB   \n",
       "1868             92            3        2016  Brandon Williams       CB   \n",
       "\n",
       "          school      wins    losses       rank  nfl_team_win_perc  \\\n",
       "642   Texas Tech  8.818182  4.181818  29.636364              0.563   \n",
       "643   Texas Tech  8.818182  4.181818  29.636364              0.563   \n",
       "644   Texas Tech  8.818182  4.181818  29.636364              0.563   \n",
       "1866   Texas A&M  8.818182  4.181818  29.636364              0.813   \n",
       "1867   Texas A&M  8.818182  4.181818  29.636364              0.813   \n",
       "1868   Texas A&M  8.818182  4.181818  29.636364              0.813   \n",
       "\n",
       "            ...         nfl_team_Raiders  nfl_team_Rams  nfl_team_Ravens  \\\n",
       "642         ...                        0              0                0   \n",
       "643         ...                        0              0                0   \n",
       "644         ...                        0              0                0   \n",
       "1866        ...                        0              0                0   \n",
       "1867        ...                        0              0                0   \n",
       "1868        ...                        0              0                0   \n",
       "\n",
       "      nfl_team_Redskins  nfl_team_Saints  nfl_team_Seahawks  \\\n",
       "642                   0                0                  0   \n",
       "643                   0                0                  0   \n",
       "644                   0                0                  0   \n",
       "1866                  0                0                  0   \n",
       "1867                  0                0                  0   \n",
       "1868                  0                0                  0   \n",
       "\n",
       "      nfl_team_Steelers  nfl_team_Texans  nfl_team_Titans  nfl_team_Vikings  \n",
       "642                   0                0                0                 0  \n",
       "643                   0                0                0                 0  \n",
       "644                   0                0                0                 0  \n",
       "1866                  0                0                0                 0  \n",
       "1867                  0                0                0                 0  \n",
       "1868                  0                0                0                 0  \n",
       "\n",
       "[6 rows x 110 columns]"
      ]
     },
     "execution_count": 153,
     "metadata": {},
     "output_type": "execute_result"
    }
   ],
   "source": [
    "avg_players[avg_players['player']=='Brandon Williams']"
   ]
  },
  {
   "cell_type": "code",
   "execution_count": 154,
   "metadata": {},
   "outputs": [],
   "source": [
    "avg_players.drop_duplicates(subset='player', inplace=True)"
   ]
  },
  {
   "cell_type": "code",
   "execution_count": 155,
   "metadata": {},
   "outputs": [
    {
     "data": {
      "text/html": [
       "<div>\n",
       "<style scoped>\n",
       "    .dataframe tbody tr th:only-of-type {\n",
       "        vertical-align: middle;\n",
       "    }\n",
       "\n",
       "    .dataframe tbody tr th {\n",
       "        vertical-align: top;\n",
       "    }\n",
       "\n",
       "    .dataframe thead th {\n",
       "        text-align: right;\n",
       "    }\n",
       "</style>\n",
       "<table border=\"1\" class=\"dataframe\">\n",
       "  <thead>\n",
       "    <tr style=\"text-align: right;\">\n",
       "      <th></th>\n",
       "      <th>draft_overall</th>\n",
       "      <th>draft_round</th>\n",
       "      <th>draft_year</th>\n",
       "      <th>player</th>\n",
       "      <th>position</th>\n",
       "      <th>school</th>\n",
       "      <th>conference</th>\n",
       "      <th>wins</th>\n",
       "      <th>losses</th>\n",
       "      <th>rank</th>\n",
       "      <th>...</th>\n",
       "      <th>fumbles_forced</th>\n",
       "      <th>punt_ret</th>\n",
       "      <th>punt_ret_yds</th>\n",
       "      <th>punt_ret_yds_per_ret</th>\n",
       "      <th>punt_ret_td</th>\n",
       "      <th>kick_ret</th>\n",
       "      <th>kick_ret_yds</th>\n",
       "      <th>kick_ret_yds_per_ret</th>\n",
       "      <th>kick_ret_td</th>\n",
       "      <th>avg_grade</th>\n",
       "    </tr>\n",
       "  </thead>\n",
       "  <tbody>\n",
       "    <tr>\n",
       "      <th>0</th>\n",
       "      <td>1</td>\n",
       "      <td>1</td>\n",
       "      <td>2006</td>\n",
       "      <td>Mario Williams</td>\n",
       "      <td>DE</td>\n",
       "      <td>North Carolina St.</td>\n",
       "      <td>ACC</td>\n",
       "      <td>7.0</td>\n",
       "      <td>5.0</td>\n",
       "      <td>37.0</td>\n",
       "      <td>...</td>\n",
       "      <td>0.0</td>\n",
       "      <td>1.0</td>\n",
       "      <td>7.0</td>\n",
       "      <td>7.0</td>\n",
       "      <td>0.0</td>\n",
       "      <td>0.0</td>\n",
       "      <td>0.0</td>\n",
       "      <td>0.0</td>\n",
       "      <td>0.0</td>\n",
       "      <td>66.800</td>\n",
       "    </tr>\n",
       "    <tr>\n",
       "      <th>1</th>\n",
       "      <td>2</td>\n",
       "      <td>1</td>\n",
       "      <td>2006</td>\n",
       "      <td>Reggie Bush</td>\n",
       "      <td>RB</td>\n",
       "      <td>USC</td>\n",
       "      <td>Pac-10</td>\n",
       "      <td>12.0</td>\n",
       "      <td>1.0</td>\n",
       "      <td>2.0</td>\n",
       "      <td>...</td>\n",
       "      <td>0.0</td>\n",
       "      <td>18.0</td>\n",
       "      <td>179.0</td>\n",
       "      <td>9.9</td>\n",
       "      <td>1.0</td>\n",
       "      <td>28.0</td>\n",
       "      <td>493.0</td>\n",
       "      <td>17.6</td>\n",
       "      <td>0.0</td>\n",
       "      <td>61.325</td>\n",
       "    </tr>\n",
       "    <tr>\n",
       "      <th>2</th>\n",
       "      <td>3</td>\n",
       "      <td>1</td>\n",
       "      <td>2006</td>\n",
       "      <td>Vince Young</td>\n",
       "      <td>QB</td>\n",
       "      <td>Texas</td>\n",
       "      <td>Big 12</td>\n",
       "      <td>13.0</td>\n",
       "      <td>0.0</td>\n",
       "      <td>1.0</td>\n",
       "      <td>...</td>\n",
       "      <td>0.0</td>\n",
       "      <td>0.0</td>\n",
       "      <td>0.0</td>\n",
       "      <td>0.0</td>\n",
       "      <td>0.0</td>\n",
       "      <td>0.0</td>\n",
       "      <td>0.0</td>\n",
       "      <td>0.0</td>\n",
       "      <td>0.0</td>\n",
       "      <td>59.200</td>\n",
       "    </tr>\n",
       "    <tr>\n",
       "      <th>3</th>\n",
       "      <td>5</td>\n",
       "      <td>1</td>\n",
       "      <td>2006</td>\n",
       "      <td>A.J. Hawk</td>\n",
       "      <td>LB</td>\n",
       "      <td>Ohio St.</td>\n",
       "      <td>Big Ten</td>\n",
       "      <td>10.0</td>\n",
       "      <td>2.0</td>\n",
       "      <td>8.0</td>\n",
       "      <td>...</td>\n",
       "      <td>0.0</td>\n",
       "      <td>0.0</td>\n",
       "      <td>0.0</td>\n",
       "      <td>0.0</td>\n",
       "      <td>0.0</td>\n",
       "      <td>0.0</td>\n",
       "      <td>0.0</td>\n",
       "      <td>0.0</td>\n",
       "      <td>0.0</td>\n",
       "      <td>63.275</td>\n",
       "    </tr>\n",
       "    <tr>\n",
       "      <th>4</th>\n",
       "      <td>6</td>\n",
       "      <td>1</td>\n",
       "      <td>2006</td>\n",
       "      <td>Vernon Davis</td>\n",
       "      <td>TE</td>\n",
       "      <td>Maryland</td>\n",
       "      <td>ACC</td>\n",
       "      <td>5.0</td>\n",
       "      <td>6.0</td>\n",
       "      <td>65.0</td>\n",
       "      <td>...</td>\n",
       "      <td>0.0</td>\n",
       "      <td>0.0</td>\n",
       "      <td>0.0</td>\n",
       "      <td>0.0</td>\n",
       "      <td>0.0</td>\n",
       "      <td>3.0</td>\n",
       "      <td>68.0</td>\n",
       "      <td>22.7</td>\n",
       "      <td>0.0</td>\n",
       "      <td>67.450</td>\n",
       "    </tr>\n",
       "  </tbody>\n",
       "</table>\n",
       "<p>5 rows × 65 columns</p>\n",
       "</div>"
      ],
      "text/plain": [
       "   draft_overall  draft_round  draft_year          player position  \\\n",
       "0              1            1        2006  Mario Williams       DE   \n",
       "1              2            1        2006     Reggie Bush       RB   \n",
       "2              3            1        2006     Vince Young       QB   \n",
       "3              5            1        2006       A.J. Hawk       LB   \n",
       "4              6            1        2006    Vernon Davis       TE   \n",
       "\n",
       "               school conference  wins  losses  rank    ...      \\\n",
       "0  North Carolina St.        ACC   7.0     5.0  37.0    ...       \n",
       "1                 USC     Pac-10  12.0     1.0   2.0    ...       \n",
       "2               Texas     Big 12  13.0     0.0   1.0    ...       \n",
       "3            Ohio St.    Big Ten  10.0     2.0   8.0    ...       \n",
       "4            Maryland        ACC   5.0     6.0  65.0    ...       \n",
       "\n",
       "  fumbles_forced  punt_ret  punt_ret_yds  punt_ret_yds_per_ret  punt_ret_td  \\\n",
       "0            0.0       1.0           7.0                   7.0          0.0   \n",
       "1            0.0      18.0         179.0                   9.9          1.0   \n",
       "2            0.0       0.0           0.0                   0.0          0.0   \n",
       "3            0.0       0.0           0.0                   0.0          0.0   \n",
       "4            0.0       0.0           0.0                   0.0          0.0   \n",
       "\n",
       "   kick_ret  kick_ret_yds  kick_ret_yds_per_ret  kick_ret_td  avg_grade  \n",
       "0       0.0           0.0                   0.0          0.0     66.800  \n",
       "1      28.0         493.0                  17.6          0.0     61.325  \n",
       "2       0.0           0.0                   0.0          0.0     59.200  \n",
       "3       0.0           0.0                   0.0          0.0     63.275  \n",
       "4       3.0          68.0                  22.7          0.0     67.450  \n",
       "\n",
       "[5 rows x 65 columns]"
      ]
     },
     "execution_count": 155,
     "metadata": {},
     "output_type": "execute_result"
    }
   ],
   "source": [
    "final_year_players.head()"
   ]
  },
  {
   "cell_type": "code",
   "execution_count": 156,
   "metadata": {},
   "outputs": [
    {
     "data": {
      "text/plain": [
       "1779"
      ]
     },
     "execution_count": 156,
     "metadata": {},
     "output_type": "execute_result"
    }
   ],
   "source": [
    "len(final_year_players)"
   ]
  },
  {
   "cell_type": "code",
   "execution_count": 157,
   "metadata": {},
   "outputs": [
    {
     "data": {
      "text/plain": [
       "1768"
      ]
     },
     "execution_count": 157,
     "metadata": {},
     "output_type": "execute_result"
    }
   ],
   "source": [
    "len(final_year_players['player'].unique())"
   ]
  },
  {
   "cell_type": "code",
   "execution_count": 158,
   "metadata": {
    "scrolled": true
   },
   "outputs": [
    {
     "data": {
      "text/plain": [
       "Mike Thomas            2\n",
       "Will Davis             2\n",
       "Corey Wootton          2\n",
       "Kyle Williams          2\n",
       "D.J. Moore             2\n",
       "Chris Jones            2\n",
       "Brandon Williams       2\n",
       "Mike Williams          2\n",
       "Michael Johnson        2\n",
       "Josh Robinson          2\n",
       "Marcus Smith           2\n",
       "Rex Burkhead           1\n",
       "Zach Mettenberger      1\n",
       "Nelson Agholor         1\n",
       "Jim Dray               1\n",
       "Ryan Mouton            1\n",
       "Alfred Blue            1\n",
       "Xavier Rhodes          1\n",
       "M.J. Stewart           1\n",
       "Kelly Jennings         1\n",
       "B.J. Hill              1\n",
       "Johnathan Franklin     1\n",
       "Scott Solomon          1\n",
       "Roquan Smith           1\n",
       "Jermichael Finley      1\n",
       "Trevard Lindley        1\n",
       "Kirk Cousins           1\n",
       "Rashaan Evans          1\n",
       "Jordan Howard          1\n",
       "Nick O'Leary           1\n",
       "                      ..\n",
       "Blair Brown            1\n",
       "Alex Magee             1\n",
       "Christian Kirksey      1\n",
       "Corvey Irvin           1\n",
       "Roy Miller             1\n",
       "Kealoha Pilares        1\n",
       "Jonathan Dwyer         1\n",
       "Trent Murphy           1\n",
       "Tank Carder            1\n",
       "Joe Flacco             1\n",
       "Ronnie Hillman         1\n",
       "Kamalei Correa         1\n",
       "Kenny Vaccaro          1\n",
       "Quinton Patton         1\n",
       "Cameron Jordan         1\n",
       "Aldon Smith            1\n",
       "Jonathan Newsome       1\n",
       "A'Shawn Robinson       1\n",
       "David Ausberry         1\n",
       "Baraka Atkins          1\n",
       "Keith Ellison          1\n",
       "Parry Nickerson        1\n",
       "Bruce Ellington        1\n",
       "Latavius Murray        1\n",
       "Jason Worilds          1\n",
       "Oren Burks             1\n",
       "Corey Fuller           1\n",
       "Cameron Artis-Payne    1\n",
       "Stanley McClover       1\n",
       "Orien Harris           1\n",
       "Name: player, Length: 1768, dtype: int64"
      ]
     },
     "execution_count": 158,
     "metadata": {},
     "output_type": "execute_result"
    }
   ],
   "source": [
    "final_year_players['player'].value_counts()"
   ]
  },
  {
   "cell_type": "code",
   "execution_count": 159,
   "metadata": {},
   "outputs": [],
   "source": [
    "final_year_players.drop_duplicates(subset='player', inplace=True)"
   ]
  },
  {
   "cell_type": "code",
   "execution_count": 160,
   "metadata": {},
   "outputs": [],
   "source": [
    "final_year_players = pd.get_dummies(final_year_players, columns=['conference', 'nfl_team'])"
   ]
  },
  {
   "cell_type": "markdown",
   "metadata": {},
   "source": [
    "# QuarterBacks"
   ]
  },
  {
   "cell_type": "code",
   "execution_count": 161,
   "metadata": {},
   "outputs": [],
   "source": [
    "avg_qbs = avg_players[avg_players['position']=='QB']\n",
    "final_year_qbs = final_year_players[final_year_players['position']=='QB']"
   ]
  },
  {
   "cell_type": "markdown",
   "metadata": {},
   "source": [
    "## Average Stats"
   ]
  },
  {
   "cell_type": "code",
   "execution_count": 162,
   "metadata": {},
   "outputs": [
    {
     "data": {
      "text/plain": [
       "65"
      ]
     },
     "execution_count": 162,
     "metadata": {},
     "output_type": "execute_result"
    }
   ],
   "source": [
    "len(avg_qbs)"
   ]
  },
  {
   "cell_type": "code",
   "execution_count": 163,
   "metadata": {
    "scrolled": true
   },
   "outputs": [
    {
     "data": {
      "text/plain": [
       "draft_overall            0\n",
       "draft_round              0\n",
       "draft_year               0\n",
       "player                   0\n",
       "position                 0\n",
       "school                   0\n",
       "wins                     2\n",
       "losses                   2\n",
       "rank                     2\n",
       "nfl_team_win_perc        0\n",
       "bench_reps              10\n",
       "broad_jump               1\n",
       "cone                     2\n",
       "forty_yd                 2\n",
       "height                   0\n",
       "shuttle                  2\n",
       "vertical                 1\n",
       "weight                   0\n",
       "games                    1\n",
       "pass_cmp                 1\n",
       "pass_att                 1\n",
       "pass_cmp_pct             1\n",
       "pass_yds                 1\n",
       "pass_yds_per_att         1\n",
       "adj_pass_yds_per_att     1\n",
       "pass_td                  1\n",
       "pass_int                 1\n",
       "pass_rating              1\n",
       "rush_att                 1\n",
       "rush_yds                 1\n",
       "                        ..\n",
       "nfl_team_Bengals         0\n",
       "nfl_team_Bills           0\n",
       "nfl_team_Broncos         0\n",
       "nfl_team_Browns          0\n",
       "nfl_team_Buccaneers      0\n",
       "nfl_team_Cardinals       0\n",
       "nfl_team_Chargers        0\n",
       "nfl_team_Chiefs          0\n",
       "nfl_team_Colts           0\n",
       "nfl_team_Cowboys         0\n",
       "nfl_team_Dolphins        0\n",
       "nfl_team_Eagles          0\n",
       "nfl_team_Falcons         0\n",
       "nfl_team_Giants          0\n",
       "nfl_team_Jaguars         0\n",
       "nfl_team_Jets            0\n",
       "nfl_team_Lions           0\n",
       "nfl_team_Packers         0\n",
       "nfl_team_Panthers        0\n",
       "nfl_team_Patriots        0\n",
       "nfl_team_Raiders         0\n",
       "nfl_team_Rams            0\n",
       "nfl_team_Ravens          0\n",
       "nfl_team_Redskins        0\n",
       "nfl_team_Saints          0\n",
       "nfl_team_Seahawks        0\n",
       "nfl_team_Steelers        0\n",
       "nfl_team_Texans          0\n",
       "nfl_team_Titans          0\n",
       "nfl_team_Vikings         0\n",
       "Length: 110, dtype: int64"
      ]
     },
     "execution_count": 163,
     "metadata": {},
     "output_type": "execute_result"
    }
   ],
   "source": [
    "avg_qbs.isnull().sum()"
   ]
  },
  {
   "cell_type": "code",
   "execution_count": 164,
   "metadata": {},
   "outputs": [
    {
     "name": "stderr",
     "output_type": "stream",
     "text": [
      "C:\\Users\\aidan\\Anaconda3\\envs\\DSI-6\\lib\\site-packages\\ipykernel_launcher.py:1: SettingWithCopyWarning: \n",
      "A value is trying to be set on a copy of a slice from a DataFrame\n",
      "\n",
      "See the caveats in the documentation: http://pandas.pydata.org/pandas-docs/stable/indexing.html#indexing-view-versus-copy\n",
      "  \"\"\"Entry point for launching an IPython kernel.\n"
     ]
    }
   ],
   "source": [
    "avg_qbs.dropna(subset=['games'], inplace=True)"
   ]
  },
  {
   "cell_type": "code",
   "execution_count": 165,
   "metadata": {
    "scrolled": true
   },
   "outputs": [
    {
     "data": {
      "text/plain": [
       "draft_overall           0\n",
       "draft_round             0\n",
       "draft_year              0\n",
       "player                  0\n",
       "position                0\n",
       "school                  0\n",
       "wins                    1\n",
       "losses                  1\n",
       "rank                    1\n",
       "nfl_team_win_perc       0\n",
       "bench_reps              9\n",
       "broad_jump              1\n",
       "cone                    2\n",
       "forty_yd                2\n",
       "height                  0\n",
       "shuttle                 2\n",
       "vertical                1\n",
       "weight                  0\n",
       "games                   0\n",
       "pass_cmp                0\n",
       "pass_att                0\n",
       "pass_cmp_pct            0\n",
       "pass_yds                0\n",
       "pass_yds_per_att        0\n",
       "adj_pass_yds_per_att    0\n",
       "pass_td                 0\n",
       "pass_int                0\n",
       "pass_rating             0\n",
       "rush_att                0\n",
       "rush_yds                0\n",
       "rush_yds_per_att        0\n",
       "rush_td                 0\n",
       "rec                     0\n",
       "rec_yds                 0\n",
       "rec_yds_per_rec         0\n",
       "rec_td                  0\n",
       "scrim_att               0\n",
       "scrim_yds               0\n",
       "scrim_yds_per_att       0\n",
       "scrim_td                0\n",
       "tackles_solo            0\n",
       "tackles_assists         0\n",
       "tackles_total           0\n",
       "tackles_loss            0\n",
       "sacks                   0\n",
       "def_int                 0\n",
       "def_int_yds             0\n",
       "def_int_yds_per_int     0\n",
       "def_int_td              0\n",
       "pass_defended           0\n",
       "dtype: int64"
      ]
     },
     "execution_count": 165,
     "metadata": {},
     "output_type": "execute_result"
    }
   ],
   "source": [
    "avg_qbs.isnull().sum()[:50]"
   ]
  },
  {
   "cell_type": "code",
   "execution_count": 166,
   "metadata": {},
   "outputs": [
    {
     "data": {
      "text/html": [
       "<div>\n",
       "<style scoped>\n",
       "    .dataframe tbody tr th:only-of-type {\n",
       "        vertical-align: middle;\n",
       "    }\n",
       "\n",
       "    .dataframe tbody tr th {\n",
       "        vertical-align: top;\n",
       "    }\n",
       "\n",
       "    .dataframe thead th {\n",
       "        text-align: right;\n",
       "    }\n",
       "</style>\n",
       "<table border=\"1\" class=\"dataframe\">\n",
       "  <thead>\n",
       "    <tr style=\"text-align: right;\">\n",
       "      <th></th>\n",
       "      <th>draft_overall</th>\n",
       "      <th>draft_round</th>\n",
       "      <th>draft_year</th>\n",
       "      <th>player</th>\n",
       "      <th>position</th>\n",
       "      <th>school</th>\n",
       "      <th>wins</th>\n",
       "      <th>losses</th>\n",
       "      <th>rank</th>\n",
       "      <th>nfl_team_win_perc</th>\n",
       "      <th>...</th>\n",
       "      <th>nfl_team_Raiders</th>\n",
       "      <th>nfl_team_Rams</th>\n",
       "      <th>nfl_team_Ravens</th>\n",
       "      <th>nfl_team_Redskins</th>\n",
       "      <th>nfl_team_Saints</th>\n",
       "      <th>nfl_team_Seahawks</th>\n",
       "      <th>nfl_team_Steelers</th>\n",
       "      <th>nfl_team_Texans</th>\n",
       "      <th>nfl_team_Titans</th>\n",
       "      <th>nfl_team_Vikings</th>\n",
       "    </tr>\n",
       "  </thead>\n",
       "  <tbody>\n",
       "    <tr>\n",
       "      <th>1792</th>\n",
       "      <td>2</td>\n",
       "      <td>1</td>\n",
       "      <td>2016</td>\n",
       "      <td>Carson Wentz</td>\n",
       "      <td>QB</td>\n",
       "      <td>North Dakota St.</td>\n",
       "      <td>NaN</td>\n",
       "      <td>NaN</td>\n",
       "      <td>NaN</td>\n",
       "      <td>0.438</td>\n",
       "      <td>...</td>\n",
       "      <td>0</td>\n",
       "      <td>0</td>\n",
       "      <td>0</td>\n",
       "      <td>0</td>\n",
       "      <td>0</td>\n",
       "      <td>0</td>\n",
       "      <td>0</td>\n",
       "      <td>0</td>\n",
       "      <td>0</td>\n",
       "      <td>0</td>\n",
       "    </tr>\n",
       "  </tbody>\n",
       "</table>\n",
       "<p>1 rows × 110 columns</p>\n",
       "</div>"
      ],
      "text/plain": [
       "      draft_overall  draft_round  draft_year        player position  \\\n",
       "1792              2            1        2016  Carson Wentz       QB   \n",
       "\n",
       "                school  wins  losses  rank  nfl_team_win_perc  \\\n",
       "1792  North Dakota St.   NaN     NaN   NaN              0.438   \n",
       "\n",
       "            ...         nfl_team_Raiders  nfl_team_Rams  nfl_team_Ravens  \\\n",
       "1792        ...                        0              0                0   \n",
       "\n",
       "      nfl_team_Redskins  nfl_team_Saints  nfl_team_Seahawks  \\\n",
       "1792                  0                0                  0   \n",
       "\n",
       "      nfl_team_Steelers  nfl_team_Texans  nfl_team_Titans  nfl_team_Vikings  \n",
       "1792                  0                0                0                 0  \n",
       "\n",
       "[1 rows x 110 columns]"
      ]
     },
     "execution_count": 166,
     "metadata": {},
     "output_type": "execute_result"
    }
   ],
   "source": [
    "avg_qbs[avg_qbs['wins'].isnull()==True]"
   ]
  },
  {
   "cell_type": "code",
   "execution_count": 167,
   "metadata": {},
   "outputs": [
    {
     "name": "stderr",
     "output_type": "stream",
     "text": [
      "C:\\Users\\aidan\\Anaconda3\\envs\\DSI-6\\lib\\site-packages\\ipykernel_launcher.py:1: SettingWithCopyWarning: \n",
      "A value is trying to be set on a copy of a slice from a DataFrame\n",
      "\n",
      "See the caveats in the documentation: http://pandas.pydata.org/pandas-docs/stable/indexing.html#indexing-view-versus-copy\n",
      "  \"\"\"Entry point for launching an IPython kernel.\n"
     ]
    }
   ],
   "source": [
    "avg_qbs.dropna(subset=['wins'], inplace=True)"
   ]
  },
  {
   "cell_type": "code",
   "execution_count": 168,
   "metadata": {},
   "outputs": [
    {
     "data": {
      "text/plain": [
       "63"
      ]
     },
     "execution_count": 168,
     "metadata": {},
     "output_type": "execute_result"
    }
   ],
   "source": [
    "len(avg_qbs)"
   ]
  },
  {
   "cell_type": "code",
   "execution_count": 169,
   "metadata": {},
   "outputs": [
    {
     "name": "stderr",
     "output_type": "stream",
     "text": [
      "C:\\Users\\aidan\\Anaconda3\\envs\\DSI-6\\lib\\site-packages\\pandas\\core\\frame.py:3697: SettingWithCopyWarning: \n",
      "A value is trying to be set on a copy of a slice from a DataFrame\n",
      "\n",
      "See the caveats in the documentation: http://pandas.pydata.org/pandas-docs/stable/indexing.html#indexing-view-versus-copy\n",
      "  errors=errors)\n"
     ]
    }
   ],
   "source": [
    "avg_qbs.drop(columns='bench_reps', inplace=True)"
   ]
  },
  {
   "cell_type": "code",
   "execution_count": 170,
   "metadata": {
    "scrolled": true
   },
   "outputs": [
    {
     "data": {
      "text/html": [
       "<div>\n",
       "<style scoped>\n",
       "    .dataframe tbody tr th:only-of-type {\n",
       "        vertical-align: middle;\n",
       "    }\n",
       "\n",
       "    .dataframe tbody tr th {\n",
       "        vertical-align: top;\n",
       "    }\n",
       "\n",
       "    .dataframe thead th {\n",
       "        text-align: right;\n",
       "    }\n",
       "</style>\n",
       "<table border=\"1\" class=\"dataframe\">\n",
       "  <thead>\n",
       "    <tr style=\"text-align: right;\">\n",
       "      <th></th>\n",
       "      <th>player</th>\n",
       "      <th>draft_year</th>\n",
       "      <th>broad_jump</th>\n",
       "      <th>cone</th>\n",
       "      <th>forty_yd</th>\n",
       "      <th>height</th>\n",
       "      <th>shuttle</th>\n",
       "      <th>vertical</th>\n",
       "      <th>weight</th>\n",
       "    </tr>\n",
       "  </thead>\n",
       "  <tbody>\n",
       "    <tr>\n",
       "      <th>2</th>\n",
       "      <td>Vince Young</td>\n",
       "      <td>2006</td>\n",
       "      <td>0.0</td>\n",
       "      <td>0.00</td>\n",
       "      <td>4.48</td>\n",
       "      <td>77.0</td>\n",
       "      <td>0.00</td>\n",
       "      <td>0.0</td>\n",
       "      <td>229.0</td>\n",
       "    </tr>\n",
       "    <tr>\n",
       "      <th>8</th>\n",
       "      <td>Matt Leinart</td>\n",
       "      <td>2006</td>\n",
       "      <td>0.0</td>\n",
       "      <td>0.00</td>\n",
       "      <td>4.90</td>\n",
       "      <td>77.0</td>\n",
       "      <td>0.00</td>\n",
       "      <td>0.0</td>\n",
       "      <td>223.0</td>\n",
       "    </tr>\n",
       "    <tr>\n",
       "      <th>9</th>\n",
       "      <td>Jay Cutler</td>\n",
       "      <td>2006</td>\n",
       "      <td>0.0</td>\n",
       "      <td>7.10</td>\n",
       "      <td>4.77</td>\n",
       "      <td>75.0</td>\n",
       "      <td>4.26</td>\n",
       "      <td>0.0</td>\n",
       "      <td>226.0</td>\n",
       "    </tr>\n",
       "    <tr>\n",
       "      <th>38</th>\n",
       "      <td>Kellen Clemens</td>\n",
       "      <td>2006</td>\n",
       "      <td>0.0</td>\n",
       "      <td>0.00</td>\n",
       "      <td>4.89</td>\n",
       "      <td>74.0</td>\n",
       "      <td>0.00</td>\n",
       "      <td>0.0</td>\n",
       "      <td>224.0</td>\n",
       "    </tr>\n",
       "    <tr>\n",
       "      <th>48</th>\n",
       "      <td>Tarvaris Jackson</td>\n",
       "      <td>2006</td>\n",
       "      <td>107.0</td>\n",
       "      <td>7.40</td>\n",
       "      <td>4.69</td>\n",
       "      <td>74.0</td>\n",
       "      <td>4.38</td>\n",
       "      <td>31.5</td>\n",
       "      <td>226.0</td>\n",
       "    </tr>\n",
       "    <tr>\n",
       "      <th>66</th>\n",
       "      <td>Brodie Croyle</td>\n",
       "      <td>2006</td>\n",
       "      <td>104.0</td>\n",
       "      <td>7.34</td>\n",
       "      <td>4.88</td>\n",
       "      <td>74.0</td>\n",
       "      <td>4.25</td>\n",
       "      <td>30.5</td>\n",
       "      <td>205.0</td>\n",
       "    </tr>\n",
       "    <tr>\n",
       "      <th>144</th>\n",
       "      <td>Bruce Gradkowski</td>\n",
       "      <td>2006</td>\n",
       "      <td>107.0</td>\n",
       "      <td>7.12</td>\n",
       "      <td>4.59</td>\n",
       "      <td>73.0</td>\n",
       "      <td>4.16</td>\n",
       "      <td>34.0</td>\n",
       "      <td>217.0</td>\n",
       "    </tr>\n",
       "    <tr>\n",
       "      <th>179</th>\n",
       "      <td>JaMarcus Russell</td>\n",
       "      <td>2007</td>\n",
       "      <td>0.0</td>\n",
       "      <td>0.00</td>\n",
       "      <td>4.83</td>\n",
       "      <td>77.0</td>\n",
       "      <td>0.00</td>\n",
       "      <td>0.0</td>\n",
       "      <td>265.0</td>\n",
       "    </tr>\n",
       "    <tr>\n",
       "      <th>198</th>\n",
       "      <td>Brady Quinn</td>\n",
       "      <td>2007</td>\n",
       "      <td>0.0</td>\n",
       "      <td>0.00</td>\n",
       "      <td>4.73</td>\n",
       "      <td>76.0</td>\n",
       "      <td>0.00</td>\n",
       "      <td>0.0</td>\n",
       "      <td>232.0</td>\n",
       "    </tr>\n",
       "    <tr>\n",
       "      <th>212</th>\n",
       "      <td>John Beck</td>\n",
       "      <td>2007</td>\n",
       "      <td>111.0</td>\n",
       "      <td>6.81</td>\n",
       "      <td>4.75</td>\n",
       "      <td>74.0</td>\n",
       "      <td>4.17</td>\n",
       "      <td>29.5</td>\n",
       "      <td>215.0</td>\n",
       "    </tr>\n",
       "    <tr>\n",
       "      <th>252</th>\n",
       "      <td>Trent Edwards</td>\n",
       "      <td>2007</td>\n",
       "      <td>0.0</td>\n",
       "      <td>7.14</td>\n",
       "      <td>4.76</td>\n",
       "      <td>76.0</td>\n",
       "      <td>4.46</td>\n",
       "      <td>0.0</td>\n",
       "      <td>231.0</td>\n",
       "    </tr>\n",
       "    <tr>\n",
       "      <th>365</th>\n",
       "      <td>Matt Ryan</td>\n",
       "      <td>2008</td>\n",
       "      <td>0.0</td>\n",
       "      <td>7.40</td>\n",
       "      <td>4.89</td>\n",
       "      <td>77.0</td>\n",
       "      <td>4.51</td>\n",
       "      <td>0.0</td>\n",
       "      <td>228.0</td>\n",
       "    </tr>\n",
       "    <tr>\n",
       "      <th>375</th>\n",
       "      <td>Joe Flacco</td>\n",
       "      <td>2008</td>\n",
       "      <td>110.0</td>\n",
       "      <td>6.82</td>\n",
       "      <td>4.84</td>\n",
       "      <td>78.0</td>\n",
       "      <td>4.27</td>\n",
       "      <td>28.5</td>\n",
       "      <td>236.0</td>\n",
       "    </tr>\n",
       "    <tr>\n",
       "      <th>409</th>\n",
       "      <td>Chad Henne</td>\n",
       "      <td>2008</td>\n",
       "      <td>106.0</td>\n",
       "      <td>7.17</td>\n",
       "      <td>4.92</td>\n",
       "      <td>75.0</td>\n",
       "      <td>4.40</td>\n",
       "      <td>25.5</td>\n",
       "      <td>230.0</td>\n",
       "    </tr>\n",
       "    <tr>\n",
       "      <th>548</th>\n",
       "      <td>Matthew Stafford</td>\n",
       "      <td>2009</td>\n",
       "      <td>107.0</td>\n",
       "      <td>7.06</td>\n",
       "      <td>4.81</td>\n",
       "      <td>74.0</td>\n",
       "      <td>4.47</td>\n",
       "      <td>30.5</td>\n",
       "      <td>225.0</td>\n",
       "    </tr>\n",
       "    <tr>\n",
       "      <th>551</th>\n",
       "      <td>Mark Sanchez</td>\n",
       "      <td>2009</td>\n",
       "      <td>116.0</td>\n",
       "      <td>7.06</td>\n",
       "      <td>4.93</td>\n",
       "      <td>74.0</td>\n",
       "      <td>4.21</td>\n",
       "      <td>32.5</td>\n",
       "      <td>227.0</td>\n",
       "    </tr>\n",
       "    <tr>\n",
       "      <th>561</th>\n",
       "      <td>Josh Freeman</td>\n",
       "      <td>2009</td>\n",
       "      <td>119.0</td>\n",
       "      <td>7.11</td>\n",
       "      <td>4.90</td>\n",
       "      <td>78.0</td>\n",
       "      <td>4.43</td>\n",
       "      <td>33.5</td>\n",
       "      <td>248.0</td>\n",
       "    </tr>\n",
       "    <tr>\n",
       "      <th>690</th>\n",
       "      <td>Curtis Painter</td>\n",
       "      <td>2009</td>\n",
       "      <td>102.0</td>\n",
       "      <td>7.00</td>\n",
       "      <td>4.87</td>\n",
       "      <td>75.0</td>\n",
       "      <td>4.48</td>\n",
       "      <td>29.0</td>\n",
       "      <td>225.0</td>\n",
       "    </tr>\n",
       "    <tr>\n",
       "      <th>726</th>\n",
       "      <td>Sam Bradford</td>\n",
       "      <td>2010</td>\n",
       "      <td>0.0</td>\n",
       "      <td>0.00</td>\n",
       "      <td>4.79</td>\n",
       "      <td>76.0</td>\n",
       "      <td>0.00</td>\n",
       "      <td>0.0</td>\n",
       "      <td>236.0</td>\n",
       "    </tr>\n",
       "    <tr>\n",
       "      <th>744</th>\n",
       "      <td>Tim Tebow</td>\n",
       "      <td>2010</td>\n",
       "      <td>115.0</td>\n",
       "      <td>6.66</td>\n",
       "      <td>4.71</td>\n",
       "      <td>75.0</td>\n",
       "      <td>4.17</td>\n",
       "      <td>38.5</td>\n",
       "      <td>236.0</td>\n",
       "    </tr>\n",
       "    <tr>\n",
       "      <th>763</th>\n",
       "      <td>Jimmy Clausen</td>\n",
       "      <td>2010</td>\n",
       "      <td>0.0</td>\n",
       "      <td>0.00</td>\n",
       "      <td>4.76</td>\n",
       "      <td>75.0</td>\n",
       "      <td>0.00</td>\n",
       "      <td>0.0</td>\n",
       "      <td>222.0</td>\n",
       "    </tr>\n",
       "    <tr>\n",
       "      <th>793</th>\n",
       "      <td>Colt McCoy</td>\n",
       "      <td>2010</td>\n",
       "      <td>114.0</td>\n",
       "      <td>0.00</td>\n",
       "      <td>4.79</td>\n",
       "      <td>73.0</td>\n",
       "      <td>0.00</td>\n",
       "      <td>0.0</td>\n",
       "      <td>216.0</td>\n",
       "    </tr>\n",
       "    <tr>\n",
       "      <th>902</th>\n",
       "      <td>Cam Newton</td>\n",
       "      <td>2011</td>\n",
       "      <td>126.0</td>\n",
       "      <td>6.92</td>\n",
       "      <td>4.56</td>\n",
       "      <td>77.0</td>\n",
       "      <td>4.18</td>\n",
       "      <td>35.0</td>\n",
       "      <td>248.0</td>\n",
       "    </tr>\n",
       "    <tr>\n",
       "      <th>909</th>\n",
       "      <td>Jake Locker</td>\n",
       "      <td>2011</td>\n",
       "      <td>120.0</td>\n",
       "      <td>6.77</td>\n",
       "      <td>4.51</td>\n",
       "      <td>74.0</td>\n",
       "      <td>4.12</td>\n",
       "      <td>35.0</td>\n",
       "      <td>231.0</td>\n",
       "    </tr>\n",
       "    <tr>\n",
       "      <th>910</th>\n",
       "      <td>Blaine Gabbert</td>\n",
       "      <td>2011</td>\n",
       "      <td>120.0</td>\n",
       "      <td>6.84</td>\n",
       "      <td>4.61</td>\n",
       "      <td>76.0</td>\n",
       "      <td>4.26</td>\n",
       "      <td>33.5</td>\n",
       "      <td>234.0</td>\n",
       "    </tr>\n",
       "    <tr>\n",
       "      <th>912</th>\n",
       "      <td>Christian Ponder</td>\n",
       "      <td>2011</td>\n",
       "      <td>116.0</td>\n",
       "      <td>6.85</td>\n",
       "      <td>4.63</td>\n",
       "      <td>74.0</td>\n",
       "      <td>4.09</td>\n",
       "      <td>34.0</td>\n",
       "      <td>229.0</td>\n",
       "    </tr>\n",
       "    <tr>\n",
       "      <th>927</th>\n",
       "      <td>Andy Dalton</td>\n",
       "      <td>2011</td>\n",
       "      <td>106.0</td>\n",
       "      <td>6.93</td>\n",
       "      <td>4.83</td>\n",
       "      <td>74.0</td>\n",
       "      <td>4.27</td>\n",
       "      <td>29.5</td>\n",
       "      <td>215.0</td>\n",
       "    </tr>\n",
       "    <tr>\n",
       "      <th>928</th>\n",
       "      <td>Colin Kaepernick</td>\n",
       "      <td>2011</td>\n",
       "      <td>115.0</td>\n",
       "      <td>6.85</td>\n",
       "      <td>4.53</td>\n",
       "      <td>77.0</td>\n",
       "      <td>4.18</td>\n",
       "      <td>32.5</td>\n",
       "      <td>233.0</td>\n",
       "    </tr>\n",
       "    <tr>\n",
       "      <th>1015</th>\n",
       "      <td>T.J. Yates</td>\n",
       "      <td>2011</td>\n",
       "      <td>104.0</td>\n",
       "      <td>6.96</td>\n",
       "      <td>5.06</td>\n",
       "      <td>75.0</td>\n",
       "      <td>4.12</td>\n",
       "      <td>29.5</td>\n",
       "      <td>219.0</td>\n",
       "    </tr>\n",
       "    <tr>\n",
       "      <th>1084</th>\n",
       "      <td>Andrew Luck</td>\n",
       "      <td>2012</td>\n",
       "      <td>124.0</td>\n",
       "      <td>6.80</td>\n",
       "      <td>4.59</td>\n",
       "      <td>76.0</td>\n",
       "      <td>4.28</td>\n",
       "      <td>36.0</td>\n",
       "      <td>234.0</td>\n",
       "    </tr>\n",
       "    <tr>\n",
       "      <th>...</th>\n",
       "      <td>...</td>\n",
       "      <td>...</td>\n",
       "      <td>...</td>\n",
       "      <td>...</td>\n",
       "      <td>...</td>\n",
       "      <td>...</td>\n",
       "      <td>...</td>\n",
       "      <td>...</td>\n",
       "      <td>...</td>\n",
       "    </tr>\n",
       "    <tr>\n",
       "      <th>1153</th>\n",
       "      <td>Nick Foles</td>\n",
       "      <td>2012</td>\n",
       "      <td>112.0</td>\n",
       "      <td>0.00</td>\n",
       "      <td>5.03</td>\n",
       "      <td>77.0</td>\n",
       "      <td>0.00</td>\n",
       "      <td>30.5</td>\n",
       "      <td>243.0</td>\n",
       "    </tr>\n",
       "    <tr>\n",
       "      <th>1162</th>\n",
       "      <td>Kirk Cousins</td>\n",
       "      <td>2012</td>\n",
       "      <td>109.0</td>\n",
       "      <td>7.05</td>\n",
       "      <td>4.84</td>\n",
       "      <td>75.0</td>\n",
       "      <td>4.50</td>\n",
       "      <td>28.5</td>\n",
       "      <td>214.0</td>\n",
       "    </tr>\n",
       "    <tr>\n",
       "      <th>1215</th>\n",
       "      <td>Ryan Lindley</td>\n",
       "      <td>2012</td>\n",
       "      <td>108.0</td>\n",
       "      <td>7.52</td>\n",
       "      <td>4.86</td>\n",
       "      <td>76.0</td>\n",
       "      <td>4.45</td>\n",
       "      <td>29.5</td>\n",
       "      <td>229.0</td>\n",
       "    </tr>\n",
       "    <tr>\n",
       "      <th>1291</th>\n",
       "      <td>Geno Smith</td>\n",
       "      <td>2013</td>\n",
       "      <td>124.0</td>\n",
       "      <td>0.00</td>\n",
       "      <td>4.58</td>\n",
       "      <td>74.0</td>\n",
       "      <td>0.00</td>\n",
       "      <td>33.5</td>\n",
       "      <td>218.0</td>\n",
       "    </tr>\n",
       "    <tr>\n",
       "      <th>1320</th>\n",
       "      <td>Mike Glennon</td>\n",
       "      <td>2013</td>\n",
       "      <td>102.0</td>\n",
       "      <td>7.49</td>\n",
       "      <td>4.94</td>\n",
       "      <td>79.0</td>\n",
       "      <td>4.52</td>\n",
       "      <td>26.5</td>\n",
       "      <td>225.0</td>\n",
       "    </tr>\n",
       "    <tr>\n",
       "      <th>1352</th>\n",
       "      <td>Landry Jones</td>\n",
       "      <td>2013</td>\n",
       "      <td>115.0</td>\n",
       "      <td>7.12</td>\n",
       "      <td>5.11</td>\n",
       "      <td>76.0</td>\n",
       "      <td>4.30</td>\n",
       "      <td>31.0</td>\n",
       "      <td>225.0</td>\n",
       "    </tr>\n",
       "    <tr>\n",
       "      <th>1450</th>\n",
       "      <td>Blake Bortles</td>\n",
       "      <td>2014</td>\n",
       "      <td>115.0</td>\n",
       "      <td>7.08</td>\n",
       "      <td>4.93</td>\n",
       "      <td>77.0</td>\n",
       "      <td>4.21</td>\n",
       "      <td>32.5</td>\n",
       "      <td>232.0</td>\n",
       "    </tr>\n",
       "    <tr>\n",
       "      <th>1465</th>\n",
       "      <td>Johnny Manziel</td>\n",
       "      <td>2014</td>\n",
       "      <td>113.0</td>\n",
       "      <td>6.75</td>\n",
       "      <td>4.68</td>\n",
       "      <td>72.0</td>\n",
       "      <td>4.03</td>\n",
       "      <td>31.5</td>\n",
       "      <td>207.0</td>\n",
       "    </tr>\n",
       "    <tr>\n",
       "      <th>1475</th>\n",
       "      <td>Teddy Bridgewater</td>\n",
       "      <td>2014</td>\n",
       "      <td>113.0</td>\n",
       "      <td>7.17</td>\n",
       "      <td>0.00</td>\n",
       "      <td>74.0</td>\n",
       "      <td>4.20</td>\n",
       "      <td>30.0</td>\n",
       "      <td>214.0</td>\n",
       "    </tr>\n",
       "    <tr>\n",
       "      <th>1477</th>\n",
       "      <td>Derek Carr</td>\n",
       "      <td>2014</td>\n",
       "      <td>110.0</td>\n",
       "      <td>0.00</td>\n",
       "      <td>4.69</td>\n",
       "      <td>74.0</td>\n",
       "      <td>4.20</td>\n",
       "      <td>34.5</td>\n",
       "      <td>214.0</td>\n",
       "    </tr>\n",
       "    <tr>\n",
       "      <th>1571</th>\n",
       "      <td>A.J. McCarron</td>\n",
       "      <td>2014</td>\n",
       "      <td>99.0</td>\n",
       "      <td>7.18</td>\n",
       "      <td>4.94</td>\n",
       "      <td>75.0</td>\n",
       "      <td>4.34</td>\n",
       "      <td>28.0</td>\n",
       "      <td>220.0</td>\n",
       "    </tr>\n",
       "    <tr>\n",
       "      <th>1580</th>\n",
       "      <td>Zach Mettenberger</td>\n",
       "      <td>2014</td>\n",
       "      <td>0.0</td>\n",
       "      <td>0.00</td>\n",
       "      <td>0.00</td>\n",
       "      <td>77.0</td>\n",
       "      <td>0.00</td>\n",
       "      <td>0.0</td>\n",
       "      <td>224.0</td>\n",
       "    </tr>\n",
       "    <tr>\n",
       "      <th>1621</th>\n",
       "      <td>Jameis Winston</td>\n",
       "      <td>2015</td>\n",
       "      <td>103.0</td>\n",
       "      <td>7.16</td>\n",
       "      <td>4.97</td>\n",
       "      <td>76.0</td>\n",
       "      <td>4.36</td>\n",
       "      <td>28.5</td>\n",
       "      <td>231.0</td>\n",
       "    </tr>\n",
       "    <tr>\n",
       "      <th>1622</th>\n",
       "      <td>Marcus Mariota</td>\n",
       "      <td>2015</td>\n",
       "      <td>121.0</td>\n",
       "      <td>6.87</td>\n",
       "      <td>4.52</td>\n",
       "      <td>76.0</td>\n",
       "      <td>4.11</td>\n",
       "      <td>36.0</td>\n",
       "      <td>222.0</td>\n",
       "    </tr>\n",
       "    <tr>\n",
       "      <th>1698</th>\n",
       "      <td>Bryce Petty</td>\n",
       "      <td>2015</td>\n",
       "      <td>121.0</td>\n",
       "      <td>6.91</td>\n",
       "      <td>4.87</td>\n",
       "      <td>75.0</td>\n",
       "      <td>4.13</td>\n",
       "      <td>34.0</td>\n",
       "      <td>230.0</td>\n",
       "    </tr>\n",
       "    <tr>\n",
       "      <th>1727</th>\n",
       "      <td>Brett Hundley</td>\n",
       "      <td>2015</td>\n",
       "      <td>120.0</td>\n",
       "      <td>6.93</td>\n",
       "      <td>4.63</td>\n",
       "      <td>75.0</td>\n",
       "      <td>3.98</td>\n",
       "      <td>36.0</td>\n",
       "      <td>226.0</td>\n",
       "    </tr>\n",
       "    <tr>\n",
       "      <th>1791</th>\n",
       "      <td>Jared Goff</td>\n",
       "      <td>2016</td>\n",
       "      <td>110.0</td>\n",
       "      <td>7.17</td>\n",
       "      <td>4.82</td>\n",
       "      <td>76.0</td>\n",
       "      <td>4.47</td>\n",
       "      <td>27.0</td>\n",
       "      <td>215.0</td>\n",
       "    </tr>\n",
       "    <tr>\n",
       "      <th>1865</th>\n",
       "      <td>Jacoby Brissett</td>\n",
       "      <td>2016</td>\n",
       "      <td>113.0</td>\n",
       "      <td>7.17</td>\n",
       "      <td>4.94</td>\n",
       "      <td>76.0</td>\n",
       "      <td>4.53</td>\n",
       "      <td>31.0</td>\n",
       "      <td>231.0</td>\n",
       "    </tr>\n",
       "    <tr>\n",
       "      <th>1869</th>\n",
       "      <td>Cody Kessler</td>\n",
       "      <td>2016</td>\n",
       "      <td>104.0</td>\n",
       "      <td>7.32</td>\n",
       "      <td>4.89</td>\n",
       "      <td>73.0</td>\n",
       "      <td>4.00</td>\n",
       "      <td>29.5</td>\n",
       "      <td>220.0</td>\n",
       "    </tr>\n",
       "    <tr>\n",
       "      <th>1900</th>\n",
       "      <td>Dak Prescott</td>\n",
       "      <td>2016</td>\n",
       "      <td>116.0</td>\n",
       "      <td>7.11</td>\n",
       "      <td>4.79</td>\n",
       "      <td>74.0</td>\n",
       "      <td>4.32</td>\n",
       "      <td>32.5</td>\n",
       "      <td>226.0</td>\n",
       "    </tr>\n",
       "    <tr>\n",
       "      <th>1948</th>\n",
       "      <td>Jeff Driskel</td>\n",
       "      <td>2016</td>\n",
       "      <td>122.0</td>\n",
       "      <td>7.19</td>\n",
       "      <td>4.56</td>\n",
       "      <td>76.0</td>\n",
       "      <td>4.25</td>\n",
       "      <td>32.0</td>\n",
       "      <td>234.0</td>\n",
       "    </tr>\n",
       "    <tr>\n",
       "      <th>1990</th>\n",
       "      <td>Patrick Mahomes</td>\n",
       "      <td>2017</td>\n",
       "      <td>114.0</td>\n",
       "      <td>6.88</td>\n",
       "      <td>4.80</td>\n",
       "      <td>74.0</td>\n",
       "      <td>4.08</td>\n",
       "      <td>30.0</td>\n",
       "      <td>225.0</td>\n",
       "    </tr>\n",
       "    <tr>\n",
       "      <th>1992</th>\n",
       "      <td>Deshaun Watson</td>\n",
       "      <td>2017</td>\n",
       "      <td>119.0</td>\n",
       "      <td>6.95</td>\n",
       "      <td>4.66</td>\n",
       "      <td>74.0</td>\n",
       "      <td>4.31</td>\n",
       "      <td>32.5</td>\n",
       "      <td>221.0</td>\n",
       "    </tr>\n",
       "    <tr>\n",
       "      <th>2026</th>\n",
       "      <td>DeShone Kizer</td>\n",
       "      <td>2017</td>\n",
       "      <td>107.0</td>\n",
       "      <td>7.40</td>\n",
       "      <td>4.83</td>\n",
       "      <td>76.0</td>\n",
       "      <td>4.53</td>\n",
       "      <td>30.5</td>\n",
       "      <td>233.0</td>\n",
       "    </tr>\n",
       "    <tr>\n",
       "      <th>2066</th>\n",
       "      <td>C.J. Beathard</td>\n",
       "      <td>2017</td>\n",
       "      <td>113.0</td>\n",
       "      <td>NaN</td>\n",
       "      <td>NaN</td>\n",
       "      <td>74.0</td>\n",
       "      <td>NaN</td>\n",
       "      <td>31.0</td>\n",
       "      <td>219.0</td>\n",
       "    </tr>\n",
       "    <tr>\n",
       "      <th>2177</th>\n",
       "      <td>Baker Mayfield</td>\n",
       "      <td>2018</td>\n",
       "      <td>111.0</td>\n",
       "      <td>7.00</td>\n",
       "      <td>4.84</td>\n",
       "      <td>73.0</td>\n",
       "      <td>4.28</td>\n",
       "      <td>29.0</td>\n",
       "      <td>215.0</td>\n",
       "    </tr>\n",
       "    <tr>\n",
       "      <th>2179</th>\n",
       "      <td>Sam Darnold</td>\n",
       "      <td>2018</td>\n",
       "      <td>105.0</td>\n",
       "      <td>6.96</td>\n",
       "      <td>4.85</td>\n",
       "      <td>75.0</td>\n",
       "      <td>4.40</td>\n",
       "      <td>26.5</td>\n",
       "      <td>221.0</td>\n",
       "    </tr>\n",
       "    <tr>\n",
       "      <th>2182</th>\n",
       "      <td>Josh Allen</td>\n",
       "      <td>2018</td>\n",
       "      <td>119.0</td>\n",
       "      <td>6.90</td>\n",
       "      <td>4.75</td>\n",
       "      <td>77.0</td>\n",
       "      <td>4.40</td>\n",
       "      <td>33.5</td>\n",
       "      <td>237.0</td>\n",
       "    </tr>\n",
       "    <tr>\n",
       "      <th>2184</th>\n",
       "      <td>Josh Rosen</td>\n",
       "      <td>2018</td>\n",
       "      <td>111.0</td>\n",
       "      <td>7.09</td>\n",
       "      <td>4.92</td>\n",
       "      <td>76.0</td>\n",
       "      <td>4.28</td>\n",
       "      <td>31.0</td>\n",
       "      <td>226.0</td>\n",
       "    </tr>\n",
       "    <tr>\n",
       "      <th>2203</th>\n",
       "      <td>Lamar Jackson</td>\n",
       "      <td>2018</td>\n",
       "      <td>NaN</td>\n",
       "      <td>NaN</td>\n",
       "      <td>NaN</td>\n",
       "      <td>74.0</td>\n",
       "      <td>NaN</td>\n",
       "      <td>NaN</td>\n",
       "      <td>216.0</td>\n",
       "    </tr>\n",
       "  </tbody>\n",
       "</table>\n",
       "<p>63 rows × 9 columns</p>\n",
       "</div>"
      ],
      "text/plain": [
       "                 player  draft_year  broad_jump  cone  forty_yd  height  \\\n",
       "2           Vince Young        2006         0.0  0.00      4.48    77.0   \n",
       "8          Matt Leinart        2006         0.0  0.00      4.90    77.0   \n",
       "9            Jay Cutler        2006         0.0  7.10      4.77    75.0   \n",
       "38       Kellen Clemens        2006         0.0  0.00      4.89    74.0   \n",
       "48     Tarvaris Jackson        2006       107.0  7.40      4.69    74.0   \n",
       "66        Brodie Croyle        2006       104.0  7.34      4.88    74.0   \n",
       "144    Bruce Gradkowski        2006       107.0  7.12      4.59    73.0   \n",
       "179    JaMarcus Russell        2007         0.0  0.00      4.83    77.0   \n",
       "198         Brady Quinn        2007         0.0  0.00      4.73    76.0   \n",
       "212           John Beck        2007       111.0  6.81      4.75    74.0   \n",
       "252       Trent Edwards        2007         0.0  7.14      4.76    76.0   \n",
       "365           Matt Ryan        2008         0.0  7.40      4.89    77.0   \n",
       "375          Joe Flacco        2008       110.0  6.82      4.84    78.0   \n",
       "409          Chad Henne        2008       106.0  7.17      4.92    75.0   \n",
       "548    Matthew Stafford        2009       107.0  7.06      4.81    74.0   \n",
       "551        Mark Sanchez        2009       116.0  7.06      4.93    74.0   \n",
       "561        Josh Freeman        2009       119.0  7.11      4.90    78.0   \n",
       "690      Curtis Painter        2009       102.0  7.00      4.87    75.0   \n",
       "726        Sam Bradford        2010         0.0  0.00      4.79    76.0   \n",
       "744           Tim Tebow        2010       115.0  6.66      4.71    75.0   \n",
       "763       Jimmy Clausen        2010         0.0  0.00      4.76    75.0   \n",
       "793          Colt McCoy        2010       114.0  0.00      4.79    73.0   \n",
       "902          Cam Newton        2011       126.0  6.92      4.56    77.0   \n",
       "909         Jake Locker        2011       120.0  6.77      4.51    74.0   \n",
       "910      Blaine Gabbert        2011       120.0  6.84      4.61    76.0   \n",
       "912    Christian Ponder        2011       116.0  6.85      4.63    74.0   \n",
       "927         Andy Dalton        2011       106.0  6.93      4.83    74.0   \n",
       "928    Colin Kaepernick        2011       115.0  6.85      4.53    77.0   \n",
       "1015         T.J. Yates        2011       104.0  6.96      5.06    75.0   \n",
       "1084        Andrew Luck        2012       124.0  6.80      4.59    76.0   \n",
       "...                 ...         ...         ...   ...       ...     ...   \n",
       "1153         Nick Foles        2012       112.0  0.00      5.03    77.0   \n",
       "1162       Kirk Cousins        2012       109.0  7.05      4.84    75.0   \n",
       "1215       Ryan Lindley        2012       108.0  7.52      4.86    76.0   \n",
       "1291         Geno Smith        2013       124.0  0.00      4.58    74.0   \n",
       "1320       Mike Glennon        2013       102.0  7.49      4.94    79.0   \n",
       "1352       Landry Jones        2013       115.0  7.12      5.11    76.0   \n",
       "1450      Blake Bortles        2014       115.0  7.08      4.93    77.0   \n",
       "1465     Johnny Manziel        2014       113.0  6.75      4.68    72.0   \n",
       "1475  Teddy Bridgewater        2014       113.0  7.17      0.00    74.0   \n",
       "1477         Derek Carr        2014       110.0  0.00      4.69    74.0   \n",
       "1571      A.J. McCarron        2014        99.0  7.18      4.94    75.0   \n",
       "1580  Zach Mettenberger        2014         0.0  0.00      0.00    77.0   \n",
       "1621     Jameis Winston        2015       103.0  7.16      4.97    76.0   \n",
       "1622     Marcus Mariota        2015       121.0  6.87      4.52    76.0   \n",
       "1698        Bryce Petty        2015       121.0  6.91      4.87    75.0   \n",
       "1727      Brett Hundley        2015       120.0  6.93      4.63    75.0   \n",
       "1791         Jared Goff        2016       110.0  7.17      4.82    76.0   \n",
       "1865    Jacoby Brissett        2016       113.0  7.17      4.94    76.0   \n",
       "1869       Cody Kessler        2016       104.0  7.32      4.89    73.0   \n",
       "1900       Dak Prescott        2016       116.0  7.11      4.79    74.0   \n",
       "1948       Jeff Driskel        2016       122.0  7.19      4.56    76.0   \n",
       "1990    Patrick Mahomes        2017       114.0  6.88      4.80    74.0   \n",
       "1992     Deshaun Watson        2017       119.0  6.95      4.66    74.0   \n",
       "2026      DeShone Kizer        2017       107.0  7.40      4.83    76.0   \n",
       "2066      C.J. Beathard        2017       113.0   NaN       NaN    74.0   \n",
       "2177     Baker Mayfield        2018       111.0  7.00      4.84    73.0   \n",
       "2179        Sam Darnold        2018       105.0  6.96      4.85    75.0   \n",
       "2182         Josh Allen        2018       119.0  6.90      4.75    77.0   \n",
       "2184         Josh Rosen        2018       111.0  7.09      4.92    76.0   \n",
       "2203      Lamar Jackson        2018         NaN   NaN       NaN    74.0   \n",
       "\n",
       "      shuttle  vertical  weight  \n",
       "2        0.00       0.0   229.0  \n",
       "8        0.00       0.0   223.0  \n",
       "9        4.26       0.0   226.0  \n",
       "38       0.00       0.0   224.0  \n",
       "48       4.38      31.5   226.0  \n",
       "66       4.25      30.5   205.0  \n",
       "144      4.16      34.0   217.0  \n",
       "179      0.00       0.0   265.0  \n",
       "198      0.00       0.0   232.0  \n",
       "212      4.17      29.5   215.0  \n",
       "252      4.46       0.0   231.0  \n",
       "365      4.51       0.0   228.0  \n",
       "375      4.27      28.5   236.0  \n",
       "409      4.40      25.5   230.0  \n",
       "548      4.47      30.5   225.0  \n",
       "551      4.21      32.5   227.0  \n",
       "561      4.43      33.5   248.0  \n",
       "690      4.48      29.0   225.0  \n",
       "726      0.00       0.0   236.0  \n",
       "744      4.17      38.5   236.0  \n",
       "763      0.00       0.0   222.0  \n",
       "793      0.00       0.0   216.0  \n",
       "902      4.18      35.0   248.0  \n",
       "909      4.12      35.0   231.0  \n",
       "910      4.26      33.5   234.0  \n",
       "912      4.09      34.0   229.0  \n",
       "927      4.27      29.5   215.0  \n",
       "928      4.18      32.5   233.0  \n",
       "1015     4.12      29.5   219.0  \n",
       "1084     4.28      36.0   234.0  \n",
       "...       ...       ...     ...  \n",
       "1153     0.00      30.5   243.0  \n",
       "1162     4.50      28.5   214.0  \n",
       "1215     4.45      29.5   229.0  \n",
       "1291     0.00      33.5   218.0  \n",
       "1320     4.52      26.5   225.0  \n",
       "1352     4.30      31.0   225.0  \n",
       "1450     4.21      32.5   232.0  \n",
       "1465     4.03      31.5   207.0  \n",
       "1475     4.20      30.0   214.0  \n",
       "1477     4.20      34.5   214.0  \n",
       "1571     4.34      28.0   220.0  \n",
       "1580     0.00       0.0   224.0  \n",
       "1621     4.36      28.5   231.0  \n",
       "1622     4.11      36.0   222.0  \n",
       "1698     4.13      34.0   230.0  \n",
       "1727     3.98      36.0   226.0  \n",
       "1791     4.47      27.0   215.0  \n",
       "1865     4.53      31.0   231.0  \n",
       "1869     4.00      29.5   220.0  \n",
       "1900     4.32      32.5   226.0  \n",
       "1948     4.25      32.0   234.0  \n",
       "1990     4.08      30.0   225.0  \n",
       "1992     4.31      32.5   221.0  \n",
       "2026     4.53      30.5   233.0  \n",
       "2066      NaN      31.0   219.0  \n",
       "2177     4.28      29.0   215.0  \n",
       "2179     4.40      26.5   221.0  \n",
       "2182     4.40      33.5   237.0  \n",
       "2184     4.28      31.0   226.0  \n",
       "2203      NaN       NaN   216.0  \n",
       "\n",
       "[63 rows x 9 columns]"
      ]
     },
     "execution_count": 170,
     "metadata": {},
     "output_type": "execute_result"
    }
   ],
   "source": [
    "avg_qbs[['player', 'draft_year', 'broad_jump', 'cone', 'forty_yd', 'height', 'shuttle', 'vertical', 'weight']]"
   ]
  },
  {
   "cell_type": "code",
   "execution_count": 171,
   "metadata": {
    "scrolled": true
   },
   "outputs": [
    {
     "data": {
      "text/plain": [
       "draft_overall           0\n",
       "draft_round             0\n",
       "draft_year              0\n",
       "player                  0\n",
       "position                0\n",
       "school                  0\n",
       "wins                    0\n",
       "losses                  0\n",
       "rank                    0\n",
       "nfl_team_win_perc       0\n",
       "broad_jump              1\n",
       "cone                    2\n",
       "forty_yd                2\n",
       "height                  0\n",
       "shuttle                 2\n",
       "vertical                1\n",
       "weight                  0\n",
       "games                   0\n",
       "pass_cmp                0\n",
       "pass_att                0\n",
       "pass_cmp_pct            0\n",
       "pass_yds                0\n",
       "pass_yds_per_att        0\n",
       "adj_pass_yds_per_att    0\n",
       "pass_td                 0\n",
       "pass_int                0\n",
       "pass_rating             0\n",
       "rush_att                0\n",
       "rush_yds                0\n",
       "rush_yds_per_att        0\n",
       "                       ..\n",
       "nfl_team_Bengals        0\n",
       "nfl_team_Bills          0\n",
       "nfl_team_Broncos        0\n",
       "nfl_team_Browns         0\n",
       "nfl_team_Buccaneers     0\n",
       "nfl_team_Cardinals      0\n",
       "nfl_team_Chargers       0\n",
       "nfl_team_Chiefs         0\n",
       "nfl_team_Colts          0\n",
       "nfl_team_Cowboys        0\n",
       "nfl_team_Dolphins       0\n",
       "nfl_team_Eagles         0\n",
       "nfl_team_Falcons        0\n",
       "nfl_team_Giants         0\n",
       "nfl_team_Jaguars        0\n",
       "nfl_team_Jets           0\n",
       "nfl_team_Lions          0\n",
       "nfl_team_Packers        0\n",
       "nfl_team_Panthers       0\n",
       "nfl_team_Patriots       0\n",
       "nfl_team_Raiders        0\n",
       "nfl_team_Rams           0\n",
       "nfl_team_Ravens         0\n",
       "nfl_team_Redskins       0\n",
       "nfl_team_Saints         0\n",
       "nfl_team_Seahawks       0\n",
       "nfl_team_Steelers       0\n",
       "nfl_team_Texans         0\n",
       "nfl_team_Titans         0\n",
       "nfl_team_Vikings        0\n",
       "Length: 109, dtype: int64"
      ]
     },
     "execution_count": 171,
     "metadata": {},
     "output_type": "execute_result"
    }
   ],
   "source": [
    "avg_qbs.dropna(subset= ['broad_jump', 'cone', 'forty_yd', 'height', 'shuttle', 'vertical', 'weight'], how='all').isnull().sum()"
   ]
  },
  {
   "cell_type": "code",
   "execution_count": 172,
   "metadata": {},
   "outputs": [
    {
     "name": "stderr",
     "output_type": "stream",
     "text": [
      "C:\\Users\\aidan\\Anaconda3\\envs\\DSI-6\\lib\\site-packages\\ipykernel_launcher.py:1: SettingWithCopyWarning: \n",
      "A value is trying to be set on a copy of a slice from a DataFrame\n",
      "\n",
      "See the caveats in the documentation: http://pandas.pydata.org/pandas-docs/stable/indexing.html#indexing-view-versus-copy\n",
      "  \"\"\"Entry point for launching an IPython kernel.\n"
     ]
    }
   ],
   "source": [
    "avg_qbs.dropna(subset= ['broad_jump', 'cone', 'forty_yd', 'height', 'shuttle', 'vertical', 'weight'], how='all', inplace=True)"
   ]
  },
  {
   "cell_type": "code",
   "execution_count": 173,
   "metadata": {},
   "outputs": [
    {
     "name": "stderr",
     "output_type": "stream",
     "text": [
      "C:\\Users\\aidan\\Anaconda3\\envs\\DSI-6\\lib\\site-packages\\ipykernel_launcher.py:1: SettingWithCopyWarning: \n",
      "A value is trying to be set on a copy of a slice from a DataFrame\n",
      "\n",
      "See the caveats in the documentation: http://pandas.pydata.org/pandas-docs/stable/indexing.html#indexing-view-versus-copy\n",
      "  \"\"\"Entry point for launching an IPython kernel.\n"
     ]
    }
   ],
   "source": [
    "avg_qbs.dropna(inplace=True)"
   ]
  },
  {
   "cell_type": "code",
   "execution_count": 174,
   "metadata": {
    "scrolled": true
   },
   "outputs": [
    {
     "data": {
      "text/plain": [
       "0"
      ]
     },
     "execution_count": 174,
     "metadata": {},
     "output_type": "execute_result"
    }
   ],
   "source": [
    "avg_qbs.isnull().sum().sum()"
   ]
  },
  {
   "cell_type": "code",
   "execution_count": 175,
   "metadata": {},
   "outputs": [
    {
     "data": {
      "text/plain": [
       "Index(['fumbles_rec_yds', 'fumbles_rec_td', 'fumbles_forced', 'punt_ret',\n",
       "       'punt_ret_yds', 'punt_ret_yds_per_ret', 'punt_ret_td', 'kick_ret',\n",
       "       'kick_ret_yds', 'kick_ret_yds_per_ret', 'kick_ret_td', 'avg_grade',\n",
       "       'conference_ACC', 'conference_American', 'conference_Big 12',\n",
       "       'conference_Big East', 'conference_Big Ten', 'conference_CUSA',\n",
       "       'conference_Ind', 'conference_MAC', 'conference_MVC', 'conference_MWC',\n",
       "       'conference_Pac-10', 'conference_Pac-12', 'conference_SEC',\n",
       "       'conference_Sun Belt', 'conference_WAC', 'nfl_team_49ers',\n",
       "       'nfl_team_Bears', 'nfl_team_Bengals', 'nfl_team_Bills',\n",
       "       'nfl_team_Broncos', 'nfl_team_Browns', 'nfl_team_Buccaneers',\n",
       "       'nfl_team_Cardinals', 'nfl_team_Chargers', 'nfl_team_Chiefs',\n",
       "       'nfl_team_Colts', 'nfl_team_Cowboys', 'nfl_team_Dolphins',\n",
       "       'nfl_team_Eagles', 'nfl_team_Falcons', 'nfl_team_Giants',\n",
       "       'nfl_team_Jaguars', 'nfl_team_Jets', 'nfl_team_Lions',\n",
       "       'nfl_team_Packers', 'nfl_team_Panthers', 'nfl_team_Patriots',\n",
       "       'nfl_team_Raiders', 'nfl_team_Rams', 'nfl_team_Ravens',\n",
       "       'nfl_team_Redskins', 'nfl_team_Saints', 'nfl_team_Seahawks',\n",
       "       'nfl_team_Steelers', 'nfl_team_Texans', 'nfl_team_Titans',\n",
       "       'nfl_team_Vikings'],\n",
       "      dtype='object')"
      ]
     },
     "execution_count": 175,
     "metadata": {},
     "output_type": "execute_result"
    }
   ],
   "source": [
    "avg_qbs.columns[50:]"
   ]
  },
  {
   "cell_type": "code",
   "execution_count": 176,
   "metadata": {},
   "outputs": [],
   "source": [
    "X_train_avg_qbs = avg_qbs[avg_qbs['draft_year']<2015]\n",
    "y_train_avg_qbs = avg_qbs[avg_qbs['draft_year']<2015]['avg_grade']\n",
    "\n",
    "X_test_avg_qbs = avg_qbs[avg_qbs['draft_year']>=2015]\n",
    "y_test_avg_qbs = avg_qbs[avg_qbs['draft_year']>=2015]['avg_grade']"
   ]
  },
  {
   "cell_type": "code",
   "execution_count": 177,
   "metadata": {},
   "outputs": [],
   "source": [
    "features = [\n",
    "#     'draft_overall', 'draft_round', 'draft_year', \n",
    "            'wins', 'losses', \n",
    "            'rank', 'nfl_team_win_perc', 'broad_jump',\n",
    "           'cone', 'forty_yd', 'height', 'shuttle', 'vertical', 'weight', 'games',\n",
    "       'pass_cmp', 'pass_att', 'pass_cmp_pct', 'pass_yds', 'pass_yds_per_att',\n",
    "       'adj_pass_yds_per_att', 'pass_td', 'pass_int', 'pass_rating',\n",
    "       'rush_att', 'rush_yds', 'rush_yds_per_att', 'rush_td',\n",
    "           'conference_ACC', 'conference_American', 'conference_Big 12',\n",
    "       'conference_Big East', 'conference_Big Ten', 'conference_CUSA',\n",
    "       'conference_Ind', 'conference_MAC', 'conference_MVC', 'conference_MWC',\n",
    "       'conference_Pac-10', 'conference_Pac-12', 'conference_SEC',\n",
    "       'conference_Sun Belt', 'conference_WAC', 'nfl_team_49ers',\n",
    "       'nfl_team_Bears', 'nfl_team_Bengals', 'nfl_team_Bills',\n",
    "       'nfl_team_Broncos', 'nfl_team_Browns', 'nfl_team_Buccaneers',\n",
    "       'nfl_team_Cardinals', 'nfl_team_Chargers', 'nfl_team_Chiefs',\n",
    "       'nfl_team_Colts', 'nfl_team_Cowboys', 'nfl_team_Dolphins',\n",
    "       'nfl_team_Eagles', 'nfl_team_Falcons', 'nfl_team_Giants',\n",
    "       'nfl_team_Jaguars', 'nfl_team_Jets', 'nfl_team_Lions',\n",
    "       'nfl_team_Packers', 'nfl_team_Panthers', 'nfl_team_Patriots',\n",
    "       'nfl_team_Raiders', 'nfl_team_Rams', 'nfl_team_Ravens',\n",
    "       'nfl_team_Redskins', 'nfl_team_Saints', 'nfl_team_Seahawks',\n",
    "       'nfl_team_Steelers', 'nfl_team_Texans', 'nfl_team_Titans',\n",
    "       'nfl_team_Vikings']"
   ]
  },
  {
   "cell_type": "markdown",
   "metadata": {},
   "source": [
    "#### Linear Regression"
   ]
  },
  {
   "cell_type": "code",
   "execution_count": 178,
   "metadata": {},
   "outputs": [
    {
     "data": {
      "text/plain": [
       "-2.129828240641247"
      ]
     },
     "execution_count": 178,
     "metadata": {},
     "output_type": "execute_result"
    }
   ],
   "source": [
    "lr = LinearRegression()\n",
    "lr.fit(X_train_avg_qbs[features], y_train_avg_qbs)\n",
    "lr_avg_qbs_preds = lr.predict(X_test_avg_qbs[features])\n",
    "r2_score(y_test_avg_qbs, lr_avg_qbs_preds)"
   ]
  },
  {
   "cell_type": "code",
   "execution_count": 179,
   "metadata": {},
   "outputs": [
    {
     "data": {
      "text/plain": [
       "463.2241692986007"
      ]
     },
     "execution_count": 179,
     "metadata": {},
     "output_type": "execute_result"
    }
   ],
   "source": [
    "mean_squared_error(y_test_avg_qbs, lr_avg_qbs_preds)"
   ]
  },
  {
   "cell_type": "markdown",
   "metadata": {},
   "source": [
    "#### Random Forest"
   ]
  },
  {
   "cell_type": "code",
   "execution_count": 184,
   "metadata": {},
   "outputs": [
    {
     "data": {
      "text/plain": [
       "-0.37055870757121534"
      ]
     },
     "execution_count": 184,
     "metadata": {},
     "output_type": "execute_result"
    }
   ],
   "source": [
    "rf = RandomForestRegressor()\n",
    "rf.fit(X_train_avg_qbs[features], y_train_avg_qbs)\n",
    "rf_avg_qbs_preds = rf.predict(X_test_avg_qbs[features])\n",
    "r2_score(y_test_avg_qbs, rf_avg_qbs_preds)"
   ]
  },
  {
   "cell_type": "code",
   "execution_count": 185,
   "metadata": {},
   "outputs": [
    {
     "data": {
      "text/plain": [
       "202.8468880642361"
      ]
     },
     "execution_count": 185,
     "metadata": {},
     "output_type": "execute_result"
    }
   ],
   "source": [
    "mean_squared_error(y_test_avg_qbs, rf_avg_qbs_preds)"
   ]
  },
  {
   "cell_type": "markdown",
   "metadata": {},
   "source": [
    "#### Neural Net"
   ]
  },
  {
   "cell_type": "code",
   "execution_count": 186,
   "metadata": {},
   "outputs": [],
   "source": [
    "np.random.seed(42)\n",
    "qb_model = Sequential()\n",
    "qb_model.add(Dense(X_train_avg_qbs[features].shape[1], input_shape=(X_train_avg_qbs[features].shape[1],), activation='relu'))\n",
    "qb_model.add(Dropout(0.5))\n",
    "qb_model.add(Dense(12, activation='relu'))\n",
    "qb_model.add(Dense(8, activation='relu'))\n",
    "qb_model.add(Dense(1))\n",
    "\n",
    "adam = Adam(lr=0.01)\n",
    "qb_model.compile(loss='mean_squared_error', optimizer=adam)"
   ]
  },
  {
   "cell_type": "code",
   "execution_count": 187,
   "metadata": {},
   "outputs": [
    {
     "name": "stdout",
     "output_type": "stream",
     "text": [
      "Train on 45 samples, validate on 16 samples\n",
      "Epoch 1/60\n",
      "45/45 [==============================] - 1s 23ms/step - loss: 71210.5081 - val_loss: 3788.7981\n",
      "Epoch 2/60\n",
      "45/45 [==============================] - 0s 155us/step - loss: 11548.4494 - val_loss: 1466.6638\n",
      "Epoch 3/60\n",
      "45/45 [==============================] - 0s 155us/step - loss: 3321.7728 - val_loss: 1421.2329\n",
      "Epoch 4/60\n",
      "45/45 [==============================] - 0s 177us/step - loss: 2287.1728 - val_loss: 695.4498\n",
      "Epoch 5/60\n",
      "45/45 [==============================] - 0s 155us/step - loss: 2651.5659 - val_loss: 353.0150\n",
      "Epoch 6/60\n",
      "45/45 [==============================] - 0s 154us/step - loss: 2158.3514 - val_loss: 562.8391\n",
      "Epoch 7/60\n",
      "45/45 [==============================] - 0s 152us/step - loss: 1413.6994 - val_loss: 1012.7441\n",
      "Epoch 8/60\n",
      "45/45 [==============================] - 0s 111us/step - loss: 964.1189 - val_loss: 1297.0601\n",
      "Epoch 9/60\n",
      "45/45 [==============================] - 0s 131us/step - loss: 1155.8791 - val_loss: 1108.5835\n",
      "Epoch 10/60\n",
      "45/45 [==============================] - 0s 121us/step - loss: 1077.1780 - val_loss: 655.7234\n",
      "Epoch 11/60\n",
      "45/45 [==============================] - 0s 110us/step - loss: 829.5715 - val_loss: 342.1683\n",
      "Epoch 12/60\n",
      "45/45 [==============================] - 0s 137us/step - loss: 1176.5184 - val_loss: 271.5276\n",
      "Epoch 13/60\n",
      "45/45 [==============================] - 0s 135us/step - loss: 863.8186 - val_loss: 255.8860\n",
      "Epoch 14/60\n",
      "45/45 [==============================] - 0s 133us/step - loss: 1271.8431 - val_loss: 286.0947\n",
      "Epoch 15/60\n",
      "45/45 [==============================] - 0s 111us/step - loss: 1120.4061 - val_loss: 560.3573\n",
      "Epoch 16/60\n",
      "45/45 [==============================] - 0s 133us/step - loss: 817.0161 - val_loss: 779.7530\n",
      "Epoch 17/60\n",
      "45/45 [==============================] - 0s 144us/step - loss: 1060.8320 - val_loss: 581.0133\n",
      "Epoch 18/60\n",
      "45/45 [==============================] - 0s 155us/step - loss: 884.1001 - val_loss: 248.6921\n",
      "Epoch 19/60\n",
      "45/45 [==============================] - 0s 112us/step - loss: 642.0785 - val_loss: 290.9553\n",
      "Epoch 20/60\n",
      "45/45 [==============================] - 0s 132us/step - loss: 557.1376 - val_loss: 424.4649\n",
      "Epoch 21/60\n",
      "45/45 [==============================] - 0s 133us/step - loss: 802.1912 - val_loss: 228.2207\n",
      "Epoch 22/60\n",
      "45/45 [==============================] - 0s 118us/step - loss: 921.2088 - val_loss: 371.1707\n",
      "Epoch 23/60\n",
      "45/45 [==============================] - 0s 154us/step - loss: 781.6781 - val_loss: 618.7094\n",
      "Epoch 24/60\n",
      "45/45 [==============================] - 0s 133us/step - loss: 755.5088 - val_loss: 456.6433\n",
      "Epoch 25/60\n",
      "45/45 [==============================] - 0s 154us/step - loss: 769.7843 - val_loss: 239.7167\n",
      "Epoch 26/60\n",
      "45/45 [==============================] - 0s 110us/step - loss: 477.5512 - val_loss: 189.7744\n",
      "Epoch 27/60\n",
      "45/45 [==============================] - 0s 155us/step - loss: 534.2373 - val_loss: 186.1815\n",
      "Epoch 28/60\n",
      "45/45 [==============================] - 0s 117us/step - loss: 789.1227 - val_loss: 230.2602\n",
      "Epoch 29/60\n",
      "45/45 [==============================] - 0s 111us/step - loss: 406.0909 - val_loss: 376.1641\n",
      "Epoch 30/60\n",
      "45/45 [==============================] - 0s 108us/step - loss: 599.5202 - val_loss: 403.5037\n",
      "Epoch 31/60\n",
      "45/45 [==============================] - 0s 133us/step - loss: 696.0004 - val_loss: 292.3303\n",
      "Epoch 32/60\n",
      "45/45 [==============================] - 0s 155us/step - loss: 524.1739 - val_loss: 181.0498\n",
      "Epoch 33/60\n",
      "45/45 [==============================] - 0s 172us/step - loss: 530.0331 - val_loss: 249.5503\n",
      "Epoch 34/60\n",
      "45/45 [==============================] - 0s 132us/step - loss: 656.8166 - val_loss: 242.5237\n",
      "Epoch 35/60\n",
      "45/45 [==============================] - 0s 133us/step - loss: 581.1471 - val_loss: 176.2993\n",
      "Epoch 36/60\n",
      "45/45 [==============================] - 0s 155us/step - loss: 471.9150 - val_loss: 249.0859\n",
      "Epoch 37/60\n",
      "45/45 [==============================] - 0s 111us/step - loss: 556.7553 - val_loss: 390.2542\n",
      "Epoch 38/60\n",
      "45/45 [==============================] - 0s 134us/step - loss: 424.4550 - val_loss: 385.5021\n",
      "Epoch 39/60\n",
      "45/45 [==============================] - 0s 127us/step - loss: 614.9690 - val_loss: 270.2663\n",
      "Epoch 40/60\n",
      "45/45 [==============================] - 0s 113us/step - loss: 453.9900 - val_loss: 177.0615\n",
      "Epoch 41/60\n",
      "45/45 [==============================] - 0s 133us/step - loss: 443.1466 - val_loss: 152.6524\n",
      "Epoch 42/60\n",
      "45/45 [==============================] - 0s 133us/step - loss: 620.9833 - val_loss: 155.6973\n",
      "Epoch 43/60\n",
      "45/45 [==============================] - 0s 153us/step - loss: 432.8793 - val_loss: 179.9078\n",
      "Epoch 44/60\n",
      "45/45 [==============================] - 0s 110us/step - loss: 489.4481 - val_loss: 178.3871\n",
      "Epoch 45/60\n",
      "45/45 [==============================] - 0s 110us/step - loss: 355.9922 - val_loss: 172.5747\n",
      "Epoch 46/60\n",
      "45/45 [==============================] - 0s 155us/step - loss: 386.9975 - val_loss: 168.6995\n",
      "Epoch 47/60\n",
      "45/45 [==============================] - 0s 132us/step - loss: 540.8597 - val_loss: 170.4036\n",
      "Epoch 48/60\n",
      "45/45 [==============================] - 0s 109us/step - loss: 319.9469 - val_loss: 146.6640\n",
      "Epoch 49/60\n",
      "45/45 [==============================] - 0s 150us/step - loss: 396.0627 - val_loss: 139.2909\n",
      "Epoch 50/60\n",
      "45/45 [==============================] - 0s 111us/step - loss: 381.2725 - val_loss: 140.1504\n",
      "Epoch 51/60\n",
      "45/45 [==============================] - 0s 177us/step - loss: 379.1551 - val_loss: 149.1074\n",
      "Epoch 52/60\n",
      "45/45 [==============================] - 0s 133us/step - loss: 397.4791 - val_loss: 156.1755\n",
      "Epoch 53/60\n",
      "45/45 [==============================] - 0s 132us/step - loss: 299.0372 - val_loss: 151.5685\n",
      "Epoch 54/60\n",
      "45/45 [==============================] - 0s 134us/step - loss: 522.4599 - val_loss: 201.2429\n",
      "Epoch 55/60\n",
      "45/45 [==============================] - 0s 132us/step - loss: 264.6341 - val_loss: 234.9702\n",
      "Epoch 56/60\n",
      "45/45 [==============================] - 0s 110us/step - loss: 338.3994 - val_loss: 211.1449\n",
      "Epoch 57/60\n",
      "45/45 [==============================] - 0s 155us/step - loss: 332.6923 - val_loss: 142.0261\n",
      "Epoch 58/60\n",
      "45/45 [==============================] - 0s 155us/step - loss: 543.1398 - val_loss: 146.8295\n",
      "Epoch 59/60\n",
      "45/45 [==============================] - 0s 155us/step - loss: 232.1753 - val_loss: 257.3138\n",
      "Epoch 60/60\n",
      "45/45 [==============================] - 0s 133us/step - loss: 326.3584 - val_loss: 380.9542\n"
     ]
    },
    {
     "data": {
      "text/plain": [
       "<keras.callbacks.History at 0x27efc548b38>"
      ]
     },
     "execution_count": 187,
     "metadata": {},
     "output_type": "execute_result"
    }
   ],
   "source": [
    "qb_model.fit(X_train_avg_qbs[features], y_train_avg_qbs, validation_data=(X_test_avg_qbs[features], y_test_avg_qbs), epochs=60, batch_size=32)"
   ]
  },
  {
   "cell_type": "markdown",
   "metadata": {},
   "source": [
    "## Final Year Stats"
   ]
  },
  {
   "cell_type": "code",
   "execution_count": 188,
   "metadata": {
    "scrolled": true
   },
   "outputs": [
    {
     "data": {
      "text/plain": [
       "draft_overall            0\n",
       "draft_round              0\n",
       "draft_year               0\n",
       "player                   0\n",
       "position                 0\n",
       "school                   0\n",
       "wins                     2\n",
       "losses                   2\n",
       "rank                     2\n",
       "nfl_team_win_perc        0\n",
       "bench_reps              10\n",
       "broad_jump               1\n",
       "cone                     2\n",
       "forty_yd                 2\n",
       "height                   0\n",
       "shuttle                  2\n",
       "vertical                 1\n",
       "weight                   0\n",
       "games                    2\n",
       "pass_cmp                 1\n",
       "pass_att                 1\n",
       "pass_cmp_pct             1\n",
       "pass_yds                 1\n",
       "pass_yds_per_att         1\n",
       "adj_pass_yds_per_att     1\n",
       "pass_td                  1\n",
       "pass_int                 1\n",
       "pass_rating              1\n",
       "rush_att                 1\n",
       "rush_yds                 1\n",
       "                        ..\n",
       "nfl_team_Bengals         0\n",
       "nfl_team_Bills           0\n",
       "nfl_team_Broncos         0\n",
       "nfl_team_Browns          0\n",
       "nfl_team_Buccaneers      0\n",
       "nfl_team_Cardinals       0\n",
       "nfl_team_Chargers        0\n",
       "nfl_team_Chiefs          0\n",
       "nfl_team_Colts           0\n",
       "nfl_team_Cowboys         0\n",
       "nfl_team_Dolphins        0\n",
       "nfl_team_Eagles          0\n",
       "nfl_team_Falcons         0\n",
       "nfl_team_Giants          0\n",
       "nfl_team_Jaguars         0\n",
       "nfl_team_Jets            0\n",
       "nfl_team_Lions           0\n",
       "nfl_team_Packers         0\n",
       "nfl_team_Panthers        0\n",
       "nfl_team_Patriots        0\n",
       "nfl_team_Raiders         0\n",
       "nfl_team_Rams            0\n",
       "nfl_team_Ravens          0\n",
       "nfl_team_Redskins        0\n",
       "nfl_team_Saints          0\n",
       "nfl_team_Seahawks        0\n",
       "nfl_team_Steelers        0\n",
       "nfl_team_Texans          0\n",
       "nfl_team_Titans          0\n",
       "nfl_team_Vikings         0\n",
       "Length: 110, dtype: int64"
      ]
     },
     "execution_count": 188,
     "metadata": {},
     "output_type": "execute_result"
    }
   ],
   "source": [
    "final_year_qbs.isnull().sum()"
   ]
  },
  {
   "cell_type": "code",
   "execution_count": 189,
   "metadata": {
    "scrolled": false
   },
   "outputs": [
    {
     "name": "stderr",
     "output_type": "stream",
     "text": [
      "C:\\Users\\aidan\\Anaconda3\\envs\\DSI-6\\lib\\site-packages\\ipykernel_launcher.py:1: SettingWithCopyWarning: \n",
      "A value is trying to be set on a copy of a slice from a DataFrame\n",
      "\n",
      "See the caveats in the documentation: http://pandas.pydata.org/pandas-docs/stable/indexing.html#indexing-view-versus-copy\n",
      "  \"\"\"Entry point for launching an IPython kernel.\n",
      "C:\\Users\\aidan\\Anaconda3\\envs\\DSI-6\\lib\\site-packages\\ipykernel_launcher.py:2: SettingWithCopyWarning: \n",
      "A value is trying to be set on a copy of a slice from a DataFrame\n",
      "\n",
      "See the caveats in the documentation: http://pandas.pydata.org/pandas-docs/stable/indexing.html#indexing-view-versus-copy\n",
      "  \n",
      "C:\\Users\\aidan\\Anaconda3\\envs\\DSI-6\\lib\\site-packages\\pandas\\core\\frame.py:3697: SettingWithCopyWarning: \n",
      "A value is trying to be set on a copy of a slice from a DataFrame\n",
      "\n",
      "See the caveats in the documentation: http://pandas.pydata.org/pandas-docs/stable/indexing.html#indexing-view-versus-copy\n",
      "  errors=errors)\n",
      "C:\\Users\\aidan\\Anaconda3\\envs\\DSI-6\\lib\\site-packages\\ipykernel_launcher.py:4: SettingWithCopyWarning: \n",
      "A value is trying to be set on a copy of a slice from a DataFrame\n",
      "\n",
      "See the caveats in the documentation: http://pandas.pydata.org/pandas-docs/stable/indexing.html#indexing-view-versus-copy\n",
      "  after removing the cwd from sys.path.\n",
      "C:\\Users\\aidan\\Anaconda3\\envs\\DSI-6\\lib\\site-packages\\ipykernel_launcher.py:5: SettingWithCopyWarning: \n",
      "A value is trying to be set on a copy of a slice from a DataFrame\n",
      "\n",
      "See the caveats in the documentation: http://pandas.pydata.org/pandas-docs/stable/indexing.html#indexing-view-versus-copy\n",
      "  \"\"\"\n"
     ]
    },
    {
     "data": {
      "text/plain": [
       "0"
      ]
     },
     "execution_count": 189,
     "metadata": {},
     "output_type": "execute_result"
    }
   ],
   "source": [
    "final_year_qbs.dropna(subset=['games'], inplace=True)\n",
    "final_year_qbs.dropna(subset=['wins'], inplace=True)\n",
    "final_year_qbs.drop(columns='bench_reps', inplace=True)\n",
    "final_year_qbs.dropna(subset= ['broad_jump', 'cone', 'forty_yd', 'height', 'shuttle', 'vertical', 'weight'], how='all', inplace=True)\n",
    "final_year_qbs.dropna(inplace=True)\n",
    "final_year_qbs.isnull().sum().sum()"
   ]
  },
  {
   "cell_type": "code",
   "execution_count": 190,
   "metadata": {},
   "outputs": [],
   "source": [
    "X_train_final_year_qbs = final_year_qbs[final_year_qbs['draft_year']<2015]\n",
    "y_train_final_year_qbs = final_year_qbs[final_year_qbs['draft_year']<2015]['avg_grade']\n",
    "\n",
    "X_test_final_year_qbs = final_year_qbs[final_year_qbs['draft_year']>=2015]\n",
    "y_test_final_year_qbs = final_year_qbs[final_year_qbs['draft_year']>=2015]['avg_grade']"
   ]
  },
  {
   "cell_type": "markdown",
   "metadata": {},
   "source": [
    "#### Linear Regression"
   ]
  },
  {
   "cell_type": "code",
   "execution_count": 191,
   "metadata": {},
   "outputs": [
    {
     "data": {
      "text/plain": [
       "-2.3908612166209555"
      ]
     },
     "execution_count": 191,
     "metadata": {},
     "output_type": "execute_result"
    }
   ],
   "source": [
    "lr = LinearRegression()\n",
    "lr.fit(X_train_final_year_qbs[features], y_train_final_year_qbs)\n",
    "lr_final_year_qbs_preds = lr.predict(X_test_final_year_qbs[features])\n",
    "r2_score(y_test_final_year_qbs, lr_final_year_qbs_preds)"
   ]
  },
  {
   "cell_type": "code",
   "execution_count": 192,
   "metadata": {},
   "outputs": [
    {
     "data": {
      "text/plain": [
       "363.3570020210105"
      ]
     },
     "execution_count": 192,
     "metadata": {},
     "output_type": "execute_result"
    }
   ],
   "source": [
    "mean_squared_error(y_test_final_year_qbs, lr_final_year_qbs_preds)"
   ]
  },
  {
   "cell_type": "markdown",
   "metadata": {},
   "source": [
    "#### Random Forest"
   ]
  },
  {
   "cell_type": "code",
   "execution_count": 193,
   "metadata": {},
   "outputs": [
    {
     "data": {
      "text/plain": [
       "0.14279439502612112"
      ]
     },
     "execution_count": 193,
     "metadata": {},
     "output_type": "execute_result"
    }
   ],
   "source": [
    "rf_reg = RandomForestRegressor()\n",
    "rf_reg.fit(X_train_final_year_qbs[features], y_train_final_year_qbs)\n",
    "rf_final_year_qbs_preds = rf_reg.predict(X_test_final_year_qbs[features])\n",
    "\n",
    "r2_score(y_test_final_year_qbs, rf_final_year_qbs_preds)"
   ]
  },
  {
   "cell_type": "code",
   "execution_count": 194,
   "metadata": {},
   "outputs": [
    {
     "data": {
      "text/plain": [
       "91.85620962962956"
      ]
     },
     "execution_count": 194,
     "metadata": {},
     "output_type": "execute_result"
    }
   ],
   "source": [
    "mean_squared_error(y_test_final_year_qbs, rf_final_year_qbs_preds)"
   ]
  },
  {
   "cell_type": "markdown",
   "metadata": {},
   "source": [
    "#### Neural Net"
   ]
  },
  {
   "cell_type": "code",
   "execution_count": 195,
   "metadata": {},
   "outputs": [],
   "source": [
    "np.random.seed(42)\n",
    "qb_model = Sequential()\n",
    "qb_model.add(Dense(X_train_final_year_qbs[features].shape[1], input_shape=(X_train_final_year_qbs[features].shape[1],), activation='relu'))\n",
    "qb_model.add(Dropout(0.5))\n",
    "qb_model.add(Dense(12, activation='relu'))\n",
    "qb_model.add(Dense(6, activation='relu'))\n",
    "qb_model.add(Dense(1))\n",
    "\n",
    "adam = Adam(lr=0.01)\n",
    "qb_model.compile(loss='mean_squared_error', optimizer=adam)"
   ]
  },
  {
   "cell_type": "code",
   "execution_count": 196,
   "metadata": {},
   "outputs": [
    {
     "name": "stdout",
     "output_type": "stream",
     "text": [
      "Train on 45 samples, validate on 15 samples\n",
      "Epoch 1/100\n",
      "45/45 [==============================] - 1s 24ms/step - loss: 57532.8260 - val_loss: 244.6854\n",
      "Epoch 2/100\n",
      "45/45 [==============================] - 0s 199us/step - loss: 3803.1631 - val_loss: 280.6197\n",
      "Epoch 3/100\n",
      "45/45 [==============================] - 0s 200us/step - loss: 1962.0543 - val_loss: 344.3213\n",
      "Epoch 4/100\n",
      "45/45 [==============================] - 0s 204us/step - loss: 2160.2900 - val_loss: 439.1104\n",
      "Epoch 5/100\n",
      "45/45 [==============================] - 0s 217us/step - loss: 2652.7908 - val_loss: 440.5047\n",
      "Epoch 6/100\n",
      "45/45 [==============================] - 0s 180us/step - loss: 2541.8959 - val_loss: 431.3381\n",
      "Epoch 7/100\n",
      "45/45 [==============================] - 0s 156us/step - loss: 1848.1351 - val_loss: 270.4128\n",
      "Epoch 8/100\n",
      "45/45 [==============================] - 0s 188us/step - loss: 1098.8526 - val_loss: 262.1123\n",
      "Epoch 9/100\n",
      "45/45 [==============================] - 0s 189us/step - loss: 1724.3793 - val_loss: 313.1191\n",
      "Epoch 10/100\n",
      "45/45 [==============================] - 0s 177us/step - loss: 1511.5457 - val_loss: 281.8763\n",
      "Epoch 11/100\n",
      "45/45 [==============================] - 0s 182us/step - loss: 1363.4701 - val_loss: 476.8482\n",
      "Epoch 12/100\n",
      "45/45 [==============================] - 0s 200us/step - loss: 900.7991 - val_loss: 545.2781\n",
      "Epoch 13/100\n",
      "45/45 [==============================] - 0s 155us/step - loss: 625.2217 - val_loss: 468.2458\n",
      "Epoch 14/100\n",
      "45/45 [==============================] - 0s 177us/step - loss: 759.7672 - val_loss: 282.8327\n",
      "Epoch 15/100\n",
      "45/45 [==============================] - 0s 176us/step - loss: 613.4562 - val_loss: 125.9121\n",
      "Epoch 16/100\n",
      "45/45 [==============================] - 0s 180us/step - loss: 626.3165 - val_loss: 97.4980\n",
      "Epoch 17/100\n",
      "45/45 [==============================] - 0s 201us/step - loss: 488.3400 - val_loss: 150.4174\n",
      "Epoch 18/100\n",
      "45/45 [==============================] - 0s 171us/step - loss: 659.5998 - val_loss: 365.9567\n",
      "Epoch 19/100\n",
      "45/45 [==============================] - 0s 155us/step - loss: 634.3180 - val_loss: 559.0358\n",
      "Epoch 20/100\n",
      "45/45 [==============================] - 0s 224us/step - loss: 654.1986 - val_loss: 394.1821\n",
      "Epoch 21/100\n",
      "45/45 [==============================] - 0s 222us/step - loss: 750.7001 - val_loss: 222.0112\n",
      "Epoch 22/100\n",
      "45/45 [==============================] - 0s 201us/step - loss: 438.5877 - val_loss: 291.5228\n",
      "Epoch 23/100\n",
      "45/45 [==============================] - 0s 199us/step - loss: 429.8611 - val_loss: 351.8664\n",
      "Epoch 24/100\n",
      "45/45 [==============================] - 0s 177us/step - loss: 626.1362 - val_loss: 242.8638\n",
      "Epoch 25/100\n",
      "45/45 [==============================] - 0s 195us/step - loss: 440.6322 - val_loss: 151.5442\n",
      "Epoch 26/100\n",
      "45/45 [==============================] - 0s 221us/step - loss: 457.7313 - val_loss: 137.7981\n",
      "Epoch 27/100\n",
      "45/45 [==============================] - 0s 177us/step - loss: 588.6416 - val_loss: 137.4294\n",
      "Epoch 28/100\n",
      "45/45 [==============================] - 0s 248us/step - loss: 351.0112 - val_loss: 122.3674\n",
      "Epoch 29/100\n",
      "45/45 [==============================] - 0s 207us/step - loss: 549.1044 - val_loss: 141.0346\n",
      "Epoch 30/100\n",
      "45/45 [==============================] - 0s 177us/step - loss: 404.3295 - val_loss: 159.9997\n",
      "Epoch 31/100\n",
      "45/45 [==============================] - 0s 179us/step - loss: 356.2547 - val_loss: 169.0470\n",
      "Epoch 32/100\n",
      "45/45 [==============================] - 0s 178us/step - loss: 424.5482 - val_loss: 164.4656\n",
      "Epoch 33/100\n",
      "45/45 [==============================] - 0s 155us/step - loss: 403.7065 - val_loss: 124.3263\n",
      "Epoch 34/100\n",
      "45/45 [==============================] - 0s 200us/step - loss: 518.2361 - val_loss: 86.5973\n",
      "Epoch 35/100\n",
      "45/45 [==============================] - 0s 185us/step - loss: 451.7580 - val_loss: 101.7283\n",
      "Epoch 36/100\n",
      "45/45 [==============================] - 0s 199us/step - loss: 410.4620 - val_loss: 222.0820\n",
      "Epoch 37/100\n",
      "45/45 [==============================] - 0s 198us/step - loss: 443.5653 - val_loss: 371.4982\n",
      "Epoch 38/100\n",
      "45/45 [==============================] - 0s 177us/step - loss: 456.9616 - val_loss: 302.8969\n",
      "Epoch 39/100\n",
      "45/45 [==============================] - 0s 200us/step - loss: 324.0639 - val_loss: 151.0984\n",
      "Epoch 40/100\n",
      "45/45 [==============================] - 0s 176us/step - loss: 368.8714 - val_loss: 84.2853\n",
      "Epoch 41/100\n",
      "45/45 [==============================] - 0s 177us/step - loss: 335.1110 - val_loss: 79.0760\n",
      "Epoch 42/100\n",
      "45/45 [==============================] - 0s 177us/step - loss: 403.3670 - val_loss: 91.2666\n",
      "Epoch 43/100\n",
      "45/45 [==============================] - 0s 173us/step - loss: 220.6463 - val_loss: 135.7834\n",
      "Epoch 44/100\n",
      "45/45 [==============================] - 0s 189us/step - loss: 383.7925 - val_loss: 187.3411\n",
      "Epoch 45/100\n",
      "45/45 [==============================] - 0s 200us/step - loss: 410.4471 - val_loss: 188.3083\n",
      "Epoch 46/100\n",
      "45/45 [==============================] - 0s 242us/step - loss: 327.0739 - val_loss: 149.1458\n",
      "Epoch 47/100\n",
      "45/45 [==============================] - 0s 251us/step - loss: 358.7689 - val_loss: 98.8918\n",
      "Epoch 48/100\n",
      "45/45 [==============================] - 0s 222us/step - loss: 301.9883 - val_loss: 115.3486\n",
      "Epoch 49/100\n",
      "45/45 [==============================] - 0s 221us/step - loss: 392.4578 - val_loss: 151.2041\n",
      "Epoch 50/100\n",
      "45/45 [==============================] - 0s 199us/step - loss: 317.5077 - val_loss: 177.6972\n",
      "Epoch 51/100\n",
      "45/45 [==============================] - 0s 222us/step - loss: 260.6931 - val_loss: 150.5976\n",
      "Epoch 52/100\n",
      "45/45 [==============================] - 0s 200us/step - loss: 277.3264 - val_loss: 117.8309\n",
      "Epoch 53/100\n",
      "45/45 [==============================] - 0s 222us/step - loss: 423.2348 - val_loss: 107.7450\n",
      "Epoch 54/100\n",
      "45/45 [==============================] - 0s 201us/step - loss: 407.7031 - val_loss: 103.9120\n",
      "Epoch 55/100\n",
      "45/45 [==============================] - 0s 198us/step - loss: 412.8540 - val_loss: 118.2449\n",
      "Epoch 56/100\n",
      "45/45 [==============================] - 0s 201us/step - loss: 273.9243 - val_loss: 180.8711\n",
      "Epoch 57/100\n",
      "45/45 [==============================] - 0s 219us/step - loss: 399.6672 - val_loss: 235.5327\n",
      "Epoch 58/100\n",
      "45/45 [==============================] - 0s 221us/step - loss: 460.6924 - val_loss: 172.1122\n",
      "Epoch 59/100\n",
      "45/45 [==============================] - 0s 201us/step - loss: 364.3537 - val_loss: 110.5908\n",
      "Epoch 60/100\n",
      "45/45 [==============================] - 0s 223us/step - loss: 294.4300 - val_loss: 91.0020\n",
      "Epoch 61/100\n",
      "45/45 [==============================] - 0s 204us/step - loss: 370.6953 - val_loss: 119.4361\n",
      "Epoch 62/100\n",
      "45/45 [==============================] - 0s 199us/step - loss: 290.6019 - val_loss: 200.1445\n",
      "Epoch 63/100\n",
      "45/45 [==============================] - 0s 157us/step - loss: 405.6205 - val_loss: 268.1305\n",
      "Epoch 64/100\n",
      "45/45 [==============================] - 0s 202us/step - loss: 408.7546 - val_loss: 213.6346\n",
      "Epoch 65/100\n",
      "45/45 [==============================] - 0s 225us/step - loss: 302.1877 - val_loss: 139.3522\n",
      "Epoch 66/100\n",
      "45/45 [==============================] - 0s 222us/step - loss: 342.0692 - val_loss: 116.9532\n",
      "Epoch 67/100\n",
      "45/45 [==============================] - 0s 221us/step - loss: 265.5451 - val_loss: 134.3172\n",
      "Epoch 68/100\n",
      "45/45 [==============================] - 0s 228us/step - loss: 358.5570 - val_loss: 194.2754\n",
      "Epoch 69/100\n",
      "45/45 [==============================] - 0s 200us/step - loss: 330.7595 - val_loss: 189.9396\n",
      "Epoch 70/100\n",
      "45/45 [==============================] - 0s 244us/step - loss: 370.5688 - val_loss: 109.5667\n",
      "Epoch 71/100\n",
      "45/45 [==============================] - 0s 197us/step - loss: 272.1879 - val_loss: 109.4178\n",
      "Epoch 72/100\n",
      "45/45 [==============================] - 0s 174us/step - loss: 254.1577 - val_loss: 154.7173\n",
      "Epoch 73/100\n",
      "45/45 [==============================] - 0s 222us/step - loss: 332.9692 - val_loss: 153.5172\n",
      "Epoch 74/100\n",
      "45/45 [==============================] - 0s 224us/step - loss: 276.3290 - val_loss: 204.1665\n",
      "Epoch 75/100\n",
      "45/45 [==============================] - 0s 177us/step - loss: 255.1700 - val_loss: 202.6297\n",
      "Epoch 76/100\n",
      "45/45 [==============================] - 0s 222us/step - loss: 362.5746 - val_loss: 147.3511\n",
      "Epoch 77/100\n",
      "45/45 [==============================] - 0s 178us/step - loss: 351.8783 - val_loss: 93.4446\n"
     ]
    },
    {
     "name": "stdout",
     "output_type": "stream",
     "text": [
      "Epoch 78/100\n",
      "45/45 [==============================] - 0s 199us/step - loss: 283.2473 - val_loss: 84.9310\n",
      "Epoch 79/100\n",
      "45/45 [==============================] - 0s 178us/step - loss: 237.1640 - val_loss: 162.0249\n",
      "Epoch 80/100\n",
      "45/45 [==============================] - 0s 222us/step - loss: 337.3057 - val_loss: 264.1284\n",
      "Epoch 81/100\n",
      "45/45 [==============================] - 0s 177us/step - loss: 502.7636 - val_loss: 259.2939\n",
      "Epoch 82/100\n",
      "45/45 [==============================] - 0s 200us/step - loss: 314.2255 - val_loss: 153.4807\n",
      "Epoch 83/100\n",
      "45/45 [==============================] - 0s 199us/step - loss: 284.8823 - val_loss: 83.3841\n",
      "Epoch 84/100\n",
      "45/45 [==============================] - 0s 177us/step - loss: 297.0417 - val_loss: 81.8956\n",
      "Epoch 85/100\n",
      "45/45 [==============================] - 0s 202us/step - loss: 355.5504 - val_loss: 120.6925\n",
      "Epoch 86/100\n",
      "45/45 [==============================] - 0s 200us/step - loss: 348.0795 - val_loss: 197.4240\n",
      "Epoch 87/100\n",
      "45/45 [==============================] - 0s 199us/step - loss: 354.6237 - val_loss: 239.1595\n",
      "Epoch 88/100\n",
      "45/45 [==============================] - 0s 193us/step - loss: 457.7154 - val_loss: 159.6899\n",
      "Epoch 89/100\n",
      "45/45 [==============================] - 0s 177us/step - loss: 382.2746 - val_loss: 81.8517\n",
      "Epoch 90/100\n",
      "45/45 [==============================] - 0s 155us/step - loss: 408.6276 - val_loss: 79.6658\n",
      "Epoch 91/100\n",
      "45/45 [==============================] - 0s 177us/step - loss: 419.7152 - val_loss: 112.1194\n",
      "Epoch 92/100\n",
      "45/45 [==============================] - 0s 177us/step - loss: 283.1477 - val_loss: 164.4964\n",
      "Epoch 93/100\n",
      "45/45 [==============================] - 0s 200us/step - loss: 296.3246 - val_loss: 186.9522\n",
      "Epoch 94/100\n",
      "45/45 [==============================] - 0s 176us/step - loss: 242.9439 - val_loss: 121.6295\n",
      "Epoch 95/100\n",
      "45/45 [==============================] - 0s 177us/step - loss: 294.0442 - val_loss: 90.2907\n",
      "Epoch 96/100\n",
      "45/45 [==============================] - 0s 199us/step - loss: 371.6083 - val_loss: 96.8053\n",
      "Epoch 97/100\n",
      "45/45 [==============================] - 0s 175us/step - loss: 233.1278 - val_loss: 116.9764\n",
      "Epoch 98/100\n",
      "45/45 [==============================] - 0s 177us/step - loss: 230.8433 - val_loss: 129.2724\n",
      "Epoch 99/100\n",
      "45/45 [==============================] - 0s 177us/step - loss: 300.1448 - val_loss: 97.9056\n",
      "Epoch 100/100\n",
      "45/45 [==============================] - 0s 198us/step - loss: 300.2654 - val_loss: 86.2577\n"
     ]
    },
    {
     "data": {
      "text/plain": [
       "<keras.callbacks.History at 0x27efc548278>"
      ]
     },
     "execution_count": 196,
     "metadata": {},
     "output_type": "execute_result"
    }
   ],
   "source": [
    "qb_model.fit(X_train_final_year_qbs[features], y_train_final_year_qbs, validation_data=(X_test_final_year_qbs[features], y_test_final_year_qbs), epochs=100, batch_size=32)"
   ]
  },
  {
   "cell_type": "code",
   "execution_count": 197,
   "metadata": {},
   "outputs": [
    {
     "data": {
      "text/plain": [
       "array([[65.88632]], dtype=float32)"
      ]
     },
     "execution_count": 197,
     "metadata": {},
     "output_type": "execute_result"
    }
   ],
   "source": [
    "qb_model.predict(final_year_qbs[final_year_qbs['player']=='Dak Prescott'][features])"
   ]
  },
  {
   "cell_type": "code",
   "execution_count": 198,
   "metadata": {},
   "outputs": [
    {
     "data": {
      "text/plain": [
       "1873    75.725\n",
       "Name: avg_grade, dtype: float64"
      ]
     },
     "execution_count": 198,
     "metadata": {},
     "output_type": "execute_result"
    }
   ],
   "source": [
    "final_year_qbs[final_year_qbs['player']=='Dak Prescott']['avg_grade']"
   ]
  },
  {
   "cell_type": "code",
   "execution_count": 199,
   "metadata": {
    "scrolled": true
   },
   "outputs": [
    {
     "data": {
      "text/plain": [
       "2             Vince Young\n",
       "8            Matt Leinart\n",
       "9              Jay Cutler\n",
       "38         Kellen Clemens\n",
       "48       Tarvaris Jackson\n",
       "64          Brodie Croyle\n",
       "141      Bruce Gradkowski\n",
       "176      JaMarcus Russell\n",
       "195           Brady Quinn\n",
       "209             John Beck\n",
       "249         Trent Edwards\n",
       "359             Matt Ryan\n",
       "369            Joe Flacco\n",
       "403            Chad Henne\n",
       "540      Matthew Stafford\n",
       "543          Mark Sanchez\n",
       "553          Josh Freeman\n",
       "676        Curtis Painter\n",
       "711          Sam Bradford\n",
       "729             Tim Tebow\n",
       "748         Jimmy Clausen\n",
       "778            Colt McCoy\n",
       "884            Cam Newton\n",
       "891           Jake Locker\n",
       "892        Blaine Gabbert\n",
       "894      Christian Ponder\n",
       "909           Andy Dalton\n",
       "910      Colin Kaepernick\n",
       "997            T.J. Yates\n",
       "1066          Andrew Luck\n",
       "1072       Ryan Tannehill\n",
       "1086       Brandon Weeden\n",
       "1123       Russell Wilson\n",
       "1134           Nick Foles\n",
       "1143         Kirk Cousins\n",
       "1196         Ryan Lindley\n",
       "1271           Geno Smith\n",
       "1300         Mike Glennon\n",
       "1331         Landry Jones\n",
       "1428        Blake Bortles\n",
       "1443       Johnny Manziel\n",
       "1452    Teddy Bridgewater\n",
       "1454           Derek Carr\n",
       "1548        A.J. McCarron\n",
       "1557    Zach Mettenberger\n",
       "1598       Jameis Winston\n",
       "1599       Marcus Mariota\n",
       "1675          Bryce Petty\n",
       "1704        Brett Hundley\n",
       "1767           Jared Goff\n",
       "1840      Jacoby Brissett\n",
       "1842         Cody Kessler\n",
       "1873         Dak Prescott\n",
       "1920         Jeff Driskel\n",
       "1963       Deshaun Watson\n",
       "1997        DeShone Kizer\n",
       "2148       Baker Mayfield\n",
       "2150          Sam Darnold\n",
       "2153           Josh Allen\n",
       "2155           Josh Rosen\n",
       "Name: player, dtype: object"
      ]
     },
     "execution_count": 199,
     "metadata": {},
     "output_type": "execute_result"
    }
   ],
   "source": [
    "final_year_qbs['player']"
   ]
  },
  {
   "cell_type": "code",
   "execution_count": 200,
   "metadata": {},
   "outputs": [],
   "source": [
    "qb_results = pd.DataFrame()\n",
    "qb_results['player'] = final_year_qbs['player']\n",
    "qb_results['grade'] = final_year_qbs['avg_grade']\n",
    "qb_results['pred_grade'] = qb_model.predict(final_year_qbs[features])"
   ]
  },
  {
   "cell_type": "code",
   "execution_count": 201,
   "metadata": {
    "scrolled": true
   },
   "outputs": [
    {
     "data": {
      "text/html": [
       "<div>\n",
       "<style scoped>\n",
       "    .dataframe tbody tr th:only-of-type {\n",
       "        vertical-align: middle;\n",
       "    }\n",
       "\n",
       "    .dataframe tbody tr th {\n",
       "        vertical-align: top;\n",
       "    }\n",
       "\n",
       "    .dataframe thead th {\n",
       "        text-align: right;\n",
       "    }\n",
       "</style>\n",
       "<table border=\"1\" class=\"dataframe\">\n",
       "  <thead>\n",
       "    <tr style=\"text-align: right;\">\n",
       "      <th></th>\n",
       "      <th>player</th>\n",
       "      <th>grade</th>\n",
       "      <th>pred_grade</th>\n",
       "    </tr>\n",
       "  </thead>\n",
       "  <tbody>\n",
       "    <tr>\n",
       "      <th>2</th>\n",
       "      <td>Vince Young</td>\n",
       "      <td>59.200000</td>\n",
       "      <td>59.575703</td>\n",
       "    </tr>\n",
       "    <tr>\n",
       "      <th>8</th>\n",
       "      <td>Matt Leinart</td>\n",
       "      <td>54.450000</td>\n",
       "      <td>57.528599</td>\n",
       "    </tr>\n",
       "    <tr>\n",
       "      <th>9</th>\n",
       "      <td>Jay Cutler</td>\n",
       "      <td>70.125000</td>\n",
       "      <td>55.917740</td>\n",
       "    </tr>\n",
       "    <tr>\n",
       "      <th>38</th>\n",
       "      <td>Kellen Clemens</td>\n",
       "      <td>52.000000</td>\n",
       "      <td>46.588005</td>\n",
       "    </tr>\n",
       "    <tr>\n",
       "      <th>48</th>\n",
       "      <td>Tarvaris Jackson</td>\n",
       "      <td>69.000000</td>\n",
       "      <td>60.832161</td>\n",
       "    </tr>\n",
       "    <tr>\n",
       "      <th>64</th>\n",
       "      <td>Brodie Croyle</td>\n",
       "      <td>50.700000</td>\n",
       "      <td>44.401752</td>\n",
       "    </tr>\n",
       "    <tr>\n",
       "      <th>141</th>\n",
       "      <td>Bruce Gradkowski</td>\n",
       "      <td>47.900000</td>\n",
       "      <td>49.116283</td>\n",
       "    </tr>\n",
       "    <tr>\n",
       "      <th>176</th>\n",
       "      <td>JaMarcus Russell</td>\n",
       "      <td>46.433333</td>\n",
       "      <td>54.563126</td>\n",
       "    </tr>\n",
       "    <tr>\n",
       "      <th>195</th>\n",
       "      <td>Brady Quinn</td>\n",
       "      <td>54.400000</td>\n",
       "      <td>55.964146</td>\n",
       "    </tr>\n",
       "    <tr>\n",
       "      <th>209</th>\n",
       "      <td>John Beck</td>\n",
       "      <td>29.200000</td>\n",
       "      <td>58.788044</td>\n",
       "    </tr>\n",
       "    <tr>\n",
       "      <th>249</th>\n",
       "      <td>Trent Edwards</td>\n",
       "      <td>66.725000</td>\n",
       "      <td>62.016247</td>\n",
       "    </tr>\n",
       "    <tr>\n",
       "      <th>359</th>\n",
       "      <td>Matt Ryan</td>\n",
       "      <td>79.850000</td>\n",
       "      <td>65.444626</td>\n",
       "    </tr>\n",
       "    <tr>\n",
       "      <th>369</th>\n",
       "      <td>Joe Flacco</td>\n",
       "      <td>74.200000</td>\n",
       "      <td>59.280548</td>\n",
       "    </tr>\n",
       "    <tr>\n",
       "      <th>403</th>\n",
       "      <td>Chad Henne</td>\n",
       "      <td>69.000000</td>\n",
       "      <td>49.526596</td>\n",
       "    </tr>\n",
       "    <tr>\n",
       "      <th>540</th>\n",
       "      <td>Matthew Stafford</td>\n",
       "      <td>63.966667</td>\n",
       "      <td>56.129581</td>\n",
       "    </tr>\n",
       "    <tr>\n",
       "      <th>543</th>\n",
       "      <td>Mark Sanchez</td>\n",
       "      <td>56.400000</td>\n",
       "      <td>53.712730</td>\n",
       "    </tr>\n",
       "    <tr>\n",
       "      <th>553</th>\n",
       "      <td>Josh Freeman</td>\n",
       "      <td>62.000000</td>\n",
       "      <td>59.431843</td>\n",
       "    </tr>\n",
       "    <tr>\n",
       "      <th>676</th>\n",
       "      <td>Curtis Painter</td>\n",
       "      <td>41.400000</td>\n",
       "      <td>52.522648</td>\n",
       "    </tr>\n",
       "    <tr>\n",
       "      <th>711</th>\n",
       "      <td>Sam Bradford</td>\n",
       "      <td>66.575000</td>\n",
       "      <td>55.112461</td>\n",
       "    </tr>\n",
       "    <tr>\n",
       "      <th>729</th>\n",
       "      <td>Tim Tebow</td>\n",
       "      <td>51.266667</td>\n",
       "      <td>60.038258</td>\n",
       "    </tr>\n",
       "    <tr>\n",
       "      <th>748</th>\n",
       "      <td>Jimmy Clausen</td>\n",
       "      <td>60.500000</td>\n",
       "      <td>58.310425</td>\n",
       "    </tr>\n",
       "    <tr>\n",
       "      <th>778</th>\n",
       "      <td>Colt McCoy</td>\n",
       "      <td>65.900000</td>\n",
       "      <td>59.246529</td>\n",
       "    </tr>\n",
       "    <tr>\n",
       "      <th>884</th>\n",
       "      <td>Cam Newton</td>\n",
       "      <td>71.575000</td>\n",
       "      <td>66.355453</td>\n",
       "    </tr>\n",
       "    <tr>\n",
       "      <th>891</th>\n",
       "      <td>Jake Locker</td>\n",
       "      <td>68.950000</td>\n",
       "      <td>50.919609</td>\n",
       "    </tr>\n",
       "    <tr>\n",
       "      <th>892</th>\n",
       "      <td>Blaine Gabbert</td>\n",
       "      <td>44.750000</td>\n",
       "      <td>56.191147</td>\n",
       "    </tr>\n",
       "    <tr>\n",
       "      <th>894</th>\n",
       "      <td>Christian Ponder</td>\n",
       "      <td>55.575000</td>\n",
       "      <td>49.178635</td>\n",
       "    </tr>\n",
       "    <tr>\n",
       "      <th>909</th>\n",
       "      <td>Andy Dalton</td>\n",
       "      <td>68.900000</td>\n",
       "      <td>53.756535</td>\n",
       "    </tr>\n",
       "    <tr>\n",
       "      <th>910</th>\n",
       "      <td>Colin Kaepernick</td>\n",
       "      <td>69.300000</td>\n",
       "      <td>62.711777</td>\n",
       "    </tr>\n",
       "    <tr>\n",
       "      <th>997</th>\n",
       "      <td>T.J. Yates</td>\n",
       "      <td>60.900000</td>\n",
       "      <td>55.551418</td>\n",
       "    </tr>\n",
       "    <tr>\n",
       "      <th>1066</th>\n",
       "      <td>Andrew Luck</td>\n",
       "      <td>74.400000</td>\n",
       "      <td>58.790180</td>\n",
       "    </tr>\n",
       "    <tr>\n",
       "      <th>1072</th>\n",
       "      <td>Ryan Tannehill</td>\n",
       "      <td>75.050000</td>\n",
       "      <td>61.838863</td>\n",
       "    </tr>\n",
       "    <tr>\n",
       "      <th>1086</th>\n",
       "      <td>Brandon Weeden</td>\n",
       "      <td>56.400000</td>\n",
       "      <td>64.725685</td>\n",
       "    </tr>\n",
       "    <tr>\n",
       "      <th>1123</th>\n",
       "      <td>Russell Wilson</td>\n",
       "      <td>79.825000</td>\n",
       "      <td>56.989868</td>\n",
       "    </tr>\n",
       "    <tr>\n",
       "      <th>1134</th>\n",
       "      <td>Nick Foles</td>\n",
       "      <td>65.700000</td>\n",
       "      <td>66.663750</td>\n",
       "    </tr>\n",
       "    <tr>\n",
       "      <th>1143</th>\n",
       "      <td>Kirk Cousins</td>\n",
       "      <td>55.866667</td>\n",
       "      <td>53.318012</td>\n",
       "    </tr>\n",
       "    <tr>\n",
       "      <th>1196</th>\n",
       "      <td>Ryan Lindley</td>\n",
       "      <td>37.200000</td>\n",
       "      <td>52.493423</td>\n",
       "    </tr>\n",
       "    <tr>\n",
       "      <th>1271</th>\n",
       "      <td>Geno Smith</td>\n",
       "      <td>58.850000</td>\n",
       "      <td>66.553589</td>\n",
       "    </tr>\n",
       "    <tr>\n",
       "      <th>1300</th>\n",
       "      <td>Mike Glennon</td>\n",
       "      <td>65.000000</td>\n",
       "      <td>61.443985</td>\n",
       "    </tr>\n",
       "    <tr>\n",
       "      <th>1331</th>\n",
       "      <td>Landry Jones</td>\n",
       "      <td>46.300000</td>\n",
       "      <td>61.870186</td>\n",
       "    </tr>\n",
       "    <tr>\n",
       "      <th>1428</th>\n",
       "      <td>Blake Bortles</td>\n",
       "      <td>56.850000</td>\n",
       "      <td>59.753933</td>\n",
       "    </tr>\n",
       "    <tr>\n",
       "      <th>1443</th>\n",
       "      <td>Johnny Manziel</td>\n",
       "      <td>55.500000</td>\n",
       "      <td>69.366402</td>\n",
       "    </tr>\n",
       "    <tr>\n",
       "      <th>1452</th>\n",
       "      <td>Teddy Bridgewater</td>\n",
       "      <td>73.000000</td>\n",
       "      <td>60.694855</td>\n",
       "    </tr>\n",
       "    <tr>\n",
       "      <th>1454</th>\n",
       "      <td>Derek Carr</td>\n",
       "      <td>74.700000</td>\n",
       "      <td>71.963326</td>\n",
       "    </tr>\n",
       "    <tr>\n",
       "      <th>1548</th>\n",
       "      <td>A.J. McCarron</td>\n",
       "      <td>71.500000</td>\n",
       "      <td>51.761612</td>\n",
       "    </tr>\n",
       "    <tr>\n",
       "      <th>1557</th>\n",
       "      <td>Zach Mettenberger</td>\n",
       "      <td>47.900000</td>\n",
       "      <td>49.717609</td>\n",
       "    </tr>\n",
       "    <tr>\n",
       "      <th>1598</th>\n",
       "      <td>Jameis Winston</td>\n",
       "      <td>72.400000</td>\n",
       "      <td>60.109180</td>\n",
       "    </tr>\n",
       "    <tr>\n",
       "      <th>1599</th>\n",
       "      <td>Marcus Mariota</td>\n",
       "      <td>70.825000</td>\n",
       "      <td>72.807831</td>\n",
       "    </tr>\n",
       "    <tr>\n",
       "      <th>1675</th>\n",
       "      <td>Bryce Petty</td>\n",
       "      <td>48.100000</td>\n",
       "      <td>60.651005</td>\n",
       "    </tr>\n",
       "    <tr>\n",
       "      <th>1704</th>\n",
       "      <td>Brett Hundley</td>\n",
       "      <td>64.800000</td>\n",
       "      <td>59.778030</td>\n",
       "    </tr>\n",
       "    <tr>\n",
       "      <th>1767</th>\n",
       "      <td>Jared Goff</td>\n",
       "      <td>71.925000</td>\n",
       "      <td>68.760612</td>\n",
       "    </tr>\n",
       "    <tr>\n",
       "      <th>1840</th>\n",
       "      <td>Jacoby Brissett</td>\n",
       "      <td>62.400000</td>\n",
       "      <td>55.373699</td>\n",
       "    </tr>\n",
       "    <tr>\n",
       "      <th>1842</th>\n",
       "      <td>Cody Kessler</td>\n",
       "      <td>60.100000</td>\n",
       "      <td>56.871437</td>\n",
       "    </tr>\n",
       "    <tr>\n",
       "      <th>1873</th>\n",
       "      <td>Dak Prescott</td>\n",
       "      <td>75.725000</td>\n",
       "      <td>65.886337</td>\n",
       "    </tr>\n",
       "    <tr>\n",
       "      <th>1920</th>\n",
       "      <td>Jeff Driskel</td>\n",
       "      <td>52.700000</td>\n",
       "      <td>65.769089</td>\n",
       "    </tr>\n",
       "    <tr>\n",
       "      <th>1963</th>\n",
       "      <td>Deshaun Watson</td>\n",
       "      <td>75.350000</td>\n",
       "      <td>72.733543</td>\n",
       "    </tr>\n",
       "    <tr>\n",
       "      <th>1997</th>\n",
       "      <td>DeShone Kizer</td>\n",
       "      <td>52.800000</td>\n",
       "      <td>60.405178</td>\n",
       "    </tr>\n",
       "    <tr>\n",
       "      <th>2148</th>\n",
       "      <td>Baker Mayfield</td>\n",
       "      <td>84.500000</td>\n",
       "      <td>70.530495</td>\n",
       "    </tr>\n",
       "    <tr>\n",
       "      <th>2150</th>\n",
       "      <td>Sam Darnold</td>\n",
       "      <td>64.700000</td>\n",
       "      <td>62.742844</td>\n",
       "    </tr>\n",
       "    <tr>\n",
       "      <th>2153</th>\n",
       "      <td>Josh Allen</td>\n",
       "      <td>65.300000</td>\n",
       "      <td>50.256218</td>\n",
       "    </tr>\n",
       "    <tr>\n",
       "      <th>2155</th>\n",
       "      <td>Josh Rosen</td>\n",
       "      <td>49.100000</td>\n",
       "      <td>60.446251</td>\n",
       "    </tr>\n",
       "  </tbody>\n",
       "</table>\n",
       "</div>"
      ],
      "text/plain": [
       "                 player      grade  pred_grade\n",
       "2           Vince Young  59.200000   59.575703\n",
       "8          Matt Leinart  54.450000   57.528599\n",
       "9            Jay Cutler  70.125000   55.917740\n",
       "38       Kellen Clemens  52.000000   46.588005\n",
       "48     Tarvaris Jackson  69.000000   60.832161\n",
       "64        Brodie Croyle  50.700000   44.401752\n",
       "141    Bruce Gradkowski  47.900000   49.116283\n",
       "176    JaMarcus Russell  46.433333   54.563126\n",
       "195         Brady Quinn  54.400000   55.964146\n",
       "209           John Beck  29.200000   58.788044\n",
       "249       Trent Edwards  66.725000   62.016247\n",
       "359           Matt Ryan  79.850000   65.444626\n",
       "369          Joe Flacco  74.200000   59.280548\n",
       "403          Chad Henne  69.000000   49.526596\n",
       "540    Matthew Stafford  63.966667   56.129581\n",
       "543        Mark Sanchez  56.400000   53.712730\n",
       "553        Josh Freeman  62.000000   59.431843\n",
       "676      Curtis Painter  41.400000   52.522648\n",
       "711        Sam Bradford  66.575000   55.112461\n",
       "729           Tim Tebow  51.266667   60.038258\n",
       "748       Jimmy Clausen  60.500000   58.310425\n",
       "778          Colt McCoy  65.900000   59.246529\n",
       "884          Cam Newton  71.575000   66.355453\n",
       "891         Jake Locker  68.950000   50.919609\n",
       "892      Blaine Gabbert  44.750000   56.191147\n",
       "894    Christian Ponder  55.575000   49.178635\n",
       "909         Andy Dalton  68.900000   53.756535\n",
       "910    Colin Kaepernick  69.300000   62.711777\n",
       "997          T.J. Yates  60.900000   55.551418\n",
       "1066        Andrew Luck  74.400000   58.790180\n",
       "1072     Ryan Tannehill  75.050000   61.838863\n",
       "1086     Brandon Weeden  56.400000   64.725685\n",
       "1123     Russell Wilson  79.825000   56.989868\n",
       "1134         Nick Foles  65.700000   66.663750\n",
       "1143       Kirk Cousins  55.866667   53.318012\n",
       "1196       Ryan Lindley  37.200000   52.493423\n",
       "1271         Geno Smith  58.850000   66.553589\n",
       "1300       Mike Glennon  65.000000   61.443985\n",
       "1331       Landry Jones  46.300000   61.870186\n",
       "1428      Blake Bortles  56.850000   59.753933\n",
       "1443     Johnny Manziel  55.500000   69.366402\n",
       "1452  Teddy Bridgewater  73.000000   60.694855\n",
       "1454         Derek Carr  74.700000   71.963326\n",
       "1548      A.J. McCarron  71.500000   51.761612\n",
       "1557  Zach Mettenberger  47.900000   49.717609\n",
       "1598     Jameis Winston  72.400000   60.109180\n",
       "1599     Marcus Mariota  70.825000   72.807831\n",
       "1675        Bryce Petty  48.100000   60.651005\n",
       "1704      Brett Hundley  64.800000   59.778030\n",
       "1767         Jared Goff  71.925000   68.760612\n",
       "1840    Jacoby Brissett  62.400000   55.373699\n",
       "1842       Cody Kessler  60.100000   56.871437\n",
       "1873       Dak Prescott  75.725000   65.886337\n",
       "1920       Jeff Driskel  52.700000   65.769089\n",
       "1963     Deshaun Watson  75.350000   72.733543\n",
       "1997      DeShone Kizer  52.800000   60.405178\n",
       "2148     Baker Mayfield  84.500000   70.530495\n",
       "2150        Sam Darnold  64.700000   62.742844\n",
       "2153         Josh Allen  65.300000   50.256218\n",
       "2155         Josh Rosen  49.100000   60.446251"
      ]
     },
     "execution_count": 201,
     "metadata": {},
     "output_type": "execute_result"
    }
   ],
   "source": [
    "qb_results"
   ]
  },
  {
   "cell_type": "code",
   "execution_count": 364,
   "metadata": {},
   "outputs": [
    {
     "data": {
      "image/png": "[encoded data removed]",
      "text/plain": [
       "<Figure size 720x576 with 1 Axes>"
      ]
     },
     "metadata": {
      "needs_background": "light"
     },
     "output_type": "display_data"
    }
   ],
   "source": [
    "fig = plt.figure(figsize=(10, 8))\n",
    "plt.title('QuarterBacks - Residual Distribution')\n",
    "sns.distplot(qb_results['grade'] - qb_results['pred_grade'])\n",
    "fig.savefig('../visuals/QuarterBacks.jpeg');"
   ]
  },
  {
   "cell_type": "markdown",
   "metadata": {},
   "source": [
    "# Running Back"
   ]
  },
  {
   "cell_type": "code",
   "execution_count": 60,
   "metadata": {},
   "outputs": [],
   "source": [
    "avg_rbs = avg_players[(avg_players['position']=='RB') | (avg_players['position']=='FB')]\n",
    "fy_rbs = final_year_players[(final_year_players['position']=='RB') | (final_year_players['position']=='FB')]"
   ]
  },
  {
   "cell_type": "markdown",
   "metadata": {},
   "source": [
    "## Average Statistics"
   ]
  },
  {
   "cell_type": "code",
   "execution_count": 61,
   "metadata": {},
   "outputs": [
    {
     "data": {
      "text/plain": [
       "209"
      ]
     },
     "execution_count": 61,
     "metadata": {},
     "output_type": "execute_result"
    }
   ],
   "source": [
    "len(avg_rbs)"
   ]
  },
  {
   "cell_type": "code",
   "execution_count": 62,
   "metadata": {
    "scrolled": true
   },
   "outputs": [
    {
     "data": {
      "text/plain": [
       "draft_overall            0\n",
       "draft_round              0\n",
       "draft_year               0\n",
       "player                   0\n",
       "position                 0\n",
       "school                   0\n",
       "wins                     6\n",
       "losses                   6\n",
       "rank                     6\n",
       "nfl_team_win_perc        0\n",
       "bench_reps              15\n",
       "broad_jump              16\n",
       "cone                    24\n",
       "forty_yd                15\n",
       "height                  12\n",
       "shuttle                 22\n",
       "vertical                14\n",
       "weight                  12\n",
       "games                    6\n",
       "pass_cmp                 6\n",
       "pass_att                 6\n",
       "pass_cmp_pct             6\n",
       "pass_yds                 6\n",
       "pass_yds_per_att         6\n",
       "adj_pass_yds_per_att     6\n",
       "pass_td                  6\n",
       "pass_int                 6\n",
       "pass_rating              6\n",
       "rush_att                 6\n",
       "rush_yds                 6\n",
       "rush_yds_per_att         6\n",
       "rush_td                  6\n",
       "rec                      6\n",
       "rec_yds                  6\n",
       "rec_yds_per_rec          6\n",
       "rec_td                   6\n",
       "scrim_att                6\n",
       "scrim_yds                6\n",
       "scrim_yds_per_att        6\n",
       "scrim_td                 6\n",
       "tackles_solo             6\n",
       "tackles_assists          6\n",
       "tackles_total            6\n",
       "tackles_loss             6\n",
       "sacks                    6\n",
       "def_int                  6\n",
       "def_int_yds              6\n",
       "def_int_yds_per_int      6\n",
       "def_int_td               6\n",
       "pass_defended            6\n",
       "dtype: int64"
      ]
     },
     "execution_count": 62,
     "metadata": {},
     "output_type": "execute_result"
    }
   ],
   "source": [
    "avg_rbs.isnull().sum()[:50]"
   ]
  },
  {
   "cell_type": "code",
   "execution_count": 63,
   "metadata": {
    "scrolled": true
   },
   "outputs": [
    {
     "data": {
      "text/plain": [
       "fumbles_rec             6\n",
       "fumbles_rec_yds         6\n",
       "fumbles_rec_td          6\n",
       "fumbles_forced          6\n",
       "punt_ret                6\n",
       "punt_ret_yds            6\n",
       "punt_ret_yds_per_ret    6\n",
       "punt_ret_td             6\n",
       "kick_ret                6\n",
       "kick_ret_yds            6\n",
       "kick_ret_yds_per_ret    6\n",
       "kick_ret_td             6\n",
       "avg_grade               0\n",
       "conference_ACC          0\n",
       "conference_American     0\n",
       "conference_Big 12       0\n",
       "conference_Big East     0\n",
       "conference_Big Ten      0\n",
       "conference_CUSA         0\n",
       "conference_Ind          0\n",
       "conference_MAC          0\n",
       "conference_MVC          0\n",
       "conference_MWC          0\n",
       "conference_Pac-10       0\n",
       "conference_Pac-12       0\n",
       "conference_SEC          0\n",
       "conference_Sun Belt     0\n",
       "conference_WAC          0\n",
       "nfl_team_49ers          0\n",
       "nfl_team_Bears          0\n",
       "nfl_team_Bengals        0\n",
       "nfl_team_Bills          0\n",
       "nfl_team_Broncos        0\n",
       "nfl_team_Browns         0\n",
       "nfl_team_Buccaneers     0\n",
       "nfl_team_Cardinals      0\n",
       "nfl_team_Chargers       0\n",
       "nfl_team_Chiefs         0\n",
       "nfl_team_Colts          0\n",
       "nfl_team_Cowboys        0\n",
       "nfl_team_Dolphins       0\n",
       "nfl_team_Eagles         0\n",
       "nfl_team_Falcons        0\n",
       "nfl_team_Giants         0\n",
       "nfl_team_Jaguars        0\n",
       "nfl_team_Jets           0\n",
       "nfl_team_Lions          0\n",
       "nfl_team_Packers        0\n",
       "nfl_team_Panthers       0\n",
       "nfl_team_Patriots       0\n",
       "nfl_team_Raiders        0\n",
       "nfl_team_Rams           0\n",
       "nfl_team_Ravens         0\n",
       "nfl_team_Redskins       0\n",
       "nfl_team_Saints         0\n",
       "nfl_team_Seahawks       0\n",
       "nfl_team_Steelers       0\n",
       "nfl_team_Texans         0\n",
       "nfl_team_Titans         0\n",
       "nfl_team_Vikings        0\n",
       "dtype: int64"
      ]
     },
     "execution_count": 63,
     "metadata": {},
     "output_type": "execute_result"
    }
   ],
   "source": [
    "avg_rbs.isnull().sum()[50:]"
   ]
  },
  {
   "cell_type": "code",
   "execution_count": 64,
   "metadata": {},
   "outputs": [
    {
     "data": {
      "text/plain": [
       "Index(['draft_overall', 'draft_round', 'draft_year', 'player', 'position',\n",
       "       'school', 'wins', 'losses', 'rank', 'nfl_team_win_perc', 'bench_reps',\n",
       "       'broad_jump', 'cone', 'forty_yd', 'height', 'shuttle', 'vertical',\n",
       "       'weight', 'games', 'pass_cmp', 'pass_att', 'pass_cmp_pct', 'pass_yds',\n",
       "       'pass_yds_per_att', 'adj_pass_yds_per_att', 'pass_td', 'pass_int',\n",
       "       'pass_rating', 'rush_att', 'rush_yds', 'rush_yds_per_att', 'rush_td',\n",
       "       'rec', 'rec_yds', 'rec_yds_per_rec', 'rec_td', 'scrim_att', 'scrim_yds',\n",
       "       'scrim_yds_per_att', 'scrim_td', 'tackles_solo', 'tackles_assists',\n",
       "       'tackles_total', 'tackles_loss', 'sacks', 'def_int', 'def_int_yds',\n",
       "       'def_int_yds_per_int', 'def_int_td', 'pass_defended'],\n",
       "      dtype='object')"
      ]
     },
     "execution_count": 64,
     "metadata": {},
     "output_type": "execute_result"
    }
   ],
   "source": [
    "avg_rbs.columns[:50]"
   ]
  },
  {
   "cell_type": "code",
   "execution_count": 65,
   "metadata": {},
   "outputs": [
    {
     "data": {
      "text/plain": [
       "Index(['fumbles_rec', 'fumbles_rec_yds', 'fumbles_rec_td', 'fumbles_forced',\n",
       "       'punt_ret', 'punt_ret_yds', 'punt_ret_yds_per_ret', 'punt_ret_td',\n",
       "       'kick_ret', 'kick_ret_yds', 'kick_ret_yds_per_ret', 'kick_ret_td',\n",
       "       'avg_grade', 'conference_ACC', 'conference_American',\n",
       "       'conference_Big 12', 'conference_Big East', 'conference_Big Ten',\n",
       "       'conference_CUSA', 'conference_Ind', 'conference_MAC', 'conference_MVC',\n",
       "       'conference_MWC', 'conference_Pac-10', 'conference_Pac-12',\n",
       "       'conference_SEC', 'conference_Sun Belt', 'conference_WAC',\n",
       "       'nfl_team_49ers', 'nfl_team_Bears', 'nfl_team_Bengals',\n",
       "       'nfl_team_Bills', 'nfl_team_Broncos', 'nfl_team_Browns',\n",
       "       'nfl_team_Buccaneers', 'nfl_team_Cardinals', 'nfl_team_Chargers',\n",
       "       'nfl_team_Chiefs', 'nfl_team_Colts', 'nfl_team_Cowboys',\n",
       "       'nfl_team_Dolphins', 'nfl_team_Eagles', 'nfl_team_Falcons',\n",
       "       'nfl_team_Giants', 'nfl_team_Jaguars', 'nfl_team_Jets',\n",
       "       'nfl_team_Lions', 'nfl_team_Packers', 'nfl_team_Panthers',\n",
       "       'nfl_team_Patriots', 'nfl_team_Raiders', 'nfl_team_Rams',\n",
       "       'nfl_team_Ravens', 'nfl_team_Redskins', 'nfl_team_Saints',\n",
       "       'nfl_team_Seahawks', 'nfl_team_Steelers', 'nfl_team_Texans',\n",
       "       'nfl_team_Titans', 'nfl_team_Vikings'],\n",
       "      dtype='object')"
      ]
     },
     "execution_count": 65,
     "metadata": {},
     "output_type": "execute_result"
    }
   ],
   "source": [
    "avg_rbs.columns[50:]"
   ]
  },
  {
   "cell_type": "code",
   "execution_count": 66,
   "metadata": {},
   "outputs": [
    {
     "name": "stderr",
     "output_type": "stream",
     "text": [
      "C:\\Users\\aidan\\Anaconda3\\envs\\DSI-6\\lib\\site-packages\\ipykernel_launcher.py:10: SettingWithCopyWarning: \n",
      "A value is trying to be set on a copy of a slice from a DataFrame\n",
      "\n",
      "See the caveats in the documentation: http://pandas.pydata.org/pandas-docs/stable/indexing.html#indexing-view-versus-copy\n",
      "  # Remove the CWD from sys.path while we load stuff.\n",
      "C:\\Users\\aidan\\Anaconda3\\envs\\DSI-6\\lib\\site-packages\\ipykernel_launcher.py:13: SettingWithCopyWarning: \n",
      "A value is trying to be set on a copy of a slice from a DataFrame\n",
      "\n",
      "See the caveats in the documentation: http://pandas.pydata.org/pandas-docs/stable/indexing.html#indexing-view-versus-copy\n",
      "  del sys.path[0]\n",
      "C:\\Users\\aidan\\Anaconda3\\envs\\DSI-6\\lib\\site-packages\\ipykernel_launcher.py:15: SettingWithCopyWarning: \n",
      "A value is trying to be set on a copy of a slice from a DataFrame\n",
      "\n",
      "See the caveats in the documentation: http://pandas.pydata.org/pandas-docs/stable/indexing.html#indexing-view-versus-copy\n",
      "  from ipykernel import kernelapp as app\n"
     ]
    }
   ],
   "source": [
    "avg_rbs.dropna(subset=['wins', 'losses', 'rank','pass_cmp', 'pass_att', 'pass_cmp_pct', 'pass_yds',\n",
    "       'pass_yds_per_att', 'adj_pass_yds_per_att', 'pass_td', 'pass_int',\n",
    "       'pass_rating', 'rush_att', 'rush_yds', 'rush_yds_per_att', 'rush_td',\n",
    "       'rec', 'rec_yds', 'rec_yds_per_rec', 'rec_td', 'scrim_att', 'scrim_yds',\n",
    "       'scrim_yds_per_att', 'scrim_td', 'tackles_solo', 'tackles_assists',\n",
    "       'tackles_total', 'tackles_loss', 'sacks', 'def_int', 'def_int_yds',\n",
    "       'def_int_yds_per_int', 'def_int_td', 'pass_defended',\n",
    "        'fumbles_rec', 'fumbles_rec_yds', 'fumbles_rec_td', 'fumbles_forced',\n",
    "       'punt_ret', 'punt_ret_yds', 'punt_ret_yds_per_ret', 'punt_ret_td',\n",
    "       'kick_ret', 'kick_ret_yds', 'kick_ret_yds_per_ret', 'kick_ret_td'], how='all', inplace=True)\n",
    "\n",
    "avg_rbs.dropna(subset=['bench_reps', 'broad_jump', 'cone', 'forty_yd',\n",
    "                       'height', 'shuttle', 'vertical','weight'], how='all', inplace=True)\n",
    "\n",
    "avg_rbs.dropna(inplace=True)"
   ]
  },
  {
   "cell_type": "code",
   "execution_count": 67,
   "metadata": {},
   "outputs": [
    {
     "data": {
      "text/plain": [
       "175"
      ]
     },
     "execution_count": 67,
     "metadata": {},
     "output_type": "execute_result"
    }
   ],
   "source": [
    "len(avg_rbs)"
   ]
  },
  {
   "cell_type": "code",
   "execution_count": 238,
   "metadata": {},
   "outputs": [],
   "source": [
    "features = [\n",
    "#     'draft_overall', 'draft_round', 'draft_year', \n",
    "            'wins', 'losses', 'rank', 'nfl_team_win_perc', \n",
    "    'broad_jump', 'cone', 'forty_yd', 'height', 'shuttle', 'vertical', 'weight', 'games',\n",
    "       'rush_att', 'rush_yds', 'rush_yds_per_att', 'rush_td',\n",
    "       'rec', 'rec_yds', 'rec_yds_per_rec', 'rec_td', \n",
    "#     'scrim_att', 'scrim_yds', 'scrim_yds_per_att', 'scrim_td',\n",
    "    'punt_ret', 'punt_ret_yds', 'punt_ret_yds_per_ret', 'punt_ret_td',\n",
    "       'kick_ret', 'kick_ret_yds', 'kick_ret_yds_per_ret', 'kick_ret_td',\n",
    "           'conference_ACC', 'conference_American', 'conference_Big 12',\n",
    "       'conference_Big East', 'conference_Big Ten', 'conference_CUSA',\n",
    "       'conference_Ind', 'conference_MAC', 'conference_MVC', 'conference_MWC',\n",
    "       'conference_Pac-10', 'conference_Pac-12', 'conference_SEC',\n",
    "       'conference_Sun Belt', 'conference_WAC', 'nfl_team_49ers',\n",
    "       'nfl_team_Bears', 'nfl_team_Bengals', 'nfl_team_Bills',\n",
    "       'nfl_team_Broncos', 'nfl_team_Browns', 'nfl_team_Buccaneers',\n",
    "       'nfl_team_Cardinals', 'nfl_team_Chargers', 'nfl_team_Chiefs',\n",
    "       'nfl_team_Colts', 'nfl_team_Cowboys', 'nfl_team_Dolphins',\n",
    "       'nfl_team_Eagles', 'nfl_team_Falcons', 'nfl_team_Giants',\n",
    "       'nfl_team_Jaguars', 'nfl_team_Jets', 'nfl_team_Lions',\n",
    "       'nfl_team_Packers', 'nfl_team_Panthers', 'nfl_team_Patriots',\n",
    "       'nfl_team_Raiders', 'nfl_team_Rams', 'nfl_team_Ravens',\n",
    "       'nfl_team_Redskins', 'nfl_team_Saints', 'nfl_team_Seahawks',\n",
    "       'nfl_team_Steelers', 'nfl_team_Texans', 'nfl_team_Titans',\n",
    "       'nfl_team_Vikings']"
   ]
  },
  {
   "cell_type": "code",
   "execution_count": 213,
   "metadata": {},
   "outputs": [],
   "source": [
    "X_train_avg_rbs = avg_rbs[avg_rbs['draft_year']<2015]\n",
    "y_train_avg_rbs = avg_rbs[avg_rbs['draft_year']<2015]['avg_grade']\n",
    "X_test_avg_rbs = avg_rbs[avg_rbs['draft_year']>=2015]\n",
    "y_test_avg_rbs = avg_rbs[avg_rbs['draft_year']>=2015]['avg_grade']"
   ]
  },
  {
   "cell_type": "markdown",
   "metadata": {},
   "source": [
    "#### Linear Regression"
   ]
  },
  {
   "cell_type": "code",
   "execution_count": 214,
   "metadata": {},
   "outputs": [
    {
     "data": {
      "text/plain": [
       "-0.5399496917497264"
      ]
     },
     "execution_count": 214,
     "metadata": {},
     "output_type": "execute_result"
    }
   ],
   "source": [
    "lr = LinearRegression()\n",
    "lr.fit(X_train_avg_rbs[features], y_train_avg_rbs)\n",
    "lr_avg_rbs_preds = lr.predict(X_test_avg_rbs[features])\n",
    "\n",
    "r2_score(y_test_avg_rbs, lr_avg_rbs_preds)"
   ]
  },
  {
   "cell_type": "code",
   "execution_count": 215,
   "metadata": {},
   "outputs": [
    {
     "data": {
      "text/plain": [
       "126.07895783303721"
      ]
     },
     "execution_count": 215,
     "metadata": {},
     "output_type": "execute_result"
    }
   ],
   "source": [
    "mean_squared_error(y_test_avg_rbs, lr_avg_rbs_preds)"
   ]
  },
  {
   "cell_type": "markdown",
   "metadata": {},
   "source": [
    "#### Random Forest"
   ]
  },
  {
   "cell_type": "code",
   "execution_count": 216,
   "metadata": {},
   "outputs": [
    {
     "data": {
      "text/plain": [
       "0.012619367327529885"
      ]
     },
     "execution_count": 216,
     "metadata": {},
     "output_type": "execute_result"
    }
   ],
   "source": [
    "rf_reg = RandomForestRegressor()\n",
    "rf_reg.fit(X_train_avg_rbs[features], y_train_avg_rbs)\n",
    "rf_avg_rbs_preds = rf_reg.predict(X_test_avg_rbs[features])\n",
    "\n",
    "r2_score(y_test_avg_rbs, rf_avg_rbs_preds)"
   ]
  },
  {
   "cell_type": "code",
   "execution_count": 217,
   "metadata": {},
   "outputs": [
    {
     "data": {
      "text/plain": [
       "80.83895325854698"
      ]
     },
     "execution_count": 217,
     "metadata": {},
     "output_type": "execute_result"
    }
   ],
   "source": [
    "mean_squared_error(y_test_avg_rbs, rf_avg_rbs_preds)"
   ]
  },
  {
   "cell_type": "markdown",
   "metadata": {},
   "source": [
    "#### Neural Net"
   ]
  },
  {
   "cell_type": "code",
   "execution_count": 218,
   "metadata": {},
   "outputs": [],
   "source": [
    "np.random.seed(42)\n",
    "rb_model = Sequential()\n",
    "rb_model.add(Dense(X_train_avg_rbs[features].shape[1], input_shape=(X_train_avg_rbs[features].shape[1],), activation='relu'))\n",
    "rb_model.add(Dropout(0.5))\n",
    "rb_model.add(Dense(12, activation='relu'))\n",
    "# rb_model.add(Dense(10, activation='relu'))\n",
    "rb_model.add(Dense(1))\n",
    "\n",
    "adam = Adam(lr=0.01)\n",
    "rb_model.compile(loss='mean_squared_error', optimizer=adam)"
   ]
  },
  {
   "cell_type": "code",
   "execution_count": 219,
   "metadata": {},
   "outputs": [
    {
     "name": "stdout",
     "output_type": "stream",
     "text": [
      "Train on 136 samples, validate on 39 samples\n",
      "Epoch 1/100\n",
      "136/136 [==============================] - 1s 8ms/step - loss: 5649.7296 - val_loss: 911.2249\n",
      "Epoch 2/100\n",
      "136/136 [==============================] - 0s 117us/step - loss: 3203.1048 - val_loss: 140.2167\n",
      "Epoch 3/100\n",
      "136/136 [==============================] - 0s 81us/step - loss: 1229.6187 - val_loss: 753.9738\n",
      "Epoch 4/100\n",
      "136/136 [==============================] - 0s 95us/step - loss: 1090.1927 - val_loss: 874.5005\n",
      "Epoch 5/100\n",
      "136/136 [==============================] - 0s 88us/step - loss: 1068.1211 - val_loss: 302.7580\n",
      "Epoch 6/100\n",
      "136/136 [==============================] - 0s 95us/step - loss: 638.4166 - val_loss: 98.2058\n",
      "Epoch 7/100\n",
      "136/136 [==============================] - 0s 95us/step - loss: 597.2224 - val_loss: 157.5117\n",
      "Epoch 8/100\n",
      "136/136 [==============================] - 0s 73us/step - loss: 462.8683 - val_loss: 208.2947\n",
      "Epoch 9/100\n",
      "136/136 [==============================] - 0s 81us/step - loss: 334.8072 - val_loss: 119.5126\n",
      "Epoch 10/100\n",
      "136/136 [==============================] - 0s 80us/step - loss: 357.9722 - val_loss: 165.5242\n",
      "Epoch 11/100\n",
      "136/136 [==============================] - 0s 80us/step - loss: 301.7925 - val_loss: 95.9313\n",
      "Epoch 12/100\n",
      "136/136 [==============================] - 0s 72us/step - loss: 374.6964 - val_loss: 236.0467\n",
      "Epoch 13/100\n",
      "136/136 [==============================] - 0s 81us/step - loss: 384.0189 - val_loss: 240.2588\n",
      "Epoch 14/100\n",
      "136/136 [==============================] - 0s 80us/step - loss: 338.9882 - val_loss: 180.7472\n",
      "Epoch 15/100\n",
      "136/136 [==============================] - 0s 103us/step - loss: 320.8225 - val_loss: 214.2198\n",
      "Epoch 16/100\n",
      "136/136 [==============================] - 0s 118us/step - loss: 268.3381 - val_loss: 271.4441\n",
      "Epoch 17/100\n",
      "136/136 [==============================] - 0s 117us/step - loss: 272.2186 - val_loss: 226.5901\n",
      "Epoch 18/100\n",
      "136/136 [==============================] - 0s 125us/step - loss: 292.1253 - val_loss: 271.9699\n",
      "Epoch 19/100\n",
      "136/136 [==============================] - 0s 124us/step - loss: 323.2645 - val_loss: 309.1587\n",
      "Epoch 20/100\n",
      "136/136 [==============================] - 0s 118us/step - loss: 326.6196 - val_loss: 310.0787\n",
      "Epoch 21/100\n",
      "136/136 [==============================] - 0s 117us/step - loss: 304.8044 - val_loss: 191.8767\n",
      "Epoch 22/100\n",
      "136/136 [==============================] - 0s 124us/step - loss: 282.5088 - val_loss: 491.4645\n",
      "Epoch 23/100\n",
      "136/136 [==============================] - 0s 126us/step - loss: 303.6262 - val_loss: 219.4538\n",
      "Epoch 24/100\n",
      "136/136 [==============================] - 0s 117us/step - loss: 242.7885 - val_loss: 525.1867\n",
      "Epoch 25/100\n",
      "136/136 [==============================] - 0s 124us/step - loss: 291.9386 - val_loss: 280.7525\n",
      "Epoch 26/100\n",
      "136/136 [==============================] - 0s 117us/step - loss: 240.4585 - val_loss: 348.0179\n",
      "Epoch 27/100\n",
      "136/136 [==============================] - 0s 124us/step - loss: 259.3964 - val_loss: 537.2431\n",
      "Epoch 28/100\n",
      "136/136 [==============================] - 0s 124us/step - loss: 220.6253 - val_loss: 318.1782\n",
      "Epoch 29/100\n",
      "136/136 [==============================] - 0s 118us/step - loss: 231.1054 - val_loss: 348.8832\n",
      "Epoch 30/100\n",
      "136/136 [==============================] - 0s 117us/step - loss: 250.5112 - val_loss: 448.1788\n",
      "Epoch 31/100\n",
      "136/136 [==============================] - 0s 117us/step - loss: 212.2831 - val_loss: 336.7904\n",
      "Epoch 32/100\n",
      "136/136 [==============================] - 0s 110us/step - loss: 208.6861 - val_loss: 465.7982\n",
      "Epoch 33/100\n",
      "136/136 [==============================] - 0s 117us/step - loss: 178.8741 - val_loss: 326.8649\n",
      "Epoch 34/100\n",
      "136/136 [==============================] - 0s 119us/step - loss: 204.2058 - val_loss: 295.1028\n",
      "Epoch 35/100\n",
      "136/136 [==============================] - 0s 132us/step - loss: 260.0726 - val_loss: 606.5125\n",
      "Epoch 36/100\n",
      "136/136 [==============================] - 0s 117us/step - loss: 182.0163 - val_loss: 387.4348\n",
      "Epoch 37/100\n",
      "136/136 [==============================] - 0s 118us/step - loss: 253.2370 - val_loss: 425.6370\n",
      "Epoch 38/100\n",
      "136/136 [==============================] - 0s 118us/step - loss: 195.7144 - val_loss: 517.3303\n",
      "Epoch 39/100\n",
      "136/136 [==============================] - 0s 125us/step - loss: 200.1026 - val_loss: 498.9549\n",
      "Epoch 40/100\n",
      "136/136 [==============================] - 0s 117us/step - loss: 218.5561 - val_loss: 503.8293\n",
      "Epoch 41/100\n",
      "136/136 [==============================] - 0s 109us/step - loss: 205.7884 - val_loss: 527.3745\n",
      "Epoch 42/100\n",
      "136/136 [==============================] - 0s 146us/step - loss: 175.0755 - val_loss: 551.2754\n",
      "Epoch 43/100\n",
      "136/136 [==============================] - 0s 139us/step - loss: 187.7294 - val_loss: 606.5678\n",
      "Epoch 44/100\n",
      "136/136 [==============================] - 0s 117us/step - loss: 202.1617 - val_loss: 457.7042\n",
      "Epoch 45/100\n",
      "136/136 [==============================] - 0s 110us/step - loss: 178.4525 - val_loss: 299.0354\n",
      "Epoch 46/100\n",
      "136/136 [==============================] - 0s 117us/step - loss: 176.2696 - val_loss: 653.2083\n",
      "Epoch 47/100\n",
      "136/136 [==============================] - 0s 124us/step - loss: 187.6419 - val_loss: 462.9740\n",
      "Epoch 48/100\n",
      "136/136 [==============================] - 0s 132us/step - loss: 182.9010 - val_loss: 679.6253\n",
      "Epoch 49/100\n",
      "136/136 [==============================] - 0s 117us/step - loss: 216.4834 - val_loss: 446.2253\n",
      "Epoch 50/100\n",
      "136/136 [==============================] - 0s 110us/step - loss: 207.0774 - val_loss: 743.2561\n",
      "Epoch 51/100\n",
      "136/136 [==============================] - 0s 122us/step - loss: 213.2161 - val_loss: 559.8240\n",
      "Epoch 52/100\n",
      "136/136 [==============================] - 0s 118us/step - loss: 158.6934 - val_loss: 573.1766\n",
      "Epoch 53/100\n",
      "136/136 [==============================] - 0s 116us/step - loss: 161.7227 - val_loss: 893.8813\n",
      "Epoch 54/100\n",
      "136/136 [==============================] - 0s 110us/step - loss: 188.3904 - val_loss: 581.7538\n",
      "Epoch 55/100\n",
      "136/136 [==============================] - 0s 117us/step - loss: 163.9135 - val_loss: 710.2102\n",
      "Epoch 56/100\n",
      "136/136 [==============================] - 0s 117us/step - loss: 168.9714 - val_loss: 605.0818\n",
      "Epoch 57/100\n",
      "136/136 [==============================] - 0s 132us/step - loss: 183.8941 - val_loss: 641.4700\n",
      "Epoch 58/100\n",
      "136/136 [==============================] - 0s 117us/step - loss: 152.5669 - val_loss: 671.6916\n",
      "Epoch 59/100\n",
      "136/136 [==============================] - 0s 117us/step - loss: 169.8779 - val_loss: 840.4372\n",
      "Epoch 60/100\n",
      "136/136 [==============================] - 0s 124us/step - loss: 173.0455 - val_loss: 838.8326\n",
      "Epoch 61/100\n",
      "136/136 [==============================] - 0s 117us/step - loss: 165.3288 - val_loss: 767.6880\n",
      "Epoch 62/100\n",
      "136/136 [==============================] - 0s 117us/step - loss: 159.2593 - val_loss: 535.7695\n",
      "Epoch 63/100\n",
      "136/136 [==============================] - 0s 125us/step - loss: 184.3533 - val_loss: 828.4075\n",
      "Epoch 64/100\n",
      "136/136 [==============================] - 0s 117us/step - loss: 150.1698 - val_loss: 727.9312\n",
      "Epoch 65/100\n",
      "136/136 [==============================] - 0s 110us/step - loss: 205.2963 - val_loss: 836.6821\n",
      "Epoch 66/100\n",
      "136/136 [==============================] - 0s 111us/step - loss: 181.7780 - val_loss: 769.1156\n",
      "Epoch 67/100\n",
      "136/136 [==============================] - 0s 117us/step - loss: 165.5255 - val_loss: 656.0275\n",
      "Epoch 68/100\n",
      "136/136 [==============================] - 0s 132us/step - loss: 162.2289 - val_loss: 882.9348\n",
      "Epoch 69/100\n",
      "136/136 [==============================] - 0s 132us/step - loss: 140.2182 - val_loss: 840.6993\n",
      "Epoch 70/100\n",
      "136/136 [==============================] - 0s 124us/step - loss: 148.8236 - val_loss: 948.1904\n",
      "Epoch 71/100\n",
      "136/136 [==============================] - 0s 125us/step - loss: 180.0824 - val_loss: 735.1504\n",
      "Epoch 72/100\n",
      "136/136 [==============================] - 0s 139us/step - loss: 214.9852 - val_loss: 831.8982\n",
      "Epoch 73/100\n",
      "136/136 [==============================] - 0s 133us/step - loss: 127.1081 - val_loss: 767.9069\n",
      "Epoch 74/100\n",
      "136/136 [==============================] - 0s 124us/step - loss: 150.1610 - val_loss: 912.6611\n",
      "Epoch 75/100\n",
      "136/136 [==============================] - 0s 110us/step - loss: 157.9594 - val_loss: 922.8807\n",
      "Epoch 76/100\n"
     ]
    },
    {
     "name": "stdout",
     "output_type": "stream",
     "text": [
      "136/136 [==============================] - 0s 125us/step - loss: 179.2411 - val_loss: 917.6615\n",
      "Epoch 77/100\n",
      "136/136 [==============================] - 0s 110us/step - loss: 144.4690 - val_loss: 1046.3710\n",
      "Epoch 78/100\n",
      "136/136 [==============================] - 0s 117us/step - loss: 131.7101 - val_loss: 891.4610\n",
      "Epoch 79/100\n",
      "136/136 [==============================] - 0s 117us/step - loss: 151.1162 - val_loss: 715.1508\n",
      "Epoch 80/100\n",
      "136/136 [==============================] - 0s 124us/step - loss: 180.1224 - val_loss: 1054.0970\n",
      "Epoch 81/100\n",
      "136/136 [==============================] - 0s 118us/step - loss: 120.1173 - val_loss: 971.0016\n",
      "Epoch 82/100\n",
      "136/136 [==============================] - 0s 124us/step - loss: 183.5144 - val_loss: 924.9147\n",
      "Epoch 83/100\n",
      "136/136 [==============================] - 0s 111us/step - loss: 115.9311 - val_loss: 550.0800\n",
      "Epoch 84/100\n",
      "136/136 [==============================] - 0s 125us/step - loss: 185.9445 - val_loss: 906.2069\n",
      "Epoch 85/100\n",
      "136/136 [==============================] - 0s 109us/step - loss: 170.1493 - val_loss: 988.7582\n",
      "Epoch 86/100\n",
      "136/136 [==============================] - 0s 133us/step - loss: 175.0980 - val_loss: 838.9417\n",
      "Epoch 87/100\n",
      "136/136 [==============================] - 0s 126us/step - loss: 138.5194 - val_loss: 968.6879\n",
      "Epoch 88/100\n",
      "136/136 [==============================] - 0s 139us/step - loss: 174.8120 - val_loss: 896.3009\n",
      "Epoch 89/100\n",
      "136/136 [==============================] - 0s 125us/step - loss: 135.3679 - val_loss: 695.9919\n",
      "Epoch 90/100\n",
      "136/136 [==============================] - 0s 123us/step - loss: 143.5185 - val_loss: 1130.8983\n",
      "Epoch 91/100\n",
      "136/136 [==============================] - 0s 124us/step - loss: 184.0390 - val_loss: 1001.8986\n",
      "Epoch 92/100\n",
      "136/136 [==============================] - 0s 124us/step - loss: 136.4068 - val_loss: 797.4954\n",
      "Epoch 93/100\n",
      "136/136 [==============================] - 0s 117us/step - loss: 159.0940 - val_loss: 923.6683\n",
      "Epoch 94/100\n",
      "136/136 [==============================] - 0s 125us/step - loss: 163.4501 - val_loss: 981.9749\n",
      "Epoch 95/100\n",
      "136/136 [==============================] - 0s 123us/step - loss: 106.1000 - val_loss: 1061.9871\n",
      "Epoch 96/100\n",
      "136/136 [==============================] - 0s 117us/step - loss: 112.5144 - val_loss: 861.0846\n",
      "Epoch 97/100\n",
      "136/136 [==============================] - 0s 146us/step - loss: 127.8130 - val_loss: 1098.4758\n",
      "Epoch 98/100\n",
      "136/136 [==============================] - 0s 125us/step - loss: 125.3635 - val_loss: 1048.6979\n",
      "Epoch 99/100\n",
      "136/136 [==============================] - 0s 110us/step - loss: 129.2789 - val_loss: 849.6753\n",
      "Epoch 100/100\n",
      "136/136 [==============================] - 0s 118us/step - loss: 106.2960 - val_loss: 939.6084\n"
     ]
    },
    {
     "data": {
      "text/plain": [
       "<keras.callbacks.History at 0x27e83643a90>"
      ]
     },
     "execution_count": 219,
     "metadata": {},
     "output_type": "execute_result"
    }
   ],
   "source": [
    "rb_model.fit(X_train_avg_rbs[features], y_train_avg_rbs, validation_data=(X_test_avg_rbs[features], y_test_avg_rbs), epochs=100, batch_size=32)"
   ]
  },
  {
   "cell_type": "markdown",
   "metadata": {},
   "source": [
    "## Final Year Stats"
   ]
  },
  {
   "cell_type": "code",
   "execution_count": 220,
   "metadata": {
    "scrolled": true
   },
   "outputs": [
    {
     "data": {
      "text/plain": [
       "draft_overall           0\n",
       "draft_round             0\n",
       "draft_year              0\n",
       "player                  0\n",
       "position                0\n",
       "school                  0\n",
       "wins                    0\n",
       "losses                  0\n",
       "rank                    0\n",
       "nfl_team_win_perc       0\n",
       "bench_reps              0\n",
       "broad_jump              0\n",
       "cone                    0\n",
       "forty_yd                0\n",
       "height                  0\n",
       "shuttle                 0\n",
       "vertical                0\n",
       "weight                  0\n",
       "games                   0\n",
       "pass_cmp                0\n",
       "pass_att                0\n",
       "pass_cmp_pct            0\n",
       "pass_yds                0\n",
       "pass_yds_per_att        0\n",
       "adj_pass_yds_per_att    0\n",
       "pass_td                 0\n",
       "pass_int                0\n",
       "pass_rating             0\n",
       "rush_att                0\n",
       "rush_yds                0\n",
       "                       ..\n",
       "nfl_team_Bengals        0\n",
       "nfl_team_Bills          0\n",
       "nfl_team_Broncos        0\n",
       "nfl_team_Browns         0\n",
       "nfl_team_Buccaneers     0\n",
       "nfl_team_Cardinals      0\n",
       "nfl_team_Chargers       0\n",
       "nfl_team_Chiefs         0\n",
       "nfl_team_Colts          0\n",
       "nfl_team_Cowboys        0\n",
       "nfl_team_Dolphins       0\n",
       "nfl_team_Eagles         0\n",
       "nfl_team_Falcons        0\n",
       "nfl_team_Giants         0\n",
       "nfl_team_Jaguars        0\n",
       "nfl_team_Jets           0\n",
       "nfl_team_Lions          0\n",
       "nfl_team_Packers        0\n",
       "nfl_team_Panthers       0\n",
       "nfl_team_Patriots       0\n",
       "nfl_team_Raiders        0\n",
       "nfl_team_Rams           0\n",
       "nfl_team_Ravens         0\n",
       "nfl_team_Redskins       0\n",
       "nfl_team_Saints         0\n",
       "nfl_team_Seahawks       0\n",
       "nfl_team_Steelers       0\n",
       "nfl_team_Texans         0\n",
       "nfl_team_Titans         0\n",
       "nfl_team_Vikings        0\n",
       "Length: 110, dtype: int64"
      ]
     },
     "execution_count": 220,
     "metadata": {},
     "output_type": "execute_result"
    }
   ],
   "source": [
    "fy_rbs.isnull().sum()"
   ]
  },
  {
   "cell_type": "code",
   "execution_count": 77,
   "metadata": {},
   "outputs": [
    {
     "name": "stderr",
     "output_type": "stream",
     "text": [
      "C:\\Users\\aidan\\Anaconda3\\envs\\DSI-6\\lib\\site-packages\\ipykernel_launcher.py:10: SettingWithCopyWarning: \n",
      "A value is trying to be set on a copy of a slice from a DataFrame\n",
      "\n",
      "See the caveats in the documentation: http://pandas.pydata.org/pandas-docs/stable/indexing.html#indexing-view-versus-copy\n",
      "  # Remove the CWD from sys.path while we load stuff.\n",
      "C:\\Users\\aidan\\Anaconda3\\envs\\DSI-6\\lib\\site-packages\\ipykernel_launcher.py:13: SettingWithCopyWarning: \n",
      "A value is trying to be set on a copy of a slice from a DataFrame\n",
      "\n",
      "See the caveats in the documentation: http://pandas.pydata.org/pandas-docs/stable/indexing.html#indexing-view-versus-copy\n",
      "  del sys.path[0]\n",
      "C:\\Users\\aidan\\Anaconda3\\envs\\DSI-6\\lib\\site-packages\\ipykernel_launcher.py:15: SettingWithCopyWarning: \n",
      "A value is trying to be set on a copy of a slice from a DataFrame\n",
      "\n",
      "See the caveats in the documentation: http://pandas.pydata.org/pandas-docs/stable/indexing.html#indexing-view-versus-copy\n",
      "  from ipykernel import kernelapp as app\n"
     ]
    }
   ],
   "source": [
    "fy_rbs.dropna(subset=['wins', 'losses', 'rank','pass_cmp', 'pass_att', 'pass_cmp_pct', 'pass_yds',\n",
    "       'pass_yds_per_att', 'adj_pass_yds_per_att', 'pass_td', 'pass_int',\n",
    "       'pass_rating', 'rush_att', 'rush_yds', 'rush_yds_per_att', 'rush_td',\n",
    "       'rec', 'rec_yds', 'rec_yds_per_rec', 'rec_td', 'scrim_att', 'scrim_yds',\n",
    "       'scrim_yds_per_att', 'scrim_td', 'tackles_solo', 'tackles_assists',\n",
    "       'tackles_total', 'tackles_loss', 'sacks', 'def_int', 'def_int_yds',\n",
    "       'def_int_yds_per_int', 'def_int_td', 'pass_defended',\n",
    "        'fumbles_rec', 'fumbles_rec_yds', 'fumbles_rec_td', 'fumbles_forced',\n",
    "       'punt_ret', 'punt_ret_yds', 'punt_ret_yds_per_ret', 'punt_ret_td',\n",
    "       'kick_ret', 'kick_ret_yds', 'kick_ret_yds_per_ret', 'kick_ret_td'], how='all', inplace=True)\n",
    "\n",
    "fy_rbs.dropna(subset=['bench_reps', 'broad_jump', 'cone', 'forty_yd',\n",
    "                       'height', 'shuttle', 'vertical','weight'], how='all', inplace=True)\n",
    "\n",
    "fy_rbs.dropna(inplace=True)"
   ]
  },
  {
   "cell_type": "code",
   "execution_count": 221,
   "metadata": {},
   "outputs": [
    {
     "data": {
      "text/plain": [
       "0"
      ]
     },
     "execution_count": 221,
     "metadata": {},
     "output_type": "execute_result"
    }
   ],
   "source": [
    "fy_rbs.isnull().sum().sum()"
   ]
  },
  {
   "cell_type": "code",
   "execution_count": 222,
   "metadata": {},
   "outputs": [],
   "source": [
    "X_train_fy_rbs = fy_rbs[fy_rbs['draft_year']<2015]\n",
    "y_train_fy_rbs = fy_rbs[fy_rbs['draft_year']<2015]['avg_grade']\n",
    "X_test_fy_rbs = fy_rbs[fy_rbs['draft_year']>=2015]\n",
    "y_test_fy_rbs = fy_rbs[fy_rbs['draft_year']>=2015]['avg_grade']"
   ]
  },
  {
   "cell_type": "markdown",
   "metadata": {},
   "source": [
    "#### Linear Regression"
   ]
  },
  {
   "cell_type": "code",
   "execution_count": 223,
   "metadata": {},
   "outputs": [
    {
     "data": {
      "text/plain": [
       "-0.9994142514727851"
      ]
     },
     "execution_count": 223,
     "metadata": {},
     "output_type": "execute_result"
    }
   ],
   "source": [
    "lr = LinearRegression()\n",
    "lr.fit(X_train_fy_rbs[features], y_train_fy_rbs)\n",
    "lr_fy_rbs_preds = lr.predict(X_test_fy_rbs[features])\n",
    "\n",
    "r2_score(y_test_fy_rbs, lr_fy_rbs_preds)"
   ]
  },
  {
   "cell_type": "code",
   "execution_count": 224,
   "metadata": {},
   "outputs": [
    {
     "data": {
      "text/plain": [
       "141.93276134625455"
      ]
     },
     "execution_count": 224,
     "metadata": {},
     "output_type": "execute_result"
    }
   ],
   "source": [
    "mean_squared_error(y_test_fy_rbs, lr_fy_rbs_preds)"
   ]
  },
  {
   "cell_type": "markdown",
   "metadata": {},
   "source": [
    "#### Random Forest"
   ]
  },
  {
   "cell_type": "code",
   "execution_count": 225,
   "metadata": {},
   "outputs": [
    {
     "data": {
      "text/plain": [
       "-0.41076198736410774"
      ]
     },
     "execution_count": 225,
     "metadata": {},
     "output_type": "execute_result"
    }
   ],
   "source": [
    "rf_reg = RandomForestRegressor()\n",
    "rf_reg.fit(X_train_fy_rbs[features], y_train_fy_rbs)\n",
    "rf_fy_rbs_preds = rf_reg.predict(X_test_fy_rbs[features])\n",
    "\n",
    "r2_score(y_test_fy_rbs, rf_fy_rbs_preds)"
   ]
  },
  {
   "cell_type": "code",
   "execution_count": 226,
   "metadata": {},
   "outputs": [
    {
     "data": {
      "text/plain": [
       "100.14600242117118"
      ]
     },
     "execution_count": 226,
     "metadata": {},
     "output_type": "execute_result"
    }
   ],
   "source": [
    "mean_squared_error(y_test_fy_rbs, rf_fy_rbs_preds)"
   ]
  },
  {
   "cell_type": "markdown",
   "metadata": {},
   "source": [
    "#### Neural Net"
   ]
  },
  {
   "cell_type": "code",
   "execution_count": 236,
   "metadata": {},
   "outputs": [],
   "source": [
    "np.random.seed(42)\n",
    "rb_model = Sequential()\n",
    "rb_model.add(Dense(X_train_fy_rbs[features].shape[1], input_shape=(X_train_fy_rbs[features].shape[1],), activation='relu'))\n",
    "rb_model.add(Dropout(0.5))\n",
    "rb_model.add(Dense(12, activation='relu'))\n",
    "rb_model.add(Dense(4, activation='relu'))\n",
    "rb_model.add(Dense(1))\n",
    "\n",
    "adam = Adam(lr=0.01)\n",
    "rb_model.compile(loss='mean_squared_error', optimizer=adam)"
   ]
  },
  {
   "cell_type": "code",
   "execution_count": 237,
   "metadata": {
    "scrolled": true
   },
   "outputs": [
    {
     "name": "stdout",
     "output_type": "stream",
     "text": [
      "Train on 136 samples, validate on 37 samples\n",
      "Epoch 1/50\n",
      "136/136 [==============================] - 1s 11ms/step - loss: 4570.8707 - val_loss: 4382.9160\n",
      "Epoch 2/50\n",
      "136/136 [==============================] - 0s 117us/step - loss: 3939.4508 - val_loss: 4376.4457\n",
      "Epoch 3/50\n",
      "136/136 [==============================] - 0s 95us/step - loss: 3255.9775 - val_loss: 834.2177\n",
      "Epoch 4/50\n",
      "136/136 [==============================] - 0s 96us/step - loss: 3278.4636 - val_loss: 2163.6308\n",
      "Epoch 5/50\n",
      "136/136 [==============================] - 0s 87us/step - loss: 1961.4762 - val_loss: 395.1827\n",
      "Epoch 6/50\n",
      "136/136 [==============================] - 0s 109us/step - loss: 1093.1695 - val_loss: 470.3288\n",
      "Epoch 7/50\n",
      "136/136 [==============================] - 0s 132us/step - loss: 768.0262 - val_loss: 322.7208\n",
      "Epoch 8/50\n",
      "136/136 [==============================] - 0s 162us/step - loss: 572.7961 - val_loss: 208.5841\n",
      "Epoch 9/50\n",
      "136/136 [==============================] - 0s 154us/step - loss: 398.0311 - val_loss: 175.3429\n",
      "Epoch 10/50\n",
      "136/136 [==============================] - 0s 141us/step - loss: 445.1316 - val_loss: 129.7164\n",
      "Epoch 11/50\n",
      "136/136 [==============================] - 0s 132us/step - loss: 329.3128 - val_loss: 233.9164\n",
      "Epoch 12/50\n",
      "136/136 [==============================] - 0s 131us/step - loss: 331.7445 - val_loss: 117.1023\n",
      "Epoch 13/50\n",
      "136/136 [==============================] - 0s 139us/step - loss: 372.0611 - val_loss: 157.3092\n",
      "Epoch 14/50\n",
      "136/136 [==============================] - 0s 154us/step - loss: 342.5530 - val_loss: 164.4976\n",
      "Epoch 15/50\n",
      "136/136 [==============================] - 0s 132us/step - loss: 328.0453 - val_loss: 149.4547\n",
      "Epoch 16/50\n",
      "136/136 [==============================] - 0s 131us/step - loss: 237.2833 - val_loss: 143.7057\n",
      "Epoch 17/50\n",
      "136/136 [==============================] - 0s 132us/step - loss: 332.8090 - val_loss: 144.9902\n",
      "Epoch 18/50\n",
      "136/136 [==============================] - 0s 133us/step - loss: 271.4881 - val_loss: 108.1811\n",
      "Epoch 19/50\n",
      "136/136 [==============================] - 0s 132us/step - loss: 257.1396 - val_loss: 192.2296\n",
      "Epoch 20/50\n",
      "136/136 [==============================] - 0s 146us/step - loss: 237.8520 - val_loss: 97.1816\n",
      "Epoch 21/50\n",
      "136/136 [==============================] - 0s 134us/step - loss: 224.0048 - val_loss: 138.1293\n",
      "Epoch 22/50\n",
      "136/136 [==============================] - 0s 124us/step - loss: 249.1688 - val_loss: 203.5218\n",
      "Epoch 23/50\n",
      "136/136 [==============================] - 0s 147us/step - loss: 233.6096 - val_loss: 105.9932\n",
      "Epoch 24/50\n",
      "136/136 [==============================] - 0s 132us/step - loss: 276.6497 - val_loss: 163.3083\n",
      "Epoch 25/50\n",
      "136/136 [==============================] - 0s 125us/step - loss: 235.3343 - val_loss: 131.7295\n",
      "Epoch 26/50\n",
      "136/136 [==============================] - 0s 146us/step - loss: 222.5808 - val_loss: 161.7883\n",
      "Epoch 27/50\n",
      "136/136 [==============================] - 0s 139us/step - loss: 235.0238 - val_loss: 165.9992\n",
      "Epoch 28/50\n",
      "136/136 [==============================] - 0s 132us/step - loss: 201.9317 - val_loss: 157.8345\n",
      "Epoch 29/50\n",
      "136/136 [==============================] - 0s 124us/step - loss: 242.8672 - val_loss: 169.3967\n",
      "Epoch 30/50\n",
      "136/136 [==============================] - 0s 125us/step - loss: 233.2640 - val_loss: 113.8196\n",
      "Epoch 31/50\n",
      "136/136 [==============================] - 0s 132us/step - loss: 206.3367 - val_loss: 165.2045\n",
      "Epoch 32/50\n",
      "136/136 [==============================] - 0s 139us/step - loss: 237.0484 - val_loss: 126.4226\n",
      "Epoch 33/50\n",
      "136/136 [==============================] - 0s 132us/step - loss: 198.6258 - val_loss: 147.6605\n",
      "Epoch 34/50\n",
      "136/136 [==============================] - 0s 132us/step - loss: 226.4646 - val_loss: 121.0530\n",
      "Epoch 35/50\n",
      "136/136 [==============================] - 0s 154us/step - loss: 205.8369 - val_loss: 161.4750\n",
      "Epoch 36/50\n",
      "136/136 [==============================] - 0s 139us/step - loss: 202.7693 - val_loss: 148.7933\n",
      "Epoch 37/50\n",
      "136/136 [==============================] - 0s 140us/step - loss: 159.1720 - val_loss: 170.0358\n",
      "Epoch 38/50\n",
      "136/136 [==============================] - 0s 139us/step - loss: 196.5062 - val_loss: 148.7240\n",
      "Epoch 39/50\n",
      "136/136 [==============================] - 0s 160us/step - loss: 235.5046 - val_loss: 188.1059\n",
      "Epoch 40/50\n",
      "136/136 [==============================] - 0s 132us/step - loss: 266.2100 - val_loss: 95.4290\n",
      "Epoch 41/50\n",
      "136/136 [==============================] - 0s 132us/step - loss: 256.9013 - val_loss: 279.8519\n",
      "Epoch 42/50\n",
      "136/136 [==============================] - 0s 132us/step - loss: 174.6530 - val_loss: 175.4752\n",
      "Epoch 43/50\n",
      "136/136 [==============================] - 0s 139us/step - loss: 234.7776 - val_loss: 172.5080\n",
      "Epoch 44/50\n",
      "136/136 [==============================] - 0s 139us/step - loss: 222.0693 - val_loss: 188.7859\n",
      "Epoch 45/50\n",
      "136/136 [==============================] - 0s 161us/step - loss: 190.4799 - val_loss: 116.9371\n",
      "Epoch 46/50\n",
      "136/136 [==============================] - 0s 139us/step - loss: 195.2418 - val_loss: 196.6352\n",
      "Epoch 47/50\n",
      "136/136 [==============================] - 0s 169us/step - loss: 188.6281 - val_loss: 84.2492\n",
      "Epoch 48/50\n",
      "136/136 [==============================] - 0s 132us/step - loss: 222.6945 - val_loss: 201.3794\n",
      "Epoch 49/50\n",
      "136/136 [==============================] - 0s 154us/step - loss: 203.0520 - val_loss: 215.5146\n",
      "Epoch 50/50\n",
      "136/136 [==============================] - 0s 154us/step - loss: 189.2677 - val_loss: 117.1084\n"
     ]
    },
    {
     "data": {
      "text/plain": [
       "<keras.callbacks.History at 0x27e8529f358>"
      ]
     },
     "execution_count": 237,
     "metadata": {},
     "output_type": "execute_result"
    }
   ],
   "source": [
    "rb_model.fit(X_train_fy_rbs[features], y_train_fy_rbs, validation_data=(X_test_fy_rbs[features], y_test_fy_rbs), epochs=50, batch_size=32)"
   ]
  },
  {
   "cell_type": "code",
   "execution_count": 240,
   "metadata": {},
   "outputs": [],
   "source": [
    "rb_results = pd.DataFrame()\n",
    "rb_results['player'] = fy_rbs['player']\n",
    "rb_results['grade'] = fy_rbs['avg_grade']\n",
    "rb_results['pred_grade'] = rb_model.predict(fy_rbs[features])"
   ]
  },
  {
   "cell_type": "code",
   "execution_count": 241,
   "metadata": {
    "scrolled": true
   },
   "outputs": [
    {
     "data": {
      "text/html": [
       "<div>\n",
       "<style scoped>\n",
       "    .dataframe tbody tr th:only-of-type {\n",
       "        vertical-align: middle;\n",
       "    }\n",
       "\n",
       "    .dataframe tbody tr th {\n",
       "        vertical-align: top;\n",
       "    }\n",
       "\n",
       "    .dataframe thead th {\n",
       "        text-align: right;\n",
       "    }\n",
       "</style>\n",
       "<table border=\"1\" class=\"dataframe\">\n",
       "  <thead>\n",
       "    <tr style=\"text-align: right;\">\n",
       "      <th></th>\n",
       "      <th>player</th>\n",
       "      <th>grade</th>\n",
       "      <th>pred_grade</th>\n",
       "    </tr>\n",
       "  </thead>\n",
       "  <tbody>\n",
       "    <tr>\n",
       "      <th>1</th>\n",
       "      <td>Reggie Bush</td>\n",
       "      <td>61.325000</td>\n",
       "      <td>54.654095</td>\n",
       "    </tr>\n",
       "    <tr>\n",
       "      <th>19</th>\n",
       "      <td>Laurence Maroney</td>\n",
       "      <td>59.066667</td>\n",
       "      <td>56.539730</td>\n",
       "    </tr>\n",
       "    <tr>\n",
       "      <th>23</th>\n",
       "      <td>DeAngelo Williams</td>\n",
       "      <td>68.725000</td>\n",
       "      <td>58.884857</td>\n",
       "    </tr>\n",
       "    <tr>\n",
       "      <th>25</th>\n",
       "      <td>Joseph Addai</td>\n",
       "      <td>69.150000</td>\n",
       "      <td>57.417667</td>\n",
       "    </tr>\n",
       "    <tr>\n",
       "      <th>54</th>\n",
       "      <td>Brian Calhoun</td>\n",
       "      <td>44.100000</td>\n",
       "      <td>56.725060</td>\n",
       "    </tr>\n",
       "    <tr>\n",
       "      <th>58</th>\n",
       "      <td>Jerious Norwood</td>\n",
       "      <td>66.250000</td>\n",
       "      <td>55.433113</td>\n",
       "    </tr>\n",
       "    <tr>\n",
       "      <th>87</th>\n",
       "      <td>Leon Washington</td>\n",
       "      <td>63.000000</td>\n",
       "      <td>53.571114</td>\n",
       "    </tr>\n",
       "    <tr>\n",
       "      <th>107</th>\n",
       "      <td>Jerome Harrison</td>\n",
       "      <td>66.225000</td>\n",
       "      <td>57.159081</td>\n",
       "    </tr>\n",
       "    <tr>\n",
       "      <th>126</th>\n",
       "      <td>Wali Lundy</td>\n",
       "      <td>50.500000</td>\n",
       "      <td>54.420254</td>\n",
       "    </tr>\n",
       "    <tr>\n",
       "      <th>131</th>\n",
       "      <td>Lawrence Vickers</td>\n",
       "      <td>63.333333</td>\n",
       "      <td>59.669373</td>\n",
       "    </tr>\n",
       "    <tr>\n",
       "      <th>170</th>\n",
       "      <td>Quinton Ganther</td>\n",
       "      <td>56.700000</td>\n",
       "      <td>55.943825</td>\n",
       "    </tr>\n",
       "    <tr>\n",
       "      <th>180</th>\n",
       "      <td>Adrian Peterson</td>\n",
       "      <td>76.525000</td>\n",
       "      <td>59.035404</td>\n",
       "    </tr>\n",
       "    <tr>\n",
       "      <th>185</th>\n",
       "      <td>Marshawn Lynch</td>\n",
       "      <td>67.900000</td>\n",
       "      <td>59.045105</td>\n",
       "    </tr>\n",
       "    <tr>\n",
       "      <th>217</th>\n",
       "      <td>Chris Henry</td>\n",
       "      <td>60.600000</td>\n",
       "      <td>57.875992</td>\n",
       "    </tr>\n",
       "    <tr>\n",
       "      <th>219</th>\n",
       "      <td>Brian Leonard</td>\n",
       "      <td>61.766667</td>\n",
       "      <td>57.370544</td>\n",
       "    </tr>\n",
       "    <tr>\n",
       "      <th>228</th>\n",
       "      <td>Brandon Jackson</td>\n",
       "      <td>64.800000</td>\n",
       "      <td>57.713390</td>\n",
       "    </tr>\n",
       "    <tr>\n",
       "      <th>234</th>\n",
       "      <td>Lorenzo Booker</td>\n",
       "      <td>57.850000</td>\n",
       "      <td>54.206867</td>\n",
       "    </tr>\n",
       "    <tr>\n",
       "      <th>248</th>\n",
       "      <td>Tony Hunt</td>\n",
       "      <td>51.650000</td>\n",
       "      <td>57.079220</td>\n",
       "    </tr>\n",
       "    <tr>\n",
       "      <th>250</th>\n",
       "      <td>Garrett Wolfe</td>\n",
       "      <td>50.200000</td>\n",
       "      <td>53.663715</td>\n",
       "    </tr>\n",
       "    <tr>\n",
       "      <th>255</th>\n",
       "      <td>Michael Bush</td>\n",
       "      <td>60.733333</td>\n",
       "      <td>55.589813</td>\n",
       "    </tr>\n",
       "    <tr>\n",
       "      <th>261</th>\n",
       "      <td>Antonio Pittman</td>\n",
       "      <td>53.200000</td>\n",
       "      <td>54.784676</td>\n",
       "    </tr>\n",
       "    <tr>\n",
       "      <th>265</th>\n",
       "      <td>Dwayne Wright</td>\n",
       "      <td>39.900000</td>\n",
       "      <td>59.043205</td>\n",
       "    </tr>\n",
       "    <tr>\n",
       "      <th>282</th>\n",
       "      <td>Le'Ron McClain</td>\n",
       "      <td>58.400000</td>\n",
       "      <td>63.419106</td>\n",
       "    </tr>\n",
       "    <tr>\n",
       "      <th>290</th>\n",
       "      <td>Kolby Smith</td>\n",
       "      <td>59.650000</td>\n",
       "      <td>56.650894</td>\n",
       "    </tr>\n",
       "    <tr>\n",
       "      <th>318</th>\n",
       "      <td>Deon Anderson</td>\n",
       "      <td>66.600000</td>\n",
       "      <td>60.361729</td>\n",
       "    </tr>\n",
       "    <tr>\n",
       "      <th>350</th>\n",
       "      <td>Jason Snelling</td>\n",
       "      <td>56.500000</td>\n",
       "      <td>58.289631</td>\n",
       "    </tr>\n",
       "    <tr>\n",
       "      <th>352</th>\n",
       "      <td>Kenneth Darby</td>\n",
       "      <td>57.433333</td>\n",
       "      <td>54.733456</td>\n",
       "    </tr>\n",
       "    <tr>\n",
       "      <th>354</th>\n",
       "      <td>Ahmad Bradshaw</td>\n",
       "      <td>65.900000</td>\n",
       "      <td>54.434074</td>\n",
       "    </tr>\n",
       "    <tr>\n",
       "      <th>360</th>\n",
       "      <td>Darren McFadden</td>\n",
       "      <td>63.750000</td>\n",
       "      <td>59.201553</td>\n",
       "    </tr>\n",
       "    <tr>\n",
       "      <th>368</th>\n",
       "      <td>Jonathan Stewart</td>\n",
       "      <td>69.900000</td>\n",
       "      <td>61.964588</td>\n",
       "    </tr>\n",
       "    <tr>\n",
       "      <th>...</th>\n",
       "      <td>...</td>\n",
       "      <td>...</td>\n",
       "      <td>...</td>\n",
       "    </tr>\n",
       "    <tr>\n",
       "      <th>1691</th>\n",
       "      <td>Javorius Allen</td>\n",
       "      <td>63.600000</td>\n",
       "      <td>58.369930</td>\n",
       "    </tr>\n",
       "    <tr>\n",
       "      <th>1692</th>\n",
       "      <td>Mike Davis</td>\n",
       "      <td>59.250000</td>\n",
       "      <td>56.777199</td>\n",
       "    </tr>\n",
       "    <tr>\n",
       "      <th>1697</th>\n",
       "      <td>David Cobb</td>\n",
       "      <td>55.800000</td>\n",
       "      <td>59.800770</td>\n",
       "    </tr>\n",
       "    <tr>\n",
       "      <th>1705</th>\n",
       "      <td>Jay Ajayi</td>\n",
       "      <td>74.233333</td>\n",
       "      <td>60.689133</td>\n",
       "    </tr>\n",
       "    <tr>\n",
       "      <th>1707</th>\n",
       "      <td>Karlos Williams</td>\n",
       "      <td>76.000000</td>\n",
       "      <td>59.896946</td>\n",
       "    </tr>\n",
       "    <tr>\n",
       "      <th>1717</th>\n",
       "      <td>Michael Burton</td>\n",
       "      <td>68.100000</td>\n",
       "      <td>61.814449</td>\n",
       "    </tr>\n",
       "    <tr>\n",
       "      <th>1719</th>\n",
       "      <td>Cameron Artis-Payne</td>\n",
       "      <td>68.833333</td>\n",
       "      <td>56.833229</td>\n",
       "    </tr>\n",
       "    <tr>\n",
       "      <th>1755</th>\n",
       "      <td>Marcus Murphy</td>\n",
       "      <td>54.400000</td>\n",
       "      <td>56.106461</td>\n",
       "    </tr>\n",
       "    <tr>\n",
       "      <th>1770</th>\n",
       "      <td>Ezekiel Elliott</td>\n",
       "      <td>72.733333</td>\n",
       "      <td>59.882938</td>\n",
       "    </tr>\n",
       "    <tr>\n",
       "      <th>1804</th>\n",
       "      <td>Derrick Henry</td>\n",
       "      <td>75.333333</td>\n",
       "      <td>64.745056</td>\n",
       "    </tr>\n",
       "    <tr>\n",
       "      <th>1827</th>\n",
       "      <td>Kenyan Drake</td>\n",
       "      <td>69.800000</td>\n",
       "      <td>60.662102</td>\n",
       "    </tr>\n",
       "    <tr>\n",
       "      <th>1839</th>\n",
       "      <td>C.J. Prosise</td>\n",
       "      <td>66.850000</td>\n",
       "      <td>57.513256</td>\n",
       "    </tr>\n",
       "    <tr>\n",
       "      <th>1863</th>\n",
       "      <td>Tyler Ervin</td>\n",
       "      <td>49.200000</td>\n",
       "      <td>56.318237</td>\n",
       "    </tr>\n",
       "    <tr>\n",
       "      <th>1872</th>\n",
       "      <td>Kenneth Dixon</td>\n",
       "      <td>72.700000</td>\n",
       "      <td>56.815289</td>\n",
       "    </tr>\n",
       "    <tr>\n",
       "      <th>1874</th>\n",
       "      <td>Devontae Booker</td>\n",
       "      <td>61.933333</td>\n",
       "      <td>53.877506</td>\n",
       "    </tr>\n",
       "    <tr>\n",
       "      <th>1882</th>\n",
       "      <td>Paul Perkins</td>\n",
       "      <td>54.250000</td>\n",
       "      <td>55.753952</td>\n",
       "    </tr>\n",
       "    <tr>\n",
       "      <th>1883</th>\n",
       "      <td>Jordan Howard</td>\n",
       "      <td>68.866667</td>\n",
       "      <td>58.545074</td>\n",
       "    </tr>\n",
       "    <tr>\n",
       "      <th>1885</th>\n",
       "      <td>Wendell Smallwood</td>\n",
       "      <td>54.266667</td>\n",
       "      <td>56.052948</td>\n",
       "    </tr>\n",
       "    <tr>\n",
       "      <th>1894</th>\n",
       "      <td>Alex Collins</td>\n",
       "      <td>68.866667</td>\n",
       "      <td>62.031986</td>\n",
       "    </tr>\n",
       "    <tr>\n",
       "      <th>1898</th>\n",
       "      <td>Andy Janovich</td>\n",
       "      <td>67.000000</td>\n",
       "      <td>61.616871</td>\n",
       "    </tr>\n",
       "    <tr>\n",
       "      <th>1938</th>\n",
       "      <td>Daniel Lasco</td>\n",
       "      <td>54.700000</td>\n",
       "      <td>54.378632</td>\n",
       "    </tr>\n",
       "    <tr>\n",
       "      <th>1959</th>\n",
       "      <td>Christian McCaffrey</td>\n",
       "      <td>78.450000</td>\n",
       "      <td>55.663265</td>\n",
       "    </tr>\n",
       "    <tr>\n",
       "      <th>1988</th>\n",
       "      <td>Dalvin Cook</td>\n",
       "      <td>73.100000</td>\n",
       "      <td>57.147266</td>\n",
       "    </tr>\n",
       "    <tr>\n",
       "      <th>2047</th>\n",
       "      <td>Samaje Perine</td>\n",
       "      <td>58.500000</td>\n",
       "      <td>58.647648</td>\n",
       "    </tr>\n",
       "    <tr>\n",
       "      <th>2065</th>\n",
       "      <td>Wayne Gallman</td>\n",
       "      <td>64.050000</td>\n",
       "      <td>56.822414</td>\n",
       "    </tr>\n",
       "    <tr>\n",
       "      <th>2078</th>\n",
       "      <td>Brian Hill</td>\n",
       "      <td>70.100000</td>\n",
       "      <td>62.654366</td>\n",
       "    </tr>\n",
       "    <tr>\n",
       "      <th>2174</th>\n",
       "      <td>Nick Chubb</td>\n",
       "      <td>87.500000</td>\n",
       "      <td>58.423512</td>\n",
       "    </tr>\n",
       "    <tr>\n",
       "      <th>2202</th>\n",
       "      <td>Royce Freeman</td>\n",
       "      <td>63.800000</td>\n",
       "      <td>59.175064</td>\n",
       "    </tr>\n",
       "    <tr>\n",
       "      <th>2249</th>\n",
       "      <td>Kalen Ballage</td>\n",
       "      <td>57.400000</td>\n",
       "      <td>59.953625</td>\n",
       "    </tr>\n",
       "    <tr>\n",
       "      <th>2336</th>\n",
       "      <td>Justin Jackson</td>\n",
       "      <td>77.200000</td>\n",
       "      <td>54.662949</td>\n",
       "    </tr>\n",
       "  </tbody>\n",
       "</table>\n",
       "<p>173 rows × 3 columns</p>\n",
       "</div>"
      ],
      "text/plain": [
       "                   player      grade  pred_grade\n",
       "1             Reggie Bush  61.325000   54.654095\n",
       "19       Laurence Maroney  59.066667   56.539730\n",
       "23      DeAngelo Williams  68.725000   58.884857\n",
       "25           Joseph Addai  69.150000   57.417667\n",
       "54          Brian Calhoun  44.100000   56.725060\n",
       "58        Jerious Norwood  66.250000   55.433113\n",
       "87        Leon Washington  63.000000   53.571114\n",
       "107       Jerome Harrison  66.225000   57.159081\n",
       "126            Wali Lundy  50.500000   54.420254\n",
       "131      Lawrence Vickers  63.333333   59.669373\n",
       "170       Quinton Ganther  56.700000   55.943825\n",
       "180       Adrian Peterson  76.525000   59.035404\n",
       "185        Marshawn Lynch  67.900000   59.045105\n",
       "217           Chris Henry  60.600000   57.875992\n",
       "219         Brian Leonard  61.766667   57.370544\n",
       "228       Brandon Jackson  64.800000   57.713390\n",
       "234        Lorenzo Booker  57.850000   54.206867\n",
       "248             Tony Hunt  51.650000   57.079220\n",
       "250         Garrett Wolfe  50.200000   53.663715\n",
       "255          Michael Bush  60.733333   55.589813\n",
       "261       Antonio Pittman  53.200000   54.784676\n",
       "265         Dwayne Wright  39.900000   59.043205\n",
       "282        Le'Ron McClain  58.400000   63.419106\n",
       "290           Kolby Smith  59.650000   56.650894\n",
       "318         Deon Anderson  66.600000   60.361729\n",
       "350        Jason Snelling  56.500000   58.289631\n",
       "352         Kenneth Darby  57.433333   54.733456\n",
       "354        Ahmad Bradshaw  65.900000   54.434074\n",
       "360       Darren McFadden  63.750000   59.201553\n",
       "368      Jonathan Stewart  69.900000   61.964588\n",
       "...                   ...        ...         ...\n",
       "1691       Javorius Allen  63.600000   58.369930\n",
       "1692           Mike Davis  59.250000   56.777199\n",
       "1697           David Cobb  55.800000   59.800770\n",
       "1705            Jay Ajayi  74.233333   60.689133\n",
       "1707      Karlos Williams  76.000000   59.896946\n",
       "1717       Michael Burton  68.100000   61.814449\n",
       "1719  Cameron Artis-Payne  68.833333   56.833229\n",
       "1755        Marcus Murphy  54.400000   56.106461\n",
       "1770      Ezekiel Elliott  72.733333   59.882938\n",
       "1804        Derrick Henry  75.333333   64.745056\n",
       "1827         Kenyan Drake  69.800000   60.662102\n",
       "1839         C.J. Prosise  66.850000   57.513256\n",
       "1863          Tyler Ervin  49.200000   56.318237\n",
       "1872        Kenneth Dixon  72.700000   56.815289\n",
       "1874      Devontae Booker  61.933333   53.877506\n",
       "1882         Paul Perkins  54.250000   55.753952\n",
       "1883        Jordan Howard  68.866667   58.545074\n",
       "1885    Wendell Smallwood  54.266667   56.052948\n",
       "1894         Alex Collins  68.866667   62.031986\n",
       "1898        Andy Janovich  67.000000   61.616871\n",
       "1938         Daniel Lasco  54.700000   54.378632\n",
       "1959  Christian McCaffrey  78.450000   55.663265\n",
       "1988          Dalvin Cook  73.100000   57.147266\n",
       "2047        Samaje Perine  58.500000   58.647648\n",
       "2065        Wayne Gallman  64.050000   56.822414\n",
       "2078           Brian Hill  70.100000   62.654366\n",
       "2174           Nick Chubb  87.500000   58.423512\n",
       "2202        Royce Freeman  63.800000   59.175064\n",
       "2249        Kalen Ballage  57.400000   59.953625\n",
       "2336       Justin Jackson  77.200000   54.662949\n",
       "\n",
       "[173 rows x 3 columns]"
      ]
     },
     "execution_count": 241,
     "metadata": {},
     "output_type": "execute_result"
    }
   ],
   "source": [
    "rb_results"
   ]
  },
  {
   "cell_type": "code",
   "execution_count": 365,
   "metadata": {},
   "outputs": [
    {
     "data": {
      "image/png": "[encoded data removed]",
      "text/plain": [
       "<Figure size 720x576 with 1 Axes>"
      ]
     },
     "metadata": {
      "needs_background": "light"
     },
     "output_type": "display_data"
    }
   ],
   "source": [
    "fig = plt.figure(figsize=(10, 8))\n",
    "plt.title('Running Backs - Residual Distribution')\n",
    "sns.distplot(rb_results['grade'] - rb_results['pred_grade'])\n",
    "fig.savefig('../visuals/RunningBacks.jpeg');"
   ]
  },
  {
   "cell_type": "markdown",
   "metadata": {},
   "source": [
    "# Receiver"
   ]
  },
  {
   "cell_type": "code",
   "execution_count": 243,
   "metadata": {},
   "outputs": [],
   "source": [
    "avg_recs = avg_players[(avg_players['position']=='WR') | (avg_players['position']=='TE')]\n",
    "fy_recs = final_year_players[(final_year_players['position']=='WR') | (final_year_players['position']=='TE')]"
   ]
  },
  {
   "cell_type": "markdown",
   "metadata": {},
   "source": [
    "## Average Statistics"
   ]
  },
  {
   "cell_type": "code",
   "execution_count": 244,
   "metadata": {
    "scrolled": true
   },
   "outputs": [
    {
     "data": {
      "text/plain": [
       "draft_overall            0\n",
       "draft_round              0\n",
       "draft_year               0\n",
       "player                   0\n",
       "position                 0\n",
       "school                   0\n",
       "wins                    13\n",
       "losses                  13\n",
       "rank                    13\n",
       "nfl_team_win_perc        0\n",
       "bench_reps              55\n",
       "broad_jump              48\n",
       "cone                    56\n",
       "forty_yd                48\n",
       "height                  40\n",
       "shuttle                 55\n",
       "vertical                48\n",
       "weight                  40\n",
       "games                   13\n",
       "pass_cmp                13\n",
       "pass_att                13\n",
       "pass_cmp_pct            13\n",
       "pass_yds                13\n",
       "pass_yds_per_att        13\n",
       "adj_pass_yds_per_att    13\n",
       "pass_td                 13\n",
       "pass_int                13\n",
       "pass_rating             13\n",
       "rush_att                13\n",
       "rush_yds                13\n",
       "rush_yds_per_att        13\n",
       "rush_td                 13\n",
       "rec                     13\n",
       "rec_yds                 13\n",
       "rec_yds_per_rec         13\n",
       "rec_td                  13\n",
       "scrim_att               13\n",
       "scrim_yds               13\n",
       "scrim_yds_per_att       13\n",
       "scrim_td                13\n",
       "tackles_solo            13\n",
       "tackles_assists         13\n",
       "tackles_total           13\n",
       "tackles_loss            13\n",
       "sacks                   13\n",
       "def_int                 13\n",
       "def_int_yds             13\n",
       "def_int_yds_per_int     13\n",
       "def_int_td              13\n",
       "pass_defended           13\n",
       "dtype: int64"
      ]
     },
     "execution_count": 244,
     "metadata": {},
     "output_type": "execute_result"
    }
   ],
   "source": [
    "avg_recs.isnull().sum()[:50]"
   ]
  },
  {
   "cell_type": "code",
   "execution_count": 245,
   "metadata": {
    "scrolled": true
   },
   "outputs": [
    {
     "data": {
      "text/plain": [
       "fumbles_rec             13\n",
       "fumbles_rec_yds         13\n",
       "fumbles_rec_td          13\n",
       "fumbles_forced          13\n",
       "punt_ret                13\n",
       "punt_ret_yds            13\n",
       "punt_ret_yds_per_ret    13\n",
       "punt_ret_td             13\n",
       "kick_ret                13\n",
       "kick_ret_yds            13\n",
       "kick_ret_yds_per_ret    13\n",
       "kick_ret_td             13\n",
       "avg_grade                0\n",
       "conference_ACC           0\n",
       "conference_American      0\n",
       "conference_Big 12        0\n",
       "conference_Big East      0\n",
       "conference_Big Ten       0\n",
       "conference_CUSA          0\n",
       "conference_Ind           0\n",
       "conference_MAC           0\n",
       "conference_MVC           0\n",
       "conference_MWC           0\n",
       "conference_Pac-10        0\n",
       "conference_Pac-12        0\n",
       "conference_SEC           0\n",
       "conference_Sun Belt      0\n",
       "conference_WAC           0\n",
       "nfl_team_49ers           0\n",
       "nfl_team_Bears           0\n",
       "nfl_team_Bengals         0\n",
       "nfl_team_Bills           0\n",
       "nfl_team_Broncos         0\n",
       "nfl_team_Browns          0\n",
       "nfl_team_Buccaneers      0\n",
       "nfl_team_Cardinals       0\n",
       "nfl_team_Chargers        0\n",
       "nfl_team_Chiefs          0\n",
       "nfl_team_Colts           0\n",
       "nfl_team_Cowboys         0\n",
       "nfl_team_Dolphins        0\n",
       "nfl_team_Eagles          0\n",
       "nfl_team_Falcons         0\n",
       "nfl_team_Giants          0\n",
       "nfl_team_Jaguars         0\n",
       "nfl_team_Jets            0\n",
       "nfl_team_Lions           0\n",
       "nfl_team_Packers         0\n",
       "nfl_team_Panthers        0\n",
       "nfl_team_Patriots        0\n",
       "nfl_team_Raiders         0\n",
       "nfl_team_Rams            0\n",
       "nfl_team_Ravens          0\n",
       "nfl_team_Redskins        0\n",
       "nfl_team_Saints          0\n",
       "nfl_team_Seahawks        0\n",
       "nfl_team_Steelers        0\n",
       "nfl_team_Texans          0\n",
       "nfl_team_Titans          0\n",
       "nfl_team_Vikings         0\n",
       "dtype: int64"
      ]
     },
     "execution_count": 245,
     "metadata": {},
     "output_type": "execute_result"
    }
   ],
   "source": [
    "avg_recs.isnull().sum()[50:]"
   ]
  },
  {
   "cell_type": "code",
   "execution_count": 246,
   "metadata": {},
   "outputs": [
    {
     "data": {
      "text/plain": [
       "410"
      ]
     },
     "execution_count": 246,
     "metadata": {},
     "output_type": "execute_result"
    }
   ],
   "source": [
    "len(avg_recs)"
   ]
  },
  {
   "cell_type": "code",
   "execution_count": 247,
   "metadata": {},
   "outputs": [
    {
     "data": {
      "text/plain": [
       "Index(['draft_overall', 'draft_round', 'draft_year', 'player', 'position',\n",
       "       'school', 'wins', 'losses', 'rank', 'nfl_team_win_perc', 'bench_reps',\n",
       "       'broad_jump', 'cone', 'forty_yd', 'height', 'shuttle', 'vertical',\n",
       "       'weight', 'games', 'pass_cmp', 'pass_att', 'pass_cmp_pct', 'pass_yds',\n",
       "       'pass_yds_per_att', 'adj_pass_yds_per_att', 'pass_td', 'pass_int',\n",
       "       'pass_rating', 'rush_att', 'rush_yds', 'rush_yds_per_att', 'rush_td',\n",
       "       'rec', 'rec_yds', 'rec_yds_per_rec', 'rec_td', 'scrim_att', 'scrim_yds',\n",
       "       'scrim_yds_per_att', 'scrim_td', 'tackles_solo', 'tackles_assists',\n",
       "       'tackles_total', 'tackles_loss', 'sacks', 'def_int', 'def_int_yds',\n",
       "       'def_int_yds_per_int', 'def_int_td', 'pass_defended'],\n",
       "      dtype='object')"
      ]
     },
     "execution_count": 247,
     "metadata": {},
     "output_type": "execute_result"
    }
   ],
   "source": [
    "avg_recs.columns[:50]"
   ]
  },
  {
   "cell_type": "code",
   "execution_count": 248,
   "metadata": {},
   "outputs": [
    {
     "data": {
      "text/plain": [
       "Index(['fumbles_rec', 'fumbles_rec_yds', 'fumbles_rec_td', 'fumbles_forced',\n",
       "       'punt_ret', 'punt_ret_yds', 'punt_ret_yds_per_ret', 'punt_ret_td',\n",
       "       'kick_ret', 'kick_ret_yds', 'kick_ret_yds_per_ret', 'kick_ret_td',\n",
       "       'avg_grade', 'conference_ACC', 'conference_American',\n",
       "       'conference_Big 12', 'conference_Big East', 'conference_Big Ten',\n",
       "       'conference_CUSA', 'conference_Ind', 'conference_MAC', 'conference_MVC',\n",
       "       'conference_MWC', 'conference_Pac-10', 'conference_Pac-12',\n",
       "       'conference_SEC', 'conference_Sun Belt', 'conference_WAC',\n",
       "       'nfl_team_49ers', 'nfl_team_Bears', 'nfl_team_Bengals',\n",
       "       'nfl_team_Bills', 'nfl_team_Broncos', 'nfl_team_Browns',\n",
       "       'nfl_team_Buccaneers', 'nfl_team_Cardinals', 'nfl_team_Chargers',\n",
       "       'nfl_team_Chiefs', 'nfl_team_Colts', 'nfl_team_Cowboys',\n",
       "       'nfl_team_Dolphins', 'nfl_team_Eagles', 'nfl_team_Falcons',\n",
       "       'nfl_team_Giants', 'nfl_team_Jaguars', 'nfl_team_Jets',\n",
       "       'nfl_team_Lions', 'nfl_team_Packers', 'nfl_team_Panthers',\n",
       "       'nfl_team_Patriots', 'nfl_team_Raiders', 'nfl_team_Rams',\n",
       "       'nfl_team_Ravens', 'nfl_team_Redskins', 'nfl_team_Saints',\n",
       "       'nfl_team_Seahawks', 'nfl_team_Steelers', 'nfl_team_Texans',\n",
       "       'nfl_team_Titans', 'nfl_team_Vikings'],\n",
       "      dtype='object')"
      ]
     },
     "execution_count": 248,
     "metadata": {},
     "output_type": "execute_result"
    }
   ],
   "source": [
    "avg_recs.columns[50:]"
   ]
  },
  {
   "cell_type": "code",
   "execution_count": 249,
   "metadata": {},
   "outputs": [
    {
     "name": "stderr",
     "output_type": "stream",
     "text": [
      "C:\\Users\\aidan\\Anaconda3\\envs\\DSI-6\\lib\\site-packages\\ipykernel_launcher.py:6: SettingWithCopyWarning: \n",
      "A value is trying to be set on a copy of a slice from a DataFrame\n",
      "\n",
      "See the caveats in the documentation: http://pandas.pydata.org/pandas-docs/stable/indexing.html#indexing-view-versus-copy\n",
      "  \n",
      "C:\\Users\\aidan\\Anaconda3\\envs\\DSI-6\\lib\\site-packages\\ipykernel_launcher.py:10: SettingWithCopyWarning: \n",
      "A value is trying to be set on a copy of a slice from a DataFrame\n",
      "\n",
      "See the caveats in the documentation: http://pandas.pydata.org/pandas-docs/stable/indexing.html#indexing-view-versus-copy\n",
      "  # Remove the CWD from sys.path while we load stuff.\n",
      "C:\\Users\\aidan\\Anaconda3\\envs\\DSI-6\\lib\\site-packages\\ipykernel_launcher.py:12: SettingWithCopyWarning: \n",
      "A value is trying to be set on a copy of a slice from a DataFrame\n",
      "\n",
      "See the caveats in the documentation: http://pandas.pydata.org/pandas-docs/stable/indexing.html#indexing-view-versus-copy\n",
      "  if sys.path[0] == '':\n"
     ]
    }
   ],
   "source": [
    "avg_recs.dropna(subset=['wins', 'losses', 'rank', 'games', 'pass_cmp', 'pass_att', 'pass_cmp_pct', 'pass_yds',\n",
    "       'pass_yds_per_att', 'adj_pass_yds_per_att', 'pass_td', 'pass_int',\n",
    "       'pass_rating', 'rush_att', 'rush_yds', 'rush_yds_per_att', 'rush_td',\n",
    "       'rec', 'rec_yds', 'rec_yds_per_rec', 'rec_td', 'scrim_att', 'scrim_yds',\n",
    "       'scrim_yds_per_att', 'scrim_td', 'punt_ret', 'punt_ret_yds', 'punt_ret_yds_per_ret', 'punt_ret_td',\n",
    "       'kick_ret', 'kick_ret_yds', 'kick_ret_yds_per_ret', 'kick_ret_td'], how='all', inplace=True)\n",
    "\n",
    "avg_recs.dropna(subset=['bench_reps',\n",
    "       'broad_jump', 'cone', 'forty_yd', 'height', 'shuttle', 'vertical',\n",
    "       'weight'], how='all', inplace=True)\n",
    "\n",
    "avg_recs.dropna(inplace=True)"
   ]
  },
  {
   "cell_type": "code",
   "execution_count": 250,
   "metadata": {},
   "outputs": [
    {
     "data": {
      "text/plain": [
       "0"
      ]
     },
     "execution_count": 250,
     "metadata": {},
     "output_type": "execute_result"
    }
   ],
   "source": [
    "avg_recs.isnull().sum().sum()"
   ]
  },
  {
   "cell_type": "code",
   "execution_count": 251,
   "metadata": {},
   "outputs": [],
   "source": [
    "features = [\n",
    "#     'draft_overall', 'draft_round', 'draft_year', \n",
    "            'wins', 'losses', 'rank', 'nfl_team_win_perc', \n",
    "    'broad_jump', 'cone', 'forty_yd', 'height', 'shuttle', 'vertical', 'weight', 'games',\n",
    "       'rush_att', 'rush_yds', 'rush_yds_per_att', 'rush_td',\n",
    "       'rec', 'rec_yds', 'rec_yds_per_rec', 'rec_td', \n",
    "#     'scrim_att', 'scrim_yds', 'scrim_yds_per_att', 'scrim_td',\n",
    "    'punt_ret', 'punt_ret_yds', 'punt_ret_yds_per_ret', 'punt_ret_td',\n",
    "       'kick_ret', 'kick_ret_yds', 'kick_ret_yds_per_ret', 'kick_ret_td',\n",
    "           'conference_ACC', 'conference_American', 'conference_Big 12',\n",
    "       'conference_Big East', 'conference_Big Ten', 'conference_CUSA',\n",
    "       'conference_Ind', 'conference_MAC', 'conference_MVC', 'conference_MWC',\n",
    "       'conference_Pac-10', 'conference_Pac-12', 'conference_SEC',\n",
    "       'conference_Sun Belt', 'conference_WAC', 'nfl_team_49ers',\n",
    "       'nfl_team_Bears', 'nfl_team_Bengals', 'nfl_team_Bills',\n",
    "       'nfl_team_Broncos', 'nfl_team_Browns', 'nfl_team_Buccaneers',\n",
    "       'nfl_team_Cardinals', 'nfl_team_Chargers', 'nfl_team_Chiefs',\n",
    "       'nfl_team_Colts', 'nfl_team_Cowboys', 'nfl_team_Dolphins',\n",
    "       'nfl_team_Eagles', 'nfl_team_Falcons', 'nfl_team_Giants',\n",
    "       'nfl_team_Jaguars', 'nfl_team_Jets', 'nfl_team_Lions',\n",
    "       'nfl_team_Packers', 'nfl_team_Panthers', 'nfl_team_Patriots',\n",
    "       'nfl_team_Raiders', 'nfl_team_Rams', 'nfl_team_Ravens',\n",
    "       'nfl_team_Redskins', 'nfl_team_Saints', 'nfl_team_Seahawks',\n",
    "       'nfl_team_Steelers', 'nfl_team_Texans', 'nfl_team_Titans',\n",
    "       'nfl_team_Vikings']"
   ]
  },
  {
   "cell_type": "code",
   "execution_count": 252,
   "metadata": {},
   "outputs": [],
   "source": [
    "X_train_avg_recs = avg_recs[avg_recs['draft_year']<2015]\n",
    "y_train_avg_recs = avg_recs[avg_recs['draft_year']<2015]['avg_grade']\n",
    "X_test_avg_recs = avg_recs[avg_recs['draft_year']>=2015]\n",
    "y_test_avg_recs = avg_recs[avg_recs['draft_year']>=2015]['avg_grade']"
   ]
  },
  {
   "cell_type": "markdown",
   "metadata": {},
   "source": [
    "#### Linear Regression"
   ]
  },
  {
   "cell_type": "code",
   "execution_count": 253,
   "metadata": {},
   "outputs": [
    {
     "data": {
      "text/plain": [
       "-0.41050623840158984"
      ]
     },
     "execution_count": 253,
     "metadata": {},
     "output_type": "execute_result"
    }
   ],
   "source": [
    "lr = LinearRegression()\n",
    "lr.fit(X_train_avg_recs[features], y_train_avg_recs)\n",
    "lr_avg_recs_preds = lr.predict(X_test_avg_recs[features])\n",
    "\n",
    "r2_score(y_test_avg_recs, lr_avg_recs_preds)"
   ]
  },
  {
   "cell_type": "code",
   "execution_count": 254,
   "metadata": {},
   "outputs": [
    {
     "data": {
      "text/plain": [
       "93.4970134269661"
      ]
     },
     "execution_count": 254,
     "metadata": {},
     "output_type": "execute_result"
    }
   ],
   "source": [
    "mean_squared_error(y_test_avg_recs, lr_avg_recs_preds)"
   ]
  },
  {
   "cell_type": "markdown",
   "metadata": {},
   "source": [
    "#### Random Forest"
   ]
  },
  {
   "cell_type": "code",
   "execution_count": 255,
   "metadata": {},
   "outputs": [
    {
     "data": {
      "text/plain": [
       "-0.1371774199614164"
      ]
     },
     "execution_count": 255,
     "metadata": {},
     "output_type": "execute_result"
    }
   ],
   "source": [
    "rf = RandomForestRegressor()\n",
    "rf.fit(X_train_avg_recs[features], y_train_avg_recs)\n",
    "rf_avg_recs_preds = rf.predict(X_test_avg_recs[features])\n",
    "\n",
    "r2_score(y_test_avg_recs, rf_avg_recs_preds)"
   ]
  },
  {
   "cell_type": "code",
   "execution_count": 256,
   "metadata": {},
   "outputs": [
    {
     "data": {
      "text/plain": [
       "75.37910121082622"
      ]
     },
     "execution_count": 256,
     "metadata": {},
     "output_type": "execute_result"
    }
   ],
   "source": [
    "mean_squared_error(y_test_avg_recs, rf_avg_recs_preds)"
   ]
  },
  {
   "cell_type": "markdown",
   "metadata": {},
   "source": [
    "#### Neural Net"
   ]
  },
  {
   "cell_type": "code",
   "execution_count": 260,
   "metadata": {},
   "outputs": [],
   "source": [
    "np.random.seed(42)\n",
    "rec_model = Sequential()\n",
    "rec_model.add(Dense(X_train_avg_recs[features].shape[1], input_shape=(X_train_avg_recs[features].shape[1],), activation='relu'))\n",
    "rec_model.add(Dropout(0.5))\n",
    "rec_model.add(Dense(12, activation='relu'))\n",
    "rec_model.add(Dense(6, activation='relu'))\n",
    "rec_model.add(Dense(1))\n",
    "\n",
    "adam = Adam(lr=0.01)\n",
    "rec_model.compile(loss='mean_squared_error', optimizer=adam)"
   ]
  },
  {
   "cell_type": "code",
   "execution_count": 261,
   "metadata": {
    "scrolled": true
   },
   "outputs": [
    {
     "name": "stdout",
     "output_type": "stream",
     "text": [
      "Train on 259 samples, validate on 78 samples\n",
      "Epoch 1/30\n",
      "259/259 [==============================] - 2s 6ms/step - loss: 5893.7152 - val_loss: 475.3049\n",
      "Epoch 2/30\n",
      "259/259 [==============================] - 0s 115us/step - loss: 1257.7441 - val_loss: 952.5520\n",
      "Epoch 3/30\n",
      "259/259 [==============================] - 0s 123us/step - loss: 651.1466 - val_loss: 178.3838\n",
      "Epoch 4/30\n",
      "259/259 [==============================] - 0s 142us/step - loss: 409.6432 - val_loss: 203.2405\n",
      "Epoch 5/30\n",
      "259/259 [==============================] - 0s 123us/step - loss: 360.5779 - val_loss: 120.4181\n",
      "Epoch 6/30\n",
      "259/259 [==============================] - 0s 119us/step - loss: 323.2281 - val_loss: 172.0816\n",
      "Epoch 7/30\n",
      "259/259 [==============================] - 0s 119us/step - loss: 270.5932 - val_loss: 142.5812\n",
      "Epoch 8/30\n",
      "259/259 [==============================] - 0s 119us/step - loss: 306.4352 - val_loss: 129.5624\n",
      "Epoch 9/30\n",
      "259/259 [==============================] - 0s 127us/step - loss: 292.0121 - val_loss: 112.8392\n",
      "Epoch 10/30\n",
      "259/259 [==============================] - 0s 120us/step - loss: 252.7601 - val_loss: 85.2031\n",
      "Epoch 11/30\n",
      "259/259 [==============================] - 0s 119us/step - loss: 257.4038 - val_loss: 99.4590\n",
      "Epoch 12/30\n",
      "259/259 [==============================] - 0s 123us/step - loss: 263.2207 - val_loss: 72.0176\n",
      "Epoch 13/30\n",
      "259/259 [==============================] - 0s 119us/step - loss: 228.8668 - val_loss: 125.2319\n",
      "Epoch 14/30\n",
      "259/259 [==============================] - 0s 115us/step - loss: 235.2588 - val_loss: 81.4672\n",
      "Epoch 15/30\n",
      "259/259 [==============================] - 0s 120us/step - loss: 221.9692 - val_loss: 125.2398\n",
      "Epoch 16/30\n",
      "259/259 [==============================] - 0s 119us/step - loss: 216.2747 - val_loss: 82.8925\n",
      "Epoch 17/30\n",
      "259/259 [==============================] - 0s 116us/step - loss: 235.8818 - val_loss: 72.1019\n",
      "Epoch 18/30\n",
      "259/259 [==============================] - 0s 135us/step - loss: 218.3304 - val_loss: 91.7788\n",
      "Epoch 19/30\n",
      "259/259 [==============================] - 0s 136us/step - loss: 215.1669 - val_loss: 71.9287\n",
      "Epoch 20/30\n",
      "259/259 [==============================] - 0s 128us/step - loss: 200.7227 - val_loss: 74.5412\n",
      "Epoch 21/30\n",
      "259/259 [==============================] - 0s 119us/step - loss: 210.1493 - val_loss: 64.9964\n",
      "Epoch 22/30\n",
      "259/259 [==============================] - 0s 127us/step - loss: 227.3155 - val_loss: 70.5923\n",
      "Epoch 23/30\n",
      "259/259 [==============================] - 0s 135us/step - loss: 179.1329 - val_loss: 85.1909\n",
      "Epoch 24/30\n",
      "259/259 [==============================] - 0s 136us/step - loss: 170.9462 - val_loss: 66.7855\n",
      "Epoch 25/30\n",
      "259/259 [==============================] - 0s 112us/step - loss: 210.2908 - val_loss: 133.0505\n",
      "Epoch 26/30\n",
      "259/259 [==============================] - 0s 119us/step - loss: 219.3220 - val_loss: 68.7481\n",
      "Epoch 27/30\n",
      "259/259 [==============================] - 0s 115us/step - loss: 214.1074 - val_loss: 65.4124\n",
      "Epoch 28/30\n",
      "259/259 [==============================] - 0s 119us/step - loss: 198.3993 - val_loss: 77.6212\n",
      "Epoch 29/30\n",
      "259/259 [==============================] - 0s 116us/step - loss: 201.8418 - val_loss: 115.2527\n",
      "Epoch 30/30\n",
      "259/259 [==============================] - 0s 127us/step - loss: 181.5375 - val_loss: 73.0169\n"
     ]
    },
    {
     "data": {
      "text/plain": [
       "<keras.callbacks.History at 0x27e8a7ba908>"
      ]
     },
     "execution_count": 261,
     "metadata": {},
     "output_type": "execute_result"
    }
   ],
   "source": [
    "rec_model.fit(X_train_avg_recs[features], y_train_avg_recs, validation_data=(X_test_avg_recs[features], y_test_avg_recs), epochs=30, batch_size=32)"
   ]
  },
  {
   "cell_type": "markdown",
   "metadata": {},
   "source": [
    "## Final Year Stats"
   ]
  },
  {
   "cell_type": "code",
   "execution_count": 262,
   "metadata": {
    "scrolled": true
   },
   "outputs": [
    {
     "data": {
      "text/plain": [
       "draft_overall            0\n",
       "draft_round              0\n",
       "draft_year               0\n",
       "player                   0\n",
       "position                 0\n",
       "school                   0\n",
       "wins                    14\n",
       "losses                  14\n",
       "rank                    14\n",
       "nfl_team_win_perc        0\n",
       "bench_reps              55\n",
       "broad_jump              48\n",
       "cone                    56\n",
       "forty_yd                48\n",
       "height                  40\n",
       "shuttle                 55\n",
       "vertical                48\n",
       "weight                  40\n",
       "games                   15\n",
       "pass_cmp                13\n",
       "pass_att                13\n",
       "pass_cmp_pct            13\n",
       "pass_yds                13\n",
       "pass_yds_per_att        13\n",
       "adj_pass_yds_per_att    13\n",
       "pass_td                 13\n",
       "pass_int                13\n",
       "pass_rating             13\n",
       "rush_att                13\n",
       "rush_yds                13\n",
       "                        ..\n",
       "nfl_team_Bengals         0\n",
       "nfl_team_Bills           0\n",
       "nfl_team_Broncos         0\n",
       "nfl_team_Browns          0\n",
       "nfl_team_Buccaneers      0\n",
       "nfl_team_Cardinals       0\n",
       "nfl_team_Chargers        0\n",
       "nfl_team_Chiefs          0\n",
       "nfl_team_Colts           0\n",
       "nfl_team_Cowboys         0\n",
       "nfl_team_Dolphins        0\n",
       "nfl_team_Eagles          0\n",
       "nfl_team_Falcons         0\n",
       "nfl_team_Giants          0\n",
       "nfl_team_Jaguars         0\n",
       "nfl_team_Jets            0\n",
       "nfl_team_Lions           0\n",
       "nfl_team_Packers         0\n",
       "nfl_team_Panthers        0\n",
       "nfl_team_Patriots        0\n",
       "nfl_team_Raiders         0\n",
       "nfl_team_Rams            0\n",
       "nfl_team_Ravens          0\n",
       "nfl_team_Redskins        0\n",
       "nfl_team_Saints          0\n",
       "nfl_team_Seahawks        0\n",
       "nfl_team_Steelers        0\n",
       "nfl_team_Texans          0\n",
       "nfl_team_Titans          0\n",
       "nfl_team_Vikings         0\n",
       "Length: 110, dtype: int64"
      ]
     },
     "execution_count": 262,
     "metadata": {},
     "output_type": "execute_result"
    }
   ],
   "source": [
    "fy_recs.isnull().sum()"
   ]
  },
  {
   "cell_type": "code",
   "execution_count": 263,
   "metadata": {},
   "outputs": [
    {
     "name": "stderr",
     "output_type": "stream",
     "text": [
      "C:\\Users\\aidan\\Anaconda3\\envs\\DSI-6\\lib\\site-packages\\ipykernel_launcher.py:6: SettingWithCopyWarning: \n",
      "A value is trying to be set on a copy of a slice from a DataFrame\n",
      "\n",
      "See the caveats in the documentation: http://pandas.pydata.org/pandas-docs/stable/indexing.html#indexing-view-versus-copy\n",
      "  \n",
      "C:\\Users\\aidan\\Anaconda3\\envs\\DSI-6\\lib\\site-packages\\ipykernel_launcher.py:10: SettingWithCopyWarning: \n",
      "A value is trying to be set on a copy of a slice from a DataFrame\n",
      "\n",
      "See the caveats in the documentation: http://pandas.pydata.org/pandas-docs/stable/indexing.html#indexing-view-versus-copy\n",
      "  # Remove the CWD from sys.path while we load stuff.\n",
      "C:\\Users\\aidan\\Anaconda3\\envs\\DSI-6\\lib\\site-packages\\ipykernel_launcher.py:12: SettingWithCopyWarning: \n",
      "A value is trying to be set on a copy of a slice from a DataFrame\n",
      "\n",
      "See the caveats in the documentation: http://pandas.pydata.org/pandas-docs/stable/indexing.html#indexing-view-versus-copy\n",
      "  if sys.path[0] == '':\n"
     ]
    }
   ],
   "source": [
    "fy_recs.dropna(subset=['wins', 'losses', 'rank', 'games', 'pass_cmp', 'pass_att', 'pass_cmp_pct', 'pass_yds',\n",
    "       'pass_yds_per_att', 'adj_pass_yds_per_att', 'pass_td', 'pass_int',\n",
    "       'pass_rating', 'rush_att', 'rush_yds', 'rush_yds_per_att', 'rush_td',\n",
    "       'rec', 'rec_yds', 'rec_yds_per_rec', 'rec_td', 'scrim_att', 'scrim_yds',\n",
    "       'scrim_yds_per_att', 'scrim_td', 'punt_ret', 'punt_ret_yds', 'punt_ret_yds_per_ret', 'punt_ret_td',\n",
    "       'kick_ret', 'kick_ret_yds', 'kick_ret_yds_per_ret', 'kick_ret_td'], how='all', inplace=True)\n",
    "\n",
    "fy_recs.dropna(subset=['bench_reps',\n",
    "       'broad_jump', 'cone', 'forty_yd', 'height', 'shuttle', 'vertical',\n",
    "       'weight'], how='all', inplace=True)\n",
    "\n",
    "fy_recs.dropna(inplace=True)"
   ]
  },
  {
   "cell_type": "code",
   "execution_count": 264,
   "metadata": {},
   "outputs": [
    {
     "data": {
      "text/plain": [
       "0"
      ]
     },
     "execution_count": 264,
     "metadata": {},
     "output_type": "execute_result"
    }
   ],
   "source": [
    "fy_recs.isnull().sum().sum()"
   ]
  },
  {
   "cell_type": "code",
   "execution_count": 265,
   "metadata": {},
   "outputs": [],
   "source": [
    "X_train_fy_recs = fy_recs[fy_recs['draft_year']<2015]\n",
    "y_train_fy_recs = fy_recs[fy_recs['draft_year']<2015]['avg_grade']\n",
    "X_test_fy_recs = fy_recs[fy_recs['draft_year']>=2015]\n",
    "y_test_fy_recs = fy_recs[fy_recs['draft_year']>=2015]['avg_grade']"
   ]
  },
  {
   "cell_type": "markdown",
   "metadata": {},
   "source": [
    "#### Linear Regression"
   ]
  },
  {
   "cell_type": "code",
   "execution_count": 266,
   "metadata": {},
   "outputs": [
    {
     "data": {
      "text/plain": [
       "-0.8669268936787202"
      ]
     },
     "execution_count": 266,
     "metadata": {},
     "output_type": "execute_result"
    }
   ],
   "source": [
    "lr = LinearRegression()\n",
    "lr.fit(X_train_fy_recs[features], y_train_fy_recs)\n",
    "lr_fy_recs_preds = lr.predict(X_test_fy_recs[features])\n",
    "\n",
    "r2_score(y_test_fy_recs, lr_fy_recs_preds)"
   ]
  },
  {
   "cell_type": "code",
   "execution_count": 267,
   "metadata": {},
   "outputs": [
    {
     "data": {
      "text/plain": [
       "107.55313113854506"
      ]
     },
     "execution_count": 267,
     "metadata": {},
     "output_type": "execute_result"
    }
   ],
   "source": [
    "mean_squared_error(y_test_fy_recs, lr_fy_recs_preds)"
   ]
  },
  {
   "cell_type": "markdown",
   "metadata": {},
   "source": [
    "#### Random Forest"
   ]
  },
  {
   "cell_type": "code",
   "execution_count": 268,
   "metadata": {},
   "outputs": [
    {
     "data": {
      "text/plain": [
       "-0.25194523900934196"
      ]
     },
     "execution_count": 268,
     "metadata": {},
     "output_type": "execute_result"
    }
   ],
   "source": [
    "rf = RandomForestRegressor()\n",
    "rf.fit(X_train_fy_recs[features], y_train_fy_recs)\n",
    "rf_fy_recs_preds = rf.predict(X_test_fy_recs[features])\n",
    "\n",
    "r2_score(y_test_fy_recs, rf_fy_recs_preds)"
   ]
  },
  {
   "cell_type": "code",
   "execution_count": 269,
   "metadata": {},
   "outputs": [
    {
     "data": {
      "text/plain": [
       "72.12421167929296"
      ]
     },
     "execution_count": 269,
     "metadata": {},
     "output_type": "execute_result"
    }
   ],
   "source": [
    "mean_squared_error(y_test_fy_recs, rf_fy_recs_preds)"
   ]
  },
  {
   "cell_type": "code",
   "execution_count": 274,
   "metadata": {},
   "outputs": [],
   "source": [
    "np.random.seed(42)\n",
    "rec_model = Sequential()\n",
    "rec_model.add(Dense(X_train_fy_recs[features].shape[1], input_shape=(X_train_fy_recs[features].shape[1],), activation='relu'))\n",
    "rec_model.add(Dropout(0.5))\n",
    "rec_model.add(Dense(12, activation='relu'))\n",
    "rec_model.add(Dense(6, activation='relu'))\n",
    "rec_model.add(Dense(1))\n",
    "\n",
    "adam = Adam(lr=0.01)\n",
    "rec_model.compile(loss='mean_squared_error', optimizer=adam)"
   ]
  },
  {
   "cell_type": "code",
   "execution_count": 275,
   "metadata": {
    "scrolled": true
   },
   "outputs": [
    {
     "name": "stdout",
     "output_type": "stream",
     "text": [
      "Train on 259 samples, validate on 77 samples\n",
      "Epoch 1/20\n",
      "259/259 [==============================] - 2s 7ms/step - loss: 6785.1964 - val_loss: 414.8343\n",
      "Epoch 2/20\n",
      "259/259 [==============================] - 0s 124us/step - loss: 1337.9529 - val_loss: 720.2741\n",
      "Epoch 3/20\n",
      "259/259 [==============================] - 0s 129us/step - loss: 655.3455 - val_loss: 225.4072\n",
      "Epoch 4/20\n",
      "259/259 [==============================] - 0s 123us/step - loss: 582.9652 - val_loss: 250.2302\n",
      "Epoch 5/20\n",
      "259/259 [==============================] - 0s 131us/step - loss: 478.5880 - val_loss: 142.6583\n",
      "Epoch 6/20\n",
      "259/259 [==============================] - 0s 127us/step - loss: 349.6229 - val_loss: 150.9196\n",
      "Epoch 7/20\n",
      "259/259 [==============================] - 0s 123us/step - loss: 304.2314 - val_loss: 89.6770\n",
      "Epoch 8/20\n",
      "259/259 [==============================] - 0s 124us/step - loss: 399.7744 - val_loss: 180.4632\n",
      "Epoch 9/20\n",
      "259/259 [==============================] - 0s 127us/step - loss: 285.3614 - val_loss: 86.8508\n",
      "Epoch 10/20\n",
      "259/259 [==============================] - 0s 131us/step - loss: 311.5934 - val_loss: 94.8129\n",
      "Epoch 11/20\n",
      "259/259 [==============================] - 0s 132us/step - loss: 267.6242 - val_loss: 60.3013\n",
      "Epoch 12/20\n",
      "259/259 [==============================] - 0s 129us/step - loss: 266.8516 - val_loss: 62.4112\n",
      "Epoch 13/20\n",
      "259/259 [==============================] - 0s 131us/step - loss: 228.7236 - val_loss: 117.4183\n",
      "Epoch 14/20\n",
      "259/259 [==============================] - 0s 127us/step - loss: 273.7575 - val_loss: 69.9850\n",
      "Epoch 15/20\n",
      "259/259 [==============================] - 0s 139us/step - loss: 207.1823 - val_loss: 150.9107\n",
      "Epoch 16/20\n",
      "259/259 [==============================] - 0s 123us/step - loss: 268.3804 - val_loss: 62.4468\n",
      "Epoch 17/20\n",
      "259/259 [==============================] - 0s 134us/step - loss: 216.5875 - val_loss: 61.9506\n",
      "Epoch 18/20\n",
      "259/259 [==============================] - 0s 146us/step - loss: 243.6969 - val_loss: 110.7973\n",
      "Epoch 19/20\n",
      "259/259 [==============================] - 0s 146us/step - loss: 206.8212 - val_loss: 65.8765\n",
      "Epoch 20/20\n",
      "259/259 [==============================] - 0s 141us/step - loss: 213.3895 - val_loss: 97.3646\n"
     ]
    },
    {
     "data": {
      "text/plain": [
       "<keras.callbacks.History at 0x27e8ac44dd8>"
      ]
     },
     "execution_count": 275,
     "metadata": {},
     "output_type": "execute_result"
    }
   ],
   "source": [
    "rec_model.fit(X_train_fy_recs[features], y_train_fy_recs, validation_data=(X_test_fy_recs[features], y_test_fy_recs), epochs=20, batch_size=32)"
   ]
  },
  {
   "cell_type": "code",
   "execution_count": 277,
   "metadata": {},
   "outputs": [],
   "source": [
    "rec_results = pd.DataFrame()\n",
    "rec_results['player'] = fy_recs['player']\n",
    "rec_results['grade'] = fy_recs['avg_grade']\n",
    "rec_results['pred_grade'] = rb_model.predict(fy_recs[features])"
   ]
  },
  {
   "cell_type": "code",
   "execution_count": 278,
   "metadata": {
    "scrolled": true
   },
   "outputs": [
    {
     "data": {
      "text/html": [
       "<div>\n",
       "<style scoped>\n",
       "    .dataframe tbody tr th:only-of-type {\n",
       "        vertical-align: middle;\n",
       "    }\n",
       "\n",
       "    .dataframe tbody tr th {\n",
       "        vertical-align: top;\n",
       "    }\n",
       "\n",
       "    .dataframe thead th {\n",
       "        text-align: right;\n",
       "    }\n",
       "</style>\n",
       "<table border=\"1\" class=\"dataframe\">\n",
       "  <thead>\n",
       "    <tr style=\"text-align: right;\">\n",
       "      <th></th>\n",
       "      <th>player</th>\n",
       "      <th>grade</th>\n",
       "      <th>pred_grade</th>\n",
       "    </tr>\n",
       "  </thead>\n",
       "  <tbody>\n",
       "    <tr>\n",
       "      <th>4</th>\n",
       "      <td>Vernon Davis</td>\n",
       "      <td>67.450000</td>\n",
       "      <td>75.410164</td>\n",
       "    </tr>\n",
       "    <tr>\n",
       "      <th>21</th>\n",
       "      <td>Santonio Holmes</td>\n",
       "      <td>79.950000</td>\n",
       "      <td>67.100891</td>\n",
       "    </tr>\n",
       "    <tr>\n",
       "      <th>24</th>\n",
       "      <td>Marcedes Lewis</td>\n",
       "      <td>72.375000</td>\n",
       "      <td>68.489693</td>\n",
       "    </tr>\n",
       "    <tr>\n",
       "      <th>30</th>\n",
       "      <td>Chad Jackson</td>\n",
       "      <td>61.200000</td>\n",
       "      <td>60.270119</td>\n",
       "    </tr>\n",
       "    <tr>\n",
       "      <th>34</th>\n",
       "      <td>Sinorice Moss</td>\n",
       "      <td>62.800000</td>\n",
       "      <td>55.125961</td>\n",
       "    </tr>\n",
       "    <tr>\n",
       "      <th>36</th>\n",
       "      <td>Joe Klopfenstein</td>\n",
       "      <td>56.000000</td>\n",
       "      <td>67.429230</td>\n",
       "    </tr>\n",
       "    <tr>\n",
       "      <th>39</th>\n",
       "      <td>Greg Jennings</td>\n",
       "      <td>72.825000</td>\n",
       "      <td>64.592346</td>\n",
       "    </tr>\n",
       "    <tr>\n",
       "      <th>40</th>\n",
       "      <td>Anthony Fasano</td>\n",
       "      <td>70.525000</td>\n",
       "      <td>67.480385</td>\n",
       "    </tr>\n",
       "    <tr>\n",
       "      <th>45</th>\n",
       "      <td>Tony Scheffler</td>\n",
       "      <td>77.625000</td>\n",
       "      <td>66.838142</td>\n",
       "    </tr>\n",
       "    <tr>\n",
       "      <th>52</th>\n",
       "      <td>Leonard Pope</td>\n",
       "      <td>57.800000</td>\n",
       "      <td>67.967896</td>\n",
       "    </tr>\n",
       "    <tr>\n",
       "      <th>61</th>\n",
       "      <td>Derek Hagan</td>\n",
       "      <td>61.233333</td>\n",
       "      <td>62.853382</td>\n",
       "    </tr>\n",
       "    <tr>\n",
       "      <th>67</th>\n",
       "      <td>Maurice Stovall</td>\n",
       "      <td>62.700000</td>\n",
       "      <td>63.610058</td>\n",
       "    </tr>\n",
       "    <tr>\n",
       "      <th>70</th>\n",
       "      <td>Willie Reid</td>\n",
       "      <td>61.000000</td>\n",
       "      <td>69.459923</td>\n",
       "    </tr>\n",
       "    <tr>\n",
       "      <th>73</th>\n",
       "      <td>Owen Daniels</td>\n",
       "      <td>72.750000</td>\n",
       "      <td>67.396553</td>\n",
       "    </tr>\n",
       "    <tr>\n",
       "      <th>74</th>\n",
       "      <td>Michael Robinson</td>\n",
       "      <td>57.100000</td>\n",
       "      <td>52.919193</td>\n",
       "    </tr>\n",
       "    <tr>\n",
       "      <th>81</th>\n",
       "      <td>Jason Avant</td>\n",
       "      <td>68.350000</td>\n",
       "      <td>61.341763</td>\n",
       "    </tr>\n",
       "    <tr>\n",
       "      <th>83</th>\n",
       "      <td>Demetrius Williams</td>\n",
       "      <td>66.900000</td>\n",
       "      <td>58.124851</td>\n",
       "    </tr>\n",
       "    <tr>\n",
       "      <th>88</th>\n",
       "      <td>Brandon Marshall</td>\n",
       "      <td>81.075000</td>\n",
       "      <td>66.401016</td>\n",
       "    </tr>\n",
       "    <tr>\n",
       "      <th>115</th>\n",
       "      <td>Jeff King</td>\n",
       "      <td>69.066667</td>\n",
       "      <td>63.338352</td>\n",
       "    </tr>\n",
       "    <tr>\n",
       "      <th>122</th>\n",
       "      <td>Quinn Sypniewski</td>\n",
       "      <td>58.050000</td>\n",
       "      <td>69.590202</td>\n",
       "    </tr>\n",
       "    <tr>\n",
       "      <th>134</th>\n",
       "      <td>Adam Jennings</td>\n",
       "      <td>50.750000</td>\n",
       "      <td>75.777611</td>\n",
       "    </tr>\n",
       "    <tr>\n",
       "      <th>137</th>\n",
       "      <td>Jeff Webb</td>\n",
       "      <td>58.533333</td>\n",
       "      <td>63.364147</td>\n",
       "    </tr>\n",
       "    <tr>\n",
       "      <th>150</th>\n",
       "      <td>Todd Watkins</td>\n",
       "      <td>55.650000</td>\n",
       "      <td>57.890629</td>\n",
       "    </tr>\n",
       "    <tr>\n",
       "      <th>162</th>\n",
       "      <td>Devin Aromashodu</td>\n",
       "      <td>73.100000</td>\n",
       "      <td>75.746277</td>\n",
       "    </tr>\n",
       "    <tr>\n",
       "      <th>172</th>\n",
       "      <td>Ben Obomanu</td>\n",
       "      <td>69.950000</td>\n",
       "      <td>56.419769</td>\n",
       "    </tr>\n",
       "    <tr>\n",
       "      <th>174</th>\n",
       "      <td>David Anderson</td>\n",
       "      <td>67.400000</td>\n",
       "      <td>61.017464</td>\n",
       "    </tr>\n",
       "    <tr>\n",
       "      <th>177</th>\n",
       "      <td>Calvin Johnson</td>\n",
       "      <td>76.800000</td>\n",
       "      <td>65.383751</td>\n",
       "    </tr>\n",
       "    <tr>\n",
       "      <th>196</th>\n",
       "      <td>Dwayne Bowe</td>\n",
       "      <td>74.750000</td>\n",
       "      <td>62.679436</td>\n",
       "    </tr>\n",
       "    <tr>\n",
       "      <th>200</th>\n",
       "      <td>Robert Meachem</td>\n",
       "      <td>72.166667</td>\n",
       "      <td>68.355598</td>\n",
       "    </tr>\n",
       "    <tr>\n",
       "      <th>202</th>\n",
       "      <td>Greg Olsen</td>\n",
       "      <td>70.850000</td>\n",
       "      <td>66.750183</td>\n",
       "    </tr>\n",
       "    <tr>\n",
       "      <th>...</th>\n",
       "      <td>...</td>\n",
       "      <td>...</td>\n",
       "      <td>...</td>\n",
       "    </tr>\n",
       "    <tr>\n",
       "      <th>1902</th>\n",
       "      <td>Jerell Adams</td>\n",
       "      <td>57.200000</td>\n",
       "      <td>66.046181</td>\n",
       "    </tr>\n",
       "    <tr>\n",
       "      <th>1905</th>\n",
       "      <td>David Morgan</td>\n",
       "      <td>67.900000</td>\n",
       "      <td>65.266426</td>\n",
       "    </tr>\n",
       "    <tr>\n",
       "      <th>1914</th>\n",
       "      <td>Cody Core</td>\n",
       "      <td>54.533333</td>\n",
       "      <td>58.478813</td>\n",
       "    </tr>\n",
       "    <tr>\n",
       "      <th>1924</th>\n",
       "      <td>Aaron Burbridge</td>\n",
       "      <td>55.500000</td>\n",
       "      <td>61.766815</td>\n",
       "    </tr>\n",
       "    <tr>\n",
       "      <th>1941</th>\n",
       "      <td>Charone Peake</td>\n",
       "      <td>54.800000</td>\n",
       "      <td>59.256081</td>\n",
       "    </tr>\n",
       "    <tr>\n",
       "      <th>1970</th>\n",
       "      <td>O.J. Howard</td>\n",
       "      <td>75.400000</td>\n",
       "      <td>66.938072</td>\n",
       "    </tr>\n",
       "    <tr>\n",
       "      <th>1973</th>\n",
       "      <td>Evan Engram</td>\n",
       "      <td>69.350000</td>\n",
       "      <td>65.005608</td>\n",
       "    </tr>\n",
       "    <tr>\n",
       "      <th>1979</th>\n",
       "      <td>David Njoku</td>\n",
       "      <td>66.600000</td>\n",
       "      <td>65.971626</td>\n",
       "    </tr>\n",
       "    <tr>\n",
       "      <th>1987</th>\n",
       "      <td>Curtis Samuel</td>\n",
       "      <td>64.200000</td>\n",
       "      <td>55.627029</td>\n",
       "    </tr>\n",
       "    <tr>\n",
       "      <th>1990</th>\n",
       "      <td>Gerald Everett</td>\n",
       "      <td>67.800000</td>\n",
       "      <td>65.335037</td>\n",
       "    </tr>\n",
       "    <tr>\n",
       "      <th>2010</th>\n",
       "      <td>Taywan Taylor</td>\n",
       "      <td>64.150000</td>\n",
       "      <td>70.185944</td>\n",
       "    </tr>\n",
       "    <tr>\n",
       "      <th>2021</th>\n",
       "      <td>Chris Godwin</td>\n",
       "      <td>81.150000</td>\n",
       "      <td>61.510139</td>\n",
       "    </tr>\n",
       "    <tr>\n",
       "      <th>2031</th>\n",
       "      <td>Kenny Golladay</td>\n",
       "      <td>74.550000</td>\n",
       "      <td>61.632999</td>\n",
       "    </tr>\n",
       "    <tr>\n",
       "      <th>2057</th>\n",
       "      <td>Josh Malone</td>\n",
       "      <td>50.850000</td>\n",
       "      <td>60.654594</td>\n",
       "    </tr>\n",
       "    <tr>\n",
       "      <th>2060</th>\n",
       "      <td>Ryan Switzer</td>\n",
       "      <td>62.250000</td>\n",
       "      <td>58.005146</td>\n",
       "    </tr>\n",
       "    <tr>\n",
       "      <th>2066</th>\n",
       "      <td>Chad Hansen</td>\n",
       "      <td>53.700000</td>\n",
       "      <td>62.398296</td>\n",
       "    </tr>\n",
       "    <tr>\n",
       "      <th>2083</th>\n",
       "      <td>Shelton Gibson</td>\n",
       "      <td>58.400000</td>\n",
       "      <td>81.194847</td>\n",
       "    </tr>\n",
       "    <tr>\n",
       "      <th>2088</th>\n",
       "      <td>Isaiah McKenzie</td>\n",
       "      <td>56.600000</td>\n",
       "      <td>55.106873</td>\n",
       "    </tr>\n",
       "    <tr>\n",
       "      <th>2091</th>\n",
       "      <td>Trent Taylor</td>\n",
       "      <td>62.300000</td>\n",
       "      <td>73.560783</td>\n",
       "    </tr>\n",
       "    <tr>\n",
       "      <th>2167</th>\n",
       "      <td>Calvin Ridley</td>\n",
       "      <td>68.800000</td>\n",
       "      <td>57.148476</td>\n",
       "    </tr>\n",
       "    <tr>\n",
       "      <th>2176</th>\n",
       "      <td>Courtland Sutton</td>\n",
       "      <td>63.800000</td>\n",
       "      <td>63.537605</td>\n",
       "    </tr>\n",
       "    <tr>\n",
       "      <th>2178</th>\n",
       "      <td>Mike Gesicki</td>\n",
       "      <td>50.700000</td>\n",
       "      <td>66.048096</td>\n",
       "    </tr>\n",
       "    <tr>\n",
       "      <th>2183</th>\n",
       "      <td>Christian Kirk</td>\n",
       "      <td>70.300000</td>\n",
       "      <td>78.571327</td>\n",
       "    </tr>\n",
       "    <tr>\n",
       "      <th>2193</th>\n",
       "      <td>James Washington</td>\n",
       "      <td>49.400000</td>\n",
       "      <td>68.994133</td>\n",
       "    </tr>\n",
       "    <tr>\n",
       "      <th>2209</th>\n",
       "      <td>Michael Gallup</td>\n",
       "      <td>60.300000</td>\n",
       "      <td>65.927116</td>\n",
       "    </tr>\n",
       "    <tr>\n",
       "      <th>2213</th>\n",
       "      <td>Mark Andrews</td>\n",
       "      <td>75.700000</td>\n",
       "      <td>68.690437</td>\n",
       "    </tr>\n",
       "    <tr>\n",
       "      <th>2226</th>\n",
       "      <td>Keke Coutee</td>\n",
       "      <td>64.700000</td>\n",
       "      <td>77.561043</td>\n",
       "    </tr>\n",
       "    <tr>\n",
       "      <th>2243</th>\n",
       "      <td>Durham Smythe</td>\n",
       "      <td>56.500000</td>\n",
       "      <td>65.113945</td>\n",
       "    </tr>\n",
       "    <tr>\n",
       "      <th>2272</th>\n",
       "      <td>Jaylen Samuels</td>\n",
       "      <td>70.200000</td>\n",
       "      <td>61.413822</td>\n",
       "    </tr>\n",
       "    <tr>\n",
       "      <th>2321</th>\n",
       "      <td>Marcell Ateman</td>\n",
       "      <td>53.500000</td>\n",
       "      <td>63.786526</td>\n",
       "    </tr>\n",
       "  </tbody>\n",
       "</table>\n",
       "<p>336 rows × 3 columns</p>\n",
       "</div>"
      ],
      "text/plain": [
       "                  player      grade  pred_grade\n",
       "4           Vernon Davis  67.450000   75.410164\n",
       "21       Santonio Holmes  79.950000   67.100891\n",
       "24        Marcedes Lewis  72.375000   68.489693\n",
       "30          Chad Jackson  61.200000   60.270119\n",
       "34         Sinorice Moss  62.800000   55.125961\n",
       "36      Joe Klopfenstein  56.000000   67.429230\n",
       "39         Greg Jennings  72.825000   64.592346\n",
       "40        Anthony Fasano  70.525000   67.480385\n",
       "45        Tony Scheffler  77.625000   66.838142\n",
       "52          Leonard Pope  57.800000   67.967896\n",
       "61           Derek Hagan  61.233333   62.853382\n",
       "67       Maurice Stovall  62.700000   63.610058\n",
       "70           Willie Reid  61.000000   69.459923\n",
       "73          Owen Daniels  72.750000   67.396553\n",
       "74      Michael Robinson  57.100000   52.919193\n",
       "81           Jason Avant  68.350000   61.341763\n",
       "83    Demetrius Williams  66.900000   58.124851\n",
       "88      Brandon Marshall  81.075000   66.401016\n",
       "115            Jeff King  69.066667   63.338352\n",
       "122     Quinn Sypniewski  58.050000   69.590202\n",
       "134        Adam Jennings  50.750000   75.777611\n",
       "137            Jeff Webb  58.533333   63.364147\n",
       "150         Todd Watkins  55.650000   57.890629\n",
       "162     Devin Aromashodu  73.100000   75.746277\n",
       "172          Ben Obomanu  69.950000   56.419769\n",
       "174       David Anderson  67.400000   61.017464\n",
       "177       Calvin Johnson  76.800000   65.383751\n",
       "196          Dwayne Bowe  74.750000   62.679436\n",
       "200       Robert Meachem  72.166667   68.355598\n",
       "202           Greg Olsen  70.850000   66.750183\n",
       "...                  ...        ...         ...\n",
       "1902        Jerell Adams  57.200000   66.046181\n",
       "1905        David Morgan  67.900000   65.266426\n",
       "1914           Cody Core  54.533333   58.478813\n",
       "1924     Aaron Burbridge  55.500000   61.766815\n",
       "1941       Charone Peake  54.800000   59.256081\n",
       "1970         O.J. Howard  75.400000   66.938072\n",
       "1973         Evan Engram  69.350000   65.005608\n",
       "1979         David Njoku  66.600000   65.971626\n",
       "1987       Curtis Samuel  64.200000   55.627029\n",
       "1990      Gerald Everett  67.800000   65.335037\n",
       "2010       Taywan Taylor  64.150000   70.185944\n",
       "2021        Chris Godwin  81.150000   61.510139\n",
       "2031      Kenny Golladay  74.550000   61.632999\n",
       "2057         Josh Malone  50.850000   60.654594\n",
       "2060        Ryan Switzer  62.250000   58.005146\n",
       "2066         Chad Hansen  53.700000   62.398296\n",
       "2083      Shelton Gibson  58.400000   81.194847\n",
       "2088     Isaiah McKenzie  56.600000   55.106873\n",
       "2091        Trent Taylor  62.300000   73.560783\n",
       "2167       Calvin Ridley  68.800000   57.148476\n",
       "2176    Courtland Sutton  63.800000   63.537605\n",
       "2178        Mike Gesicki  50.700000   66.048096\n",
       "2183      Christian Kirk  70.300000   78.571327\n",
       "2193    James Washington  49.400000   68.994133\n",
       "2209      Michael Gallup  60.300000   65.927116\n",
       "2213        Mark Andrews  75.700000   68.690437\n",
       "2226         Keke Coutee  64.700000   77.561043\n",
       "2243       Durham Smythe  56.500000   65.113945\n",
       "2272      Jaylen Samuels  70.200000   61.413822\n",
       "2321      Marcell Ateman  53.500000   63.786526\n",
       "\n",
       "[336 rows x 3 columns]"
      ]
     },
     "execution_count": 278,
     "metadata": {},
     "output_type": "execute_result"
    }
   ],
   "source": [
    "rec_results"
   ]
  },
  {
   "cell_type": "code",
   "execution_count": 366,
   "metadata": {},
   "outputs": [
    {
     "data": {
      "image/png": "[encoded data removed]",
      "text/plain": [
       "<Figure size 720x576 with 1 Axes>"
      ]
     },
     "metadata": {
      "needs_background": "light"
     },
     "output_type": "display_data"
    }
   ],
   "source": [
    "fig = plt.figure(figsize=(10, 8))\n",
    "plt.title('Receivers - Residual Distribution')\n",
    "sns.distplot(rec_results['grade'] - rec_results['pred_grade'])\n",
    "fig.savefig('../visuals/Receivers.jpeg');"
   ]
  },
  {
   "cell_type": "markdown",
   "metadata": {},
   "source": [
    "# Defense"
   ]
  },
  {
   "cell_type": "markdown",
   "metadata": {},
   "source": [
    "## Average Stats"
   ]
  },
  {
   "cell_type": "code",
   "execution_count": 280,
   "metadata": {},
   "outputs": [],
   "source": [
    "def_pos = ['CB', 'DE', 'ILB', 'S', 'DT', 'OLB', 'LB', 'DB', 'DL', 'NT']\n",
    "avg_players['defense'] = avg_players['position'].map(lambda x: 1 if x in def_pos else 0)\n",
    "final_year_players['defense'] = final_year_players['position'].map(lambda x: 1 if x in def_pos else 0)"
   ]
  },
  {
   "cell_type": "code",
   "execution_count": 281,
   "metadata": {},
   "outputs": [],
   "source": [
    "avg_defs = avg_players[avg_players['defense']==1]\n",
    "fy_defs = final_year_players[final_year_players['defense']==1]"
   ]
  },
  {
   "cell_type": "code",
   "execution_count": 282,
   "metadata": {},
   "outputs": [
    {
     "data": {
      "text/plain": [
       "1084"
      ]
     },
     "execution_count": 282,
     "metadata": {},
     "output_type": "execute_result"
    }
   ],
   "source": [
    "len(avg_defs)"
   ]
  },
  {
   "cell_type": "code",
   "execution_count": 283,
   "metadata": {},
   "outputs": [
    {
     "data": {
      "text/plain": [
       "Index(['draft_overall', 'draft_round', 'draft_year', 'player', 'position',\n",
       "       'school', 'wins', 'losses', 'rank', 'nfl_team_win_perc', 'bench_reps',\n",
       "       'broad_jump', 'cone', 'forty_yd', 'height', 'shuttle', 'vertical',\n",
       "       'weight', 'games', 'pass_cmp', 'pass_att', 'pass_cmp_pct', 'pass_yds',\n",
       "       'pass_yds_per_att', 'adj_pass_yds_per_att', 'pass_td', 'pass_int',\n",
       "       'pass_rating', 'rush_att', 'rush_yds', 'rush_yds_per_att', 'rush_td',\n",
       "       'rec', 'rec_yds', 'rec_yds_per_rec', 'rec_td', 'scrim_att', 'scrim_yds',\n",
       "       'scrim_yds_per_att', 'scrim_td', 'tackles_solo', 'tackles_assists',\n",
       "       'tackles_total', 'tackles_loss', 'sacks', 'def_int', 'def_int_yds',\n",
       "       'def_int_yds_per_int', 'def_int_td', 'pass_defended'],\n",
       "      dtype='object')"
      ]
     },
     "execution_count": 283,
     "metadata": {},
     "output_type": "execute_result"
    }
   ],
   "source": [
    "avg_defs.columns[:50]"
   ]
  },
  {
   "cell_type": "code",
   "execution_count": 284,
   "metadata": {},
   "outputs": [
    {
     "data": {
      "text/plain": [
       "Index(['fumbles_rec', 'fumbles_rec_yds', 'fumbles_rec_td', 'fumbles_forced',\n",
       "       'punt_ret', 'punt_ret_yds', 'punt_ret_yds_per_ret', 'punt_ret_td',\n",
       "       'kick_ret', 'kick_ret_yds', 'kick_ret_yds_per_ret', 'kick_ret_td',\n",
       "       'avg_grade', 'conference_ACC', 'conference_American',\n",
       "       'conference_Big 12', 'conference_Big East', 'conference_Big Ten',\n",
       "       'conference_CUSA', 'conference_Ind', 'conference_MAC', 'conference_MVC',\n",
       "       'conference_MWC', 'conference_Pac-10', 'conference_Pac-12',\n",
       "       'conference_SEC', 'conference_Sun Belt', 'conference_WAC',\n",
       "       'nfl_team_49ers', 'nfl_team_Bears', 'nfl_team_Bengals',\n",
       "       'nfl_team_Bills', 'nfl_team_Broncos', 'nfl_team_Browns',\n",
       "       'nfl_team_Buccaneers', 'nfl_team_Cardinals', 'nfl_team_Chargers',\n",
       "       'nfl_team_Chiefs', 'nfl_team_Colts', 'nfl_team_Cowboys',\n",
       "       'nfl_team_Dolphins', 'nfl_team_Eagles', 'nfl_team_Falcons',\n",
       "       'nfl_team_Giants', 'nfl_team_Jaguars', 'nfl_team_Jets',\n",
       "       'nfl_team_Lions', 'nfl_team_Packers', 'nfl_team_Panthers',\n",
       "       'nfl_team_Patriots', 'nfl_team_Raiders', 'nfl_team_Rams',\n",
       "       'nfl_team_Ravens', 'nfl_team_Redskins', 'nfl_team_Saints',\n",
       "       'nfl_team_Seahawks', 'nfl_team_Steelers', 'nfl_team_Texans',\n",
       "       'nfl_team_Titans', 'nfl_team_Vikings', 'defense'],\n",
       "      dtype='object')"
      ]
     },
     "execution_count": 284,
     "metadata": {},
     "output_type": "execute_result"
    }
   ],
   "source": [
    "avg_defs.columns[50:]"
   ]
  },
  {
   "cell_type": "code",
   "execution_count": 285,
   "metadata": {
    "scrolled": true
   },
   "outputs": [
    {
     "data": {
      "text/plain": [
       "fumbles_rec             43\n",
       "fumbles_rec_yds         43\n",
       "fumbles_rec_td          43\n",
       "fumbles_forced          43\n",
       "punt_ret                43\n",
       "punt_ret_yds            43\n",
       "punt_ret_yds_per_ret    43\n",
       "punt_ret_td             43\n",
       "kick_ret                43\n",
       "kick_ret_yds            43\n",
       "kick_ret_yds_per_ret    43\n",
       "kick_ret_td             43\n",
       "avg_grade                0\n",
       "conference_ACC           0\n",
       "conference_American      0\n",
       "conference_Big 12        0\n",
       "conference_Big East      0\n",
       "conference_Big Ten       0\n",
       "conference_CUSA          0\n",
       "conference_Ind           0\n",
       "conference_MAC           0\n",
       "conference_MVC           0\n",
       "conference_MWC           0\n",
       "conference_Pac-10        0\n",
       "conference_Pac-12        0\n",
       "conference_SEC           0\n",
       "conference_Sun Belt      0\n",
       "conference_WAC           0\n",
       "nfl_team_49ers           0\n",
       "nfl_team_Bears           0\n",
       "                        ..\n",
       "nfl_team_Bills           0\n",
       "nfl_team_Broncos         0\n",
       "nfl_team_Browns          0\n",
       "nfl_team_Buccaneers      0\n",
       "nfl_team_Cardinals       0\n",
       "nfl_team_Chargers        0\n",
       "nfl_team_Chiefs          0\n",
       "nfl_team_Colts           0\n",
       "nfl_team_Cowboys         0\n",
       "nfl_team_Dolphins        0\n",
       "nfl_team_Eagles          0\n",
       "nfl_team_Falcons         0\n",
       "nfl_team_Giants          0\n",
       "nfl_team_Jaguars         0\n",
       "nfl_team_Jets            0\n",
       "nfl_team_Lions           0\n",
       "nfl_team_Packers         0\n",
       "nfl_team_Panthers        0\n",
       "nfl_team_Patriots        0\n",
       "nfl_team_Raiders         0\n",
       "nfl_team_Rams            0\n",
       "nfl_team_Ravens          0\n",
       "nfl_team_Redskins        0\n",
       "nfl_team_Saints          0\n",
       "nfl_team_Seahawks        0\n",
       "nfl_team_Steelers        0\n",
       "nfl_team_Texans          0\n",
       "nfl_team_Titans          0\n",
       "nfl_team_Vikings         0\n",
       "defense                  0\n",
       "Length: 61, dtype: int64"
      ]
     },
     "execution_count": 285,
     "metadata": {},
     "output_type": "execute_result"
    }
   ],
   "source": [
    "avg_defs.isnull().sum()[50:]"
   ]
  },
  {
   "cell_type": "code",
   "execution_count": 286,
   "metadata": {},
   "outputs": [
    {
     "name": "stderr",
     "output_type": "stream",
     "text": [
      "C:\\Users\\aidan\\Anaconda3\\envs\\DSI-6\\lib\\site-packages\\ipykernel_launcher.py:10: SettingWithCopyWarning: \n",
      "A value is trying to be set on a copy of a slice from a DataFrame\n",
      "\n",
      "See the caveats in the documentation: http://pandas.pydata.org/pandas-docs/stable/indexing.html#indexing-view-versus-copy\n",
      "  # Remove the CWD from sys.path while we load stuff.\n",
      "C:\\Users\\aidan\\Anaconda3\\envs\\DSI-6\\lib\\site-packages\\ipykernel_launcher.py:14: SettingWithCopyWarning: \n",
      "A value is trying to be set on a copy of a slice from a DataFrame\n",
      "\n",
      "See the caveats in the documentation: http://pandas.pydata.org/pandas-docs/stable/indexing.html#indexing-view-versus-copy\n",
      "  \n",
      "C:\\Users\\aidan\\Anaconda3\\envs\\DSI-6\\lib\\site-packages\\ipykernel_launcher.py:15: SettingWithCopyWarning: \n",
      "A value is trying to be set on a copy of a slice from a DataFrame\n",
      "\n",
      "See the caveats in the documentation: http://pandas.pydata.org/pandas-docs/stable/indexing.html#indexing-view-versus-copy\n",
      "  from ipykernel import kernelapp as app\n"
     ]
    }
   ],
   "source": [
    "avg_defs.dropna(subset=['wins', 'losses', 'rank', 'games', 'pass_cmp', 'pass_att', 'pass_cmp_pct', 'pass_yds',\n",
    "       'pass_yds_per_att', 'adj_pass_yds_per_att', 'pass_td', 'pass_int',\n",
    "       'pass_rating', 'rush_att', 'rush_yds', 'rush_yds_per_att', 'rush_td',\n",
    "       'rec', 'rec_yds', 'rec_yds_per_rec', 'rec_td', 'scrim_att', 'scrim_yds',\n",
    "       'scrim_yds_per_att', 'scrim_td', 'tackles_solo', 'tackles_assists',\n",
    "       'tackles_total', 'tackles_loss', 'sacks', 'def_int', 'def_int_yds',\n",
    "       'def_int_yds_per_int', 'def_int_td', 'pass_defended', 'fumbles_rec', \n",
    "        'fumbles_rec_yds', 'fumbles_rec_td', 'fumbles_forced',\n",
    "       'punt_ret', 'punt_ret_yds', 'punt_ret_yds_per_ret', 'punt_ret_td',\n",
    "       'kick_ret', 'kick_ret_yds', 'kick_ret_yds_per_ret', 'kick_ret_td'], how='all', inplace=True)\n",
    "\n",
    "avg_defs.dropna(subset=['bench_reps',\n",
    "       'broad_jump', 'cone', 'forty_yd', 'height', 'shuttle', 'vertical',\n",
    "       'weight'], how='all', inplace=True)\n",
    "avg_defs.dropna(inplace=True)"
   ]
  },
  {
   "cell_type": "code",
   "execution_count": 287,
   "metadata": {},
   "outputs": [
    {
     "data": {
      "text/plain": [
       "0"
      ]
     },
     "execution_count": 287,
     "metadata": {},
     "output_type": "execute_result"
    }
   ],
   "source": [
    "avg_defs.isnull().sum().sum()"
   ]
  },
  {
   "cell_type": "code",
   "execution_count": 288,
   "metadata": {},
   "outputs": [],
   "source": [
    "features = [#     'draft_overall', 'draft_round', 'draft_year', \n",
    "            'wins', 'losses', 'rank', 'nfl_team_win_perc', \n",
    "        'broad_jump', 'cone', 'forty_yd', 'height', 'shuttle', 'vertical', 'weight', 'games',\n",
    "       'tackles_solo', 'tackles_assists', 'tackles_total', 'tackles_loss', \n",
    "        'sacks', 'def_int', 'def_int_yds', 'fumbles_rec', 'fumbles_rec_yds', 'fumbles_rec_td', 'fumbles_forced',\n",
    "       'def_int_yds_per_int', 'def_int_td', 'pass_defended',\n",
    "           'conference_ACC', 'conference_American', 'conference_Big 12',\n",
    "       'conference_Big East', 'conference_Big Ten', 'conference_CUSA',\n",
    "       'conference_Ind', 'conference_MAC', 'conference_MVC', 'conference_MWC',\n",
    "       'conference_Pac-10', 'conference_Pac-12', 'conference_SEC',\n",
    "       'conference_Sun Belt', 'conference_WAC', 'nfl_team_49ers',\n",
    "       'nfl_team_Bears', 'nfl_team_Bengals', 'nfl_team_Bills',\n",
    "       'nfl_team_Broncos', 'nfl_team_Browns', 'nfl_team_Buccaneers',\n",
    "       'nfl_team_Cardinals', 'nfl_team_Chargers', 'nfl_team_Chiefs',\n",
    "       'nfl_team_Colts', 'nfl_team_Cowboys', 'nfl_team_Dolphins',\n",
    "       'nfl_team_Eagles', 'nfl_team_Falcons', 'nfl_team_Giants',\n",
    "       'nfl_team_Jaguars', 'nfl_team_Jets', 'nfl_team_Lions',\n",
    "       'nfl_team_Packers', 'nfl_team_Panthers', 'nfl_team_Patriots',\n",
    "       'nfl_team_Raiders', 'nfl_team_Rams', 'nfl_team_Ravens',\n",
    "       'nfl_team_Redskins', 'nfl_team_Saints', 'nfl_team_Seahawks',\n",
    "       'nfl_team_Steelers', 'nfl_team_Texans', 'nfl_team_Titans',\n",
    "       'nfl_team_Vikings']"
   ]
  },
  {
   "cell_type": "code",
   "execution_count": 289,
   "metadata": {},
   "outputs": [],
   "source": [
    "X_train_avg_defs = avg_defs[avg_defs['draft_year']<2015]\n",
    "y_train_avg_defs = avg_defs[avg_defs['draft_year']<2015]['avg_grade']\n",
    "X_test_avg_defs = avg_defs[avg_defs['draft_year']>=2015]\n",
    "y_test_avg_defs = avg_defs[avg_defs['draft_year']>=2015]['avg_grade']"
   ]
  },
  {
   "cell_type": "markdown",
   "metadata": {},
   "source": [
    "#### Linear Regression"
   ]
  },
  {
   "cell_type": "code",
   "execution_count": 290,
   "metadata": {},
   "outputs": [
    {
     "data": {
      "text/plain": [
       "-0.21004226382253988"
      ]
     },
     "execution_count": 290,
     "metadata": {},
     "output_type": "execute_result"
    }
   ],
   "source": [
    "lr = LinearRegression()\n",
    "lr.fit(X_train_avg_defs[features], y_train_avg_defs)\n",
    "lr_avg_defs_preds = lr.predict(X_test_avg_defs[features])\n",
    "\n",
    "r2_score(y_test_avg_defs, lr_avg_defs_preds)"
   ]
  },
  {
   "cell_type": "code",
   "execution_count": 291,
   "metadata": {},
   "outputs": [
    {
     "data": {
      "text/plain": [
       "74.81459430845301"
      ]
     },
     "execution_count": 291,
     "metadata": {},
     "output_type": "execute_result"
    }
   ],
   "source": [
    "mean_squared_error(y_test_avg_defs, lr_avg_defs_preds)"
   ]
  },
  {
   "cell_type": "markdown",
   "metadata": {},
   "source": [
    "#### Random Forest"
   ]
  },
  {
   "cell_type": "code",
   "execution_count": 292,
   "metadata": {},
   "outputs": [
    {
     "data": {
      "text/plain": [
       "-0.27698092900520677"
      ]
     },
     "execution_count": 292,
     "metadata": {},
     "output_type": "execute_result"
    }
   ],
   "source": [
    "rf = RandomForestRegressor()\n",
    "rf.fit(X_train_avg_defs[features], y_train_avg_defs)\n",
    "rf_avg_defs_preds = rf.predict(X_test_avg_defs[features])\n",
    "\n",
    "r2_score(y_test_avg_defs, rf_avg_defs_preds)"
   ]
  },
  {
   "cell_type": "code",
   "execution_count": 293,
   "metadata": {},
   "outputs": [
    {
     "data": {
      "text/plain": [
       "78.9532836988304"
      ]
     },
     "execution_count": 293,
     "metadata": {},
     "output_type": "execute_result"
    }
   ],
   "source": [
    "mean_squared_error(y_test_avg_defs, rf_avg_defs_preds)"
   ]
  },
  {
   "cell_type": "markdown",
   "metadata": {},
   "source": [
    "#### Neural Net"
   ]
  },
  {
   "cell_type": "code",
   "execution_count": 294,
   "metadata": {},
   "outputs": [],
   "source": [
    "np.random.seed(42)\n",
    "def_model = Sequential()\n",
    "def_model.add(Dense(X_train_avg_defs[features].shape[1], input_shape=(X_train_avg_defs[features].shape[1],), activation='relu'))\n",
    "def_model.add(Dropout(0.5))\n",
    "def_model.add(Dense(8, activation='relu'))\n",
    "def_model.add(Dense(4, activation='relu'))\n",
    "def_model.add(Dense(1))\n",
    "\n",
    "adam = Adam(lr=0.01)\n",
    "def_model.compile(loss='mean_squared_error', optimizer=adam)"
   ]
  },
  {
   "cell_type": "code",
   "execution_count": 295,
   "metadata": {
    "scrolled": true
   },
   "outputs": [
    {
     "name": "stdout",
     "output_type": "stream",
     "text": [
      "Train on 655 samples, validate on 209 samples\n",
      "Epoch 1/25\n",
      "655/655 [==============================] - 2s 3ms/step - loss: 2092.1864 - val_loss: 357.0488\n",
      "Epoch 2/25\n",
      "655/655 [==============================] - 0s 110us/step - loss: 427.4162 - val_loss: 204.4892\n",
      "Epoch 3/25\n",
      "655/655 [==============================] - 0s 93us/step - loss: 294.5551 - val_loss: 130.5636\n",
      "Epoch 4/25\n",
      "655/655 [==============================] - 0s 82us/step - loss: 282.0573 - val_loss: 169.1180\n",
      "Epoch 5/25\n",
      "655/655 [==============================] - 0s 81us/step - loss: 271.7025 - val_loss: 136.8426\n",
      "Epoch 6/25\n",
      "655/655 [==============================] - 0s 85us/step - loss: 269.8806 - val_loss: 143.0887\n",
      "Epoch 7/25\n",
      "655/655 [==============================] - 0s 81us/step - loss: 271.3349 - val_loss: 106.4969\n",
      "Epoch 8/25\n",
      "655/655 [==============================] - 0s 96us/step - loss: 278.2185 - val_loss: 272.5579\n",
      "Epoch 9/25\n",
      "655/655 [==============================] - 0s 113us/step - loss: 265.9479 - val_loss: 105.2864\n",
      "Epoch 10/25\n",
      "655/655 [==============================] - 0s 111us/step - loss: 243.5422 - val_loss: 99.4848\n",
      "Epoch 11/25\n",
      "655/655 [==============================] - 0s 111us/step - loss: 245.7500 - val_loss: 144.5078\n",
      "Epoch 12/25\n",
      "655/655 [==============================] - 0s 123us/step - loss: 267.2300 - val_loss: 199.8417\n",
      "Epoch 13/25\n",
      "655/655 [==============================] - 0s 169us/step - loss: 268.0608 - val_loss: 124.9951\n",
      "Epoch 14/25\n",
      "655/655 [==============================] - 0s 186us/step - loss: 245.3310 - val_loss: 190.8329\n",
      "Epoch 15/25\n",
      "655/655 [==============================] - 0s 215us/step - loss: 238.8574 - val_loss: 118.8118\n",
      "Epoch 16/25\n",
      "655/655 [==============================] - 0s 186us/step - loss: 221.3201 - val_loss: 148.9346\n",
      "Epoch 17/25\n",
      "655/655 [==============================] - 0s 190us/step - loss: 228.7492 - val_loss: 138.2965\n",
      "Epoch 18/25\n",
      "655/655 [==============================] - 0s 196us/step - loss: 231.2636 - val_loss: 227.2607\n",
      "Epoch 19/25\n",
      "655/655 [==============================] - 0s 198us/step - loss: 207.7209 - val_loss: 172.5190\n",
      "Epoch 20/25\n",
      "655/655 [==============================] - 0s 184us/step - loss: 215.7567 - val_loss: 197.1879\n",
      "Epoch 21/25\n",
      "655/655 [==============================] - 0s 175us/step - loss: 202.2443 - val_loss: 188.3296\n",
      "Epoch 22/25\n",
      "655/655 [==============================] - 0s 184us/step - loss: 196.0361 - val_loss: 244.9551\n",
      "Epoch 23/25\n",
      "655/655 [==============================] - 0s 174us/step - loss: 208.7561 - val_loss: 503.4584\n",
      "Epoch 24/25\n",
      "655/655 [==============================] - 0s 175us/step - loss: 187.1856 - val_loss: 330.7228\n",
      "Epoch 25/25\n",
      "655/655 [==============================] - 0s 195us/step - loss: 202.2557 - val_loss: 421.1426\n"
     ]
    },
    {
     "data": {
      "text/plain": [
       "<keras.callbacks.History at 0x27e8f3633c8>"
      ]
     },
     "execution_count": 295,
     "metadata": {},
     "output_type": "execute_result"
    }
   ],
   "source": [
    "def_model.fit(X_train_avg_defs[features], y_train_avg_defs, validation_data=(X_test_avg_defs[features], y_test_avg_defs), epochs=25, batch_size=32)"
   ]
  },
  {
   "cell_type": "markdown",
   "metadata": {},
   "source": [
    "## Final Year Stats"
   ]
  },
  {
   "cell_type": "code",
   "execution_count": 296,
   "metadata": {
    "scrolled": true
   },
   "outputs": [
    {
     "data": {
      "text/plain": [
       "draft_overall             0\n",
       "draft_round               0\n",
       "draft_year                0\n",
       "player                    0\n",
       "position                  0\n",
       "school                    0\n",
       "wins                     43\n",
       "losses                   43\n",
       "rank                     43\n",
       "nfl_team_win_perc         0\n",
       "bench_reps              144\n",
       "broad_jump              132\n",
       "cone                    166\n",
       "forty_yd                129\n",
       "height                  107\n",
       "shuttle                 166\n",
       "vertical                135\n",
       "weight                  107\n",
       "games                    75\n",
       "pass_cmp                 43\n",
       "pass_att                 43\n",
       "pass_cmp_pct             43\n",
       "pass_yds                 43\n",
       "pass_yds_per_att         43\n",
       "adj_pass_yds_per_att     43\n",
       "pass_td                  43\n",
       "pass_int                 43\n",
       "pass_rating              43\n",
       "rush_att                 43\n",
       "rush_yds                 43\n",
       "                       ... \n",
       "nfl_team_Bills            0\n",
       "nfl_team_Broncos          0\n",
       "nfl_team_Browns           0\n",
       "nfl_team_Buccaneers       0\n",
       "nfl_team_Cardinals        0\n",
       "nfl_team_Chargers         0\n",
       "nfl_team_Chiefs           0\n",
       "nfl_team_Colts            0\n",
       "nfl_team_Cowboys          0\n",
       "nfl_team_Dolphins         0\n",
       "nfl_team_Eagles           0\n",
       "nfl_team_Falcons          0\n",
       "nfl_team_Giants           0\n",
       "nfl_team_Jaguars          0\n",
       "nfl_team_Jets             0\n",
       "nfl_team_Lions            0\n",
       "nfl_team_Packers          0\n",
       "nfl_team_Panthers         0\n",
       "nfl_team_Patriots         0\n",
       "nfl_team_Raiders          0\n",
       "nfl_team_Rams             0\n",
       "nfl_team_Ravens           0\n",
       "nfl_team_Redskins         0\n",
       "nfl_team_Saints           0\n",
       "nfl_team_Seahawks         0\n",
       "nfl_team_Steelers         0\n",
       "nfl_team_Texans           0\n",
       "nfl_team_Titans           0\n",
       "nfl_team_Vikings          0\n",
       "defense                   0\n",
       "Length: 111, dtype: int64"
      ]
     },
     "execution_count": 296,
     "metadata": {},
     "output_type": "execute_result"
    }
   ],
   "source": [
    "fy_defs.isnull().sum()"
   ]
  },
  {
   "cell_type": "code",
   "execution_count": 297,
   "metadata": {},
   "outputs": [
    {
     "name": "stderr",
     "output_type": "stream",
     "text": [
      "C:\\Users\\aidan\\Anaconda3\\envs\\DSI-6\\lib\\site-packages\\ipykernel_launcher.py:10: SettingWithCopyWarning: \n",
      "A value is trying to be set on a copy of a slice from a DataFrame\n",
      "\n",
      "See the caveats in the documentation: http://pandas.pydata.org/pandas-docs/stable/indexing.html#indexing-view-versus-copy\n",
      "  # Remove the CWD from sys.path while we load stuff.\n",
      "C:\\Users\\aidan\\Anaconda3\\envs\\DSI-6\\lib\\site-packages\\ipykernel_launcher.py:14: SettingWithCopyWarning: \n",
      "A value is trying to be set on a copy of a slice from a DataFrame\n",
      "\n",
      "See the caveats in the documentation: http://pandas.pydata.org/pandas-docs/stable/indexing.html#indexing-view-versus-copy\n",
      "  \n",
      "C:\\Users\\aidan\\Anaconda3\\envs\\DSI-6\\lib\\site-packages\\ipykernel_launcher.py:16: SettingWithCopyWarning: \n",
      "A value is trying to be set on a copy of a slice from a DataFrame\n",
      "\n",
      "See the caveats in the documentation: http://pandas.pydata.org/pandas-docs/stable/indexing.html#indexing-view-versus-copy\n",
      "  app.launch_new_instance()\n"
     ]
    }
   ],
   "source": [
    "fy_defs.dropna(subset=['wins', 'losses', 'rank', 'games', 'pass_cmp', 'pass_att', 'pass_cmp_pct', 'pass_yds',\n",
    "       'pass_yds_per_att', 'adj_pass_yds_per_att', 'pass_td', 'pass_int',\n",
    "       'pass_rating', 'rush_att', 'rush_yds', 'rush_yds_per_att', 'rush_td',\n",
    "       'rec', 'rec_yds', 'rec_yds_per_rec', 'rec_td', 'scrim_att', 'scrim_yds',\n",
    "       'scrim_yds_per_att', 'scrim_td', 'tackles_solo', 'tackles_assists',\n",
    "       'tackles_total', 'tackles_loss', 'sacks', 'def_int', 'def_int_yds',\n",
    "       'def_int_yds_per_int', 'def_int_td', 'pass_defended', 'fumbles_rec', \n",
    "        'fumbles_rec_yds', 'fumbles_rec_td', 'fumbles_forced',\n",
    "       'punt_ret', 'punt_ret_yds', 'punt_ret_yds_per_ret', 'punt_ret_td',\n",
    "       'kick_ret', 'kick_ret_yds', 'kick_ret_yds_per_ret', 'kick_ret_td'], how='all', inplace=True)\n",
    "\n",
    "fy_defs.dropna(subset=['bench_reps',\n",
    "       'broad_jump', 'cone', 'forty_yd', 'height', 'shuttle', 'vertical',\n",
    "       'weight'], how='all', inplace=True)\n",
    "\n",
    "fy_defs.dropna(inplace=True)"
   ]
  },
  {
   "cell_type": "code",
   "execution_count": 298,
   "metadata": {},
   "outputs": [
    {
     "data": {
      "text/plain": [
       "0"
      ]
     },
     "execution_count": 298,
     "metadata": {},
     "output_type": "execute_result"
    }
   ],
   "source": [
    "fy_defs.isnull().sum().sum()"
   ]
  },
  {
   "cell_type": "code",
   "execution_count": 299,
   "metadata": {},
   "outputs": [],
   "source": [
    "X_train_fy_defs = fy_defs[fy_defs['draft_year']<2015]\n",
    "y_train_fy_defs = fy_defs[fy_defs['draft_year']<2015]['avg_grade']\n",
    "X_test_fy_defs = fy_defs[fy_defs['draft_year']>=2015]\n",
    "y_test_fy_defs = fy_defs[fy_defs['draft_year']>=2015]['avg_grade']"
   ]
  },
  {
   "cell_type": "markdown",
   "metadata": {},
   "source": [
    "#### Linear Regression"
   ]
  },
  {
   "cell_type": "code",
   "execution_count": 300,
   "metadata": {},
   "outputs": [
    {
     "data": {
      "text/plain": [
       "-0.1396156446276524"
      ]
     },
     "execution_count": 300,
     "metadata": {},
     "output_type": "execute_result"
    }
   ],
   "source": [
    "lr = LinearRegression()\n",
    "lr.fit(X_train_fy_defs[features], y_train_fy_defs)\n",
    "lr_fy_defs_preds = lr.predict(X_test_fy_defs[features])\n",
    "\n",
    "r2_score(y_test_fy_defs, lr_fy_defs_preds)"
   ]
  },
  {
   "cell_type": "code",
   "execution_count": 301,
   "metadata": {},
   "outputs": [
    {
     "data": {
      "text/plain": [
       "70.46025140563839"
      ]
     },
     "execution_count": 301,
     "metadata": {},
     "output_type": "execute_result"
    }
   ],
   "source": [
    "mean_squared_error(y_test_fy_defs, lr_fy_defs_preds)"
   ]
  },
  {
   "cell_type": "markdown",
   "metadata": {},
   "source": [
    "#### Random Forest"
   ]
  },
  {
   "cell_type": "code",
   "execution_count": 302,
   "metadata": {},
   "outputs": [
    {
     "data": {
      "text/plain": [
       "-0.25653671879499895"
      ]
     },
     "execution_count": 302,
     "metadata": {},
     "output_type": "execute_result"
    }
   ],
   "source": [
    "rf = RandomForestRegressor()\n",
    "rf.fit(X_train_fy_defs[features], y_train_fy_defs)\n",
    "rf_fy_defs_preds = rf.predict(X_test_fy_defs[features])\n",
    "\n",
    "r2_score(y_test_fy_defs, rf_fy_defs_preds)"
   ]
  },
  {
   "cell_type": "code",
   "execution_count": 303,
   "metadata": {},
   "outputs": [
    {
     "data": {
      "text/plain": [
       "77.689257359782"
      ]
     },
     "execution_count": 303,
     "metadata": {},
     "output_type": "execute_result"
    }
   ],
   "source": [
    "mean_squared_error(y_test_fy_defs, rf_fy_defs_preds)"
   ]
  },
  {
   "cell_type": "markdown",
   "metadata": {},
   "source": [
    "#### Neural Net"
   ]
  },
  {
   "cell_type": "code",
   "execution_count": 309,
   "metadata": {},
   "outputs": [],
   "source": [
    "np.random.seed(42)\n",
    "def_model = Sequential()\n",
    "def_model.add(Dense(X_train_fy_defs[features].shape[1], input_shape=(X_train_fy_defs[features].shape[1],), activation='relu'))\n",
    "def_model.add(Dropout(0.5))\n",
    "def_model.add(Dense(8, activation='relu'))\n",
    "def_model.add(Dense(4, activation='relu'))\n",
    "def_model.add(Dense(1))\n",
    "\n",
    "adam = Adam(lr=0.01)\n",
    "def_model.compile(loss='mean_squared_error', optimizer=adam)"
   ]
  },
  {
   "cell_type": "code",
   "execution_count": 310,
   "metadata": {
    "scrolled": true
   },
   "outputs": [
    {
     "name": "stdout",
     "output_type": "stream",
     "text": [
      "Train on 626 samples, validate on 209 samples\n",
      "Epoch 1/20\n",
      "626/626 [==============================] - 2s 3ms/step - loss: 2351.5676 - val_loss: 137.2616\n",
      "Epoch 2/20\n",
      "626/626 [==============================] - 0s 92us/step - loss: 509.8117 - val_loss: 154.9412\n",
      "Epoch 3/20\n",
      "626/626 [==============================] - 0s 123us/step - loss: 322.5283 - val_loss: 176.5422\n",
      "Epoch 4/20\n",
      "626/626 [==============================] - 0s 121us/step - loss: 293.5661 - val_loss: 111.0411\n",
      "Epoch 5/20\n",
      "626/626 [==============================] - 0s 121us/step - loss: 274.4098 - val_loss: 254.6383\n",
      "Epoch 6/20\n",
      "626/626 [==============================] - 0s 120us/step - loss: 276.8833 - val_loss: 104.0525\n",
      "Epoch 7/20\n",
      "626/626 [==============================] - 0s 123us/step - loss: 266.3732 - val_loss: 113.4413\n",
      "Epoch 8/20\n",
      "626/626 [==============================] - 0s 115us/step - loss: 261.1541 - val_loss: 125.9688\n",
      "Epoch 9/20\n",
      "626/626 [==============================] - 0s 174us/step - loss: 247.1002 - val_loss: 121.5179\n",
      "Epoch 10/20\n",
      "626/626 [==============================] - 0s 186us/step - loss: 250.3807 - val_loss: 98.5412\n",
      "Epoch 11/20\n",
      "626/626 [==============================] - 0s 206us/step - loss: 256.5325 - val_loss: 104.7877\n",
      "Epoch 12/20\n",
      "626/626 [==============================] - 0s 207us/step - loss: 265.0782 - val_loss: 104.9848\n",
      "Epoch 13/20\n",
      "626/626 [==============================] - 0s 180us/step - loss: 251.4049 - val_loss: 197.7527\n",
      "Epoch 14/20\n",
      "626/626 [==============================] - 0s 174us/step - loss: 236.2566 - val_loss: 109.2202\n",
      "Epoch 15/20\n",
      "626/626 [==============================] - 0s 174us/step - loss: 227.9938 - val_loss: 92.2594\n",
      "Epoch 16/20\n",
      "626/626 [==============================] - 0s 182us/step - loss: 230.7560 - val_loss: 133.4166\n",
      "Epoch 17/20\n",
      "626/626 [==============================] - 0s 175us/step - loss: 224.9273 - val_loss: 83.1661\n",
      "Epoch 18/20\n",
      "626/626 [==============================] - 0s 178us/step - loss: 276.0300 - val_loss: 92.8139\n",
      "Epoch 19/20\n",
      "626/626 [==============================] - 0s 178us/step - loss: 233.4693 - val_loss: 127.1685\n",
      "Epoch 20/20\n",
      "626/626 [==============================] - 0s 180us/step - loss: 231.2239 - val_loss: 110.6400\n"
     ]
    },
    {
     "data": {
      "text/plain": [
       "<keras.callbacks.History at 0x27e921eab38>"
      ]
     },
     "execution_count": 310,
     "metadata": {},
     "output_type": "execute_result"
    }
   ],
   "source": [
    "def_model.fit(X_train_fy_defs[features], y_train_fy_defs, validation_data=(X_test_fy_defs[features], y_test_fy_defs), epochs=20, batch_size=32)"
   ]
  },
  {
   "cell_type": "code",
   "execution_count": 311,
   "metadata": {},
   "outputs": [],
   "source": [
    "def_results = pd.DataFrame()\n",
    "def_results['player'] = fy_defs['player']\n",
    "def_results['grade'] = fy_defs['avg_grade']\n",
    "def_results['pred_grade'] = def_model.predict(fy_defs[features])"
   ]
  },
  {
   "cell_type": "code",
   "execution_count": 312,
   "metadata": {
    "scrolled": true
   },
   "outputs": [
    {
     "data": {
      "text/html": [
       "<div>\n",
       "<style scoped>\n",
       "    .dataframe tbody tr th:only-of-type {\n",
       "        vertical-align: middle;\n",
       "    }\n",
       "\n",
       "    .dataframe tbody tr th {\n",
       "        vertical-align: top;\n",
       "    }\n",
       "\n",
       "    .dataframe thead th {\n",
       "        text-align: right;\n",
       "    }\n",
       "</style>\n",
       "<table border=\"1\" class=\"dataframe\">\n",
       "  <thead>\n",
       "    <tr style=\"text-align: right;\">\n",
       "      <th></th>\n",
       "      <th>player</th>\n",
       "      <th>grade</th>\n",
       "      <th>pred_grade</th>\n",
       "    </tr>\n",
       "  </thead>\n",
       "  <tbody>\n",
       "    <tr>\n",
       "      <th>0</th>\n",
       "      <td>Mario Williams</td>\n",
       "      <td>66.800000</td>\n",
       "      <td>61.162109</td>\n",
       "    </tr>\n",
       "    <tr>\n",
       "      <th>3</th>\n",
       "      <td>A.J. Hawk</td>\n",
       "      <td>63.275000</td>\n",
       "      <td>62.208527</td>\n",
       "    </tr>\n",
       "    <tr>\n",
       "      <th>5</th>\n",
       "      <td>Michael Huff</td>\n",
       "      <td>57.075000</td>\n",
       "      <td>54.557861</td>\n",
       "    </tr>\n",
       "    <tr>\n",
       "      <th>6</th>\n",
       "      <td>Donte Whitner</td>\n",
       "      <td>60.575000</td>\n",
       "      <td>58.962910</td>\n",
       "    </tr>\n",
       "    <tr>\n",
       "      <th>7</th>\n",
       "      <td>Ernie Sims</td>\n",
       "      <td>39.775000</td>\n",
       "      <td>53.911152</td>\n",
       "    </tr>\n",
       "    <tr>\n",
       "      <th>10</th>\n",
       "      <td>Haloti Ngata</td>\n",
       "      <td>71.800000</td>\n",
       "      <td>64.279243</td>\n",
       "    </tr>\n",
       "    <tr>\n",
       "      <th>11</th>\n",
       "      <td>Kamerion Wimbley</td>\n",
       "      <td>61.525000</td>\n",
       "      <td>53.190628</td>\n",
       "    </tr>\n",
       "    <tr>\n",
       "      <th>12</th>\n",
       "      <td>Brodrick Bunkley</td>\n",
       "      <td>69.425000</td>\n",
       "      <td>62.566986</td>\n",
       "    </tr>\n",
       "    <tr>\n",
       "      <th>13</th>\n",
       "      <td>Tye Hill</td>\n",
       "      <td>57.600000</td>\n",
       "      <td>53.832321</td>\n",
       "    </tr>\n",
       "    <tr>\n",
       "      <th>14</th>\n",
       "      <td>Jason Allen</td>\n",
       "      <td>60.200000</td>\n",
       "      <td>53.653473</td>\n",
       "    </tr>\n",
       "    <tr>\n",
       "      <th>15</th>\n",
       "      <td>Chad Greenway</td>\n",
       "      <td>67.466667</td>\n",
       "      <td>65.745613</td>\n",
       "    </tr>\n",
       "    <tr>\n",
       "      <th>16</th>\n",
       "      <td>Bobby Carpenter</td>\n",
       "      <td>54.700000</td>\n",
       "      <td>53.780273</td>\n",
       "    </tr>\n",
       "    <tr>\n",
       "      <th>17</th>\n",
       "      <td>Antonio Cromartie</td>\n",
       "      <td>69.400000</td>\n",
       "      <td>50.047684</td>\n",
       "    </tr>\n",
       "    <tr>\n",
       "      <th>18</th>\n",
       "      <td>Tamba Hali</td>\n",
       "      <td>66.675000</td>\n",
       "      <td>54.464222</td>\n",
       "    </tr>\n",
       "    <tr>\n",
       "      <th>20</th>\n",
       "      <td>Manny Lawson</td>\n",
       "      <td>66.600000</td>\n",
       "      <td>57.086025</td>\n",
       "    </tr>\n",
       "    <tr>\n",
       "      <th>22</th>\n",
       "      <td>John McCargo</td>\n",
       "      <td>59.000000</td>\n",
       "      <td>56.271523</td>\n",
       "    </tr>\n",
       "    <tr>\n",
       "      <th>26</th>\n",
       "      <td>Kelly Jennings</td>\n",
       "      <td>68.275000</td>\n",
       "      <td>51.811249</td>\n",
       "    </tr>\n",
       "    <tr>\n",
       "      <th>27</th>\n",
       "      <td>Mathias Kiwanuka</td>\n",
       "      <td>58.575000</td>\n",
       "      <td>59.743324</td>\n",
       "    </tr>\n",
       "    <tr>\n",
       "      <th>29</th>\n",
       "      <td>D'Qwell Jackson</td>\n",
       "      <td>65.250000</td>\n",
       "      <td>59.051331</td>\n",
       "    </tr>\n",
       "    <tr>\n",
       "      <th>31</th>\n",
       "      <td>Thomas Howard</td>\n",
       "      <td>60.300000</td>\n",
       "      <td>58.660194</td>\n",
       "    </tr>\n",
       "    <tr>\n",
       "      <th>32</th>\n",
       "      <td>Daniel Bullocks</td>\n",
       "      <td>50.250000</td>\n",
       "      <td>54.199234</td>\n",
       "    </tr>\n",
       "    <tr>\n",
       "      <th>33</th>\n",
       "      <td>Roman Harper</td>\n",
       "      <td>68.150000</td>\n",
       "      <td>48.542267</td>\n",
       "    </tr>\n",
       "    <tr>\n",
       "      <th>37</th>\n",
       "      <td>Cedric Griffin</td>\n",
       "      <td>70.500000</td>\n",
       "      <td>54.732811</td>\n",
       "    </tr>\n",
       "    <tr>\n",
       "      <th>41</th>\n",
       "      <td>Bernard Pollard</td>\n",
       "      <td>66.175000</td>\n",
       "      <td>62.206543</td>\n",
       "    </tr>\n",
       "    <tr>\n",
       "      <th>42</th>\n",
       "      <td>Devin Hester</td>\n",
       "      <td>58.800000</td>\n",
       "      <td>49.408638</td>\n",
       "    </tr>\n",
       "    <tr>\n",
       "      <th>43</th>\n",
       "      <td>Richard Marshall</td>\n",
       "      <td>74.925000</td>\n",
       "      <td>58.187401</td>\n",
       "    </tr>\n",
       "    <tr>\n",
       "      <th>46</th>\n",
       "      <td>Tim Jennings</td>\n",
       "      <td>63.333333</td>\n",
       "      <td>56.778984</td>\n",
       "    </tr>\n",
       "    <tr>\n",
       "      <th>47</th>\n",
       "      <td>Darryl Tapp</td>\n",
       "      <td>66.825000</td>\n",
       "      <td>56.912376</td>\n",
       "    </tr>\n",
       "    <tr>\n",
       "      <th>49</th>\n",
       "      <td>Abdul Hodge</td>\n",
       "      <td>42.100000</td>\n",
       "      <td>63.905251</td>\n",
       "    </tr>\n",
       "    <tr>\n",
       "      <th>50</th>\n",
       "      <td>Claude Wroten</td>\n",
       "      <td>55.400000</td>\n",
       "      <td>55.015938</td>\n",
       "    </tr>\n",
       "    <tr>\n",
       "      <th>...</th>\n",
       "      <td>...</td>\n",
       "      <td>...</td>\n",
       "      <td>...</td>\n",
       "    </tr>\n",
       "    <tr>\n",
       "      <th>2097</th>\n",
       "      <td>Caleb Brantley</td>\n",
       "      <td>53.100000</td>\n",
       "      <td>58.564026</td>\n",
       "    </tr>\n",
       "    <tr>\n",
       "      <th>2098</th>\n",
       "      <td>Chuck Clark</td>\n",
       "      <td>58.150000</td>\n",
       "      <td>57.896492</td>\n",
       "    </tr>\n",
       "    <tr>\n",
       "      <th>2100</th>\n",
       "      <td>Tanzel Smart</td>\n",
       "      <td>44.300000</td>\n",
       "      <td>59.198650</td>\n",
       "    </tr>\n",
       "    <tr>\n",
       "      <th>2101</th>\n",
       "      <td>Xavier Woods</td>\n",
       "      <td>71.450000</td>\n",
       "      <td>61.785576</td>\n",
       "    </tr>\n",
       "    <tr>\n",
       "      <th>2103</th>\n",
       "      <td>Vincent Taylor</td>\n",
       "      <td>80.200000</td>\n",
       "      <td>61.311844</td>\n",
       "    </tr>\n",
       "    <tr>\n",
       "      <th>2105</th>\n",
       "      <td>Al-Quadin Muhammad</td>\n",
       "      <td>69.900000</td>\n",
       "      <td>58.114548</td>\n",
       "    </tr>\n",
       "    <tr>\n",
       "      <th>2111</th>\n",
       "      <td>Jeremiah Ledbetter</td>\n",
       "      <td>59.400000</td>\n",
       "      <td>57.524048</td>\n",
       "    </tr>\n",
       "    <tr>\n",
       "      <th>2116</th>\n",
       "      <td>Elijah Qualls</td>\n",
       "      <td>56.600000</td>\n",
       "      <td>59.427422</td>\n",
       "    </tr>\n",
       "    <tr>\n",
       "      <th>2122</th>\n",
       "      <td>Shalom Luani</td>\n",
       "      <td>60.500000</td>\n",
       "      <td>60.494743</td>\n",
       "    </tr>\n",
       "    <tr>\n",
       "      <th>2152</th>\n",
       "      <td>Bradley Chubb</td>\n",
       "      <td>68.100000</td>\n",
       "      <td>60.066589</td>\n",
       "    </tr>\n",
       "    <tr>\n",
       "      <th>2159</th>\n",
       "      <td>Marcus Davenport</td>\n",
       "      <td>71.800000</td>\n",
       "      <td>58.746353</td>\n",
       "    </tr>\n",
       "    <tr>\n",
       "      <th>2162</th>\n",
       "      <td>Jaire Alexander</td>\n",
       "      <td>72.400000</td>\n",
       "      <td>49.562195</td>\n",
       "    </tr>\n",
       "    <tr>\n",
       "      <th>2163</th>\n",
       "      <td>Leighton Vander Esch</td>\n",
       "      <td>84.900000</td>\n",
       "      <td>71.902870</td>\n",
       "    </tr>\n",
       "    <tr>\n",
       "      <th>2170</th>\n",
       "      <td>Taven Bryan</td>\n",
       "      <td>71.100000</td>\n",
       "      <td>58.697968</td>\n",
       "    </tr>\n",
       "    <tr>\n",
       "      <th>2171</th>\n",
       "      <td>Mike Hughes</td>\n",
       "      <td>61.600000</td>\n",
       "      <td>60.724255</td>\n",
       "    </tr>\n",
       "    <tr>\n",
       "      <th>2177</th>\n",
       "      <td>Harold Landry</td>\n",
       "      <td>63.500000</td>\n",
       "      <td>55.830284</td>\n",
       "    </tr>\n",
       "    <tr>\n",
       "      <th>2187</th>\n",
       "      <td>M.J. Stewart</td>\n",
       "      <td>58.700000</td>\n",
       "      <td>56.179703</td>\n",
       "    </tr>\n",
       "    <tr>\n",
       "      <th>2199</th>\n",
       "      <td>Justin Reid</td>\n",
       "      <td>74.700000</td>\n",
       "      <td>60.802601</td>\n",
       "    </tr>\n",
       "    <tr>\n",
       "      <th>2200</th>\n",
       "      <td>B.J. Hill</td>\n",
       "      <td>69.700000</td>\n",
       "      <td>59.969124</td>\n",
       "    </tr>\n",
       "    <tr>\n",
       "      <th>2201</th>\n",
       "      <td>Fred Warner</td>\n",
       "      <td>63.900000</td>\n",
       "      <td>62.263306</td>\n",
       "    </tr>\n",
       "    <tr>\n",
       "      <th>2204</th>\n",
       "      <td>Derrick Nnadi</td>\n",
       "      <td>65.500000</td>\n",
       "      <td>59.768623</td>\n",
       "    </tr>\n",
       "    <tr>\n",
       "      <th>2211</th>\n",
       "      <td>Justin Jones</td>\n",
       "      <td>48.800000</td>\n",
       "      <td>58.315742</td>\n",
       "    </tr>\n",
       "    <tr>\n",
       "      <th>2212</th>\n",
       "      <td>Rashaan Gaulden</td>\n",
       "      <td>68.700000</td>\n",
       "      <td>54.627098</td>\n",
       "    </tr>\n",
       "    <tr>\n",
       "      <th>2215</th>\n",
       "      <td>Oren Burks</td>\n",
       "      <td>44.000000</td>\n",
       "      <td>59.813469</td>\n",
       "    </tr>\n",
       "    <tr>\n",
       "      <th>2220</th>\n",
       "      <td>Harrison Phillips</td>\n",
       "      <td>68.000000</td>\n",
       "      <td>61.683800</td>\n",
       "    </tr>\n",
       "    <tr>\n",
       "      <th>2223</th>\n",
       "      <td>Dorian O'Daniel</td>\n",
       "      <td>60.300000</td>\n",
       "      <td>61.555237</td>\n",
       "    </tr>\n",
       "    <tr>\n",
       "      <th>2229</th>\n",
       "      <td>Josey Jewell</td>\n",
       "      <td>63.100000</td>\n",
       "      <td>65.355263</td>\n",
       "    </tr>\n",
       "    <tr>\n",
       "      <th>2239</th>\n",
       "      <td>Anthony Averett</td>\n",
       "      <td>75.700000</td>\n",
       "      <td>54.941788</td>\n",
       "    </tr>\n",
       "    <tr>\n",
       "      <th>2245</th>\n",
       "      <td>Avonte Maddox</td>\n",
       "      <td>65.400000</td>\n",
       "      <td>52.839073</td>\n",
       "    </tr>\n",
       "    <tr>\n",
       "      <th>2263</th>\n",
       "      <td>Dane Cruikshank</td>\n",
       "      <td>69.500000</td>\n",
       "      <td>61.556732</td>\n",
       "    </tr>\n",
       "  </tbody>\n",
       "</table>\n",
       "<p>835 rows × 3 columns</p>\n",
       "</div>"
      ],
      "text/plain": [
       "                    player      grade  pred_grade\n",
       "0           Mario Williams  66.800000   61.162109\n",
       "3                A.J. Hawk  63.275000   62.208527\n",
       "5             Michael Huff  57.075000   54.557861\n",
       "6            Donte Whitner  60.575000   58.962910\n",
       "7               Ernie Sims  39.775000   53.911152\n",
       "10            Haloti Ngata  71.800000   64.279243\n",
       "11        Kamerion Wimbley  61.525000   53.190628\n",
       "12        Brodrick Bunkley  69.425000   62.566986\n",
       "13                Tye Hill  57.600000   53.832321\n",
       "14             Jason Allen  60.200000   53.653473\n",
       "15           Chad Greenway  67.466667   65.745613\n",
       "16         Bobby Carpenter  54.700000   53.780273\n",
       "17       Antonio Cromartie  69.400000   50.047684\n",
       "18              Tamba Hali  66.675000   54.464222\n",
       "20            Manny Lawson  66.600000   57.086025\n",
       "22            John McCargo  59.000000   56.271523\n",
       "26          Kelly Jennings  68.275000   51.811249\n",
       "27        Mathias Kiwanuka  58.575000   59.743324\n",
       "29         D'Qwell Jackson  65.250000   59.051331\n",
       "31           Thomas Howard  60.300000   58.660194\n",
       "32         Daniel Bullocks  50.250000   54.199234\n",
       "33            Roman Harper  68.150000   48.542267\n",
       "37          Cedric Griffin  70.500000   54.732811\n",
       "41         Bernard Pollard  66.175000   62.206543\n",
       "42            Devin Hester  58.800000   49.408638\n",
       "43        Richard Marshall  74.925000   58.187401\n",
       "46            Tim Jennings  63.333333   56.778984\n",
       "47             Darryl Tapp  66.825000   56.912376\n",
       "49             Abdul Hodge  42.100000   63.905251\n",
       "50           Claude Wroten  55.400000   55.015938\n",
       "...                    ...        ...         ...\n",
       "2097        Caleb Brantley  53.100000   58.564026\n",
       "2098           Chuck Clark  58.150000   57.896492\n",
       "2100          Tanzel Smart  44.300000   59.198650\n",
       "2101          Xavier Woods  71.450000   61.785576\n",
       "2103        Vincent Taylor  80.200000   61.311844\n",
       "2105    Al-Quadin Muhammad  69.900000   58.114548\n",
       "2111    Jeremiah Ledbetter  59.400000   57.524048\n",
       "2116         Elijah Qualls  56.600000   59.427422\n",
       "2122          Shalom Luani  60.500000   60.494743\n",
       "2152         Bradley Chubb  68.100000   60.066589\n",
       "2159      Marcus Davenport  71.800000   58.746353\n",
       "2162       Jaire Alexander  72.400000   49.562195\n",
       "2163  Leighton Vander Esch  84.900000   71.902870\n",
       "2170           Taven Bryan  71.100000   58.697968\n",
       "2171           Mike Hughes  61.600000   60.724255\n",
       "2177         Harold Landry  63.500000   55.830284\n",
       "2187          M.J. Stewart  58.700000   56.179703\n",
       "2199           Justin Reid  74.700000   60.802601\n",
       "2200             B.J. Hill  69.700000   59.969124\n",
       "2201           Fred Warner  63.900000   62.263306\n",
       "2204         Derrick Nnadi  65.500000   59.768623\n",
       "2211          Justin Jones  48.800000   58.315742\n",
       "2212       Rashaan Gaulden  68.700000   54.627098\n",
       "2215            Oren Burks  44.000000   59.813469\n",
       "2220     Harrison Phillips  68.000000   61.683800\n",
       "2223       Dorian O'Daniel  60.300000   61.555237\n",
       "2229          Josey Jewell  63.100000   65.355263\n",
       "2239       Anthony Averett  75.700000   54.941788\n",
       "2245         Avonte Maddox  65.400000   52.839073\n",
       "2263       Dane Cruikshank  69.500000   61.556732\n",
       "\n",
       "[835 rows x 3 columns]"
      ]
     },
     "execution_count": 312,
     "metadata": {},
     "output_type": "execute_result"
    }
   ],
   "source": [
    "def_results"
   ]
  },
  {
   "cell_type": "code",
   "execution_count": 367,
   "metadata": {},
   "outputs": [
    {
     "data": {
      "image/png": "[encoded data removed]",
      "text/plain": [
       "<Figure size 720x576 with 1 Axes>"
      ]
     },
     "metadata": {
      "needs_background": "light"
     },
     "output_type": "display_data"
    }
   ],
   "source": [
    "fig = plt.figure(figsize=(10, 8))\n",
    "plt.title('Defensive Players - Residual Distribution')\n",
    "sns.distplot(def_results['grade'] - def_results['pred_grade'])\n",
    "fig.savefig('../visuals/DefensivePlayers.jpeg');"
   ]
  },
  {
   "cell_type": "code",
   "execution_count": 314,
   "metadata": {},
   "outputs": [],
   "source": [
    "all_results = pd.concat([qb_results, rb_results, rec_results, def_results])"
   ]
  },
  {
   "cell_type": "code",
   "execution_count": 318,
   "metadata": {
    "scrolled": true
   },
   "outputs": [
    {
     "data": {
      "text/plain": [
       "1404"
      ]
     },
     "execution_count": 318,
     "metadata": {},
     "output_type": "execute_result"
    }
   ],
   "source": [
    "len(all_results.sort_values(by='grade', ascending=False))"
   ]
  },
  {
   "cell_type": "code",
   "execution_count": 368,
   "metadata": {},
   "outputs": [
    {
     "data": {
      "image/png": "[encoded data removed]",
      "text/plain": [
       "<Figure size 720x576 with 1 Axes>"
      ]
     },
     "metadata": {
      "needs_background": "light"
     },
     "output_type": "display_data"
    }
   ],
   "source": [
    "fig = plt.figure(figsize=(10, 8))\n",
    "plt.title('Highest Performers - Residual Distribution')\n",
    "sns.distplot(all_results.sort_values(by='grade', ascending=False)[:500]['grade'] - all_results.sort_values(by='grade', ascending=False)[:500]['pred_grade'])\n",
    "fig.savefig('../visuals/HighestPerformers.jpeg');"
   ]
  },
  {
   "cell_type": "code",
   "execution_count": 369,
   "metadata": {},
   "outputs": [
    {
     "data": {
      "image/png": "[encoded data removed]",
      "text/plain": [
       "<Figure size 720x576 with 1 Axes>"
      ]
     },
     "metadata": {
      "needs_background": "light"
     },
     "output_type": "display_data"
    }
   ],
   "source": [
    "fig = plt.figure(figsize=(10, 8))\n",
    "plt.title('Middle Performers - Residual Distribution')\n",
    "sns.distplot(all_results.sort_values(by='grade', ascending=False)[500:1000]['grade'] - all_results.sort_values(by='grade', ascending=False)[500:1000]['pred_grade'])\n",
    "fig.savefig('../visuals/MiddlePerformers.jpeg');"
   ]
  },
  {
   "cell_type": "code",
   "execution_count": 370,
   "metadata": {},
   "outputs": [
    {
     "data": {
      "image/png": "[encoded data removed]",
      "text/plain": [
       "<Figure size 720x576 with 1 Axes>"
      ]
     },
     "metadata": {
      "needs_background": "light"
     },
     "output_type": "display_data"
    }
   ],
   "source": [
    "fig = plt.figure(figsize=(10, 8))\n",
    "plt.title('Lowest Performers - Residual Distribution')\n",
    "sns.distplot(all_results.sort_values(by='grade', ascending=False)[1000:]['grade'] - all_results.sort_values(by='grade', ascending=False)[1000:]['pred_grade'])\n",
    "fig.savefig('../visuals/LowerstPerformers.jpeg');"
   ]
  },
  {
   "cell_type": "code",
   "execution_count": 399,
   "metadata": {},
   "outputs": [],
   "source": [
    "def model_output(player_name):\n",
    "    try:\n",
    "        print(f'{player_name}:\\nTrue Grade: {all_results[all_results[\"player\"]==player_name][\"grade\"].values[0]}\\nPredicted Grade: {all_results[all_results[\"player\"]==player_name][\"pred_grade\"].values[0]}')\n",
    "    except IndexError:\n",
    "        print(player_name, 'not in results')"
   ]
  },
  {
   "cell_type": "code",
   "execution_count": 402,
   "metadata": {},
   "outputs": [
    {
     "name": "stdout",
     "output_type": "stream",
     "text": [
      "Jared Goff:\n",
      "True Grade: 71.925\n",
      "Predicted Grade: 68.76061248779297\n"
     ]
    }
   ],
   "source": [
    "model_output('Jared Goff')"
   ]
  },
  {
   "cell_type": "code",
   "execution_count": 403,
   "metadata": {},
   "outputs": [
    {
     "name": "stdout",
     "output_type": "stream",
     "text": [
      "Todd Gurley:\n",
      "True Grade: 72.525\n",
      "Predicted Grade: 58.54806137084961\n"
     ]
    }
   ],
   "source": [
    "model_output('Todd Gurley')"
   ]
  },
  {
   "cell_type": "code",
   "execution_count": 404,
   "metadata": {},
   "outputs": [
    {
     "name": "stdout",
     "output_type": "stream",
     "text": [
      "Julio Jones:\n",
      "True Grade: 80.97500000000002\n",
      "Predicted Grade: 71.0816421508789\n"
     ]
    }
   ],
   "source": [
    "model_output('Julio Jones')"
   ]
  },
  {
   "cell_type": "code",
   "execution_count": 409,
   "metadata": {},
   "outputs": [
    {
     "name": "stdout",
     "output_type": "stream",
     "text": [
      "Landon Collins:\n",
      "True Grade: 71.07500000000002\n",
      "Predicted Grade: 63.227542877197266\n"
     ]
    }
   ],
   "source": [
    "model_output('Landon Collins')"
   ]
  },
  {
   "cell_type": "code",
   "execution_count": 410,
   "metadata": {},
   "outputs": [
    {
     "name": "stdout",
     "output_type": "stream",
     "text": [
      "Aaron Donald:\n",
      "True Grade: 92.45\n",
      "Predicted Grade: 61.91734313964844\n"
     ]
    }
   ],
   "source": [
    "model_output('Aaron Donald')"
   ]
  },
  {
   "cell_type": "code",
   "execution_count": 414,
   "metadata": {},
   "outputs": [
    {
     "name": "stdout",
     "output_type": "stream",
     "text": [
      "Phillip Dorsett:\n",
      "True Grade: 60.125\n",
      "Predicted Grade: 62.62236022949219\n"
     ]
    }
   ],
   "source": [
    "model_output('Phillip Dorsett')"
   ]
  },
  {
   "cell_type": "code",
   "execution_count": null,
   "metadata": {},
   "outputs": [],
   "source": []
  }
 ],
 "metadata": {
  "kernelspec": {
   "display_name": "Python 3",
   "language": "python",
   "name": "python3"
  },
  "language_info": {
   "codemirror_mode": {
    "name": "ipython",
    "version": 3
   },
   "file_extension": ".py",
   "mimetype": "text/x-python",
   "name": "python",
   "nbconvert_exporter": "python",
   "pygments_lexer": "ipython3",
   "version": "3.6.6"
  }
 },
 "nbformat": 4,
 "nbformat_minor": 2
}
